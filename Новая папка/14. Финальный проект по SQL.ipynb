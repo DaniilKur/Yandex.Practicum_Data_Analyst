{
 "cells": [
  {
   "cell_type": "markdown",
   "metadata": {},
   "source": [
    "# Проект по SQL"
   ]
  },
  {
   "cell_type": "markdown",
   "metadata": {},
   "source": [
    "Цель проекта: наша компания купила крупный сервис для чтения книг по подписке. Необходимо проанализировать базу данных. Для этого нужно выполнить задачи:\n",
    "\n",
    "- просмотреть данные в таблицах;\n",
    "- посчитайте, сколько книг вышло после 1 января 2000 года;\n",
    "- для каждой книги рассчитать количество обзоров и среднюю оценку;\n",
    "- определите издательство, которое выпустило наибольшее число книг толще 50 страниц;\n",
    "- найти автора с самой высокой средней оценкой книг;\n",
    "- посчитать среднее количество обзоров от пользователей, которые поставили больше 48 оценок.\n",
    "\n",
    "Ход исследования\n",
    "\n",
    "В базе данных находится информация о книгах, издательствах, авторах, а также пользовательские обзоры книг. Эти данные помогут сформулировать ценностное предложение для нового продукта. Необходимо просмотреть перные строчки каждой таблицы, написать необходимые запросы для выполнения задач.\n",
    "\n",
    "Таким образом, исследование пройдёт в 3 этапов:\n",
    "\n",
    "- подключение к базе данных и просмотр данных; \n",
    "- изучение данных;\n",
    "- вывод;"
   ]
  },
  {
   "cell_type": "code",
   "execution_count": 3,
   "metadata": {},
   "outputs": [
    {
     "name": "stdout",
     "output_type": "stream",
     "text": [
      "Requirement already satisfied: psycopg2-binary in a:\\anacodas\\lib\\site-packages (2.9.9)\n",
      "Note: you may need to restart the kernel to use updated packages.\n"
     ]
    }
   ],
   "source": [
    "pip install psycopg2-binary"
   ]
  },
  {
   "cell_type": "markdown",
   "metadata": {},
   "source": [
    "### Подключение к базе данных"
   ]
  },
  {
   "cell_type": "code",
   "execution_count": 5,
   "metadata": {},
   "outputs": [],
   "source": [
    "import pandas as pd\n",
    "from sqlalchemy import text, create_engine\n",
    "from datetime import datetime"
   ]
  },
  {
   "cell_type": "code",
   "execution_count": 6,
   "metadata": {},
   "outputs": [],
   "source": [
    "db_config = {'user': 'praktikum_student', \n",
    "'pwd': 'Sdf4$2;d-d30pp',\n",
    "'host': 'rc1b-wcoijxj3yxfsf3fs.mdb.yandexcloud.net',\n",
    "'port': 6432, \n",
    "'db': 'data-analyst-final-project-db'} \n",
    "connection_string = 'postgresql://{user}:{pwd}@{host}:{port}/{db}'.format(**db_config)\n",
    "engine = create_engine(connection_string, connect_args={'sslmode':'require'})"
   ]
  },
  {
   "cell_type": "code",
   "execution_count": 7,
   "metadata": {},
   "outputs": [],
   "source": [
    "query = '''\n",
    "        SELECT *\n",
    "        FROM books\n",
    "        '''\n",
    "books = pd.io.sql.read_sql(query, con = engine)"
   ]
  },
  {
   "cell_type": "code",
   "execution_count": 8,
   "metadata": {},
   "outputs": [],
   "source": [
    "query = '''\n",
    "        SELECT *\n",
    "        FROM authors\n",
    "        '''\n",
    "authors = pd.io.sql.read_sql(query, con = engine)"
   ]
  },
  {
   "cell_type": "code",
   "execution_count": 9,
   "metadata": {},
   "outputs": [],
   "source": [
    "query = '''\n",
    "        SELECT *\n",
    "        FROM publishers\n",
    "        '''\n",
    "publishers = pd.io.sql.read_sql(query, con = engine)"
   ]
  },
  {
   "cell_type": "code",
   "execution_count": 10,
   "metadata": {},
   "outputs": [],
   "source": [
    "query = '''\n",
    "        SELECT *\n",
    "        FROM ratings\n",
    "        '''\n",
    "ratings = pd.io.sql.read_sql(query, con = engine)"
   ]
  },
  {
   "cell_type": "code",
   "execution_count": 11,
   "metadata": {},
   "outputs": [],
   "source": [
    "query = '''\n",
    "        SELECT *\n",
    "        FROM reviews\n",
    "        '''\n",
    "reviews = pd.io.sql.read_sql(query, con = engine)"
   ]
  },
  {
   "cell_type": "markdown",
   "metadata": {},
   "source": [
    "### Изучение данных"
   ]
  },
  {
   "cell_type": "code",
   "execution_count": 13,
   "metadata": {},
   "outputs": [],
   "source": [
    "# Создадим функцию для просмотра информации о датафреймах\n",
    "def info_dt(row):\n",
    "    \"\"\"\n",
    "    Данная функция выводит первичную информацию о датафреме\n",
    "    \"\"\"\n",
    "    print('\\033[1m' + 'Вывод первых 10-ти строчек:' + '\\033[0m')\n",
    "    display(row.head(10))\n",
    "    print(\"\\n\") \n",
    "    print('\\033[1m' + 'Вывод информации о датафрейме:' + '\\033[0m')\n",
    "    print(\"\\n\") \n",
    "    row.info()\n",
    "    print(\"\\n\") \n",
    "    print('\\033[1m' + 'Представление о данных в числах:' + '\\033[0m')\n",
    "    display(row.describe())\n",
    "    print(\"\\n\") \n",
    "    print('\\033[1m' + 'Число пропущенных значений:' + '\\033[0m')\n",
    "    display(row.isna().sum().reset_index())\n",
    "    print(\"\\n\") \n",
    "    print('\\033[1m' + 'Количество дубликатов:' + '\\033[0m')\n",
    "    display(row.duplicated().sum())"
   ]
  },
  {
   "cell_type": "code",
   "execution_count": 14,
   "metadata": {},
   "outputs": [
    {
     "name": "stdout",
     "output_type": "stream",
     "text": [
      "\u001b[1mВывод первых 10-ти строчек:\u001b[0m\n"
     ]
    },
    {
     "data": {
      "text/html": [
       "<div>\n",
       "<style scoped>\n",
       "    .dataframe tbody tr th:only-of-type {\n",
       "        vertical-align: middle;\n",
       "    }\n",
       "\n",
       "    .dataframe tbody tr th {\n",
       "        vertical-align: top;\n",
       "    }\n",
       "\n",
       "    .dataframe thead th {\n",
       "        text-align: right;\n",
       "    }\n",
       "</style>\n",
       "<table border=\"1\" class=\"dataframe\">\n",
       "  <thead>\n",
       "    <tr style=\"text-align: right;\">\n",
       "      <th></th>\n",
       "      <th>book_id</th>\n",
       "      <th>author_id</th>\n",
       "      <th>title</th>\n",
       "      <th>num_pages</th>\n",
       "      <th>publication_date</th>\n",
       "      <th>publisher_id</th>\n",
       "    </tr>\n",
       "  </thead>\n",
       "  <tbody>\n",
       "    <tr>\n",
       "      <th>0</th>\n",
       "      <td>1</td>\n",
       "      <td>546</td>\n",
       "      <td>'Salem's Lot</td>\n",
       "      <td>594</td>\n",
       "      <td>2005-11-01</td>\n",
       "      <td>93</td>\n",
       "    </tr>\n",
       "    <tr>\n",
       "      <th>1</th>\n",
       "      <td>2</td>\n",
       "      <td>465</td>\n",
       "      <td>1 000 Places to See Before You Die</td>\n",
       "      <td>992</td>\n",
       "      <td>2003-05-22</td>\n",
       "      <td>336</td>\n",
       "    </tr>\n",
       "    <tr>\n",
       "      <th>2</th>\n",
       "      <td>3</td>\n",
       "      <td>407</td>\n",
       "      <td>13 Little Blue Envelopes (Little Blue Envelope...</td>\n",
       "      <td>322</td>\n",
       "      <td>2010-12-21</td>\n",
       "      <td>135</td>\n",
       "    </tr>\n",
       "    <tr>\n",
       "      <th>3</th>\n",
       "      <td>4</td>\n",
       "      <td>82</td>\n",
       "      <td>1491: New Revelations of the Americas Before C...</td>\n",
       "      <td>541</td>\n",
       "      <td>2006-10-10</td>\n",
       "      <td>309</td>\n",
       "    </tr>\n",
       "    <tr>\n",
       "      <th>4</th>\n",
       "      <td>5</td>\n",
       "      <td>125</td>\n",
       "      <td>1776</td>\n",
       "      <td>386</td>\n",
       "      <td>2006-07-04</td>\n",
       "      <td>268</td>\n",
       "    </tr>\n",
       "    <tr>\n",
       "      <th>5</th>\n",
       "      <td>6</td>\n",
       "      <td>257</td>\n",
       "      <td>1st to Die (Women's Murder Club  #1)</td>\n",
       "      <td>424</td>\n",
       "      <td>2005-05-20</td>\n",
       "      <td>116</td>\n",
       "    </tr>\n",
       "    <tr>\n",
       "      <th>6</th>\n",
       "      <td>7</td>\n",
       "      <td>258</td>\n",
       "      <td>2nd Chance (Women's Murder Club  #2)</td>\n",
       "      <td>400</td>\n",
       "      <td>2005-05-20</td>\n",
       "      <td>116</td>\n",
       "    </tr>\n",
       "    <tr>\n",
       "      <th>7</th>\n",
       "      <td>8</td>\n",
       "      <td>260</td>\n",
       "      <td>4th of July (Women's Murder Club  #4)</td>\n",
       "      <td>448</td>\n",
       "      <td>2006-06-01</td>\n",
       "      <td>318</td>\n",
       "    </tr>\n",
       "    <tr>\n",
       "      <th>8</th>\n",
       "      <td>9</td>\n",
       "      <td>563</td>\n",
       "      <td>A Beautiful Mind</td>\n",
       "      <td>461</td>\n",
       "      <td>2002-02-04</td>\n",
       "      <td>104</td>\n",
       "    </tr>\n",
       "    <tr>\n",
       "      <th>9</th>\n",
       "      <td>10</td>\n",
       "      <td>445</td>\n",
       "      <td>A Bend in the Road</td>\n",
       "      <td>341</td>\n",
       "      <td>2005-04-01</td>\n",
       "      <td>116</td>\n",
       "    </tr>\n",
       "  </tbody>\n",
       "</table>\n",
       "</div>"
      ],
      "text/plain": [
       "   book_id  author_id                                              title  \\\n",
       "0        1        546                                       'Salem's Lot   \n",
       "1        2        465                 1 000 Places to See Before You Die   \n",
       "2        3        407  13 Little Blue Envelopes (Little Blue Envelope...   \n",
       "3        4         82  1491: New Revelations of the Americas Before C...   \n",
       "4        5        125                                               1776   \n",
       "5        6        257               1st to Die (Women's Murder Club  #1)   \n",
       "6        7        258               2nd Chance (Women's Murder Club  #2)   \n",
       "7        8        260              4th of July (Women's Murder Club  #4)   \n",
       "8        9        563                                   A Beautiful Mind   \n",
       "9       10        445                                 A Bend in the Road   \n",
       "\n",
       "   num_pages publication_date  publisher_id  \n",
       "0        594       2005-11-01            93  \n",
       "1        992       2003-05-22           336  \n",
       "2        322       2010-12-21           135  \n",
       "3        541       2006-10-10           309  \n",
       "4        386       2006-07-04           268  \n",
       "5        424       2005-05-20           116  \n",
       "6        400       2005-05-20           116  \n",
       "7        448       2006-06-01           318  \n",
       "8        461       2002-02-04           104  \n",
       "9        341       2005-04-01           116  "
      ]
     },
     "metadata": {},
     "output_type": "display_data"
    },
    {
     "name": "stdout",
     "output_type": "stream",
     "text": [
      "\n",
      "\n",
      "\u001b[1mВывод информации о датафрейме:\u001b[0m\n",
      "\n",
      "\n",
      "<class 'pandas.core.frame.DataFrame'>\n",
      "RangeIndex: 1000 entries, 0 to 999\n",
      "Data columns (total 6 columns):\n",
      " #   Column            Non-Null Count  Dtype \n",
      "---  ------            --------------  ----- \n",
      " 0   book_id           1000 non-null   int64 \n",
      " 1   author_id         1000 non-null   int64 \n",
      " 2   title             1000 non-null   object\n",
      " 3   num_pages         1000 non-null   int64 \n",
      " 4   publication_date  1000 non-null   object\n",
      " 5   publisher_id      1000 non-null   int64 \n",
      "dtypes: int64(4), object(2)\n",
      "memory usage: 47.0+ KB\n",
      "\n",
      "\n",
      "\u001b[1mПредставление о данных в числах:\u001b[0m\n"
     ]
    },
    {
     "data": {
      "text/html": [
       "<div>\n",
       "<style scoped>\n",
       "    .dataframe tbody tr th:only-of-type {\n",
       "        vertical-align: middle;\n",
       "    }\n",
       "\n",
       "    .dataframe tbody tr th {\n",
       "        vertical-align: top;\n",
       "    }\n",
       "\n",
       "    .dataframe thead th {\n",
       "        text-align: right;\n",
       "    }\n",
       "</style>\n",
       "<table border=\"1\" class=\"dataframe\">\n",
       "  <thead>\n",
       "    <tr style=\"text-align: right;\">\n",
       "      <th></th>\n",
       "      <th>book_id</th>\n",
       "      <th>author_id</th>\n",
       "      <th>num_pages</th>\n",
       "      <th>publisher_id</th>\n",
       "    </tr>\n",
       "  </thead>\n",
       "  <tbody>\n",
       "    <tr>\n",
       "      <th>count</th>\n",
       "      <td>1000.000000</td>\n",
       "      <td>1000.000000</td>\n",
       "      <td>1000.00000</td>\n",
       "      <td>1000.000000</td>\n",
       "    </tr>\n",
       "    <tr>\n",
       "      <th>mean</th>\n",
       "      <td>500.500000</td>\n",
       "      <td>320.417000</td>\n",
       "      <td>389.11100</td>\n",
       "      <td>171.270000</td>\n",
       "    </tr>\n",
       "    <tr>\n",
       "      <th>std</th>\n",
       "      <td>288.819436</td>\n",
       "      <td>181.620172</td>\n",
       "      <td>229.39014</td>\n",
       "      <td>99.082685</td>\n",
       "    </tr>\n",
       "    <tr>\n",
       "      <th>min</th>\n",
       "      <td>1.000000</td>\n",
       "      <td>1.000000</td>\n",
       "      <td>14.00000</td>\n",
       "      <td>1.000000</td>\n",
       "    </tr>\n",
       "    <tr>\n",
       "      <th>25%</th>\n",
       "      <td>250.750000</td>\n",
       "      <td>162.750000</td>\n",
       "      <td>249.00000</td>\n",
       "      <td>83.000000</td>\n",
       "    </tr>\n",
       "    <tr>\n",
       "      <th>50%</th>\n",
       "      <td>500.500000</td>\n",
       "      <td>316.500000</td>\n",
       "      <td>352.00000</td>\n",
       "      <td>177.500000</td>\n",
       "    </tr>\n",
       "    <tr>\n",
       "      <th>75%</th>\n",
       "      <td>750.250000</td>\n",
       "      <td>481.000000</td>\n",
       "      <td>453.00000</td>\n",
       "      <td>258.000000</td>\n",
       "    </tr>\n",
       "    <tr>\n",
       "      <th>max</th>\n",
       "      <td>1000.000000</td>\n",
       "      <td>636.000000</td>\n",
       "      <td>2690.00000</td>\n",
       "      <td>340.000000</td>\n",
       "    </tr>\n",
       "  </tbody>\n",
       "</table>\n",
       "</div>"
      ],
      "text/plain": [
       "           book_id    author_id   num_pages  publisher_id\n",
       "count  1000.000000  1000.000000  1000.00000   1000.000000\n",
       "mean    500.500000   320.417000   389.11100    171.270000\n",
       "std     288.819436   181.620172   229.39014     99.082685\n",
       "min       1.000000     1.000000    14.00000      1.000000\n",
       "25%     250.750000   162.750000   249.00000     83.000000\n",
       "50%     500.500000   316.500000   352.00000    177.500000\n",
       "75%     750.250000   481.000000   453.00000    258.000000\n",
       "max    1000.000000   636.000000  2690.00000    340.000000"
      ]
     },
     "metadata": {},
     "output_type": "display_data"
    },
    {
     "name": "stdout",
     "output_type": "stream",
     "text": [
      "\n",
      "\n",
      "\u001b[1mЧисло пропущенных значений:\u001b[0m\n"
     ]
    },
    {
     "data": {
      "text/html": [
       "<div>\n",
       "<style scoped>\n",
       "    .dataframe tbody tr th:only-of-type {\n",
       "        vertical-align: middle;\n",
       "    }\n",
       "\n",
       "    .dataframe tbody tr th {\n",
       "        vertical-align: top;\n",
       "    }\n",
       "\n",
       "    .dataframe thead th {\n",
       "        text-align: right;\n",
       "    }\n",
       "</style>\n",
       "<table border=\"1\" class=\"dataframe\">\n",
       "  <thead>\n",
       "    <tr style=\"text-align: right;\">\n",
       "      <th></th>\n",
       "      <th>index</th>\n",
       "      <th>0</th>\n",
       "    </tr>\n",
       "  </thead>\n",
       "  <tbody>\n",
       "    <tr>\n",
       "      <th>0</th>\n",
       "      <td>book_id</td>\n",
       "      <td>0</td>\n",
       "    </tr>\n",
       "    <tr>\n",
       "      <th>1</th>\n",
       "      <td>author_id</td>\n",
       "      <td>0</td>\n",
       "    </tr>\n",
       "    <tr>\n",
       "      <th>2</th>\n",
       "      <td>title</td>\n",
       "      <td>0</td>\n",
       "    </tr>\n",
       "    <tr>\n",
       "      <th>3</th>\n",
       "      <td>num_pages</td>\n",
       "      <td>0</td>\n",
       "    </tr>\n",
       "    <tr>\n",
       "      <th>4</th>\n",
       "      <td>publication_date</td>\n",
       "      <td>0</td>\n",
       "    </tr>\n",
       "    <tr>\n",
       "      <th>5</th>\n",
       "      <td>publisher_id</td>\n",
       "      <td>0</td>\n",
       "    </tr>\n",
       "  </tbody>\n",
       "</table>\n",
       "</div>"
      ],
      "text/plain": [
       "              index  0\n",
       "0           book_id  0\n",
       "1         author_id  0\n",
       "2             title  0\n",
       "3         num_pages  0\n",
       "4  publication_date  0\n",
       "5      publisher_id  0"
      ]
     },
     "metadata": {},
     "output_type": "display_data"
    },
    {
     "name": "stdout",
     "output_type": "stream",
     "text": [
      "\n",
      "\n",
      "\u001b[1mКоличество дубликатов:\u001b[0m\n"
     ]
    },
    {
     "data": {
      "text/plain": [
       "0"
      ]
     },
     "metadata": {},
     "output_type": "display_data"
    }
   ],
   "source": [
    "info_dt(books)"
   ]
  },
  {
   "cell_type": "code",
   "execution_count": 15,
   "metadata": {},
   "outputs": [
    {
     "name": "stdout",
     "output_type": "stream",
     "text": [
      "\u001b[1mВывод первых 10-ти строчек:\u001b[0m\n"
     ]
    },
    {
     "data": {
      "text/html": [
       "<div>\n",
       "<style scoped>\n",
       "    .dataframe tbody tr th:only-of-type {\n",
       "        vertical-align: middle;\n",
       "    }\n",
       "\n",
       "    .dataframe tbody tr th {\n",
       "        vertical-align: top;\n",
       "    }\n",
       "\n",
       "    .dataframe thead th {\n",
       "        text-align: right;\n",
       "    }\n",
       "</style>\n",
       "<table border=\"1\" class=\"dataframe\">\n",
       "  <thead>\n",
       "    <tr style=\"text-align: right;\">\n",
       "      <th></th>\n",
       "      <th>author_id</th>\n",
       "      <th>author</th>\n",
       "    </tr>\n",
       "  </thead>\n",
       "  <tbody>\n",
       "    <tr>\n",
       "      <th>0</th>\n",
       "      <td>1</td>\n",
       "      <td>A.S. Byatt</td>\n",
       "    </tr>\n",
       "    <tr>\n",
       "      <th>1</th>\n",
       "      <td>2</td>\n",
       "      <td>Aesop/Laura Harris/Laura Gibbs</td>\n",
       "    </tr>\n",
       "    <tr>\n",
       "      <th>2</th>\n",
       "      <td>3</td>\n",
       "      <td>Agatha Christie</td>\n",
       "    </tr>\n",
       "    <tr>\n",
       "      <th>3</th>\n",
       "      <td>4</td>\n",
       "      <td>Alan Brennert</td>\n",
       "    </tr>\n",
       "    <tr>\n",
       "      <th>4</th>\n",
       "      <td>5</td>\n",
       "      <td>Alan Moore/David   Lloyd</td>\n",
       "    </tr>\n",
       "    <tr>\n",
       "      <th>5</th>\n",
       "      <td>6</td>\n",
       "      <td>Alan Paton</td>\n",
       "    </tr>\n",
       "    <tr>\n",
       "      <th>6</th>\n",
       "      <td>7</td>\n",
       "      <td>Albert Camus/Justin O'Brien</td>\n",
       "    </tr>\n",
       "    <tr>\n",
       "      <th>7</th>\n",
       "      <td>8</td>\n",
       "      <td>Aldous Huxley</td>\n",
       "    </tr>\n",
       "    <tr>\n",
       "      <th>8</th>\n",
       "      <td>9</td>\n",
       "      <td>Aldous Huxley/Christopher Hitchens</td>\n",
       "    </tr>\n",
       "    <tr>\n",
       "      <th>9</th>\n",
       "      <td>10</td>\n",
       "      <td>Aleksandr Solzhenitsyn/H.T. Willetts</td>\n",
       "    </tr>\n",
       "  </tbody>\n",
       "</table>\n",
       "</div>"
      ],
      "text/plain": [
       "   author_id                                author\n",
       "0          1                            A.S. Byatt\n",
       "1          2        Aesop/Laura Harris/Laura Gibbs\n",
       "2          3                       Agatha Christie\n",
       "3          4                         Alan Brennert\n",
       "4          5              Alan Moore/David   Lloyd\n",
       "5          6                            Alan Paton\n",
       "6          7           Albert Camus/Justin O'Brien\n",
       "7          8                         Aldous Huxley\n",
       "8          9    Aldous Huxley/Christopher Hitchens\n",
       "9         10  Aleksandr Solzhenitsyn/H.T. Willetts"
      ]
     },
     "metadata": {},
     "output_type": "display_data"
    },
    {
     "name": "stdout",
     "output_type": "stream",
     "text": [
      "\n",
      "\n",
      "\u001b[1mВывод информации о датафрейме:\u001b[0m\n",
      "\n",
      "\n",
      "<class 'pandas.core.frame.DataFrame'>\n",
      "RangeIndex: 636 entries, 0 to 635\n",
      "Data columns (total 2 columns):\n",
      " #   Column     Non-Null Count  Dtype \n",
      "---  ------     --------------  ----- \n",
      " 0   author_id  636 non-null    int64 \n",
      " 1   author     636 non-null    object\n",
      "dtypes: int64(1), object(1)\n",
      "memory usage: 10.1+ KB\n",
      "\n",
      "\n",
      "\u001b[1mПредставление о данных в числах:\u001b[0m\n"
     ]
    },
    {
     "data": {
      "text/html": [
       "<div>\n",
       "<style scoped>\n",
       "    .dataframe tbody tr th:only-of-type {\n",
       "        vertical-align: middle;\n",
       "    }\n",
       "\n",
       "    .dataframe tbody tr th {\n",
       "        vertical-align: top;\n",
       "    }\n",
       "\n",
       "    .dataframe thead th {\n",
       "        text-align: right;\n",
       "    }\n",
       "</style>\n",
       "<table border=\"1\" class=\"dataframe\">\n",
       "  <thead>\n",
       "    <tr style=\"text-align: right;\">\n",
       "      <th></th>\n",
       "      <th>author_id</th>\n",
       "    </tr>\n",
       "  </thead>\n",
       "  <tbody>\n",
       "    <tr>\n",
       "      <th>count</th>\n",
       "      <td>636.000000</td>\n",
       "    </tr>\n",
       "    <tr>\n",
       "      <th>mean</th>\n",
       "      <td>318.500000</td>\n",
       "    </tr>\n",
       "    <tr>\n",
       "      <th>std</th>\n",
       "      <td>183.741666</td>\n",
       "    </tr>\n",
       "    <tr>\n",
       "      <th>min</th>\n",
       "      <td>1.000000</td>\n",
       "    </tr>\n",
       "    <tr>\n",
       "      <th>25%</th>\n",
       "      <td>159.750000</td>\n",
       "    </tr>\n",
       "    <tr>\n",
       "      <th>50%</th>\n",
       "      <td>318.500000</td>\n",
       "    </tr>\n",
       "    <tr>\n",
       "      <th>75%</th>\n",
       "      <td>477.250000</td>\n",
       "    </tr>\n",
       "    <tr>\n",
       "      <th>max</th>\n",
       "      <td>636.000000</td>\n",
       "    </tr>\n",
       "  </tbody>\n",
       "</table>\n",
       "</div>"
      ],
      "text/plain": [
       "        author_id\n",
       "count  636.000000\n",
       "mean   318.500000\n",
       "std    183.741666\n",
       "min      1.000000\n",
       "25%    159.750000\n",
       "50%    318.500000\n",
       "75%    477.250000\n",
       "max    636.000000"
      ]
     },
     "metadata": {},
     "output_type": "display_data"
    },
    {
     "name": "stdout",
     "output_type": "stream",
     "text": [
      "\n",
      "\n",
      "\u001b[1mЧисло пропущенных значений:\u001b[0m\n"
     ]
    },
    {
     "data": {
      "text/html": [
       "<div>\n",
       "<style scoped>\n",
       "    .dataframe tbody tr th:only-of-type {\n",
       "        vertical-align: middle;\n",
       "    }\n",
       "\n",
       "    .dataframe tbody tr th {\n",
       "        vertical-align: top;\n",
       "    }\n",
       "\n",
       "    .dataframe thead th {\n",
       "        text-align: right;\n",
       "    }\n",
       "</style>\n",
       "<table border=\"1\" class=\"dataframe\">\n",
       "  <thead>\n",
       "    <tr style=\"text-align: right;\">\n",
       "      <th></th>\n",
       "      <th>index</th>\n",
       "      <th>0</th>\n",
       "    </tr>\n",
       "  </thead>\n",
       "  <tbody>\n",
       "    <tr>\n",
       "      <th>0</th>\n",
       "      <td>author_id</td>\n",
       "      <td>0</td>\n",
       "    </tr>\n",
       "    <tr>\n",
       "      <th>1</th>\n",
       "      <td>author</td>\n",
       "      <td>0</td>\n",
       "    </tr>\n",
       "  </tbody>\n",
       "</table>\n",
       "</div>"
      ],
      "text/plain": [
       "       index  0\n",
       "0  author_id  0\n",
       "1     author  0"
      ]
     },
     "metadata": {},
     "output_type": "display_data"
    },
    {
     "name": "stdout",
     "output_type": "stream",
     "text": [
      "\n",
      "\n",
      "\u001b[1mКоличество дубликатов:\u001b[0m\n"
     ]
    },
    {
     "data": {
      "text/plain": [
       "0"
      ]
     },
     "metadata": {},
     "output_type": "display_data"
    }
   ],
   "source": [
    "info_dt(authors)"
   ]
  },
  {
   "cell_type": "code",
   "execution_count": 16,
   "metadata": {},
   "outputs": [
    {
     "name": "stdout",
     "output_type": "stream",
     "text": [
      "\u001b[1mВывод первых 10-ти строчек:\u001b[0m\n"
     ]
    },
    {
     "data": {
      "text/html": [
       "<div>\n",
       "<style scoped>\n",
       "    .dataframe tbody tr th:only-of-type {\n",
       "        vertical-align: middle;\n",
       "    }\n",
       "\n",
       "    .dataframe tbody tr th {\n",
       "        vertical-align: top;\n",
       "    }\n",
       "\n",
       "    .dataframe thead th {\n",
       "        text-align: right;\n",
       "    }\n",
       "</style>\n",
       "<table border=\"1\" class=\"dataframe\">\n",
       "  <thead>\n",
       "    <tr style=\"text-align: right;\">\n",
       "      <th></th>\n",
       "      <th>publisher_id</th>\n",
       "      <th>publisher</th>\n",
       "    </tr>\n",
       "  </thead>\n",
       "  <tbody>\n",
       "    <tr>\n",
       "      <th>0</th>\n",
       "      <td>1</td>\n",
       "      <td>Ace</td>\n",
       "    </tr>\n",
       "    <tr>\n",
       "      <th>1</th>\n",
       "      <td>2</td>\n",
       "      <td>Ace Book</td>\n",
       "    </tr>\n",
       "    <tr>\n",
       "      <th>2</th>\n",
       "      <td>3</td>\n",
       "      <td>Ace Books</td>\n",
       "    </tr>\n",
       "    <tr>\n",
       "      <th>3</th>\n",
       "      <td>4</td>\n",
       "      <td>Ace Hardcover</td>\n",
       "    </tr>\n",
       "    <tr>\n",
       "      <th>4</th>\n",
       "      <td>5</td>\n",
       "      <td>Addison Wesley Publishing Company</td>\n",
       "    </tr>\n",
       "    <tr>\n",
       "      <th>5</th>\n",
       "      <td>6</td>\n",
       "      <td>Aladdin</td>\n",
       "    </tr>\n",
       "    <tr>\n",
       "      <th>6</th>\n",
       "      <td>7</td>\n",
       "      <td>Aladdin Paperbacks</td>\n",
       "    </tr>\n",
       "    <tr>\n",
       "      <th>7</th>\n",
       "      <td>8</td>\n",
       "      <td>Albin Michel</td>\n",
       "    </tr>\n",
       "    <tr>\n",
       "      <th>8</th>\n",
       "      <td>9</td>\n",
       "      <td>Alfred A. Knopf</td>\n",
       "    </tr>\n",
       "    <tr>\n",
       "      <th>9</th>\n",
       "      <td>10</td>\n",
       "      <td>Alfred A. Knopf Books for Young Readers</td>\n",
       "    </tr>\n",
       "  </tbody>\n",
       "</table>\n",
       "</div>"
      ],
      "text/plain": [
       "   publisher_id                                publisher\n",
       "0             1                                      Ace\n",
       "1             2                                 Ace Book\n",
       "2             3                                Ace Books\n",
       "3             4                            Ace Hardcover\n",
       "4             5        Addison Wesley Publishing Company\n",
       "5             6                                  Aladdin\n",
       "6             7                       Aladdin Paperbacks\n",
       "7             8                             Albin Michel\n",
       "8             9                          Alfred A. Knopf\n",
       "9            10  Alfred A. Knopf Books for Young Readers"
      ]
     },
     "metadata": {},
     "output_type": "display_data"
    },
    {
     "name": "stdout",
     "output_type": "stream",
     "text": [
      "\n",
      "\n",
      "\u001b[1mВывод информации о датафрейме:\u001b[0m\n",
      "\n",
      "\n",
      "<class 'pandas.core.frame.DataFrame'>\n",
      "RangeIndex: 340 entries, 0 to 339\n",
      "Data columns (total 2 columns):\n",
      " #   Column        Non-Null Count  Dtype \n",
      "---  ------        --------------  ----- \n",
      " 0   publisher_id  340 non-null    int64 \n",
      " 1   publisher     340 non-null    object\n",
      "dtypes: int64(1), object(1)\n",
      "memory usage: 5.4+ KB\n",
      "\n",
      "\n",
      "\u001b[1mПредставление о данных в числах:\u001b[0m\n"
     ]
    },
    {
     "data": {
      "text/html": [
       "<div>\n",
       "<style scoped>\n",
       "    .dataframe tbody tr th:only-of-type {\n",
       "        vertical-align: middle;\n",
       "    }\n",
       "\n",
       "    .dataframe tbody tr th {\n",
       "        vertical-align: top;\n",
       "    }\n",
       "\n",
       "    .dataframe thead th {\n",
       "        text-align: right;\n",
       "    }\n",
       "</style>\n",
       "<table border=\"1\" class=\"dataframe\">\n",
       "  <thead>\n",
       "    <tr style=\"text-align: right;\">\n",
       "      <th></th>\n",
       "      <th>publisher_id</th>\n",
       "    </tr>\n",
       "  </thead>\n",
       "  <tbody>\n",
       "    <tr>\n",
       "      <th>count</th>\n",
       "      <td>340.000000</td>\n",
       "    </tr>\n",
       "    <tr>\n",
       "      <th>mean</th>\n",
       "      <td>170.500000</td>\n",
       "    </tr>\n",
       "    <tr>\n",
       "      <th>std</th>\n",
       "      <td>98.293777</td>\n",
       "    </tr>\n",
       "    <tr>\n",
       "      <th>min</th>\n",
       "      <td>1.000000</td>\n",
       "    </tr>\n",
       "    <tr>\n",
       "      <th>25%</th>\n",
       "      <td>85.750000</td>\n",
       "    </tr>\n",
       "    <tr>\n",
       "      <th>50%</th>\n",
       "      <td>170.500000</td>\n",
       "    </tr>\n",
       "    <tr>\n",
       "      <th>75%</th>\n",
       "      <td>255.250000</td>\n",
       "    </tr>\n",
       "    <tr>\n",
       "      <th>max</th>\n",
       "      <td>340.000000</td>\n",
       "    </tr>\n",
       "  </tbody>\n",
       "</table>\n",
       "</div>"
      ],
      "text/plain": [
       "       publisher_id\n",
       "count    340.000000\n",
       "mean     170.500000\n",
       "std       98.293777\n",
       "min        1.000000\n",
       "25%       85.750000\n",
       "50%      170.500000\n",
       "75%      255.250000\n",
       "max      340.000000"
      ]
     },
     "metadata": {},
     "output_type": "display_data"
    },
    {
     "name": "stdout",
     "output_type": "stream",
     "text": [
      "\n",
      "\n",
      "\u001b[1mЧисло пропущенных значений:\u001b[0m\n"
     ]
    },
    {
     "data": {
      "text/html": [
       "<div>\n",
       "<style scoped>\n",
       "    .dataframe tbody tr th:only-of-type {\n",
       "        vertical-align: middle;\n",
       "    }\n",
       "\n",
       "    .dataframe tbody tr th {\n",
       "        vertical-align: top;\n",
       "    }\n",
       "\n",
       "    .dataframe thead th {\n",
       "        text-align: right;\n",
       "    }\n",
       "</style>\n",
       "<table border=\"1\" class=\"dataframe\">\n",
       "  <thead>\n",
       "    <tr style=\"text-align: right;\">\n",
       "      <th></th>\n",
       "      <th>index</th>\n",
       "      <th>0</th>\n",
       "    </tr>\n",
       "  </thead>\n",
       "  <tbody>\n",
       "    <tr>\n",
       "      <th>0</th>\n",
       "      <td>publisher_id</td>\n",
       "      <td>0</td>\n",
       "    </tr>\n",
       "    <tr>\n",
       "      <th>1</th>\n",
       "      <td>publisher</td>\n",
       "      <td>0</td>\n",
       "    </tr>\n",
       "  </tbody>\n",
       "</table>\n",
       "</div>"
      ],
      "text/plain": [
       "          index  0\n",
       "0  publisher_id  0\n",
       "1     publisher  0"
      ]
     },
     "metadata": {},
     "output_type": "display_data"
    },
    {
     "name": "stdout",
     "output_type": "stream",
     "text": [
      "\n",
      "\n",
      "\u001b[1mКоличество дубликатов:\u001b[0m\n"
     ]
    },
    {
     "data": {
      "text/plain": [
       "0"
      ]
     },
     "metadata": {},
     "output_type": "display_data"
    }
   ],
   "source": [
    "info_dt(publishers)"
   ]
  },
  {
   "cell_type": "code",
   "execution_count": 17,
   "metadata": {},
   "outputs": [
    {
     "name": "stdout",
     "output_type": "stream",
     "text": [
      "\u001b[1mВывод первых 10-ти строчек:\u001b[0m\n"
     ]
    },
    {
     "data": {
      "text/html": [
       "<div>\n",
       "<style scoped>\n",
       "    .dataframe tbody tr th:only-of-type {\n",
       "        vertical-align: middle;\n",
       "    }\n",
       "\n",
       "    .dataframe tbody tr th {\n",
       "        vertical-align: top;\n",
       "    }\n",
       "\n",
       "    .dataframe thead th {\n",
       "        text-align: right;\n",
       "    }\n",
       "</style>\n",
       "<table border=\"1\" class=\"dataframe\">\n",
       "  <thead>\n",
       "    <tr style=\"text-align: right;\">\n",
       "      <th></th>\n",
       "      <th>rating_id</th>\n",
       "      <th>book_id</th>\n",
       "      <th>username</th>\n",
       "      <th>rating</th>\n",
       "    </tr>\n",
       "  </thead>\n",
       "  <tbody>\n",
       "    <tr>\n",
       "      <th>0</th>\n",
       "      <td>1</td>\n",
       "      <td>1</td>\n",
       "      <td>ryanfranco</td>\n",
       "      <td>4</td>\n",
       "    </tr>\n",
       "    <tr>\n",
       "      <th>1</th>\n",
       "      <td>2</td>\n",
       "      <td>1</td>\n",
       "      <td>grantpatricia</td>\n",
       "      <td>2</td>\n",
       "    </tr>\n",
       "    <tr>\n",
       "      <th>2</th>\n",
       "      <td>3</td>\n",
       "      <td>1</td>\n",
       "      <td>brandtandrea</td>\n",
       "      <td>5</td>\n",
       "    </tr>\n",
       "    <tr>\n",
       "      <th>3</th>\n",
       "      <td>4</td>\n",
       "      <td>2</td>\n",
       "      <td>lorichen</td>\n",
       "      <td>3</td>\n",
       "    </tr>\n",
       "    <tr>\n",
       "      <th>4</th>\n",
       "      <td>5</td>\n",
       "      <td>2</td>\n",
       "      <td>mariokeller</td>\n",
       "      <td>2</td>\n",
       "    </tr>\n",
       "    <tr>\n",
       "      <th>5</th>\n",
       "      <td>6</td>\n",
       "      <td>3</td>\n",
       "      <td>johnsonamanda</td>\n",
       "      <td>4</td>\n",
       "    </tr>\n",
       "    <tr>\n",
       "      <th>6</th>\n",
       "      <td>7</td>\n",
       "      <td>3</td>\n",
       "      <td>scotttamara</td>\n",
       "      <td>5</td>\n",
       "    </tr>\n",
       "    <tr>\n",
       "      <th>7</th>\n",
       "      <td>8</td>\n",
       "      <td>3</td>\n",
       "      <td>lesliegibbs</td>\n",
       "      <td>5</td>\n",
       "    </tr>\n",
       "    <tr>\n",
       "      <th>8</th>\n",
       "      <td>9</td>\n",
       "      <td>4</td>\n",
       "      <td>abbottjames</td>\n",
       "      <td>5</td>\n",
       "    </tr>\n",
       "    <tr>\n",
       "      <th>9</th>\n",
       "      <td>10</td>\n",
       "      <td>4</td>\n",
       "      <td>valenciaanne</td>\n",
       "      <td>4</td>\n",
       "    </tr>\n",
       "  </tbody>\n",
       "</table>\n",
       "</div>"
      ],
      "text/plain": [
       "   rating_id  book_id       username  rating\n",
       "0          1        1     ryanfranco       4\n",
       "1          2        1  grantpatricia       2\n",
       "2          3        1   brandtandrea       5\n",
       "3          4        2       lorichen       3\n",
       "4          5        2    mariokeller       2\n",
       "5          6        3  johnsonamanda       4\n",
       "6          7        3    scotttamara       5\n",
       "7          8        3    lesliegibbs       5\n",
       "8          9        4    abbottjames       5\n",
       "9         10        4   valenciaanne       4"
      ]
     },
     "metadata": {},
     "output_type": "display_data"
    },
    {
     "name": "stdout",
     "output_type": "stream",
     "text": [
      "\n",
      "\n",
      "\u001b[1mВывод информации о датафрейме:\u001b[0m\n",
      "\n",
      "\n",
      "<class 'pandas.core.frame.DataFrame'>\n",
      "RangeIndex: 6456 entries, 0 to 6455\n",
      "Data columns (total 4 columns):\n",
      " #   Column     Non-Null Count  Dtype \n",
      "---  ------     --------------  ----- \n",
      " 0   rating_id  6456 non-null   int64 \n",
      " 1   book_id    6456 non-null   int64 \n",
      " 2   username   6456 non-null   object\n",
      " 3   rating     6456 non-null   int64 \n",
      "dtypes: int64(3), object(1)\n",
      "memory usage: 201.9+ KB\n",
      "\n",
      "\n",
      "\u001b[1mПредставление о данных в числах:\u001b[0m\n"
     ]
    },
    {
     "data": {
      "text/html": [
       "<div>\n",
       "<style scoped>\n",
       "    .dataframe tbody tr th:only-of-type {\n",
       "        vertical-align: middle;\n",
       "    }\n",
       "\n",
       "    .dataframe tbody tr th {\n",
       "        vertical-align: top;\n",
       "    }\n",
       "\n",
       "    .dataframe thead th {\n",
       "        text-align: right;\n",
       "    }\n",
       "</style>\n",
       "<table border=\"1\" class=\"dataframe\">\n",
       "  <thead>\n",
       "    <tr style=\"text-align: right;\">\n",
       "      <th></th>\n",
       "      <th>rating_id</th>\n",
       "      <th>book_id</th>\n",
       "      <th>rating</th>\n",
       "    </tr>\n",
       "  </thead>\n",
       "  <tbody>\n",
       "    <tr>\n",
       "      <th>count</th>\n",
       "      <td>6456.000000</td>\n",
       "      <td>6456.000000</td>\n",
       "      <td>6456.000000</td>\n",
       "    </tr>\n",
       "    <tr>\n",
       "      <th>mean</th>\n",
       "      <td>3228.500000</td>\n",
       "      <td>510.574195</td>\n",
       "      <td>3.928284</td>\n",
       "    </tr>\n",
       "    <tr>\n",
       "      <th>std</th>\n",
       "      <td>1863.831001</td>\n",
       "      <td>284.141636</td>\n",
       "      <td>0.943303</td>\n",
       "    </tr>\n",
       "    <tr>\n",
       "      <th>min</th>\n",
       "      <td>1.000000</td>\n",
       "      <td>1.000000</td>\n",
       "      <td>1.000000</td>\n",
       "    </tr>\n",
       "    <tr>\n",
       "      <th>25%</th>\n",
       "      <td>1614.750000</td>\n",
       "      <td>291.000000</td>\n",
       "      <td>3.000000</td>\n",
       "    </tr>\n",
       "    <tr>\n",
       "      <th>50%</th>\n",
       "      <td>3228.500000</td>\n",
       "      <td>506.000000</td>\n",
       "      <td>4.000000</td>\n",
       "    </tr>\n",
       "    <tr>\n",
       "      <th>75%</th>\n",
       "      <td>4842.250000</td>\n",
       "      <td>750.000000</td>\n",
       "      <td>5.000000</td>\n",
       "    </tr>\n",
       "    <tr>\n",
       "      <th>max</th>\n",
       "      <td>6456.000000</td>\n",
       "      <td>1000.000000</td>\n",
       "      <td>5.000000</td>\n",
       "    </tr>\n",
       "  </tbody>\n",
       "</table>\n",
       "</div>"
      ],
      "text/plain": [
       "         rating_id      book_id       rating\n",
       "count  6456.000000  6456.000000  6456.000000\n",
       "mean   3228.500000   510.574195     3.928284\n",
       "std    1863.831001   284.141636     0.943303\n",
       "min       1.000000     1.000000     1.000000\n",
       "25%    1614.750000   291.000000     3.000000\n",
       "50%    3228.500000   506.000000     4.000000\n",
       "75%    4842.250000   750.000000     5.000000\n",
       "max    6456.000000  1000.000000     5.000000"
      ]
     },
     "metadata": {},
     "output_type": "display_data"
    },
    {
     "name": "stdout",
     "output_type": "stream",
     "text": [
      "\n",
      "\n",
      "\u001b[1mЧисло пропущенных значений:\u001b[0m\n"
     ]
    },
    {
     "data": {
      "text/html": [
       "<div>\n",
       "<style scoped>\n",
       "    .dataframe tbody tr th:only-of-type {\n",
       "        vertical-align: middle;\n",
       "    }\n",
       "\n",
       "    .dataframe tbody tr th {\n",
       "        vertical-align: top;\n",
       "    }\n",
       "\n",
       "    .dataframe thead th {\n",
       "        text-align: right;\n",
       "    }\n",
       "</style>\n",
       "<table border=\"1\" class=\"dataframe\">\n",
       "  <thead>\n",
       "    <tr style=\"text-align: right;\">\n",
       "      <th></th>\n",
       "      <th>index</th>\n",
       "      <th>0</th>\n",
       "    </tr>\n",
       "  </thead>\n",
       "  <tbody>\n",
       "    <tr>\n",
       "      <th>0</th>\n",
       "      <td>rating_id</td>\n",
       "      <td>0</td>\n",
       "    </tr>\n",
       "    <tr>\n",
       "      <th>1</th>\n",
       "      <td>book_id</td>\n",
       "      <td>0</td>\n",
       "    </tr>\n",
       "    <tr>\n",
       "      <th>2</th>\n",
       "      <td>username</td>\n",
       "      <td>0</td>\n",
       "    </tr>\n",
       "    <tr>\n",
       "      <th>3</th>\n",
       "      <td>rating</td>\n",
       "      <td>0</td>\n",
       "    </tr>\n",
       "  </tbody>\n",
       "</table>\n",
       "</div>"
      ],
      "text/plain": [
       "       index  0\n",
       "0  rating_id  0\n",
       "1    book_id  0\n",
       "2   username  0\n",
       "3     rating  0"
      ]
     },
     "metadata": {},
     "output_type": "display_data"
    },
    {
     "name": "stdout",
     "output_type": "stream",
     "text": [
      "\n",
      "\n",
      "\u001b[1mКоличество дубликатов:\u001b[0m\n"
     ]
    },
    {
     "data": {
      "text/plain": [
       "0"
      ]
     },
     "metadata": {},
     "output_type": "display_data"
    }
   ],
   "source": [
    "info_dt(ratings)"
   ]
  },
  {
   "cell_type": "code",
   "execution_count": 18,
   "metadata": {},
   "outputs": [
    {
     "name": "stdout",
     "output_type": "stream",
     "text": [
      "\u001b[1mВывод первых 10-ти строчек:\u001b[0m\n"
     ]
    },
    {
     "data": {
      "text/html": [
       "<div>\n",
       "<style scoped>\n",
       "    .dataframe tbody tr th:only-of-type {\n",
       "        vertical-align: middle;\n",
       "    }\n",
       "\n",
       "    .dataframe tbody tr th {\n",
       "        vertical-align: top;\n",
       "    }\n",
       "\n",
       "    .dataframe thead th {\n",
       "        text-align: right;\n",
       "    }\n",
       "</style>\n",
       "<table border=\"1\" class=\"dataframe\">\n",
       "  <thead>\n",
       "    <tr style=\"text-align: right;\">\n",
       "      <th></th>\n",
       "      <th>review_id</th>\n",
       "      <th>book_id</th>\n",
       "      <th>username</th>\n",
       "      <th>text</th>\n",
       "    </tr>\n",
       "  </thead>\n",
       "  <tbody>\n",
       "    <tr>\n",
       "      <th>0</th>\n",
       "      <td>1</td>\n",
       "      <td>1</td>\n",
       "      <td>brandtandrea</td>\n",
       "      <td>Mention society tell send professor analysis. ...</td>\n",
       "    </tr>\n",
       "    <tr>\n",
       "      <th>1</th>\n",
       "      <td>2</td>\n",
       "      <td>1</td>\n",
       "      <td>ryanfranco</td>\n",
       "      <td>Foot glass pretty audience hit themselves. Amo...</td>\n",
       "    </tr>\n",
       "    <tr>\n",
       "      <th>2</th>\n",
       "      <td>3</td>\n",
       "      <td>2</td>\n",
       "      <td>lorichen</td>\n",
       "      <td>Listen treat keep worry. Miss husband tax but ...</td>\n",
       "    </tr>\n",
       "    <tr>\n",
       "      <th>3</th>\n",
       "      <td>4</td>\n",
       "      <td>3</td>\n",
       "      <td>johnsonamanda</td>\n",
       "      <td>Finally month interesting blue could nature cu...</td>\n",
       "    </tr>\n",
       "    <tr>\n",
       "      <th>4</th>\n",
       "      <td>5</td>\n",
       "      <td>3</td>\n",
       "      <td>scotttamara</td>\n",
       "      <td>Nation purpose heavy give wait song will. List...</td>\n",
       "    </tr>\n",
       "    <tr>\n",
       "      <th>5</th>\n",
       "      <td>6</td>\n",
       "      <td>3</td>\n",
       "      <td>lesliegibbs</td>\n",
       "      <td>Analysis no several cause international.</td>\n",
       "    </tr>\n",
       "    <tr>\n",
       "      <th>6</th>\n",
       "      <td>7</td>\n",
       "      <td>4</td>\n",
       "      <td>valenciaanne</td>\n",
       "      <td>One there cost another. Say type save. With pe...</td>\n",
       "    </tr>\n",
       "    <tr>\n",
       "      <th>7</th>\n",
       "      <td>8</td>\n",
       "      <td>4</td>\n",
       "      <td>abbottjames</td>\n",
       "      <td>Within enough mother. There at system full rec...</td>\n",
       "    </tr>\n",
       "    <tr>\n",
       "      <th>8</th>\n",
       "      <td>9</td>\n",
       "      <td>5</td>\n",
       "      <td>npowers</td>\n",
       "      <td>Thank now focus realize economy focus fly. Ite...</td>\n",
       "    </tr>\n",
       "    <tr>\n",
       "      <th>9</th>\n",
       "      <td>10</td>\n",
       "      <td>5</td>\n",
       "      <td>staylor</td>\n",
       "      <td>Game push lot reduce where remember. Including...</td>\n",
       "    </tr>\n",
       "  </tbody>\n",
       "</table>\n",
       "</div>"
      ],
      "text/plain": [
       "   review_id  book_id       username  \\\n",
       "0          1        1   brandtandrea   \n",
       "1          2        1     ryanfranco   \n",
       "2          3        2       lorichen   \n",
       "3          4        3  johnsonamanda   \n",
       "4          5        3    scotttamara   \n",
       "5          6        3    lesliegibbs   \n",
       "6          7        4   valenciaanne   \n",
       "7          8        4    abbottjames   \n",
       "8          9        5        npowers   \n",
       "9         10        5        staylor   \n",
       "\n",
       "                                                text  \n",
       "0  Mention society tell send professor analysis. ...  \n",
       "1  Foot glass pretty audience hit themselves. Amo...  \n",
       "2  Listen treat keep worry. Miss husband tax but ...  \n",
       "3  Finally month interesting blue could nature cu...  \n",
       "4  Nation purpose heavy give wait song will. List...  \n",
       "5           Analysis no several cause international.  \n",
       "6  One there cost another. Say type save. With pe...  \n",
       "7  Within enough mother. There at system full rec...  \n",
       "8  Thank now focus realize economy focus fly. Ite...  \n",
       "9  Game push lot reduce where remember. Including...  "
      ]
     },
     "metadata": {},
     "output_type": "display_data"
    },
    {
     "name": "stdout",
     "output_type": "stream",
     "text": [
      "\n",
      "\n",
      "\u001b[1mВывод информации о датафрейме:\u001b[0m\n",
      "\n",
      "\n",
      "<class 'pandas.core.frame.DataFrame'>\n",
      "RangeIndex: 2793 entries, 0 to 2792\n",
      "Data columns (total 4 columns):\n",
      " #   Column     Non-Null Count  Dtype \n",
      "---  ------     --------------  ----- \n",
      " 0   review_id  2793 non-null   int64 \n",
      " 1   book_id    2793 non-null   int64 \n",
      " 2   username   2793 non-null   object\n",
      " 3   text       2793 non-null   object\n",
      "dtypes: int64(2), object(2)\n",
      "memory usage: 87.4+ KB\n",
      "\n",
      "\n",
      "\u001b[1mПредставление о данных в числах:\u001b[0m\n"
     ]
    },
    {
     "data": {
      "text/html": [
       "<div>\n",
       "<style scoped>\n",
       "    .dataframe tbody tr th:only-of-type {\n",
       "        vertical-align: middle;\n",
       "    }\n",
       "\n",
       "    .dataframe tbody tr th {\n",
       "        vertical-align: top;\n",
       "    }\n",
       "\n",
       "    .dataframe thead th {\n",
       "        text-align: right;\n",
       "    }\n",
       "</style>\n",
       "<table border=\"1\" class=\"dataframe\">\n",
       "  <thead>\n",
       "    <tr style=\"text-align: right;\">\n",
       "      <th></th>\n",
       "      <th>review_id</th>\n",
       "      <th>book_id</th>\n",
       "    </tr>\n",
       "  </thead>\n",
       "  <tbody>\n",
       "    <tr>\n",
       "      <th>count</th>\n",
       "      <td>2793.000000</td>\n",
       "      <td>2793.000000</td>\n",
       "    </tr>\n",
       "    <tr>\n",
       "      <th>mean</th>\n",
       "      <td>1397.000000</td>\n",
       "      <td>504.693161</td>\n",
       "    </tr>\n",
       "    <tr>\n",
       "      <th>std</th>\n",
       "      <td>806.413976</td>\n",
       "      <td>288.472931</td>\n",
       "    </tr>\n",
       "    <tr>\n",
       "      <th>min</th>\n",
       "      <td>1.000000</td>\n",
       "      <td>1.000000</td>\n",
       "    </tr>\n",
       "    <tr>\n",
       "      <th>25%</th>\n",
       "      <td>699.000000</td>\n",
       "      <td>259.000000</td>\n",
       "    </tr>\n",
       "    <tr>\n",
       "      <th>50%</th>\n",
       "      <td>1397.000000</td>\n",
       "      <td>505.000000</td>\n",
       "    </tr>\n",
       "    <tr>\n",
       "      <th>75%</th>\n",
       "      <td>2095.000000</td>\n",
       "      <td>753.000000</td>\n",
       "    </tr>\n",
       "    <tr>\n",
       "      <th>max</th>\n",
       "      <td>2793.000000</td>\n",
       "      <td>1000.000000</td>\n",
       "    </tr>\n",
       "  </tbody>\n",
       "</table>\n",
       "</div>"
      ],
      "text/plain": [
       "         review_id      book_id\n",
       "count  2793.000000  2793.000000\n",
       "mean   1397.000000   504.693161\n",
       "std     806.413976   288.472931\n",
       "min       1.000000     1.000000\n",
       "25%     699.000000   259.000000\n",
       "50%    1397.000000   505.000000\n",
       "75%    2095.000000   753.000000\n",
       "max    2793.000000  1000.000000"
      ]
     },
     "metadata": {},
     "output_type": "display_data"
    },
    {
     "name": "stdout",
     "output_type": "stream",
     "text": [
      "\n",
      "\n",
      "\u001b[1mЧисло пропущенных значений:\u001b[0m\n"
     ]
    },
    {
     "data": {
      "text/html": [
       "<div>\n",
       "<style scoped>\n",
       "    .dataframe tbody tr th:only-of-type {\n",
       "        vertical-align: middle;\n",
       "    }\n",
       "\n",
       "    .dataframe tbody tr th {\n",
       "        vertical-align: top;\n",
       "    }\n",
       "\n",
       "    .dataframe thead th {\n",
       "        text-align: right;\n",
       "    }\n",
       "</style>\n",
       "<table border=\"1\" class=\"dataframe\">\n",
       "  <thead>\n",
       "    <tr style=\"text-align: right;\">\n",
       "      <th></th>\n",
       "      <th>index</th>\n",
       "      <th>0</th>\n",
       "    </tr>\n",
       "  </thead>\n",
       "  <tbody>\n",
       "    <tr>\n",
       "      <th>0</th>\n",
       "      <td>review_id</td>\n",
       "      <td>0</td>\n",
       "    </tr>\n",
       "    <tr>\n",
       "      <th>1</th>\n",
       "      <td>book_id</td>\n",
       "      <td>0</td>\n",
       "    </tr>\n",
       "    <tr>\n",
       "      <th>2</th>\n",
       "      <td>username</td>\n",
       "      <td>0</td>\n",
       "    </tr>\n",
       "    <tr>\n",
       "      <th>3</th>\n",
       "      <td>text</td>\n",
       "      <td>0</td>\n",
       "    </tr>\n",
       "  </tbody>\n",
       "</table>\n",
       "</div>"
      ],
      "text/plain": [
       "       index  0\n",
       "0  review_id  0\n",
       "1    book_id  0\n",
       "2   username  0\n",
       "3       text  0"
      ]
     },
     "metadata": {},
     "output_type": "display_data"
    },
    {
     "name": "stdout",
     "output_type": "stream",
     "text": [
      "\n",
      "\n",
      "\u001b[1mКоличество дубликатов:\u001b[0m\n"
     ]
    },
    {
     "data": {
      "text/plain": [
       "0"
      ]
     },
     "metadata": {},
     "output_type": "display_data"
    }
   ],
   "source": [
    "info_dt(reviews)"
   ]
  },
  {
   "cell_type": "markdown",
   "metadata": {},
   "source": [
    "**Вывод:**\n",
    "\n",
    "- пропуски отсутствуют;\n",
    "- явные дубликаты отсутствуют."
   ]
  },
  {
   "cell_type": "markdown",
   "metadata": {},
   "source": [
    "### Изучение данных"
   ]
  },
  {
   "cell_type": "code",
   "execution_count": 21,
   "metadata": {},
   "outputs": [],
   "source": [
    "# Создадим фукцию для просмотра запровсов\n",
    "def sql(query):\n",
    "    \"\"\"\n",
    "    Данная функция вывод результат sql запроса\n",
    "    \"\"\"\n",
    "    return pd.read_sql(query, con=engine)"
   ]
  },
  {
   "cell_type": "markdown",
   "metadata": {},
   "source": [
    "#### Посчитаем число книг, которые  вышли после 1 января 2000 года"
   ]
  },
  {
   "cell_type": "code",
   "execution_count": 23,
   "metadata": {},
   "outputs": [
    {
     "data": {
      "text/html": [
       "<div>\n",
       "<style scoped>\n",
       "    .dataframe tbody tr th:only-of-type {\n",
       "        vertical-align: middle;\n",
       "    }\n",
       "\n",
       "    .dataframe tbody tr th {\n",
       "        vertical-align: top;\n",
       "    }\n",
       "\n",
       "    .dataframe thead th {\n",
       "        text-align: right;\n",
       "    }\n",
       "</style>\n",
       "<table border=\"1\" class=\"dataframe\">\n",
       "  <thead>\n",
       "    <tr style=\"text-align: right;\">\n",
       "      <th></th>\n",
       "      <th>count</th>\n",
       "    </tr>\n",
       "  </thead>\n",
       "  <tbody>\n",
       "    <tr>\n",
       "      <th>0</th>\n",
       "      <td>821</td>\n",
       "    </tr>\n",
       "  </tbody>\n",
       "</table>\n",
       "</div>"
      ],
      "text/plain": [
       "   count\n",
       "0    821"
      ]
     },
     "execution_count": 23,
     "metadata": {},
     "output_type": "execute_result"
    }
   ],
   "source": [
    "books_count = \"\"\"\n",
    "              SELECT COUNT(book_id) \n",
    "              FROM books\n",
    "              WHERE publication_date >= '2000-01-01'\n",
    "              \"\"\"\n",
    "sql(books_count)"
   ]
  },
  {
   "cell_type": "markdown",
   "metadata": {},
   "source": [
    "**Вывод:** с 1 января 2000 года вышла 821 книга."
   ]
  },
  {
   "cell_type": "markdown",
   "metadata": {},
   "source": [
    "#### Для каждой книги посчитаем количество обзоров и среднюю оценку"
   ]
  },
  {
   "cell_type": "code",
   "execution_count": 26,
   "metadata": {},
   "outputs": [
    {
     "data": {
      "text/html": [
       "<div>\n",
       "<style scoped>\n",
       "    .dataframe tbody tr th:only-of-type {\n",
       "        vertical-align: middle;\n",
       "    }\n",
       "\n",
       "    .dataframe tbody tr th {\n",
       "        vertical-align: top;\n",
       "    }\n",
       "\n",
       "    .dataframe thead th {\n",
       "        text-align: right;\n",
       "    }\n",
       "</style>\n",
       "<table border=\"1\" class=\"dataframe\">\n",
       "  <thead>\n",
       "    <tr style=\"text-align: right;\">\n",
       "      <th></th>\n",
       "      <th>id</th>\n",
       "      <th>book_title</th>\n",
       "      <th>count_review</th>\n",
       "      <th>avg_rating</th>\n",
       "    </tr>\n",
       "  </thead>\n",
       "  <tbody>\n",
       "    <tr>\n",
       "      <th>0</th>\n",
       "      <td>948</td>\n",
       "      <td>Twilight (Twilight  #1)</td>\n",
       "      <td>7</td>\n",
       "      <td>3.66</td>\n",
       "    </tr>\n",
       "    <tr>\n",
       "      <th>1</th>\n",
       "      <td>963</td>\n",
       "      <td>Water for Elephants</td>\n",
       "      <td>6</td>\n",
       "      <td>3.98</td>\n",
       "    </tr>\n",
       "    <tr>\n",
       "      <th>2</th>\n",
       "      <td>734</td>\n",
       "      <td>The Glass Castle</td>\n",
       "      <td>6</td>\n",
       "      <td>4.21</td>\n",
       "    </tr>\n",
       "    <tr>\n",
       "      <th>3</th>\n",
       "      <td>302</td>\n",
       "      <td>Harry Potter and the Prisoner of Azkaban (Harr...</td>\n",
       "      <td>6</td>\n",
       "      <td>4.41</td>\n",
       "    </tr>\n",
       "    <tr>\n",
       "      <th>4</th>\n",
       "      <td>695</td>\n",
       "      <td>The Curious Incident of the Dog in the Night-Time</td>\n",
       "      <td>6</td>\n",
       "      <td>4.08</td>\n",
       "    </tr>\n",
       "    <tr>\n",
       "      <th>...</th>\n",
       "      <td>...</td>\n",
       "      <td>...</td>\n",
       "      <td>...</td>\n",
       "      <td>...</td>\n",
       "    </tr>\n",
       "    <tr>\n",
       "      <th>995</th>\n",
       "      <td>83</td>\n",
       "      <td>Anne Rice's The Vampire Lestat: A Graphic Novel</td>\n",
       "      <td>0</td>\n",
       "      <td>3.67</td>\n",
       "    </tr>\n",
       "    <tr>\n",
       "      <th>996</th>\n",
       "      <td>808</td>\n",
       "      <td>The Natural Way to Draw</td>\n",
       "      <td>0</td>\n",
       "      <td>3.00</td>\n",
       "    </tr>\n",
       "    <tr>\n",
       "      <th>997</th>\n",
       "      <td>672</td>\n",
       "      <td>The Cat in the Hat and Other Dr. Seuss Favorites</td>\n",
       "      <td>0</td>\n",
       "      <td>5.00</td>\n",
       "    </tr>\n",
       "    <tr>\n",
       "      <th>998</th>\n",
       "      <td>221</td>\n",
       "      <td>Essential Tales and Poems</td>\n",
       "      <td>0</td>\n",
       "      <td>4.00</td>\n",
       "    </tr>\n",
       "    <tr>\n",
       "      <th>999</th>\n",
       "      <td>191</td>\n",
       "      <td>Disney's Beauty and the Beast (A Little Golden...</td>\n",
       "      <td>0</td>\n",
       "      <td>4.00</td>\n",
       "    </tr>\n",
       "  </tbody>\n",
       "</table>\n",
       "<p>1000 rows × 4 columns</p>\n",
       "</div>"
      ],
      "text/plain": [
       "      id                                         book_title  count_review  \\\n",
       "0    948                            Twilight (Twilight  #1)             7   \n",
       "1    963                                Water for Elephants             6   \n",
       "2    734                                   The Glass Castle             6   \n",
       "3    302  Harry Potter and the Prisoner of Azkaban (Harr...             6   \n",
       "4    695  The Curious Incident of the Dog in the Night-Time             6   \n",
       "..   ...                                                ...           ...   \n",
       "995   83    Anne Rice's The Vampire Lestat: A Graphic Novel             0   \n",
       "996  808                            The Natural Way to Draw             0   \n",
       "997  672   The Cat in the Hat and Other Dr. Seuss Favorites             0   \n",
       "998  221                          Essential Tales and Poems             0   \n",
       "999  191  Disney's Beauty and the Beast (A Little Golden...             0   \n",
       "\n",
       "     avg_rating  \n",
       "0          3.66  \n",
       "1          3.98  \n",
       "2          4.21  \n",
       "3          4.41  \n",
       "4          4.08  \n",
       "..          ...  \n",
       "995        3.67  \n",
       "996        3.00  \n",
       "997        5.00  \n",
       "998        4.00  \n",
       "999        4.00  \n",
       "\n",
       "[1000 rows x 4 columns]"
      ]
     },
     "execution_count": 26,
     "metadata": {},
     "output_type": "execute_result"
    }
   ],
   "source": [
    "books_rating = \"\"\"\n",
    "SELECT \n",
    "    b.book_id AS id,\n",
    "    b.title AS book_title,\n",
    "    COUNT(DISTINCT re.review_id) AS count_review,\n",
    "    ROUND(AVG(r.rating), 2) AS avg_rating\n",
    "FROM \n",
    "    books b\n",
    "LEFT JOIN \n",
    "    ratings r ON b.book_id = r.book_id\n",
    "LEFT JOIN \n",
    "    reviews re ON b.book_id = re.book_id\n",
    "GROUP BY \n",
    "    b.book_id, b.title\n",
    "ORDER BY \n",
    "    count_review DESC;\n",
    "\"\"\"\n",
    "sql(books_rating)"
   ]
  },
  {
   "cell_type": "markdown",
   "metadata": {},
   "source": [
    "**Вывод:** определили число обзоров и среднюю оценку для каждой книги."
   ]
  },
  {
   "cell_type": "markdown",
   "metadata": {},
   "source": [
    "#### Определим издательства, которое выпустили наибольшее число книг"
   ]
  },
  {
   "cell_type": "code",
   "execution_count": 29,
   "metadata": {},
   "outputs": [
    {
     "data": {
      "text/html": [
       "<div>\n",
       "<style scoped>\n",
       "    .dataframe tbody tr th:only-of-type {\n",
       "        vertical-align: middle;\n",
       "    }\n",
       "\n",
       "    .dataframe tbody tr th {\n",
       "        vertical-align: top;\n",
       "    }\n",
       "\n",
       "    .dataframe thead th {\n",
       "        text-align: right;\n",
       "    }\n",
       "</style>\n",
       "<table border=\"1\" class=\"dataframe\">\n",
       "  <thead>\n",
       "    <tr style=\"text-align: right;\">\n",
       "      <th></th>\n",
       "      <th>publisher_id</th>\n",
       "      <th>publisher</th>\n",
       "      <th>book_count</th>\n",
       "    </tr>\n",
       "  </thead>\n",
       "  <tbody>\n",
       "    <tr>\n",
       "      <th>0</th>\n",
       "      <td>212</td>\n",
       "      <td>Penguin Books</td>\n",
       "      <td>42</td>\n",
       "    </tr>\n",
       "    <tr>\n",
       "      <th>1</th>\n",
       "      <td>309</td>\n",
       "      <td>Vintage</td>\n",
       "      <td>31</td>\n",
       "    </tr>\n",
       "    <tr>\n",
       "      <th>2</th>\n",
       "      <td>116</td>\n",
       "      <td>Grand Central Publishing</td>\n",
       "      <td>25</td>\n",
       "    </tr>\n",
       "    <tr>\n",
       "      <th>3</th>\n",
       "      <td>217</td>\n",
       "      <td>Penguin Classics</td>\n",
       "      <td>24</td>\n",
       "    </tr>\n",
       "    <tr>\n",
       "      <th>4</th>\n",
       "      <td>33</td>\n",
       "      <td>Ballantine Books</td>\n",
       "      <td>19</td>\n",
       "    </tr>\n",
       "    <tr>\n",
       "      <th>5</th>\n",
       "      <td>35</td>\n",
       "      <td>Bantam</td>\n",
       "      <td>19</td>\n",
       "    </tr>\n",
       "    <tr>\n",
       "      <th>6</th>\n",
       "      <td>45</td>\n",
       "      <td>Berkley</td>\n",
       "      <td>17</td>\n",
       "    </tr>\n",
       "    <tr>\n",
       "      <th>7</th>\n",
       "      <td>284</td>\n",
       "      <td>St. Martin's Press</td>\n",
       "      <td>14</td>\n",
       "    </tr>\n",
       "    <tr>\n",
       "      <th>8</th>\n",
       "      <td>46</td>\n",
       "      <td>Berkley Books</td>\n",
       "      <td>14</td>\n",
       "    </tr>\n",
       "    <tr>\n",
       "      <th>9</th>\n",
       "      <td>83</td>\n",
       "      <td>Delta</td>\n",
       "      <td>13</td>\n",
       "    </tr>\n",
       "  </tbody>\n",
       "</table>\n",
       "</div>"
      ],
      "text/plain": [
       "   publisher_id                 publisher  book_count\n",
       "0           212             Penguin Books          42\n",
       "1           309                   Vintage          31\n",
       "2           116  Grand Central Publishing          25\n",
       "3           217          Penguin Classics          24\n",
       "4            33          Ballantine Books          19\n",
       "5            35                    Bantam          19\n",
       "6            45                   Berkley          17\n",
       "7           284        St. Martin's Press          14\n",
       "8            46             Berkley Books          14\n",
       "9            83                     Delta          13"
      ]
     },
     "execution_count": 29,
     "metadata": {},
     "output_type": "execute_result"
    }
   ],
   "source": [
    "top_publishers = \"\"\"\n",
    "SELECT p.publisher_id,\n",
    "publisher,\n",
    "COUNT(book_id) book_count\n",
    "FROM publishers AS p\n",
    "JOIN books AS b ON p.publisher_id=b.publisher_id\n",
    "WHERE num_pages > 50\n",
    "GROUP BY p.publisher_id\n",
    "ORDER BY book_count DESC\n",
    "LIMIT 10\n",
    "\n",
    "\"\"\"\n",
    "sql(top_publishers)"
   ]
  },
  {
   "cell_type": "markdown",
   "metadata": {},
   "source": [
    "**Вывод:** самым крупным издателем является 'Penguin Books'."
   ]
  },
  {
   "cell_type": "markdown",
   "metadata": {},
   "source": [
    "#### Определим автора с самой высокой средней оценкой книги"
   ]
  },
  {
   "cell_type": "code",
   "execution_count": 32,
   "metadata": {},
   "outputs": [
    {
     "data": {
      "text/html": [
       "<div>\n",
       "<style scoped>\n",
       "    .dataframe tbody tr th:only-of-type {\n",
       "        vertical-align: middle;\n",
       "    }\n",
       "\n",
       "    .dataframe tbody tr th {\n",
       "        vertical-align: top;\n",
       "    }\n",
       "\n",
       "    .dataframe thead th {\n",
       "        text-align: right;\n",
       "    }\n",
       "</style>\n",
       "<table border=\"1\" class=\"dataframe\">\n",
       "  <thead>\n",
       "    <tr style=\"text-align: right;\">\n",
       "      <th></th>\n",
       "      <th>author_id</th>\n",
       "      <th>author</th>\n",
       "      <th>round</th>\n",
       "    </tr>\n",
       "  </thead>\n",
       "  <tbody>\n",
       "    <tr>\n",
       "      <th>0</th>\n",
       "      <td>236</td>\n",
       "      <td>J.K. Rowling/Mary GrandPré</td>\n",
       "      <td>4.29</td>\n",
       "    </tr>\n",
       "    <tr>\n",
       "      <th>1</th>\n",
       "      <td>402</td>\n",
       "      <td>Markus Zusak/Cao Xuân Việt Khương</td>\n",
       "      <td>4.26</td>\n",
       "    </tr>\n",
       "    <tr>\n",
       "      <th>2</th>\n",
       "      <td>240</td>\n",
       "      <td>J.R.R. Tolkien</td>\n",
       "      <td>4.26</td>\n",
       "    </tr>\n",
       "    <tr>\n",
       "      <th>3</th>\n",
       "      <td>376</td>\n",
       "      <td>Louisa May Alcott</td>\n",
       "      <td>4.19</td>\n",
       "    </tr>\n",
       "    <tr>\n",
       "      <th>4</th>\n",
       "      <td>498</td>\n",
       "      <td>Rick Riordan</td>\n",
       "      <td>4.08</td>\n",
       "    </tr>\n",
       "    <tr>\n",
       "      <th>5</th>\n",
       "      <td>621</td>\n",
       "      <td>William Golding</td>\n",
       "      <td>3.90</td>\n",
       "    </tr>\n",
       "    <tr>\n",
       "      <th>6</th>\n",
       "      <td>235</td>\n",
       "      <td>J.D. Salinger</td>\n",
       "      <td>3.83</td>\n",
       "    </tr>\n",
       "    <tr>\n",
       "      <th>7</th>\n",
       "      <td>469</td>\n",
       "      <td>Paulo Coelho/Alan R. Clarke/Özdemir İnce</td>\n",
       "      <td>3.79</td>\n",
       "    </tr>\n",
       "    <tr>\n",
       "      <th>8</th>\n",
       "      <td>630</td>\n",
       "      <td>William Shakespeare/Paul Werstine/Barbara A. M...</td>\n",
       "      <td>3.79</td>\n",
       "    </tr>\n",
       "    <tr>\n",
       "      <th>9</th>\n",
       "      <td>106</td>\n",
       "      <td>Dan Brown</td>\n",
       "      <td>3.76</td>\n",
       "    </tr>\n",
       "    <tr>\n",
       "      <th>10</th>\n",
       "      <td>372</td>\n",
       "      <td>Lois Lowry</td>\n",
       "      <td>3.75</td>\n",
       "    </tr>\n",
       "    <tr>\n",
       "      <th>11</th>\n",
       "      <td>195</td>\n",
       "      <td>George Orwell/Boris Grabnar/Peter Škerl</td>\n",
       "      <td>3.73</td>\n",
       "    </tr>\n",
       "    <tr>\n",
       "      <th>12</th>\n",
       "      <td>554</td>\n",
       "      <td>Stephenie Meyer</td>\n",
       "      <td>3.66</td>\n",
       "    </tr>\n",
       "    <tr>\n",
       "      <th>13</th>\n",
       "      <td>311</td>\n",
       "      <td>John Steinbeck</td>\n",
       "      <td>3.62</td>\n",
       "    </tr>\n",
       "  </tbody>\n",
       "</table>\n",
       "</div>"
      ],
      "text/plain": [
       "    author_id                                             author  round\n",
       "0         236                         J.K. Rowling/Mary GrandPré   4.29\n",
       "1         402                  Markus Zusak/Cao Xuân Việt Khương   4.26\n",
       "2         240                                     J.R.R. Tolkien   4.26\n",
       "3         376                                  Louisa May Alcott   4.19\n",
       "4         498                                       Rick Riordan   4.08\n",
       "5         621                                    William Golding   3.90\n",
       "6         235                                      J.D. Salinger   3.83\n",
       "7         469           Paulo Coelho/Alan R. Clarke/Özdemir İnce   3.79\n",
       "8         630  William Shakespeare/Paul Werstine/Barbara A. M...   3.79\n",
       "9         106                                          Dan Brown   3.76\n",
       "10        372                                         Lois Lowry   3.75\n",
       "11        195            George Orwell/Boris Grabnar/Peter Škerl   3.73\n",
       "12        554                                    Stephenie Meyer   3.66\n",
       "13        311                                     John Steinbeck   3.62"
      ]
     },
     "execution_count": 32,
     "metadata": {},
     "output_type": "execute_result"
    }
   ],
   "source": [
    "top_authors =\"\"\"\n",
    "WITH \n",
    "g AS (SELECT a.author_id,\n",
    "author,\n",
    "ROUND(AVG(rating), 2) AS avg_rating\n",
    "FROM authors AS a\n",
    "JOIN books AS b ON a.author_id=b.author_id\n",
    "JOIN ratings AS r ON r.book_id=b.book_id\n",
    "GROUP BY b.book_id, a.author_id\n",
    "HAVING COUNT(rating_id) >= 50\n",
    "ORDER BY avg_rating DESC)\n",
    "SELECT author_id,\n",
    "author,\n",
    "ROUND(AVG(avg_rating), 2) \n",
    "FROM g\n",
    "GROUP BY author, author_id\n",
    "ORDER BY AVG(avg_rating) DESC\n",
    "\n",
    "\n",
    "\"\"\"\n",
    "\n",
    "sql(top_authors)"
   ]
  },
  {
   "cell_type": "markdown",
   "metadata": {},
   "source": [
    "**Вывод:** автором с самой высокой средней оценкой является J.K. Rowling/Mary GrandPré - 4.29."
   ]
  },
  {
   "cell_type": "markdown",
   "metadata": {},
   "source": [
    "#### Посчитаем среднее количество обзоров от пользователей, которые поставили больше 48 оценок."
   ]
  },
  {
   "cell_type": "code",
   "execution_count": 35,
   "metadata": {},
   "outputs": [
    {
     "data": {
      "text/html": [
       "<div>\n",
       "<style scoped>\n",
       "    .dataframe tbody tr th:only-of-type {\n",
       "        vertical-align: middle;\n",
       "    }\n",
       "\n",
       "    .dataframe tbody tr th {\n",
       "        vertical-align: top;\n",
       "    }\n",
       "\n",
       "    .dataframe thead th {\n",
       "        text-align: right;\n",
       "    }\n",
       "</style>\n",
       "<table border=\"1\" class=\"dataframe\">\n",
       "  <thead>\n",
       "    <tr style=\"text-align: right;\">\n",
       "      <th></th>\n",
       "      <th>avg</th>\n",
       "    </tr>\n",
       "  </thead>\n",
       "  <tbody>\n",
       "    <tr>\n",
       "      <th>0</th>\n",
       "      <td>24.0</td>\n",
       "    </tr>\n",
       "  </tbody>\n",
       "</table>\n",
       "</div>"
      ],
      "text/plain": [
       "    avg\n",
       "0  24.0"
      ]
     },
     "execution_count": 35,
     "metadata": {},
     "output_type": "execute_result"
    }
   ],
   "source": [
    "avg_rating = \"\"\"\n",
    "WITH users AS (\n",
    "SELECT username\n",
    "FROM ratings\n",
    "GROUP BY username\n",
    "HAVING COUNT(rating_id) > 48),\n",
    "users1 AS (SELECT COUNT(review_id) as review_count\n",
    "FROM reviews\n",
    "WHERE username IN (SELECT username\n",
    "FROM users)\n",
    "GROUP BY username)\n",
    "SELECT AVG(review_count)\n",
    "FROM users1\n",
    "\"\"\"\n",
    "sql(avg_rating)"
   ]
  },
  {
   "cell_type": "markdown",
   "metadata": {},
   "source": [
    "**Вывод:** в среднем пользователи, которые поставили 48 оценок, оставляют 24 отзыва."
   ]
  },
  {
   "cell_type": "markdown",
   "metadata": {},
   "source": [
    "### Общий вывод"
   ]
  },
  {
   "cell_type": "markdown",
   "metadata": {},
   "source": [
    "**Подключились к базе данных и просмотрели информацию о датафреймах:**\n",
    "\n",
    "Представленные датафреймы:\n",
    "- books - содержит данные о книгах;\n",
    "- authors - содержит данные об авторах;\n",
    "- publishers - содержит данные об издательствах;\n",
    "- ratings - содержит данные о пользовательских оценках книг;\n",
    "- reviews - содержит данные о пользовательских обзорах.\n",
    "\n",
    "В ходе просмотра информации о датейреймах обнаружили, что:\n",
    "- пропуски отсутствуют;\n",
    "- явные дубликаты отсутствуют.\n",
    "\n",
    "**В процессе исследования определили что:**\n",
    "\n",
    "- после 1 января 2000 года вышла 821 книга;\n",
    "- для каждой книги определили количество обзоров и среднюю оценку;\n",
    "- больше всего книг выпустило издательство 'Penguin Books';\n",
    "- автором с самой высокой средней оценкой является J.K. Rowling/Mary GrandPré - 4.29;\n",
    "- в среднем пользователи, которые поставили 48 оценок, оставлиют 24 отзыва."
   ]
  },
  {
   "cell_type": "code",
   "execution_count": null,
   "metadata": {},
   "outputs": [],
   "source": []
  }
 ],
 "metadata": {
  "ExecuteTimeLog": [
   {
    "duration": 5296,
    "start_time": "2024-05-27T07:20:56.601Z"
   },
   {
    "duration": 114,
    "start_time": "2024-05-27T07:21:42.371Z"
   },
   {
    "duration": 5261,
    "start_time": "2024-05-27T07:21:53.227Z"
   },
   {
    "duration": 4,
    "start_time": "2024-05-27T07:31:53.054Z"
   },
   {
    "duration": 50,
    "start_time": "2024-05-27T07:34:52.665Z"
   },
   {
    "duration": 10,
    "start_time": "2024-05-27T07:35:13.558Z"
   },
   {
    "duration": 8,
    "start_time": "2024-05-27T07:36:06.623Z"
   },
   {
    "duration": 21,
    "start_time": "2024-05-27T07:36:07.055Z"
   },
   {
    "duration": 16,
    "start_time": "2024-05-27T07:36:07.431Z"
   },
   {
    "duration": 4,
    "start_time": "2024-05-27T07:40:32.782Z"
   },
   {
    "duration": 49,
    "start_time": "2024-05-27T07:43:03.965Z"
   },
   {
    "duration": 55,
    "start_time": "2024-05-27T07:43:34.911Z"
   },
   {
    "duration": 7,
    "start_time": "2024-05-27T07:44:31.358Z"
   },
   {
    "duration": 52,
    "start_time": "2024-05-27T07:44:50.943Z"
   },
   {
    "duration": 5,
    "start_time": "2024-05-27T07:45:22.018Z"
   },
   {
    "duration": 40,
    "start_time": "2024-05-27T07:45:22.481Z"
   },
   {
    "duration": 7,
    "start_time": "2024-05-27T07:45:59.645Z"
   },
   {
    "duration": 31,
    "start_time": "2024-05-27T07:46:10.055Z"
   },
   {
    "duration": 39,
    "start_time": "2024-05-27T07:46:59.432Z"
   },
   {
    "duration": 50,
    "start_time": "2024-05-27T07:46:59.624Z"
   },
   {
    "duration": 42,
    "start_time": "2024-05-27T07:47:03.672Z"
   },
   {
    "duration": 35,
    "start_time": "2024-05-27T07:48:21.096Z"
   },
   {
    "duration": 4,
    "start_time": "2024-05-27T07:53:07.851Z"
   },
   {
    "duration": 8,
    "start_time": "2024-05-27T07:54:02.907Z"
   },
   {
    "duration": 677,
    "start_time": "2024-05-27T07:54:07.980Z"
   },
   {
    "duration": 5,
    "start_time": "2024-05-27T07:54:17.878Z"
   },
   {
    "duration": 11,
    "start_time": "2024-05-27T07:54:27.260Z"
   },
   {
    "duration": 6,
    "start_time": "2024-05-27T07:55:17.845Z"
   },
   {
    "duration": 11,
    "start_time": "2024-05-27T07:55:18.381Z"
   },
   {
    "duration": 5,
    "start_time": "2024-05-27T07:55:35.998Z"
   },
   {
    "duration": 10,
    "start_time": "2024-05-27T07:55:36.438Z"
   },
   {
    "duration": 3,
    "start_time": "2024-05-27T07:59:37.889Z"
   },
   {
    "duration": 45,
    "start_time": "2024-05-27T08:02:49.662Z"
   },
   {
    "duration": 524,
    "start_time": "2024-05-27T08:03:28.314Z"
   },
   {
    "duration": 4865,
    "start_time": "2024-05-27T08:03:28.839Z"
   },
   {
    "duration": 45,
    "start_time": "2024-05-27T08:03:33.705Z"
   },
   {
    "duration": 8,
    "start_time": "2024-05-27T08:03:33.751Z"
   },
   {
    "duration": 8,
    "start_time": "2024-05-27T08:03:33.761Z"
   },
   {
    "duration": 48,
    "start_time": "2024-05-27T08:03:33.770Z"
   },
   {
    "duration": 97,
    "start_time": "2024-05-27T08:03:33.820Z"
   },
   {
    "duration": 5,
    "start_time": "2024-05-27T08:03:33.919Z"
   },
   {
    "duration": 86,
    "start_time": "2024-05-27T08:03:33.925Z"
   },
   {
    "duration": 30,
    "start_time": "2024-05-27T08:03:34.013Z"
   },
   {
    "duration": 59,
    "start_time": "2024-05-27T08:03:34.045Z"
   },
   {
    "duration": 38,
    "start_time": "2024-05-27T08:03:34.107Z"
   },
   {
    "duration": 68,
    "start_time": "2024-05-27T08:03:34.147Z"
   },
   {
    "duration": 5,
    "start_time": "2024-05-27T08:03:34.218Z"
   },
   {
    "duration": 22,
    "start_time": "2024-05-27T08:03:34.224Z"
   },
   {
    "duration": 32,
    "start_time": "2024-05-27T08:03:34.247Z"
   },
   {
    "duration": 21,
    "start_time": "2024-05-27T08:03:34.280Z"
   },
   {
    "duration": 510,
    "start_time": "2024-05-27T08:04:15.757Z"
   },
   {
    "duration": 4649,
    "start_time": "2024-05-27T08:04:16.269Z"
   },
   {
    "duration": 48,
    "start_time": "2024-05-27T08:04:20.920Z"
   },
   {
    "duration": 7,
    "start_time": "2024-05-27T08:04:20.970Z"
   },
   {
    "duration": 136,
    "start_time": "2024-05-27T08:04:20.979Z"
   },
   {
    "duration": 48,
    "start_time": "2024-05-27T08:04:21.117Z"
   },
   {
    "duration": 15,
    "start_time": "2024-05-27T08:04:21.166Z"
   },
   {
    "duration": 41,
    "start_time": "2024-05-27T08:04:21.183Z"
   },
   {
    "duration": 62,
    "start_time": "2024-05-27T08:04:21.226Z"
   },
   {
    "duration": 33,
    "start_time": "2024-05-27T08:04:21.289Z"
   },
   {
    "duration": 31,
    "start_time": "2024-05-27T08:04:21.324Z"
   },
   {
    "duration": 76,
    "start_time": "2024-05-27T08:04:21.357Z"
   },
   {
    "duration": 67,
    "start_time": "2024-05-27T08:04:21.435Z"
   },
   {
    "duration": 4,
    "start_time": "2024-05-27T08:04:21.504Z"
   },
   {
    "duration": 63,
    "start_time": "2024-05-27T08:04:21.509Z"
   },
   {
    "duration": 13,
    "start_time": "2024-05-27T08:04:21.573Z"
   },
   {
    "duration": 36,
    "start_time": "2024-05-27T08:04:21.587Z"
   },
   {
    "duration": 88,
    "start_time": "2024-05-27T08:05:19.493Z"
   },
   {
    "duration": 12,
    "start_time": "2024-05-27T08:05:30.218Z"
   },
   {
    "duration": 10,
    "start_time": "2024-05-27T08:05:53.861Z"
   },
   {
    "duration": 3,
    "start_time": "2024-05-27T08:14:46.706Z"
   },
   {
    "duration": 3,
    "start_time": "2024-05-27T08:15:12.933Z"
   },
   {
    "duration": 77,
    "start_time": "2024-05-27T08:15:29.962Z"
   },
   {
    "duration": 108,
    "start_time": "2024-05-27T08:16:19.934Z"
   },
   {
    "duration": 82,
    "start_time": "2024-05-27T08:19:38.710Z"
   },
   {
    "duration": 574,
    "start_time": "2024-05-27T08:20:02.995Z"
   },
   {
    "duration": 5138,
    "start_time": "2024-05-27T08:20:03.571Z"
   },
   {
    "duration": 44,
    "start_time": "2024-05-27T08:20:08.710Z"
   },
   {
    "duration": 11,
    "start_time": "2024-05-27T08:20:08.757Z"
   },
   {
    "duration": 9,
    "start_time": "2024-05-27T08:20:08.770Z"
   },
   {
    "duration": 23,
    "start_time": "2024-05-27T08:20:08.781Z"
   },
   {
    "duration": 13,
    "start_time": "2024-05-27T08:20:08.806Z"
   },
   {
    "duration": 5,
    "start_time": "2024-05-27T08:20:08.821Z"
   },
   {
    "duration": 75,
    "start_time": "2024-05-27T08:20:08.828Z"
   },
   {
    "duration": 36,
    "start_time": "2024-05-27T08:20:08.906Z"
   },
   {
    "duration": 75,
    "start_time": "2024-05-27T08:20:08.944Z"
   },
   {
    "duration": 72,
    "start_time": "2024-05-27T08:20:09.023Z"
   },
   {
    "duration": 45,
    "start_time": "2024-05-27T08:20:09.099Z"
   },
   {
    "duration": 5,
    "start_time": "2024-05-27T08:20:09.146Z"
   },
   {
    "duration": 46,
    "start_time": "2024-05-27T08:20:09.153Z"
   },
   {
    "duration": 3,
    "start_time": "2024-05-27T08:20:09.201Z"
   },
   {
    "duration": 121,
    "start_time": "2024-05-27T08:20:09.206Z"
   },
   {
    "duration": 0,
    "start_time": "2024-05-27T08:20:09.329Z"
   },
   {
    "duration": 3,
    "start_time": "2024-05-27T08:20:25.917Z"
   },
   {
    "duration": 44,
    "start_time": "2024-05-27T08:20:27.974Z"
   },
   {
    "duration": 99,
    "start_time": "2024-05-27T08:20:29.390Z"
   },
   {
    "duration": 30,
    "start_time": "2024-05-27T08:20:55.702Z"
   },
   {
    "duration": 75,
    "start_time": "2024-05-27T08:21:24.942Z"
   },
   {
    "duration": 30,
    "start_time": "2024-05-27T08:21:46.030Z"
   },
   {
    "duration": 29,
    "start_time": "2024-05-27T08:22:20.590Z"
   },
   {
    "duration": 91,
    "start_time": "2024-05-27T08:22:34.167Z"
   },
   {
    "duration": 29,
    "start_time": "2024-05-27T08:22:53.600Z"
   },
   {
    "duration": 29,
    "start_time": "2024-05-27T08:23:17.597Z"
   },
   {
    "duration": 28,
    "start_time": "2024-05-27T08:23:52.509Z"
   },
   {
    "duration": 67,
    "start_time": "2024-05-27T08:31:55.993Z"
   },
   {
    "duration": 72,
    "start_time": "2024-05-27T08:32:03.818Z"
   },
   {
    "duration": 65,
    "start_time": "2024-05-27T08:32:15.713Z"
   },
   {
    "duration": 77,
    "start_time": "2024-05-27T08:32:18.842Z"
   },
   {
    "duration": 69,
    "start_time": "2024-05-27T08:32:49.394Z"
   },
   {
    "duration": 69,
    "start_time": "2024-05-27T08:33:06.130Z"
   },
   {
    "duration": 75,
    "start_time": "2024-05-27T08:33:15.730Z"
   },
   {
    "duration": 74,
    "start_time": "2024-05-27T08:33:23.210Z"
   },
   {
    "duration": 74,
    "start_time": "2024-05-27T08:33:36.946Z"
   },
   {
    "duration": 13,
    "start_time": "2024-05-27T08:33:44.682Z"
   },
   {
    "duration": 19,
    "start_time": "2024-05-27T08:40:26.215Z"
   },
   {
    "duration": 21,
    "start_time": "2024-05-27T08:40:37.894Z"
   },
   {
    "duration": 17,
    "start_time": "2024-05-27T08:40:45.374Z"
   },
   {
    "duration": 4,
    "start_time": "2024-05-27T08:53:23.474Z"
   },
   {
    "duration": 108,
    "start_time": "2024-05-27T08:53:32.869Z"
   },
   {
    "duration": 67,
    "start_time": "2024-05-27T08:53:44.720Z"
   },
   {
    "duration": 65,
    "start_time": "2024-05-27T08:54:01.873Z"
   },
   {
    "duration": 70,
    "start_time": "2024-05-27T08:54:28.578Z"
   },
   {
    "duration": 71,
    "start_time": "2024-05-27T08:54:39.960Z"
   },
   {
    "duration": 80,
    "start_time": "2024-05-27T08:54:54.972Z"
   },
   {
    "duration": 77,
    "start_time": "2024-05-27T08:55:10.052Z"
   },
   {
    "duration": 13,
    "start_time": "2024-05-27T08:55:17.852Z"
   },
   {
    "duration": 83,
    "start_time": "2024-05-27T08:57:15.269Z"
   },
   {
    "duration": 14,
    "start_time": "2024-05-27T08:57:47.078Z"
   },
   {
    "duration": 61,
    "start_time": "2024-05-27T08:58:30.222Z"
   },
   {
    "duration": 16,
    "start_time": "2024-05-27T08:58:42.031Z"
   },
   {
    "duration": 13,
    "start_time": "2024-05-27T08:58:48.606Z"
   },
   {
    "duration": 16,
    "start_time": "2024-05-27T09:00:43.105Z"
   },
   {
    "duration": 87,
    "start_time": "2024-05-27T09:01:39.176Z"
   },
   {
    "duration": 13,
    "start_time": "2024-05-27T09:02:27.246Z"
   },
   {
    "duration": 13,
    "start_time": "2024-05-27T09:02:39.664Z"
   },
   {
    "duration": 14,
    "start_time": "2024-05-27T09:02:50.225Z"
   },
   {
    "duration": 548,
    "start_time": "2024-05-27T09:20:25.466Z"
   },
   {
    "duration": 5292,
    "start_time": "2024-05-27T09:20:26.016Z"
   },
   {
    "duration": 47,
    "start_time": "2024-05-27T09:20:31.310Z"
   },
   {
    "duration": 52,
    "start_time": "2024-05-27T09:20:31.359Z"
   },
   {
    "duration": 36,
    "start_time": "2024-05-27T09:20:31.413Z"
   },
   {
    "duration": 81,
    "start_time": "2024-05-27T09:20:31.450Z"
   },
   {
    "duration": 57,
    "start_time": "2024-05-27T09:20:31.533Z"
   },
   {
    "duration": 73,
    "start_time": "2024-05-27T09:20:31.592Z"
   },
   {
    "duration": 114,
    "start_time": "2024-05-27T09:20:31.667Z"
   },
   {
    "duration": 34,
    "start_time": "2024-05-27T09:20:31.783Z"
   },
   {
    "duration": 60,
    "start_time": "2024-05-27T09:20:31.818Z"
   },
   {
    "duration": 79,
    "start_time": "2024-05-27T09:20:31.880Z"
   },
   {
    "duration": 43,
    "start_time": "2024-05-27T09:20:31.960Z"
   },
   {
    "duration": 69,
    "start_time": "2024-05-27T09:20:32.004Z"
   },
   {
    "duration": 31,
    "start_time": "2024-05-27T09:20:32.075Z"
   },
   {
    "duration": 30,
    "start_time": "2024-05-27T09:20:32.108Z"
   },
   {
    "duration": 33,
    "start_time": "2024-05-27T09:20:32.140Z"
   },
   {
    "duration": 34,
    "start_time": "2024-05-27T09:20:32.174Z"
   },
   {
    "duration": 14,
    "start_time": "2024-05-27T09:20:32.210Z"
   },
   {
    "duration": 30,
    "start_time": "2024-05-27T09:20:32.226Z"
   },
   {
    "duration": 52,
    "start_time": "2024-05-27T09:20:32.258Z"
   },
   {
    "duration": 929,
    "start_time": "2024-05-27T21:13:29.499Z"
   },
   {
    "duration": 5174,
    "start_time": "2024-05-27T21:13:30.430Z"
   },
   {
    "duration": 48,
    "start_time": "2024-05-27T21:13:35.606Z"
   },
   {
    "duration": 46,
    "start_time": "2024-05-27T21:13:35.655Z"
   },
   {
    "duration": 7,
    "start_time": "2024-05-27T21:13:35.703Z"
   },
   {
    "duration": 19,
    "start_time": "2024-05-27T21:13:35.712Z"
   },
   {
    "duration": 66,
    "start_time": "2024-05-27T21:13:35.733Z"
   },
   {
    "duration": 5,
    "start_time": "2024-05-27T21:13:35.801Z"
   },
   {
    "duration": 105,
    "start_time": "2024-05-27T21:13:35.807Z"
   },
   {
    "duration": 95,
    "start_time": "2024-05-27T21:13:35.916Z"
   },
   {
    "duration": 88,
    "start_time": "2024-05-27T21:13:36.012Z"
   },
   {
    "duration": 99,
    "start_time": "2024-05-27T21:13:36.102Z"
   },
   {
    "duration": 98,
    "start_time": "2024-05-27T21:13:36.202Z"
   },
   {
    "duration": 3,
    "start_time": "2024-05-27T21:13:36.302Z"
   },
   {
    "duration": 11,
    "start_time": "2024-05-27T21:13:36.307Z"
   },
   {
    "duration": 5,
    "start_time": "2024-05-27T21:13:36.319Z"
   },
   {
    "duration": 11,
    "start_time": "2024-05-27T21:13:36.325Z"
   },
   {
    "duration": 71,
    "start_time": "2024-05-27T21:13:36.338Z"
   },
   {
    "duration": 12,
    "start_time": "2024-05-27T21:13:36.411Z"
   },
   {
    "duration": 15,
    "start_time": "2024-05-27T21:13:36.425Z"
   },
   {
    "duration": 68,
    "start_time": "2024-05-27T21:13:36.441Z"
   },
   {
    "duration": 21,
    "start_time": "2024-05-27T21:17:19.796Z"
   },
   {
    "duration": 21,
    "start_time": "2024-05-27T21:17:24.532Z"
   },
   {
    "duration": 574,
    "start_time": "2024-05-28T07:48:56.346Z"
   },
   {
    "duration": 7314,
    "start_time": "2024-05-28T07:48:56.922Z"
   },
   {
    "duration": 288,
    "start_time": "2024-05-28T07:49:04.238Z"
   },
   {
    "duration": 73,
    "start_time": "2024-05-28T07:49:04.528Z"
   },
   {
    "duration": 73,
    "start_time": "2024-05-28T07:49:04.604Z"
   },
   {
    "duration": 97,
    "start_time": "2024-05-28T07:49:04.678Z"
   },
   {
    "duration": 88,
    "start_time": "2024-05-28T07:49:04.777Z"
   },
   {
    "duration": 6,
    "start_time": "2024-05-28T07:49:04.867Z"
   },
   {
    "duration": 75,
    "start_time": "2024-05-28T07:49:04.875Z"
   },
   {
    "duration": 41,
    "start_time": "2024-05-28T07:49:04.952Z"
   },
   {
    "duration": 69,
    "start_time": "2024-05-28T07:49:04.994Z"
   },
   {
    "duration": 52,
    "start_time": "2024-05-28T07:49:05.065Z"
   },
   {
    "duration": 76,
    "start_time": "2024-05-28T07:49:05.118Z"
   },
   {
    "duration": 4,
    "start_time": "2024-05-28T07:49:05.196Z"
   },
   {
    "duration": 23,
    "start_time": "2024-05-28T07:49:05.202Z"
   },
   {
    "duration": 6,
    "start_time": "2024-05-28T07:49:05.227Z"
   },
   {
    "duration": 89,
    "start_time": "2024-05-28T07:49:05.235Z"
   },
   {
    "duration": 96,
    "start_time": "2024-05-28T07:49:05.326Z"
   },
   {
    "duration": 80,
    "start_time": "2024-05-28T07:49:05.423Z"
   },
   {
    "duration": 81,
    "start_time": "2024-05-28T07:49:05.504Z"
   },
   {
    "duration": 78,
    "start_time": "2024-05-28T07:49:05.587Z"
   },
   {
    "duration": 244,
    "start_time": "2024-05-28T07:50:10.341Z"
   },
   {
    "duration": 171,
    "start_time": "2024-05-28T07:50:25.184Z"
   },
   {
    "duration": 147,
    "start_time": "2024-05-28T07:50:40.323Z"
   },
   {
    "duration": 82,
    "start_time": "2024-05-28T07:51:00.832Z"
   },
   {
    "duration": 561,
    "start_time": "2024-05-28T07:54:55.747Z"
   },
   {
    "duration": 6786,
    "start_time": "2024-05-28T07:54:56.311Z"
   },
   {
    "duration": 278,
    "start_time": "2024-05-28T07:55:03.099Z"
   },
   {
    "duration": 73,
    "start_time": "2024-05-28T07:55:03.379Z"
   },
   {
    "duration": 72,
    "start_time": "2024-05-28T07:55:03.454Z"
   },
   {
    "duration": 97,
    "start_time": "2024-05-28T07:55:03.528Z"
   },
   {
    "duration": 88,
    "start_time": "2024-05-28T07:55:03.627Z"
   },
   {
    "duration": 5,
    "start_time": "2024-05-28T07:55:03.717Z"
   },
   {
    "duration": 56,
    "start_time": "2024-05-28T07:55:03.724Z"
   },
   {
    "duration": 31,
    "start_time": "2024-05-28T07:55:03.782Z"
   },
   {
    "duration": 73,
    "start_time": "2024-05-28T07:55:03.815Z"
   },
   {
    "duration": 77,
    "start_time": "2024-05-28T07:55:03.890Z"
   },
   {
    "duration": 44,
    "start_time": "2024-05-28T07:55:03.968Z"
   },
   {
    "duration": 3,
    "start_time": "2024-05-28T07:55:04.014Z"
   },
   {
    "duration": 104,
    "start_time": "2024-05-28T07:55:04.019Z"
   },
   {
    "duration": 95,
    "start_time": "2024-05-28T07:55:04.125Z"
   },
   {
    "duration": 78,
    "start_time": "2024-05-28T07:55:04.222Z"
   },
   {
    "duration": 82,
    "start_time": "2024-05-28T07:55:04.302Z"
   },
   {
    "duration": 77,
    "start_time": "2024-05-28T07:55:04.386Z"
   },
   {
    "duration": 46,
    "start_time": "2024-05-28T09:36:03.639Z"
   },
   {
    "duration": 488,
    "start_time": "2024-05-28T09:36:09.028Z"
   },
   {
    "duration": 4800,
    "start_time": "2024-05-28T09:36:09.517Z"
   },
   {
    "duration": 51,
    "start_time": "2024-05-28T09:36:14.318Z"
   },
   {
    "duration": 9,
    "start_time": "2024-05-28T09:36:14.371Z"
   },
   {
    "duration": 12,
    "start_time": "2024-05-28T09:36:14.381Z"
   },
   {
    "duration": 28,
    "start_time": "2024-05-28T09:36:14.395Z"
   },
   {
    "duration": 16,
    "start_time": "2024-05-28T09:36:14.424Z"
   },
   {
    "duration": 5,
    "start_time": "2024-05-28T09:36:14.442Z"
   },
   {
    "duration": 62,
    "start_time": "2024-05-28T09:36:14.448Z"
   },
   {
    "duration": 65,
    "start_time": "2024-05-28T09:36:14.513Z"
   },
   {
    "duration": 31,
    "start_time": "2024-05-28T09:36:14.580Z"
   },
   {
    "duration": 75,
    "start_time": "2024-05-28T09:36:14.613Z"
   },
   {
    "duration": 45,
    "start_time": "2024-05-28T09:36:14.690Z"
   },
   {
    "duration": 32,
    "start_time": "2024-05-28T09:36:14.737Z"
   },
   {
    "duration": 11,
    "start_time": "2024-05-28T09:36:14.771Z"
   },
   {
    "duration": 35,
    "start_time": "2024-05-28T09:36:14.784Z"
   },
   {
    "duration": 12,
    "start_time": "2024-05-28T09:36:14.820Z"
   },
   {
    "duration": 135,
    "start_time": "2024-05-28T09:36:14.834Z"
   },
   {
    "duration": 0,
    "start_time": "2024-05-28T09:36:14.971Z"
   },
   {
    "duration": 18,
    "start_time": "2024-05-28T09:36:47.384Z"
   },
   {
    "duration": 18,
    "start_time": "2024-05-28T09:37:32.868Z"
   },
   {
    "duration": 74,
    "start_time": "2024-05-28T09:39:11.677Z"
   },
   {
    "duration": 74,
    "start_time": "2024-05-28T09:39:22.765Z"
   },
   {
    "duration": 18,
    "start_time": "2024-05-28T09:39:41.503Z"
   }
  ],
  "kernelspec": {
   "display_name": "Python 3 (ipykernel)",
   "language": "python",
   "name": "python3"
  },
  "language_info": {
   "codemirror_mode": {
    "name": "ipython",
    "version": 3
   },
   "file_extension": ".py",
   "mimetype": "text/x-python",
   "name": "python",
   "nbconvert_exporter": "python",
   "pygments_lexer": "ipython3",
   "version": "3.11.7"
  },
  "toc": {
   "base_numbering": 1,
   "nav_menu": {},
   "number_sections": true,
   "sideBar": true,
   "skip_h1_title": true,
   "title_cell": "Table of Contents",
   "title_sidebar": "Contents",
   "toc_cell": false,
   "toc_position": {},
   "toc_section_display": true,
   "toc_window_display": false
  }
 },
 "nbformat": 4,
 "nbformat_minor": 4
}

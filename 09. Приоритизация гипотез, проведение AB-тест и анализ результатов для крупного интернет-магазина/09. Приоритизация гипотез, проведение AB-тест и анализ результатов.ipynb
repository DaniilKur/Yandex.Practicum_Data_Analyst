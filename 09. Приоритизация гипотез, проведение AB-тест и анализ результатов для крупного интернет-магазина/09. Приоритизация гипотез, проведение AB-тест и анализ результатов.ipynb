{
 "cells": [
  {
   "cell_type": "markdown",
   "metadata": {},
   "source": [
    "# Приоритизация гипотез, проведение A/B-тест и анализ результатов для крупного интернет-магазина. "
   ]
  },
  {
   "cell_type": "markdown",
   "metadata": {},
   "source": [
    "Цель проекта - провести приоритизацию гипотез, запустить A/B тест и на основе его результатов сделать выводы. Для этого необходимо выполнить задачи:\n",
    "\n",
    "- применить фреймворк ICE и RICe для приоритизации гипотез. \n",
    "- провести анализ результатов A/B теста.\n",
    "- на основе полученных результатов сделать выводы.\n",
    "\n",
    "Ход работы\n",
    "\n",
    "Необходимые данные представлены в 3 датасетах: В файле /datasets/hypothesis.csv представлены гипотезы по увеличению выручки интернет-магазина, файлах /datasets/orders.csv и /datasets/visitors.csv содержатся результаты проведенного A/B теста. О данных в файлах информация не представлена, поэтому необходимо провести их обзор.\n",
    "\n",
    "Таким образом, проект пройдет в 3 этапа:\n",
    "\n",
    "- загрузить и проверить данные;\n",
    "- применить фреймворк ICE и RICe для приоритизации гипотез. \n",
    "- проанализировать результаты A/B теста."
   ]
  },
  {
   "cell_type": "markdown",
   "metadata": {},
   "source": [
    "### Загрузим данные и просмотрим их"
   ]
  },
  {
   "cell_type": "code",
   "execution_count": 8,
   "metadata": {},
   "outputs": [],
   "source": [
    "import pandas as pd\n",
    "import datetime as dt\n",
    "import numpy as np\n",
    "import matplotlib.pyplot as plt\n",
    "import scipy.stats as stats"
   ]
  },
  {
   "cell_type": "code",
   "execution_count": 9,
   "metadata": {},
   "outputs": [],
   "source": [
    "hypot = pd.read_csv('hypothesis.csv')\n",
    "orders = pd.read_csv('orders.csv', parse_dates=['date'])\n",
    "visitors = pd.read_csv('visitors.csv', parse_dates=['date'])"
   ]
  },
  {
   "cell_type": "code",
   "execution_count": 10,
   "metadata": {},
   "outputs": [],
   "source": [
    "# Создадим функцию для просмотра информации о датафреймах\n",
    "def info_dt(row):\n",
    "    \"\"\"\n",
    "    Данная функция выводит первичную информацию о датафреме\n",
    "    \"\"\"\n",
    "    print('\\033[1m' + 'Вывод первых строчек:' + '\\033[0m')\n",
    "    \n",
    "    display(row.head(20))\n",
    "    print(\"\\n\") \n",
    "    print('\\033[1m' + 'Вывод информации о датафрейме:' + '\\033[0m')\n",
    "    print(\"\\n\") \n",
    "    row.info()\n",
    "    print(\"\\n\") \n",
    "    print('\\033[1m' + 'Наличие неявных дубликатов:' + '\\033[0m')\n",
    "    if row.duplicated().sum() > 0:\n",
    "        print('Дубликатов: ', row.duplicated().sum())\n",
    "    else:\n",
    "        print('Дубликаты отсутствуют')"
   ]
  },
  {
   "cell_type": "code",
   "execution_count": 11,
   "metadata": {},
   "outputs": [
    {
     "name": "stdout",
     "output_type": "stream",
     "text": [
      "\u001b[1mВывод первых строчек:\u001b[0m\n"
     ]
    },
    {
     "data": {
      "text/html": [
       "<div>\n",
       "<style scoped>\n",
       "    .dataframe tbody tr th:only-of-type {\n",
       "        vertical-align: middle;\n",
       "    }\n",
       "\n",
       "    .dataframe tbody tr th {\n",
       "        vertical-align: top;\n",
       "    }\n",
       "\n",
       "    .dataframe thead th {\n",
       "        text-align: right;\n",
       "    }\n",
       "</style>\n",
       "<table border=\"1\" class=\"dataframe\">\n",
       "  <thead>\n",
       "    <tr style=\"text-align: right;\">\n",
       "      <th></th>\n",
       "      <th>Hypothesis</th>\n",
       "      <th>Reach</th>\n",
       "      <th>Impact</th>\n",
       "      <th>Confidence</th>\n",
       "      <th>Efforts</th>\n",
       "    </tr>\n",
       "  </thead>\n",
       "  <tbody>\n",
       "    <tr>\n",
       "      <th>0</th>\n",
       "      <td>Добавить два новых канала привлечения трафика,...</td>\n",
       "      <td>3</td>\n",
       "      <td>10</td>\n",
       "      <td>8</td>\n",
       "      <td>6</td>\n",
       "    </tr>\n",
       "    <tr>\n",
       "      <th>1</th>\n",
       "      <td>Запустить собственную службу доставки, что сок...</td>\n",
       "      <td>2</td>\n",
       "      <td>5</td>\n",
       "      <td>4</td>\n",
       "      <td>10</td>\n",
       "    </tr>\n",
       "    <tr>\n",
       "      <th>2</th>\n",
       "      <td>Добавить блоки рекомендаций товаров на сайт ин...</td>\n",
       "      <td>8</td>\n",
       "      <td>3</td>\n",
       "      <td>7</td>\n",
       "      <td>3</td>\n",
       "    </tr>\n",
       "    <tr>\n",
       "      <th>3</th>\n",
       "      <td>Изменить структура категорий, что увеличит кон...</td>\n",
       "      <td>8</td>\n",
       "      <td>3</td>\n",
       "      <td>3</td>\n",
       "      <td>8</td>\n",
       "    </tr>\n",
       "    <tr>\n",
       "      <th>4</th>\n",
       "      <td>Изменить цвет фона главной страницы, чтобы уве...</td>\n",
       "      <td>3</td>\n",
       "      <td>1</td>\n",
       "      <td>1</td>\n",
       "      <td>1</td>\n",
       "    </tr>\n",
       "    <tr>\n",
       "      <th>5</th>\n",
       "      <td>Добавить страницу отзывов клиентов о магазине,...</td>\n",
       "      <td>3</td>\n",
       "      <td>2</td>\n",
       "      <td>2</td>\n",
       "      <td>3</td>\n",
       "    </tr>\n",
       "    <tr>\n",
       "      <th>6</th>\n",
       "      <td>Показать на главной странице баннеры с актуаль...</td>\n",
       "      <td>5</td>\n",
       "      <td>3</td>\n",
       "      <td>8</td>\n",
       "      <td>3</td>\n",
       "    </tr>\n",
       "    <tr>\n",
       "      <th>7</th>\n",
       "      <td>Добавить форму подписки на все основные страни...</td>\n",
       "      <td>10</td>\n",
       "      <td>7</td>\n",
       "      <td>8</td>\n",
       "      <td>5</td>\n",
       "    </tr>\n",
       "    <tr>\n",
       "      <th>8</th>\n",
       "      <td>Запустить акцию, дающую скидку на товар в день...</td>\n",
       "      <td>1</td>\n",
       "      <td>9</td>\n",
       "      <td>9</td>\n",
       "      <td>5</td>\n",
       "    </tr>\n",
       "  </tbody>\n",
       "</table>\n",
       "</div>"
      ],
      "text/plain": [
       "                                          Hypothesis  Reach  Impact  \\\n",
       "0  Добавить два новых канала привлечения трафика,...      3      10   \n",
       "1  Запустить собственную службу доставки, что сок...      2       5   \n",
       "2  Добавить блоки рекомендаций товаров на сайт ин...      8       3   \n",
       "3  Изменить структура категорий, что увеличит кон...      8       3   \n",
       "4  Изменить цвет фона главной страницы, чтобы уве...      3       1   \n",
       "5  Добавить страницу отзывов клиентов о магазине,...      3       2   \n",
       "6  Показать на главной странице баннеры с актуаль...      5       3   \n",
       "7  Добавить форму подписки на все основные страни...     10       7   \n",
       "8  Запустить акцию, дающую скидку на товар в день...      1       9   \n",
       "\n",
       "   Confidence  Efforts  \n",
       "0           8        6  \n",
       "1           4       10  \n",
       "2           7        3  \n",
       "3           3        8  \n",
       "4           1        1  \n",
       "5           2        3  \n",
       "6           8        3  \n",
       "7           8        5  \n",
       "8           9        5  "
      ]
     },
     "metadata": {},
     "output_type": "display_data"
    },
    {
     "name": "stdout",
     "output_type": "stream",
     "text": [
      "\n",
      "\n",
      "\u001b[1mВывод информации о датафрейме:\u001b[0m\n",
      "\n",
      "\n",
      "<class 'pandas.core.frame.DataFrame'>\n",
      "RangeIndex: 9 entries, 0 to 8\n",
      "Data columns (total 5 columns):\n",
      " #   Column      Non-Null Count  Dtype \n",
      "---  ------      --------------  ----- \n",
      " 0   Hypothesis  9 non-null      object\n",
      " 1   Reach       9 non-null      int64 \n",
      " 2   Impact      9 non-null      int64 \n",
      " 3   Confidence  9 non-null      int64 \n",
      " 4   Efforts     9 non-null      int64 \n",
      "dtypes: int64(4), object(1)\n",
      "memory usage: 492.0+ bytes\n",
      "\n",
      "\n",
      "\u001b[1mНаличие неявных дубликатов:\u001b[0m\n",
      "Дубликаты отсутствуют\n"
     ]
    }
   ],
   "source": [
    "info_dt(hypot)"
   ]
  },
  {
   "cell_type": "markdown",
   "metadata": {},
   "source": [
    "**Вывод по датафрейму:** \n",
    "- типы данных определены правильно;\n",
    "- необходимо привести заголовки к нижниму регистру;\n",
    "- отсутствуют пропуски;\n",
    "- нет дубликатов."
   ]
  },
  {
   "cell_type": "code",
   "execution_count": 13,
   "metadata": {},
   "outputs": [
    {
     "data": {
      "text/plain": [
       "Index(['hypothesis', 'reach', 'impact', 'confidence', 'efforts'], dtype='object')"
      ]
     },
     "execution_count": 13,
     "metadata": {},
     "output_type": "execute_result"
    }
   ],
   "source": [
    "hypot.columns= hypot.columns.str.lower()\n",
    "hypot.columns"
   ]
  },
  {
   "cell_type": "code",
   "execution_count": 14,
   "metadata": {},
   "outputs": [
    {
     "name": "stdout",
     "output_type": "stream",
     "text": [
      "\u001b[1mВывод первых строчек:\u001b[0m\n"
     ]
    },
    {
     "data": {
      "text/html": [
       "<div>\n",
       "<style scoped>\n",
       "    .dataframe tbody tr th:only-of-type {\n",
       "        vertical-align: middle;\n",
       "    }\n",
       "\n",
       "    .dataframe tbody tr th {\n",
       "        vertical-align: top;\n",
       "    }\n",
       "\n",
       "    .dataframe thead th {\n",
       "        text-align: right;\n",
       "    }\n",
       "</style>\n",
       "<table border=\"1\" class=\"dataframe\">\n",
       "  <thead>\n",
       "    <tr style=\"text-align: right;\">\n",
       "      <th></th>\n",
       "      <th>transactionId</th>\n",
       "      <th>visitorId</th>\n",
       "      <th>date</th>\n",
       "      <th>revenue</th>\n",
       "      <th>group</th>\n",
       "    </tr>\n",
       "  </thead>\n",
       "  <tbody>\n",
       "    <tr>\n",
       "      <th>0</th>\n",
       "      <td>3667963787</td>\n",
       "      <td>3312258926</td>\n",
       "      <td>2019-08-15</td>\n",
       "      <td>1650</td>\n",
       "      <td>B</td>\n",
       "    </tr>\n",
       "    <tr>\n",
       "      <th>1</th>\n",
       "      <td>2804400009</td>\n",
       "      <td>3642806036</td>\n",
       "      <td>2019-08-15</td>\n",
       "      <td>730</td>\n",
       "      <td>B</td>\n",
       "    </tr>\n",
       "    <tr>\n",
       "      <th>2</th>\n",
       "      <td>2961555356</td>\n",
       "      <td>4069496402</td>\n",
       "      <td>2019-08-15</td>\n",
       "      <td>400</td>\n",
       "      <td>A</td>\n",
       "    </tr>\n",
       "    <tr>\n",
       "      <th>3</th>\n",
       "      <td>3797467345</td>\n",
       "      <td>1196621759</td>\n",
       "      <td>2019-08-15</td>\n",
       "      <td>9759</td>\n",
       "      <td>B</td>\n",
       "    </tr>\n",
       "    <tr>\n",
       "      <th>4</th>\n",
       "      <td>2282983706</td>\n",
       "      <td>2322279887</td>\n",
       "      <td>2019-08-15</td>\n",
       "      <td>2308</td>\n",
       "      <td>B</td>\n",
       "    </tr>\n",
       "    <tr>\n",
       "      <th>5</th>\n",
       "      <td>182168103</td>\n",
       "      <td>935554773</td>\n",
       "      <td>2019-08-15</td>\n",
       "      <td>2210</td>\n",
       "      <td>B</td>\n",
       "    </tr>\n",
       "    <tr>\n",
       "      <th>6</th>\n",
       "      <td>398296753</td>\n",
       "      <td>2900797465</td>\n",
       "      <td>2019-08-15</td>\n",
       "      <td>1860</td>\n",
       "      <td>B</td>\n",
       "    </tr>\n",
       "    <tr>\n",
       "      <th>7</th>\n",
       "      <td>2626614568</td>\n",
       "      <td>78758296</td>\n",
       "      <td>2019-08-15</td>\n",
       "      <td>1044</td>\n",
       "      <td>A</td>\n",
       "    </tr>\n",
       "    <tr>\n",
       "      <th>8</th>\n",
       "      <td>1576988021</td>\n",
       "      <td>295230930</td>\n",
       "      <td>2019-08-15</td>\n",
       "      <td>13710</td>\n",
       "      <td>A</td>\n",
       "    </tr>\n",
       "    <tr>\n",
       "      <th>9</th>\n",
       "      <td>1506739906</td>\n",
       "      <td>1882260405</td>\n",
       "      <td>2019-08-15</td>\n",
       "      <td>1855</td>\n",
       "      <td>B</td>\n",
       "    </tr>\n",
       "    <tr>\n",
       "      <th>10</th>\n",
       "      <td>3649131742</td>\n",
       "      <td>879864040</td>\n",
       "      <td>2019-08-15</td>\n",
       "      <td>4008</td>\n",
       "      <td>A</td>\n",
       "    </tr>\n",
       "    <tr>\n",
       "      <th>11</th>\n",
       "      <td>1919444843</td>\n",
       "      <td>927791387</td>\n",
       "      <td>2019-08-15</td>\n",
       "      <td>4499</td>\n",
       "      <td>B</td>\n",
       "    </tr>\n",
       "    <tr>\n",
       "      <th>12</th>\n",
       "      <td>2809384911</td>\n",
       "      <td>3213223594</td>\n",
       "      <td>2019-08-15</td>\n",
       "      <td>7370</td>\n",
       "      <td>A</td>\n",
       "    </tr>\n",
       "    <tr>\n",
       "      <th>13</th>\n",
       "      <td>3044797713</td>\n",
       "      <td>728063420</td>\n",
       "      <td>2019-08-15</td>\n",
       "      <td>11985</td>\n",
       "      <td>B</td>\n",
       "    </tr>\n",
       "    <tr>\n",
       "      <th>14</th>\n",
       "      <td>3859315276</td>\n",
       "      <td>1565034404</td>\n",
       "      <td>2019-08-15</td>\n",
       "      <td>10980</td>\n",
       "      <td>A</td>\n",
       "    </tr>\n",
       "    <tr>\n",
       "      <th>15</th>\n",
       "      <td>2550768810</td>\n",
       "      <td>2742574263</td>\n",
       "      <td>2019-08-15</td>\n",
       "      <td>15277</td>\n",
       "      <td>B</td>\n",
       "    </tr>\n",
       "    <tr>\n",
       "      <th>16</th>\n",
       "      <td>1820531107</td>\n",
       "      <td>2973109265</td>\n",
       "      <td>2019-08-15</td>\n",
       "      <td>1060</td>\n",
       "      <td>B</td>\n",
       "    </tr>\n",
       "    <tr>\n",
       "      <th>17</th>\n",
       "      <td>1108180333</td>\n",
       "      <td>222718357</td>\n",
       "      <td>2019-08-15</td>\n",
       "      <td>990</td>\n",
       "      <td>B</td>\n",
       "    </tr>\n",
       "    <tr>\n",
       "      <th>18</th>\n",
       "      <td>1822256754</td>\n",
       "      <td>4227830084</td>\n",
       "      <td>2019-08-15</td>\n",
       "      <td>16490</td>\n",
       "      <td>A</td>\n",
       "    </tr>\n",
       "    <tr>\n",
       "      <th>19</th>\n",
       "      <td>674584210</td>\n",
       "      <td>3207734412</td>\n",
       "      <td>2019-08-15</td>\n",
       "      <td>1190</td>\n",
       "      <td>A</td>\n",
       "    </tr>\n",
       "  </tbody>\n",
       "</table>\n",
       "</div>"
      ],
      "text/plain": [
       "    transactionId   visitorId       date  revenue group\n",
       "0      3667963787  3312258926 2019-08-15     1650     B\n",
       "1      2804400009  3642806036 2019-08-15      730     B\n",
       "2      2961555356  4069496402 2019-08-15      400     A\n",
       "3      3797467345  1196621759 2019-08-15     9759     B\n",
       "4      2282983706  2322279887 2019-08-15     2308     B\n",
       "5       182168103   935554773 2019-08-15     2210     B\n",
       "6       398296753  2900797465 2019-08-15     1860     B\n",
       "7      2626614568    78758296 2019-08-15     1044     A\n",
       "8      1576988021   295230930 2019-08-15    13710     A\n",
       "9      1506739906  1882260405 2019-08-15     1855     B\n",
       "10     3649131742   879864040 2019-08-15     4008     A\n",
       "11     1919444843   927791387 2019-08-15     4499     B\n",
       "12     2809384911  3213223594 2019-08-15     7370     A\n",
       "13     3044797713   728063420 2019-08-15    11985     B\n",
       "14     3859315276  1565034404 2019-08-15    10980     A\n",
       "15     2550768810  2742574263 2019-08-15    15277     B\n",
       "16     1820531107  2973109265 2019-08-15     1060     B\n",
       "17     1108180333   222718357 2019-08-15      990     B\n",
       "18     1822256754  4227830084 2019-08-15    16490     A\n",
       "19      674584210  3207734412 2019-08-15     1190     A"
      ]
     },
     "metadata": {},
     "output_type": "display_data"
    },
    {
     "name": "stdout",
     "output_type": "stream",
     "text": [
      "\n",
      "\n",
      "\u001b[1mВывод информации о датафрейме:\u001b[0m\n",
      "\n",
      "\n",
      "<class 'pandas.core.frame.DataFrame'>\n",
      "RangeIndex: 1197 entries, 0 to 1196\n",
      "Data columns (total 5 columns):\n",
      " #   Column         Non-Null Count  Dtype         \n",
      "---  ------         --------------  -----         \n",
      " 0   transactionId  1197 non-null   int64         \n",
      " 1   visitorId      1197 non-null   int64         \n",
      " 2   date           1197 non-null   datetime64[ns]\n",
      " 3   revenue        1197 non-null   int64         \n",
      " 4   group          1197 non-null   object        \n",
      "dtypes: datetime64[ns](1), int64(3), object(1)\n",
      "memory usage: 46.9+ KB\n",
      "\n",
      "\n",
      "\u001b[1mНаличие неявных дубликатов:\u001b[0m\n",
      "Дубликаты отсутствуют\n"
     ]
    }
   ],
   "source": [
    "info_dt(orders)"
   ]
  },
  {
   "cell_type": "markdown",
   "metadata": {},
   "source": [
    "**Вывод по датафрейму:**\n",
    "- типы данных определены правильно;\n",
    "- не верный стиль заголовков;\n",
    "- отсутствуют пропуски;\n",
    "- нет дубликатов."
   ]
  },
  {
   "cell_type": "code",
   "execution_count": 16,
   "metadata": {},
   "outputs": [],
   "source": [
    "orders.columns = orders.columns.str.replace('Id', '_id') "
   ]
  },
  {
   "cell_type": "code",
   "execution_count": 17,
   "metadata": {},
   "outputs": [
    {
     "name": "stdout",
     "output_type": "stream",
     "text": [
      "\u001b[1mВывод первых строчек:\u001b[0m\n"
     ]
    },
    {
     "data": {
      "text/html": [
       "<div>\n",
       "<style scoped>\n",
       "    .dataframe tbody tr th:only-of-type {\n",
       "        vertical-align: middle;\n",
       "    }\n",
       "\n",
       "    .dataframe tbody tr th {\n",
       "        vertical-align: top;\n",
       "    }\n",
       "\n",
       "    .dataframe thead th {\n",
       "        text-align: right;\n",
       "    }\n",
       "</style>\n",
       "<table border=\"1\" class=\"dataframe\">\n",
       "  <thead>\n",
       "    <tr style=\"text-align: right;\">\n",
       "      <th></th>\n",
       "      <th>date</th>\n",
       "      <th>group</th>\n",
       "      <th>visitors</th>\n",
       "    </tr>\n",
       "  </thead>\n",
       "  <tbody>\n",
       "    <tr>\n",
       "      <th>0</th>\n",
       "      <td>2019-08-01</td>\n",
       "      <td>A</td>\n",
       "      <td>719</td>\n",
       "    </tr>\n",
       "    <tr>\n",
       "      <th>1</th>\n",
       "      <td>2019-08-02</td>\n",
       "      <td>A</td>\n",
       "      <td>619</td>\n",
       "    </tr>\n",
       "    <tr>\n",
       "      <th>2</th>\n",
       "      <td>2019-08-03</td>\n",
       "      <td>A</td>\n",
       "      <td>507</td>\n",
       "    </tr>\n",
       "    <tr>\n",
       "      <th>3</th>\n",
       "      <td>2019-08-04</td>\n",
       "      <td>A</td>\n",
       "      <td>717</td>\n",
       "    </tr>\n",
       "    <tr>\n",
       "      <th>4</th>\n",
       "      <td>2019-08-05</td>\n",
       "      <td>A</td>\n",
       "      <td>756</td>\n",
       "    </tr>\n",
       "    <tr>\n",
       "      <th>5</th>\n",
       "      <td>2019-08-06</td>\n",
       "      <td>A</td>\n",
       "      <td>667</td>\n",
       "    </tr>\n",
       "    <tr>\n",
       "      <th>6</th>\n",
       "      <td>2019-08-07</td>\n",
       "      <td>A</td>\n",
       "      <td>644</td>\n",
       "    </tr>\n",
       "    <tr>\n",
       "      <th>7</th>\n",
       "      <td>2019-08-08</td>\n",
       "      <td>A</td>\n",
       "      <td>610</td>\n",
       "    </tr>\n",
       "    <tr>\n",
       "      <th>8</th>\n",
       "      <td>2019-08-09</td>\n",
       "      <td>A</td>\n",
       "      <td>617</td>\n",
       "    </tr>\n",
       "    <tr>\n",
       "      <th>9</th>\n",
       "      <td>2019-08-10</td>\n",
       "      <td>A</td>\n",
       "      <td>406</td>\n",
       "    </tr>\n",
       "    <tr>\n",
       "      <th>10</th>\n",
       "      <td>2019-08-11</td>\n",
       "      <td>A</td>\n",
       "      <td>718</td>\n",
       "    </tr>\n",
       "    <tr>\n",
       "      <th>11</th>\n",
       "      <td>2019-08-12</td>\n",
       "      <td>A</td>\n",
       "      <td>595</td>\n",
       "    </tr>\n",
       "    <tr>\n",
       "      <th>12</th>\n",
       "      <td>2019-08-13</td>\n",
       "      <td>A</td>\n",
       "      <td>748</td>\n",
       "    </tr>\n",
       "    <tr>\n",
       "      <th>13</th>\n",
       "      <td>2019-08-14</td>\n",
       "      <td>A</td>\n",
       "      <td>735</td>\n",
       "    </tr>\n",
       "    <tr>\n",
       "      <th>14</th>\n",
       "      <td>2019-08-15</td>\n",
       "      <td>A</td>\n",
       "      <td>628</td>\n",
       "    </tr>\n",
       "    <tr>\n",
       "      <th>15</th>\n",
       "      <td>2019-08-16</td>\n",
       "      <td>A</td>\n",
       "      <td>361</td>\n",
       "    </tr>\n",
       "    <tr>\n",
       "      <th>16</th>\n",
       "      <td>2019-08-17</td>\n",
       "      <td>A</td>\n",
       "      <td>412</td>\n",
       "    </tr>\n",
       "    <tr>\n",
       "      <th>17</th>\n",
       "      <td>2019-08-18</td>\n",
       "      <td>A</td>\n",
       "      <td>668</td>\n",
       "    </tr>\n",
       "    <tr>\n",
       "      <th>18</th>\n",
       "      <td>2019-08-19</td>\n",
       "      <td>A</td>\n",
       "      <td>502</td>\n",
       "    </tr>\n",
       "    <tr>\n",
       "      <th>19</th>\n",
       "      <td>2019-08-20</td>\n",
       "      <td>A</td>\n",
       "      <td>575</td>\n",
       "    </tr>\n",
       "  </tbody>\n",
       "</table>\n",
       "</div>"
      ],
      "text/plain": [
       "         date group  visitors\n",
       "0  2019-08-01     A       719\n",
       "1  2019-08-02     A       619\n",
       "2  2019-08-03     A       507\n",
       "3  2019-08-04     A       717\n",
       "4  2019-08-05     A       756\n",
       "5  2019-08-06     A       667\n",
       "6  2019-08-07     A       644\n",
       "7  2019-08-08     A       610\n",
       "8  2019-08-09     A       617\n",
       "9  2019-08-10     A       406\n",
       "10 2019-08-11     A       718\n",
       "11 2019-08-12     A       595\n",
       "12 2019-08-13     A       748\n",
       "13 2019-08-14     A       735\n",
       "14 2019-08-15     A       628\n",
       "15 2019-08-16     A       361\n",
       "16 2019-08-17     A       412\n",
       "17 2019-08-18     A       668\n",
       "18 2019-08-19     A       502\n",
       "19 2019-08-20     A       575"
      ]
     },
     "metadata": {},
     "output_type": "display_data"
    },
    {
     "name": "stdout",
     "output_type": "stream",
     "text": [
      "\n",
      "\n",
      "\u001b[1mВывод информации о датафрейме:\u001b[0m\n",
      "\n",
      "\n",
      "<class 'pandas.core.frame.DataFrame'>\n",
      "RangeIndex: 62 entries, 0 to 61\n",
      "Data columns (total 3 columns):\n",
      " #   Column    Non-Null Count  Dtype         \n",
      "---  ------    --------------  -----         \n",
      " 0   date      62 non-null     datetime64[ns]\n",
      " 1   group     62 non-null     object        \n",
      " 2   visitors  62 non-null     int64         \n",
      "dtypes: datetime64[ns](1), int64(1), object(1)\n",
      "memory usage: 1.6+ KB\n",
      "\n",
      "\n",
      "\u001b[1mНаличие неявных дубликатов:\u001b[0m\n",
      "Дубликаты отсутствуют\n"
     ]
    }
   ],
   "source": [
    "info_dt(visitors)"
   ]
  },
  {
   "cell_type": "markdown",
   "metadata": {},
   "source": [
    "Вывод по датафрейму:\n",
    "\n",
    "- типы данных определены правильно;\n",
    "- верный стиль заголовков;\n",
    "- отсутствуют пропуски;\n",
    "- нет дубликатов."
   ]
  },
  {
   "cell_type": "markdown",
   "metadata": {},
   "source": [
    "### Приоритизация гипотез"
   ]
  },
  {
   "cell_type": "markdown",
   "metadata": {},
   "source": [
    "#### Применим фреймворк ICE для приоритизации гипотез. "
   ]
  },
  {
   "cell_type": "code",
   "execution_count": 23,
   "metadata": {},
   "outputs": [
    {
     "data": {
      "text/html": [
       "<div>\n",
       "<style scoped>\n",
       "    .dataframe tbody tr th:only-of-type {\n",
       "        vertical-align: middle;\n",
       "    }\n",
       "\n",
       "    .dataframe tbody tr th {\n",
       "        vertical-align: top;\n",
       "    }\n",
       "\n",
       "    .dataframe thead th {\n",
       "        text-align: right;\n",
       "    }\n",
       "</style>\n",
       "<table border=\"1\" class=\"dataframe\">\n",
       "  <thead>\n",
       "    <tr style=\"text-align: right;\">\n",
       "      <th></th>\n",
       "      <th>hypothesis</th>\n",
       "      <th>reach</th>\n",
       "      <th>impact</th>\n",
       "      <th>confidence</th>\n",
       "      <th>efforts</th>\n",
       "      <th>ICE</th>\n",
       "    </tr>\n",
       "  </thead>\n",
       "  <tbody>\n",
       "    <tr>\n",
       "      <th>8</th>\n",
       "      <td>Запустить акцию, дающую скидку на товар в день рождения</td>\n",
       "      <td>1</td>\n",
       "      <td>9</td>\n",
       "      <td>9</td>\n",
       "      <td>5</td>\n",
       "      <td>16.200000</td>\n",
       "    </tr>\n",
       "    <tr>\n",
       "      <th>0</th>\n",
       "      <td>Добавить два новых канала привлечения трафика, что позволит привлекать на 30% больше пользователей</td>\n",
       "      <td>3</td>\n",
       "      <td>10</td>\n",
       "      <td>8</td>\n",
       "      <td>6</td>\n",
       "      <td>13.333333</td>\n",
       "    </tr>\n",
       "    <tr>\n",
       "      <th>7</th>\n",
       "      <td>Добавить форму подписки на все основные страницы, чтобы собрать базу клиентов для email-рассылок</td>\n",
       "      <td>10</td>\n",
       "      <td>7</td>\n",
       "      <td>8</td>\n",
       "      <td>5</td>\n",
       "      <td>11.200000</td>\n",
       "    </tr>\n",
       "    <tr>\n",
       "      <th>6</th>\n",
       "      <td>Показать на главной странице баннеры с актуальными акциями и распродажами, чтобы увеличить конверсию</td>\n",
       "      <td>5</td>\n",
       "      <td>3</td>\n",
       "      <td>8</td>\n",
       "      <td>3</td>\n",
       "      <td>8.000000</td>\n",
       "    </tr>\n",
       "    <tr>\n",
       "      <th>2</th>\n",
       "      <td>Добавить блоки рекомендаций товаров на сайт интернет магазина, чтобы повысить конверсию и средний чек заказа</td>\n",
       "      <td>8</td>\n",
       "      <td>3</td>\n",
       "      <td>7</td>\n",
       "      <td>3</td>\n",
       "      <td>7.000000</td>\n",
       "    </tr>\n",
       "    <tr>\n",
       "      <th>1</th>\n",
       "      <td>Запустить собственную службу доставки, что сократит срок доставки заказов</td>\n",
       "      <td>2</td>\n",
       "      <td>5</td>\n",
       "      <td>4</td>\n",
       "      <td>10</td>\n",
       "      <td>2.000000</td>\n",
       "    </tr>\n",
       "    <tr>\n",
       "      <th>5</th>\n",
       "      <td>Добавить страницу отзывов клиентов о магазине, что позволит увеличить количество заказов</td>\n",
       "      <td>3</td>\n",
       "      <td>2</td>\n",
       "      <td>2</td>\n",
       "      <td>3</td>\n",
       "      <td>1.333333</td>\n",
       "    </tr>\n",
       "    <tr>\n",
       "      <th>3</th>\n",
       "      <td>Изменить структура категорий, что увеличит конверсию, т.к. пользователи быстрее найдут нужный товар</td>\n",
       "      <td>8</td>\n",
       "      <td>3</td>\n",
       "      <td>3</td>\n",
       "      <td>8</td>\n",
       "      <td>1.125000</td>\n",
       "    </tr>\n",
       "    <tr>\n",
       "      <th>4</th>\n",
       "      <td>Изменить цвет фона главной страницы, чтобы увеличить вовлеченность пользователей</td>\n",
       "      <td>3</td>\n",
       "      <td>1</td>\n",
       "      <td>1</td>\n",
       "      <td>1</td>\n",
       "      <td>1.000000</td>\n",
       "    </tr>\n",
       "  </tbody>\n",
       "</table>\n",
       "</div>"
      ],
      "text/plain": [
       "                                                                                                     hypothesis  \\\n",
       "8                                                       Запустить акцию, дающую скидку на товар в день рождения   \n",
       "0            Добавить два новых канала привлечения трафика, что позволит привлекать на 30% больше пользователей   \n",
       "7              Добавить форму подписки на все основные страницы, чтобы собрать базу клиентов для email-рассылок   \n",
       "6          Показать на главной странице баннеры с актуальными акциями и распродажами, чтобы увеличить конверсию   \n",
       "2  Добавить блоки рекомендаций товаров на сайт интернет магазина, чтобы повысить конверсию и средний чек заказа   \n",
       "1                                     Запустить собственную службу доставки, что сократит срок доставки заказов   \n",
       "5                      Добавить страницу отзывов клиентов о магазине, что позволит увеличить количество заказов   \n",
       "3           Изменить структура категорий, что увеличит конверсию, т.к. пользователи быстрее найдут нужный товар   \n",
       "4                              Изменить цвет фона главной страницы, чтобы увеличить вовлеченность пользователей   \n",
       "\n",
       "   reach  impact  confidence  efforts        ICE  \n",
       "8      1       9           9        5  16.200000  \n",
       "0      3      10           8        6  13.333333  \n",
       "7     10       7           8        5  11.200000  \n",
       "6      5       3           8        3   8.000000  \n",
       "2      8       3           7        3   7.000000  \n",
       "1      2       5           4       10   2.000000  \n",
       "5      3       2           2        3   1.333333  \n",
       "3      8       3           3        8   1.125000  \n",
       "4      3       1           1        1   1.000000  "
      ]
     },
     "execution_count": 23,
     "metadata": {},
     "output_type": "execute_result"
    }
   ],
   "source": [
    "pd.options.display.max_colwidth = 400\n",
    "hypot['ICE'] = (hypot['confidence']*hypot['impact']/hypot['efforts'])\n",
    "hypot.sort_values('ICE', ascending=False)"
   ]
  },
  {
   "cell_type": "markdown",
   "metadata": {},
   "source": [
    "Приоритетная 8 гипотеза."
   ]
  },
  {
   "cell_type": "markdown",
   "metadata": {},
   "source": [
    "#### Применим фреймворк RICE для приоритизации гипотез. "
   ]
  },
  {
   "cell_type": "code",
   "execution_count": 28,
   "metadata": {},
   "outputs": [
    {
     "data": {
      "text/html": [
       "<div>\n",
       "<style scoped>\n",
       "    .dataframe tbody tr th:only-of-type {\n",
       "        vertical-align: middle;\n",
       "    }\n",
       "\n",
       "    .dataframe tbody tr th {\n",
       "        vertical-align: top;\n",
       "    }\n",
       "\n",
       "    .dataframe thead th {\n",
       "        text-align: right;\n",
       "    }\n",
       "</style>\n",
       "<table border=\"1\" class=\"dataframe\">\n",
       "  <thead>\n",
       "    <tr style=\"text-align: right;\">\n",
       "      <th></th>\n",
       "      <th>hypothesis</th>\n",
       "      <th>reach</th>\n",
       "      <th>impact</th>\n",
       "      <th>confidence</th>\n",
       "      <th>efforts</th>\n",
       "      <th>ICE</th>\n",
       "      <th>RICE</th>\n",
       "    </tr>\n",
       "  </thead>\n",
       "  <tbody>\n",
       "    <tr>\n",
       "      <th>7</th>\n",
       "      <td>Добавить форму подписки на все основные страницы, чтобы собрать базу клиентов для email-рассылок</td>\n",
       "      <td>10</td>\n",
       "      <td>7</td>\n",
       "      <td>8</td>\n",
       "      <td>5</td>\n",
       "      <td>11.200000</td>\n",
       "      <td>112.0</td>\n",
       "    </tr>\n",
       "    <tr>\n",
       "      <th>2</th>\n",
       "      <td>Добавить блоки рекомендаций товаров на сайт интернет магазина, чтобы повысить конверсию и средний чек заказа</td>\n",
       "      <td>8</td>\n",
       "      <td>3</td>\n",
       "      <td>7</td>\n",
       "      <td>3</td>\n",
       "      <td>7.000000</td>\n",
       "      <td>56.0</td>\n",
       "    </tr>\n",
       "    <tr>\n",
       "      <th>0</th>\n",
       "      <td>Добавить два новых канала привлечения трафика, что позволит привлекать на 30% больше пользователей</td>\n",
       "      <td>3</td>\n",
       "      <td>10</td>\n",
       "      <td>8</td>\n",
       "      <td>6</td>\n",
       "      <td>13.333333</td>\n",
       "      <td>40.0</td>\n",
       "    </tr>\n",
       "    <tr>\n",
       "      <th>6</th>\n",
       "      <td>Показать на главной странице баннеры с актуальными акциями и распродажами, чтобы увеличить конверсию</td>\n",
       "      <td>5</td>\n",
       "      <td>3</td>\n",
       "      <td>8</td>\n",
       "      <td>3</td>\n",
       "      <td>8.000000</td>\n",
       "      <td>40.0</td>\n",
       "    </tr>\n",
       "    <tr>\n",
       "      <th>8</th>\n",
       "      <td>Запустить акцию, дающую скидку на товар в день рождения</td>\n",
       "      <td>1</td>\n",
       "      <td>9</td>\n",
       "      <td>9</td>\n",
       "      <td>5</td>\n",
       "      <td>16.200000</td>\n",
       "      <td>16.2</td>\n",
       "    </tr>\n",
       "    <tr>\n",
       "      <th>3</th>\n",
       "      <td>Изменить структура категорий, что увеличит конверсию, т.к. пользователи быстрее найдут нужный товар</td>\n",
       "      <td>8</td>\n",
       "      <td>3</td>\n",
       "      <td>3</td>\n",
       "      <td>8</td>\n",
       "      <td>1.125000</td>\n",
       "      <td>9.0</td>\n",
       "    </tr>\n",
       "    <tr>\n",
       "      <th>1</th>\n",
       "      <td>Запустить собственную службу доставки, что сократит срок доставки заказов</td>\n",
       "      <td>2</td>\n",
       "      <td>5</td>\n",
       "      <td>4</td>\n",
       "      <td>10</td>\n",
       "      <td>2.000000</td>\n",
       "      <td>4.0</td>\n",
       "    </tr>\n",
       "    <tr>\n",
       "      <th>5</th>\n",
       "      <td>Добавить страницу отзывов клиентов о магазине, что позволит увеличить количество заказов</td>\n",
       "      <td>3</td>\n",
       "      <td>2</td>\n",
       "      <td>2</td>\n",
       "      <td>3</td>\n",
       "      <td>1.333333</td>\n",
       "      <td>4.0</td>\n",
       "    </tr>\n",
       "    <tr>\n",
       "      <th>4</th>\n",
       "      <td>Изменить цвет фона главной страницы, чтобы увеличить вовлеченность пользователей</td>\n",
       "      <td>3</td>\n",
       "      <td>1</td>\n",
       "      <td>1</td>\n",
       "      <td>1</td>\n",
       "      <td>1.000000</td>\n",
       "      <td>3.0</td>\n",
       "    </tr>\n",
       "  </tbody>\n",
       "</table>\n",
       "</div>"
      ],
      "text/plain": [
       "                                                                                                     hypothesis  \\\n",
       "7              Добавить форму подписки на все основные страницы, чтобы собрать базу клиентов для email-рассылок   \n",
       "2  Добавить блоки рекомендаций товаров на сайт интернет магазина, чтобы повысить конверсию и средний чек заказа   \n",
       "0            Добавить два новых канала привлечения трафика, что позволит привлекать на 30% больше пользователей   \n",
       "6          Показать на главной странице баннеры с актуальными акциями и распродажами, чтобы увеличить конверсию   \n",
       "8                                                       Запустить акцию, дающую скидку на товар в день рождения   \n",
       "3           Изменить структура категорий, что увеличит конверсию, т.к. пользователи быстрее найдут нужный товар   \n",
       "1                                     Запустить собственную службу доставки, что сократит срок доставки заказов   \n",
       "5                      Добавить страницу отзывов клиентов о магазине, что позволит увеличить количество заказов   \n",
       "4                              Изменить цвет фона главной страницы, чтобы увеличить вовлеченность пользователей   \n",
       "\n",
       "   reach  impact  confidence  efforts        ICE   RICE  \n",
       "7     10       7           8        5  11.200000  112.0  \n",
       "2      8       3           7        3   7.000000   56.0  \n",
       "0      3      10           8        6  13.333333   40.0  \n",
       "6      5       3           8        3   8.000000   40.0  \n",
       "8      1       9           9        5  16.200000   16.2  \n",
       "3      8       3           3        8   1.125000    9.0  \n",
       "1      2       5           4       10   2.000000    4.0  \n",
       "5      3       2           2        3   1.333333    4.0  \n",
       "4      3       1           1        1   1.000000    3.0  "
      ]
     },
     "execution_count": 28,
     "metadata": {},
     "output_type": "execute_result"
    }
   ],
   "source": [
    "hypot['RICE'] = (hypot['confidence']*hypot['impact']*hypot['reach']/hypot['efforts'])\n",
    "hypot.sort_values('RICE', ascending=False)"
   ]
  },
  {
   "cell_type": "code",
   "execution_count": 29,
   "metadata": {},
   "outputs": [
    {
     "data": {
      "text/plain": [
       "array(['Добавить два новых канала привлечения трафика, что позволит привлекать на 30% больше пользователей',\n",
       "       'Запустить собственную службу доставки, что сократит срок доставки заказов',\n",
       "       'Добавить блоки рекомендаций товаров на сайт интернет магазина, чтобы повысить конверсию и средний чек заказа',\n",
       "       'Изменить структура категорий, что увеличит конверсию, т.к. пользователи быстрее найдут нужный товар',\n",
       "       'Изменить цвет фона главной страницы, чтобы увеличить вовлеченность пользователей',\n",
       "       'Добавить страницу отзывов клиентов о магазине, что позволит увеличить количество заказов',\n",
       "       'Показать на главной странице баннеры с актуальными акциями и распродажами, чтобы увеличить конверсию',\n",
       "       'Добавить форму подписки на все основные страницы, чтобы собрать базу клиентов для email-рассылок',\n",
       "       'Запустить акцию, дающую скидку на товар в день рождения'],\n",
       "      dtype=object)"
      ]
     },
     "execution_count": 29,
     "metadata": {},
     "output_type": "execute_result"
    }
   ],
   "source": [
    "hypot['hypothesis'].unique()"
   ]
  },
  {
   "cell_type": "markdown",
   "metadata": {},
   "source": [
    "При расчете приоретизации методом RICE 7 гипотеза является первостепенной."
   ]
  },
  {
   "cell_type": "markdown",
   "metadata": {},
   "source": [
    "**Вывод:**\n",
    "\n",
    "Приоретезация гиротиз при методах ICE и RICE разная. При использовании метода ICE первая гипотеза 8, А при методе RICE - гипотеза 7. Это связано с тем, что параметр Reach (охват пользовтелей) у гипотезы 8 равен 1. Из этого следует, что пользоветель сможет совершить такую покупку раз в год, а не постоянно возврашаться за новыми покупками. Гипотеза 7 имеет больший параметр охвата. При введении подписки на основные страницы можно чаще оповещать пользователей об акциях в магазине, они чаще будут переходить на страницу с товаром."
   ]
  },
  {
   "cell_type": "markdown",
   "metadata": {},
   "source": [
    "### Анализ A/B-теста"
   ]
  },
  {
   "cell_type": "code",
   "execution_count": 35,
   "metadata": {},
   "outputs": [
    {
     "name": "stdout",
     "output_type": "stream",
     "text": [
      "Число повторяющизся пользователей: 58\n",
      "Доля повторяющизся пользователей: 4.845446950710109\n"
     ]
    }
   ],
   "source": [
    "orders_group_a = pd.Series(orders[orders['group']=='A']['visitor_id'].unique())\n",
    "orders_group_b = pd.Series(orders[orders['group']=='B']['visitor_id'].unique())\n",
    "an_users = pd.Series(orders_group_a.isin(orders_group_b))\n",
    "print(f'Число повторяющизся пользователей: {an_users.sum()}')\n",
    "print(f'Доля повторяющизся пользователей: {an_users.sum()/orders[\"visitor_id\"].count()*100}')"
   ]
  },
  {
   "cell_type": "markdown",
   "metadata": {},
   "source": [
    "Удалим пользователей, которые встречаются в обеих группах."
   ]
  },
  {
   "cell_type": "code",
   "execution_count": 37,
   "metadata": {},
   "outputs": [],
   "source": [
    "user_groups_count = orders.groupby('visitor_id')['group'].nunique()\n",
    "orders = orders[orders['visitor_id'].isin(user_groups_count[user_groups_count == 1].index)]"
   ]
  },
  {
   "cell_type": "code",
   "execution_count": 38,
   "metadata": {},
   "outputs": [
    {
     "data": {
      "text/plain": [
       "58"
      ]
     },
     "execution_count": 38,
     "metadata": {},
     "output_type": "execute_result"
    }
   ],
   "source": [
    "user_groups_count[user_groups_count > 1].count()"
   ]
  },
  {
   "cell_type": "markdown",
   "metadata": {},
   "source": [
    "#### Построим график кумулятивной выручки по группам. "
   ]
  },
  {
   "cell_type": "code",
   "execution_count": 41,
   "metadata": {},
   "outputs": [
    {
     "data": {
      "text/html": [
       "<div>\n",
       "<style scoped>\n",
       "    .dataframe tbody tr th:only-of-type {\n",
       "        vertical-align: middle;\n",
       "    }\n",
       "\n",
       "    .dataframe tbody tr th {\n",
       "        vertical-align: top;\n",
       "    }\n",
       "\n",
       "    .dataframe thead th {\n",
       "        text-align: right;\n",
       "    }\n",
       "</style>\n",
       "<table border=\"1\" class=\"dataframe\">\n",
       "  <thead>\n",
       "    <tr style=\"text-align: right;\">\n",
       "      <th></th>\n",
       "      <th>transaction_id</th>\n",
       "      <th>visitor_id</th>\n",
       "      <th>date</th>\n",
       "      <th>revenue</th>\n",
       "      <th>group</th>\n",
       "    </tr>\n",
       "  </thead>\n",
       "  <tbody>\n",
       "    <tr>\n",
       "      <th>0</th>\n",
       "      <td>3667963787</td>\n",
       "      <td>3312258926</td>\n",
       "      <td>2019-08-15</td>\n",
       "      <td>1650</td>\n",
       "      <td>B</td>\n",
       "    </tr>\n",
       "    <tr>\n",
       "      <th>1</th>\n",
       "      <td>2804400009</td>\n",
       "      <td>3642806036</td>\n",
       "      <td>2019-08-15</td>\n",
       "      <td>730</td>\n",
       "      <td>B</td>\n",
       "    </tr>\n",
       "    <tr>\n",
       "      <th>3</th>\n",
       "      <td>3797467345</td>\n",
       "      <td>1196621759</td>\n",
       "      <td>2019-08-15</td>\n",
       "      <td>9759</td>\n",
       "      <td>B</td>\n",
       "    </tr>\n",
       "    <tr>\n",
       "      <th>4</th>\n",
       "      <td>2282983706</td>\n",
       "      <td>2322279887</td>\n",
       "      <td>2019-08-15</td>\n",
       "      <td>2308</td>\n",
       "      <td>B</td>\n",
       "    </tr>\n",
       "    <tr>\n",
       "      <th>5</th>\n",
       "      <td>182168103</td>\n",
       "      <td>935554773</td>\n",
       "      <td>2019-08-15</td>\n",
       "      <td>2210</td>\n",
       "      <td>B</td>\n",
       "    </tr>\n",
       "    <tr>\n",
       "      <th>6</th>\n",
       "      <td>398296753</td>\n",
       "      <td>2900797465</td>\n",
       "      <td>2019-08-15</td>\n",
       "      <td>1860</td>\n",
       "      <td>B</td>\n",
       "    </tr>\n",
       "    <tr>\n",
       "      <th>7</th>\n",
       "      <td>2626614568</td>\n",
       "      <td>78758296</td>\n",
       "      <td>2019-08-15</td>\n",
       "      <td>1044</td>\n",
       "      <td>A</td>\n",
       "    </tr>\n",
       "    <tr>\n",
       "      <th>8</th>\n",
       "      <td>1576988021</td>\n",
       "      <td>295230930</td>\n",
       "      <td>2019-08-15</td>\n",
       "      <td>13710</td>\n",
       "      <td>A</td>\n",
       "    </tr>\n",
       "    <tr>\n",
       "      <th>9</th>\n",
       "      <td>1506739906</td>\n",
       "      <td>1882260405</td>\n",
       "      <td>2019-08-15</td>\n",
       "      <td>1855</td>\n",
       "      <td>B</td>\n",
       "    </tr>\n",
       "    <tr>\n",
       "      <th>10</th>\n",
       "      <td>3649131742</td>\n",
       "      <td>879864040</td>\n",
       "      <td>2019-08-15</td>\n",
       "      <td>4008</td>\n",
       "      <td>A</td>\n",
       "    </tr>\n",
       "  </tbody>\n",
       "</table>\n",
       "</div>"
      ],
      "text/plain": [
       "    transaction_id  visitor_id       date  revenue group\n",
       "0       3667963787  3312258926 2019-08-15     1650     B\n",
       "1       2804400009  3642806036 2019-08-15      730     B\n",
       "3       3797467345  1196621759 2019-08-15     9759     B\n",
       "4       2282983706  2322279887 2019-08-15     2308     B\n",
       "5        182168103   935554773 2019-08-15     2210     B\n",
       "6        398296753  2900797465 2019-08-15     1860     B\n",
       "7       2626614568    78758296 2019-08-15     1044     A\n",
       "8       1576988021   295230930 2019-08-15    13710     A\n",
       "9       1506739906  1882260405 2019-08-15     1855     B\n",
       "10      3649131742   879864040 2019-08-15     4008     A"
      ]
     },
     "execution_count": 41,
     "metadata": {},
     "output_type": "execute_result"
    }
   ],
   "source": [
    "orders.head(10)"
   ]
  },
  {
   "cell_type": "code",
   "execution_count": 43,
   "metadata": {},
   "outputs": [],
   "source": [
    "date_groups = orders[['date', 'group']].drop_duplicates()"
   ]
  },
  {
   "cell_type": "code",
   "execution_count": 44,
   "metadata": {},
   "outputs": [
    {
     "data": {
      "text/html": [
       "<div>\n",
       "<style scoped>\n",
       "    .dataframe tbody tr th:only-of-type {\n",
       "        vertical-align: middle;\n",
       "    }\n",
       "\n",
       "    .dataframe tbody tr th {\n",
       "        vertical-align: top;\n",
       "    }\n",
       "\n",
       "    .dataframe thead th {\n",
       "        text-align: right;\n",
       "    }\n",
       "</style>\n",
       "<table border=\"1\" class=\"dataframe\">\n",
       "  <thead>\n",
       "    <tr style=\"text-align: right;\">\n",
       "      <th></th>\n",
       "      <th>date</th>\n",
       "      <th>group</th>\n",
       "      <th>orders</th>\n",
       "      <th>buyers</th>\n",
       "      <th>revenue</th>\n",
       "      <th>visitors</th>\n",
       "    </tr>\n",
       "  </thead>\n",
       "  <tbody>\n",
       "    <tr>\n",
       "      <th>0</th>\n",
       "      <td>2019-08-01</td>\n",
       "      <td>A</td>\n",
       "      <td>23</td>\n",
       "      <td>19</td>\n",
       "      <td>142779</td>\n",
       "      <td>719</td>\n",
       "    </tr>\n",
       "    <tr>\n",
       "      <th>1</th>\n",
       "      <td>2019-08-01</td>\n",
       "      <td>B</td>\n",
       "      <td>17</td>\n",
       "      <td>17</td>\n",
       "      <td>59758</td>\n",
       "      <td>713</td>\n",
       "    </tr>\n",
       "    <tr>\n",
       "      <th>2</th>\n",
       "      <td>2019-08-02</td>\n",
       "      <td>A</td>\n",
       "      <td>42</td>\n",
       "      <td>36</td>\n",
       "      <td>234381</td>\n",
       "      <td>1338</td>\n",
       "    </tr>\n",
       "    <tr>\n",
       "      <th>3</th>\n",
       "      <td>2019-08-02</td>\n",
       "      <td>B</td>\n",
       "      <td>40</td>\n",
       "      <td>39</td>\n",
       "      <td>221801</td>\n",
       "      <td>1294</td>\n",
       "    </tr>\n",
       "    <tr>\n",
       "      <th>4</th>\n",
       "      <td>2019-08-03</td>\n",
       "      <td>A</td>\n",
       "      <td>66</td>\n",
       "      <td>60</td>\n",
       "      <td>346854</td>\n",
       "      <td>1845</td>\n",
       "    </tr>\n",
       "    <tr>\n",
       "      <th>5</th>\n",
       "      <td>2019-08-03</td>\n",
       "      <td>B</td>\n",
       "      <td>54</td>\n",
       "      <td>53</td>\n",
       "      <td>288850</td>\n",
       "      <td>1803</td>\n",
       "    </tr>\n",
       "    <tr>\n",
       "      <th>6</th>\n",
       "      <td>2019-08-04</td>\n",
       "      <td>A</td>\n",
       "      <td>77</td>\n",
       "      <td>71</td>\n",
       "      <td>388030</td>\n",
       "      <td>2562</td>\n",
       "    </tr>\n",
       "    <tr>\n",
       "      <th>7</th>\n",
       "      <td>2019-08-04</td>\n",
       "      <td>B</td>\n",
       "      <td>68</td>\n",
       "      <td>66</td>\n",
       "      <td>385740</td>\n",
       "      <td>2573</td>\n",
       "    </tr>\n",
       "    <tr>\n",
       "      <th>8</th>\n",
       "      <td>2019-08-05</td>\n",
       "      <td>A</td>\n",
       "      <td>99</td>\n",
       "      <td>92</td>\n",
       "      <td>474413</td>\n",
       "      <td>3318</td>\n",
       "    </tr>\n",
       "    <tr>\n",
       "      <th>9</th>\n",
       "      <td>2019-08-05</td>\n",
       "      <td>B</td>\n",
       "      <td>89</td>\n",
       "      <td>87</td>\n",
       "      <td>475648</td>\n",
       "      <td>3280</td>\n",
       "    </tr>\n",
       "  </tbody>\n",
       "</table>\n",
       "</div>"
      ],
      "text/plain": [
       "        date group  orders  buyers  revenue  visitors\n",
       "0 2019-08-01     A      23      19   142779       719\n",
       "1 2019-08-01     B      17      17    59758       713\n",
       "2 2019-08-02     A      42      36   234381      1338\n",
       "3 2019-08-02     B      40      39   221801      1294\n",
       "4 2019-08-03     A      66      60   346854      1845\n",
       "5 2019-08-03     B      54      53   288850      1803\n",
       "6 2019-08-04     A      77      71   388030      2562\n",
       "7 2019-08-04     B      68      66   385740      2573\n",
       "8 2019-08-05     A      99      92   474413      3318\n",
       "9 2019-08-05     B      89      87   475648      3280"
      ]
     },
     "execution_count": 44,
     "metadata": {},
     "output_type": "execute_result"
    }
   ],
   "source": [
    "orders_aggregated = date_groups.apply(lambda x: orders[np.logical_and(\n",
    "            orders['date'] <= x['date'], orders['group'] == x['group']\n",
    "        )\n",
    "    ].agg(\n",
    "        {\n",
    "            'date': 'max',\n",
    "            'group': 'max',\n",
    "            'transaction_id': 'nunique',\n",
    "            'visitor_id': 'nunique',\n",
    "            'revenue': 'sum',\n",
    "        }\n",
    "    ),\n",
    "    axis=1,).sort_values(by=['date', 'group'])\n",
    "\n",
    "visitors_aggregated = date_groups.apply(\n",
    "    lambda x: visitors[np.logical_and(visitors['date'] <= x['date'], visitors['group'] == x['group']\n",
    "        )\n",
    "    ].agg({'date': 'max', 'group': 'max', 'visitors': 'sum'}),\n",
    "    axis=1,).sort_values(by=['date', 'group'])\n",
    "\n",
    "cumulative_data = orders_aggregated.merge(\n",
    "    visitors_aggregated,on=['date', 'group']\n",
    ")\n",
    "cumulative_data .columns = [\n",
    "    'date',\n",
    "    'group',\n",
    "    'orders',\n",
    "    'buyers',\n",
    "    'revenue',\n",
    "    'visitors',\n",
    "]\n",
    "cumulative_data.head(10)"
   ]
  },
  {
   "cell_type": "code",
   "execution_count": 45,
   "metadata": {},
   "outputs": [
    {
     "data": {
      "image/png": "[encoded data removed]",
      "text/plain": [
       "<Figure size 1500x700 with 1 Axes>"
      ]
     },
     "metadata": {},
     "output_type": "display_data"
    }
   ],
   "source": [
    "plt.figure(figsize=(15, 7))\n",
    "\n",
    "cumulative_revenue_a = cumulative_data[cumulative_data['group']=='A'][['date','revenue', 'orders']]\n",
    "\n",
    "cumulative_revenue_b = cumulative_data[cumulative_data['group']=='B'][['date','revenue', 'orders']]\n",
    "\n",
    "plt.plot(cumulative_revenue_a['date'], cumulative_revenue_a['revenue'], label='A')\n",
    "\n",
    "plt.plot(cumulative_revenue_b['date'], cumulative_revenue_b['revenue'], label='B')\n",
    "\n",
    "plt.title('График кумулятивной выручки по группам')\n",
    "\n",
    "plt.xlabel('Дата')\n",
    "\n",
    "plt.ylabel('Кумулята выручки')\n",
    "\n",
    "plt.legend()\n",
    "plt.show()"
   ]
  },
  {
   "cell_type": "markdown",
   "metadata": {},
   "source": [
    "**Вывод:**\n",
    "- выручка группы B больше на рассматриваемом периоде. Только в начеле она была примерно равной;\n",
    "- произошел резкий скачек выручкуи у группы B 2019-08-19. Это, скорее всего, связано с попаданием аномально большого заказа в выборку. "
   ]
  },
  {
   "cell_type": "markdown",
   "metadata": {},
   "source": [
    "#### Построим график кумулятивного среднего чека по группам. "
   ]
  },
  {
   "cell_type": "code",
   "execution_count": 49,
   "metadata": {},
   "outputs": [
    {
     "data": {
      "image/png": "[encoded data removed]",
      "text/plain": [
       "<Figure size 1500x700 with 1 Axes>"
      ]
     },
     "metadata": {},
     "output_type": "display_data"
    }
   ],
   "source": [
    "plt.figure(figsize=(15, 7))\n",
    "\n",
    "plt.plot(cumulative_revenue_a['date'], cumulative_revenue_a['revenue']/cumulative_revenue_a['orders'], label='A')\n",
    "\n",
    "plt.plot(cumulative_revenue_b['date'], cumulative_revenue_b['revenue']/cumulative_revenue_b['orders'], label='B')\n",
    "\n",
    "plt.title('График кумулятивного среднего чека по группам')\n",
    "\n",
    "plt.xlabel('Дата')\n",
    "\n",
    "plt.ylabel('Кумулята среднего чека')\n",
    "\n",
    "plt.legend()\n",
    "plt.show()"
   ]
  },
  {
   "cell_type": "markdown",
   "metadata": {},
   "source": [
    "**Вывод:**\n",
    "- средний чек группы B выше практически на всем рассматриваемом периоде. Заметен тот же скачек, что и на предыдущем графике. Также появился резкий рост группы B в 2019-08-17."
   ]
  },
  {
   "cell_type": "markdown",
   "metadata": {},
   "source": [
    "#### Построим график относительного изменения кумулятивного среднего чека группы B к группе A."
   ]
  },
  {
   "cell_type": "code",
   "execution_count": 53,
   "metadata": {},
   "outputs": [
    {
     "data": {
      "image/png": "[encoded data removed]",
      "text/plain": [
       "<Figure size 1500x700 with 1 Axes>"
      ]
     },
     "metadata": {},
     "output_type": "display_data"
    }
   ],
   "source": [
    "merged_cumulative_revenue = cumulative_revenue_a.merge(cumulative_revenue_b, left_on='date', right_on='date', how='left', \n",
    "                                                     suffixes=['_a', '_b'])\n",
    "\n",
    "plt.figure(figsize=(15,7))\n",
    "plt.plot(\n",
    "    merged_cumulative_revenue['date'],\n",
    "    (merged_cumulative_revenue['revenue_b']/\n",
    "     merged_cumulative_revenue['orders_b'])/\n",
    "    (merged_cumulative_revenue['revenue_a']/\n",
    "    merged_cumulative_revenue['orders_a'])\n",
    "    -1\n",
    ")\n",
    "\n",
    "plt.title('График относительного изменения кумулятивного среднего чека группы B к группе A')\n",
    "\n",
    "plt.xlabel('Дата')\n",
    "\n",
    "plt.ylabel('Отношение')\n",
    "\n",
    "plt.axhline(y=0, color='black', linestyle='--')\n",
    "plt.show()"
   ]
  },
  {
   "cell_type": "markdown",
   "metadata": {},
   "source": [
    "**Вывод:**\n",
    "Данный график повторяет тенденции предыдущих графиков. Средний чек группы B практически всегда выше, но наблиюдаются скачки графика. Происходит влияния аномальных занчений."
   ]
  },
  {
   "cell_type": "markdown",
   "metadata": {},
   "source": [
    "#### Построим график кумулятивного среднего количества заказов на посетителя по группам"
   ]
  },
  {
   "cell_type": "code",
   "execution_count": 57,
   "metadata": {},
   "outputs": [
    {
     "data": {
      "image/png": "[encoded data removed]",
      "text/plain": [
       "<Figure size 1500x700 with 1 Axes>"
      ]
     },
     "metadata": {},
     "output_type": "display_data"
    }
   ],
   "source": [
    "cumulative_data['conversion'] = cumulative_data['orders']/cumulative_data['visitors']\n",
    "\n",
    "cumulative_data_a = cumulative_data[cumulative_data['group']=='A']\n",
    "\n",
    "\n",
    "cumulative_data_b = cumulative_data[cumulative_data['group']=='B']\n",
    "\n",
    "plt.figure(figsize=(15,7))\n",
    "\n",
    "plt.plot(cumulative_data_a['date'], cumulative_data_a['conversion'], label='A')\n",
    "plt.plot(cumulative_data_b['date'], cumulative_data_b['conversion'], label='B')\n",
    "plt.legend()\n",
    "plt.title('График кумулятивного среднего количества заказов на посетителя по группам')\n",
    "\n",
    "plt.xlabel('Дата')\n",
    "\n",
    "plt.ylabel('Конверсия')\n",
    "plt.show()"
   ]
  },
  {
   "cell_type": "markdown",
   "metadata": {},
   "source": [
    "**Вывод:**\n",
    "Количество заказов группы A с начала была больше группы B, но спустя небольшой промежуток времени упала с 0.37 до 0.3. У группы B наоборот наблюдается рост количства заказов."
   ]
  },
  {
   "cell_type": "markdown",
   "metadata": {},
   "source": [
    "#### Построим график относительного изменения кумулятивного среднего количества заказов на посетителя группы B к группе A"
   ]
  },
  {
   "cell_type": "code",
   "execution_count": 61,
   "metadata": {},
   "outputs": [
    {
     "data": {
      "image/png": "[encoded data removed]",
      "text/plain": [
       "<Figure size 1500x700 with 1 Axes>"
      ]
     },
     "metadata": {},
     "output_type": "display_data"
    }
   ],
   "source": [
    "merge_cumulative_conversion = cumulative_data_a[['date', 'conversion']].merge(cumulative_data_b[['date', 'conversion']], \n",
    "                                                                             left_on='date', right_on='date', how='left', \n",
    "                                                                              suffixes=['_a', '_b'])\n",
    "\n",
    "plt.figure(figsize=(15, 7))\n",
    "\n",
    "plt.plot(merge_cumulative_conversion['date'], \n",
    "         (merge_cumulative_conversion['conversion_b']/merge_cumulative_conversion['conversion_a'])-1)\n",
    "\n",
    "plt.title('График относительного изменения кумулятивного среднего количества заказов на посетителя группы B к группе A')\n",
    "\n",
    "plt.ylabel('Отношение')\n",
    "\n",
    "plt.xlabel('Дата')\n",
    "\n",
    "\n",
    "plt.axhline(y=0, color='red', linestyle='--')\n",
    "plt.axhline(y=0.2, color='grey', linestyle='--')\n",
    "\n",
    "plt.show()"
   ]
  },
  {
   "cell_type": "markdown",
   "metadata": {},
   "source": [
    "**Вывод:**\n",
    "Первые дни теста конверсия была не стабильна. Примерно с середины показатель начал нормализовываться и находится в промежутке от 0.1 до 0.18. Группа B выглядит лучше."
   ]
  },
  {
   "cell_type": "markdown",
   "metadata": {},
   "source": [
    "#### Построим точечный график количества заказов по пользователям"
   ]
  },
  {
   "cell_type": "code",
   "execution_count": 65,
   "metadata": {},
   "outputs": [],
   "source": [
    "orders_count = (\n",
    "    orders.groupby('visitor_id', as_index=False)\n",
    "    .agg({'transaction_id': 'nunique'})\n",
    ")\n",
    "\n",
    "orders_count.columns = ['user_id', 'orders']"
   ]
  },
  {
   "cell_type": "code",
   "execution_count": 66,
   "metadata": {},
   "outputs": [
    {
     "data": {
      "image/png": "[encoded data removed]",
      "text/plain": [
       "<Figure size 1200x800 with 1 Axes>"
      ]
     },
     "metadata": {},
     "output_type": "display_data"
    }
   ],
   "source": [
    "x_values = pd.Series(range(0, len(orders_count)))\n",
    " \n",
    "plt.figure(figsize=(12,8)) \n",
    "\n",
    "plt.scatter(x_values, orders_count['orders'])  \n",
    "\n",
    "plt.ylabel('Количество заказов') \n",
    "plt.xlabel('Количество пользователей') \n",
    "plt.title('Распределение по количеству сделанных заказов') \n",
    "plt.show() "
   ]
  },
  {
   "cell_type": "markdown",
   "metadata": {},
   "source": [
    "**Вывод:**\n",
    "больше всего пользователей, которые сделали 1 заказ, реже те, кто сделал 2. Клиенты, которые сделали заказ больше 2-х раз встречаются редко. "
   ]
  },
  {
   "cell_type": "markdown",
   "metadata": {},
   "source": [
    "#### Посчитаем 95-й и 99-й перцентили количества заказов на пользователя"
   ]
  },
  {
   "cell_type": "code",
   "execution_count": 69,
   "metadata": {},
   "outputs": [
    {
     "name": "stdout",
     "output_type": "stream",
     "text": [
      "[1. 2.]\n"
     ]
    }
   ],
   "source": [
    "print(np.percentile(orders_count['orders'], [95, 99])) "
   ]
  },
  {
   "cell_type": "markdown",
   "metadata": {},
   "source": [
    "**Вывод:**\n",
    "- Не более 5% пользователей совершили больше 1 заказов;\n",
    "- не более 1% пользователей совершили больше 2 заказов.\n",
    "Устанавливаем границу по колличеству заказов на пользователя в 2 шт. "
   ]
  },
  {
   "cell_type": "markdown",
   "metadata": {},
   "source": [
    "#### Построим точечный график стоимостей заказов"
   ]
  },
  {
   "cell_type": "code",
   "execution_count": 73,
   "metadata": {},
   "outputs": [
    {
     "data": {
      "image/png": "[encoded data removed]",
      "text/plain": [
       "<Figure size 1500x700 with 1 Axes>"
      ]
     },
     "metadata": {},
     "output_type": "display_data"
    }
   ],
   "source": [
    "x_values = pd.Series(range(0, len(orders['revenue'])))\n",
    "\n",
    "plt.figure(figsize=(15, 7))\n",
    "plt.scatter(x_values, orders['revenue'])\n",
    "                     \n",
    "plt.title('Точечный график стоимостей заказов')\n",
    "plt.xlabel('Количетсво пользователей')\n",
    "plt.ylabel('Стоимость заказов')\n",
    "plt.show()"
   ]
  },
  {
   "cell_type": "markdown",
   "metadata": {},
   "source": [
    "На графике заметно, что присутствуют заказы стоимостью 1.2 млн и 200000. Данные заказы сильно отличаются по стоимости от других и влияют на результат. Можно ограничить в размерах график и посмотреть на распределение подробнее."
   ]
  },
  {
   "cell_type": "code",
   "execution_count": 75,
   "metadata": {},
   "outputs": [
    {
     "data": {
      "image/png": "[encoded data removed]",
      "text/plain": [
       "<Figure size 1200x800 with 1 Axes>"
      ]
     },
     "metadata": {},
     "output_type": "display_data"
    }
   ],
   "source": [
    "x_values = pd.Series(range(0, len(orders['revenue'])))\n",
    " \n",
    "plt.figure(figsize=(12,8))\n",
    "\n",
    "plt.scatter(x_values, orders['revenue'])\n",
    "\n",
    "plt.ylim(0, 100000) \n",
    "\n",
    "plt.ylabel('Стоимость заказов') \n",
    "plt.xlabel('Кол-во пользователей') \n",
    "plt.title('Распределение по сумме сделанных заказов') \n",
    "plt.show()  "
   ]
  },
  {
   "cell_type": "markdown",
   "metadata": {},
   "source": [
    "На данном графике видно, что большая часть стоимости заказов менее 20000. Заказы большей стоимостью встречаются реже."
   ]
  },
  {
   "cell_type": "markdown",
   "metadata": {},
   "source": [
    "#### Посчитаем 95-й и 99-й перцентили стоимости заказов. "
   ]
  },
  {
   "cell_type": "code",
   "execution_count": 78,
   "metadata": {},
   "outputs": [
    {
     "name": "stdout",
     "output_type": "stream",
     "text": [
      "[26785. 53904.]\n"
     ]
    }
   ],
   "source": [
    "print(np.percentile(orders['revenue'], [95, 99]))"
   ]
  },
  {
   "cell_type": "markdown",
   "metadata": {},
   "source": [
    "**Вывод:**\n",
    "- 95% заказов имеют стоимость не более 26785;\n",
    "- 99 % заказов имеют стоимость не более 53904\n",
    "\n",
    "Установим границу по сумме заказа в 26785 "
   ]
  },
  {
   "cell_type": "markdown",
   "metadata": {},
   "source": [
    "#### Посчитаем статистическую значимость различий в среднем количестве заказов на посетителя между группами по «сырым» данным. "
   ]
  },
  {
   "cell_type": "code",
   "execution_count": 82,
   "metadata": {},
   "outputs": [],
   "source": [
    "orders_by_users_a = orders[orders['group']=='A'].groupby('visitor_id', as_index=False).agg({'transaction_id': pd.Series.nunique})\n",
    "orders_by_users_a.columns=['user_id','orders']\n",
    "\n",
    "orders_by_users_b = orders[orders['group']=='B'].groupby('visitor_id', as_index=False).agg({'transaction_id': pd.Series.nunique})\n",
    "orders_by_users_b.columns=['user_id','orders'] "
   ]
  },
  {
   "cell_type": "code",
   "execution_count": 83,
   "metadata": {},
   "outputs": [],
   "source": [
    "sample_a = pd.concat(\n",
    "    [orders_by_users_a['orders'],\n",
    "        pd.Series(0, index=np.arange\n",
    "                  (visitors[visitors['group']=='A']['visitors'].sum() - len(orders_by_users_a['orders'])),\n",
    "                  name='orders'\n",
    "                 )],axis=0)\n",
    "sample_b = pd.concat(\n",
    "    [orders_by_users_b['orders'],\n",
    "     pd.Series(0,index=np.arange(\n",
    "             visitors[visitors['group']=='B']['visitors'].sum() - len(orders_by_users_b['orders'])),\n",
    "         name='orders')],\n",
    "    axis=0)"
   ]
  },
  {
   "cell_type": "markdown",
   "metadata": {},
   "source": [
    "Сформируем нулевую и альетрнативную гипотезы:\n",
    "\n",
    "H0: Различий в количестве заказов между группами нет\n",
    "\n",
    "H1: Различия в количестве заказов между группами есть"
   ]
  },
  {
   "cell_type": "code",
   "execution_count": 86,
   "metadata": {},
   "outputs": [
    {
     "name": "stdout",
     "output_type": "stream",
     "text": [
      "Значение p-value : 0.011018084110014696\n",
      "Отвергаем нулевую гипотезу\n",
      "Отношение конверсии В к А: 0.160\n"
     ]
    }
   ],
   "source": [
    "result_1 = stats.mannwhitneyu(sample_a, sample_b)[1] \n",
    "\n",
    "alpha = 0.05\n",
    "\n",
    "print(f'Значение p-value : {result_1}')\n",
    "\n",
    "if result_1 < alpha:\n",
    "    print(\"Отвергаем нулевую гипотезу\")\n",
    "else:\n",
    "    print(\"Не получилось отвергнуть нулевую гипотезу\")   \n",
    "print('Отношение конверсии В к А: {0:.3f}'.format(sample_b.mean()/sample_a.mean()-1)) "
   ]
  },
  {
   "cell_type": "markdown",
   "metadata": {},
   "source": [
    "**Вывод:**\n",
    "P-value меньше заданного значения alpha, следовательно, отвергаем нулевую гипотезу о том, что различия в конверсиях есть. \n",
    "\n",
    "Относительный прирост конверсии группы B к конверсии группы A равен 13.8%."
   ]
  },
  {
   "cell_type": "markdown",
   "metadata": {},
   "source": [
    "#### Посчитаем статистическую значимость различий в среднем чеке заказа между группами по «сырым» данным. "
   ]
  },
  {
   "cell_type": "markdown",
   "metadata": {},
   "source": [
    "Сформулируем гипотезы:\n",
    "\n",
    "H0: Различий в средних чеках между группами нет\n",
    "\n",
    "H1: Различия в средних чеках между группами есть"
   ]
  },
  {
   "cell_type": "code",
   "execution_count": 91,
   "metadata": {},
   "outputs": [
    {
     "name": "stdout",
     "output_type": "stream",
     "text": [
      "Значение p-value : 0.8294908998149533\n",
      "Не получилось отвергнуть нулевую гипотезу\n",
      "Отношение среднего чека группы B к A: 1.29\n"
     ]
    }
   ],
   "source": [
    "result_2 = stats.mannwhitneyu(orders[orders['group']=='A']['revenue'], orders[orders['group']=='B']['revenue'])[1]  \n",
    "\n",
    "print(f'Значение p-value : {result_2}')\n",
    "\n",
    "if result_2 < alpha:\n",
    "    print(\"Отвергаем нулевую гипотезу\")\n",
    "else:\n",
    "    print(\"Не получилось отвергнуть нулевую гипотезу\")  \n",
    "\n",
    "print('Отношение среднего чека группы B к A: {:.2f}'.format(orders[orders['group']=='B']['revenue'].mean() / orders[orders['group']=='A']['revenue'].mean()))  "
   ]
  },
  {
   "cell_type": "markdown",
   "metadata": {},
   "source": [
    "**Вывод:**\n",
    "P-value больше значения alpha, сдовательно нулевую гипотезу не отвергаем.\n",
    "\n",
    "Относительное различие среднего чека между группами по «сырым» данным составляет 26%. Наблюдаемое различие в 26% не является стат. значимым т.к сказывается наличие аномально больших значений в группе B."
   ]
  },
  {
   "cell_type": "markdown",
   "metadata": {},
   "source": [
    "#### Посчитаем статистическую значимость различий в среднем количестве заказов на посетителя между группами по «очищенным» данным. "
   ]
  },
  {
   "cell_type": "markdown",
   "metadata": {},
   "source": [
    "Соберем пользователей с аномально большим числом заказов и стоимостью заказа в одну таблицу."
   ]
  },
  {
   "cell_type": "code",
   "execution_count": 96,
   "metadata": {},
   "outputs": [
    {
     "name": "stdout",
     "output_type": "stream",
     "text": [
      "568     113298937\n",
      "1099    148427295\n",
      "928     204675465\n",
      "33      249864742\n",
      "684     358944393\n",
      "dtype: int64\n",
      "Число аномальных пользователей 58\n"
     ]
    }
   ],
   "source": [
    "order_lim = 2\n",
    "revenue_lim = 26785\n",
    "users_many_orders = pd.concat(\n",
    "    [\n",
    "        orders_by_users_a[orders_by_users_a['orders'] > order_lim]['user_id'],\n",
    "        orders_by_users_b[orders_by_users_b['orders'] > order_lim]['user_id'],\n",
    "    ],\n",
    "    axis=0,\n",
    ")\n",
    "users_expensive_orders = orders[orders['revenue'] > revenue_lim]['visitor_id']\n",
    "abnormal_users = (\n",
    "    pd.concat([users_many_orders, users_expensive_orders], axis=0)\n",
    "    .drop_duplicates()\n",
    "    .sort_values()\n",
    ")\n",
    "print(abnormal_users.head(5))\n",
    "print(f'Число аномальных пользователей {abnormal_users.count()}')"
   ]
  },
  {
   "cell_type": "code",
   "execution_count": 98,
   "metadata": {},
   "outputs": [],
   "source": [
    "sample_a_filtered = pd.concat(\n",
    "    [ orders_by_users_a[np.logical_not(orders_by_users_a['user_id'].isin(abnormal_users))]['orders'],\n",
    "        pd.Series( 0,index=np.arange(\n",
    "                visitors[visitors['group']=='A']['visitors'].sum() - len(orders_by_users_a['orders'])),\n",
    "            name='orders',\n",
    "        ),\n",
    "    ],\n",
    "    axis=0,\n",
    ")\n",
    "\n",
    "sample_b_filtered = pd.concat(\n",
    "    [ orders_by_users_b[np.logical_not(orders_by_users_b['user_id'].isin(abnormal_users))]['orders'],\n",
    "        pd.Series(0,index=np.arange(visitors[visitors['group']=='B']['visitors'].sum() - len(orders_by_users_b['orders'])\n",
    "            ), name='orders',),],\n",
    "    axis=0,\n",
    ")  "
   ]
  },
  {
   "cell_type": "markdown",
   "metadata": {},
   "source": [
    "Сформируем нулевую и альетрнативную гипотезы:\n",
    "\n",
    "H0: Различий в конверсии между группами нет\n",
    "\n",
    "H1: Различия в конверсиях между группами есть"
   ]
  },
  {
   "cell_type": "code",
   "execution_count": 100,
   "metadata": {},
   "outputs": [
    {
     "name": "stdout",
     "output_type": "stream",
     "text": [
      "Значение p-value : 0.01235203801772639\n",
      "Отвергаем нулевую гипотезу\n",
      "Отношение конверсии В к А, по очищенным данным: 0.182\n"
     ]
    }
   ],
   "source": [
    "result_3 = stats.mannwhitneyu(sample_a_filtered, sample_b_filtered)[1] \n",
    "\n",
    "print(f'Значение p-value : {result_3}') \n",
    "\n",
    "if result_3 < alpha:\n",
    "    print(\"Отвергаем нулевую гипотезу\")\n",
    "else:\n",
    "    print(\"Не получилось отвергнуть нулевую гипотезу\") \n",
    "\n",
    "print('Отношение конверсии В к А, по очищенным данным: {0:.3f}'.format(sample_b_filtered.mean()/sample_a_filtered.mean()-1))  "
   ]
  },
  {
   "cell_type": "markdown",
   "metadata": {},
   "source": [
    "**Вывод:**\n",
    "после \"очистки\" данный и проведения теста результат остался прежним: отвергаем нулевую гипотезу. При этом отношение увеличилось в пользу группы B на 1%."
   ]
  },
  {
   "cell_type": "markdown",
   "metadata": {},
   "source": [
    "#### Посчитаем статистическую значимость различий в среднем чеке заказа между группами по «очищенным» данным. "
   ]
  },
  {
   "cell_type": "markdown",
   "metadata": {},
   "source": [
    "Сформулируем гипотезы:\n",
    "\n",
    "H0: Различий в средних чеках между группами нет\n",
    "\n",
    "H1: Различия в средних чеках между группами есть"
   ]
  },
  {
   "cell_type": "code",
   "execution_count": 105,
   "metadata": {},
   "outputs": [
    {
     "name": "stdout",
     "output_type": "stream",
     "text": [
      "Значение p-value : 0.6458964038091206\n",
      "Не получилось отвергнуть нулевую гипотезу\n",
      "Отношение среденго чека группы В к А: 0.95\n"
     ]
    }
   ],
   "source": [
    "result4 = stats.mannwhitneyu(\n",
    "    orders[np.logical_and(\n",
    "        orders['group']=='A',\n",
    "        np.logical_not(orders['visitor_id'].isin(abnormal_users)))]['revenue'],\n",
    "    orders[np.logical_and(\n",
    "        orders['group']=='B',\n",
    "        np.logical_not(orders['visitor_id'].isin(abnormal_users)))]['revenue'])[1] \n",
    "\n",
    "mean_revenue_b = orders[np.logical_and(orders['group']=='B',\n",
    "                                       np.logical_not(orders['visitor_id'].\n",
    "                                                      isin(abnormal_users)))]['revenue'].mean()\n",
    "mean_revenue_a = orders[np.logical_and(orders['group']=='A',\n",
    "                                       np.logical_not(orders['visitor_id'].\n",
    "                                                      isin(abnormal_users)))]['revenue'].mean() \n",
    "\n",
    "print(f'Значение p-value : {result4}')  \n",
    "\n",
    "if result4 < alpha:\n",
    "    print(\"Отвергаем нулевую гипотезу\")\n",
    "else:\n",
    "    print(\"Не получилось отвергнуть нулевую гипотезу\")  \n",
    "print('Отношение среденго чека группы В к А: {0:.2f}'.format(mean_revenue_b / mean_revenue_a)) "
   ]
  },
  {
   "cell_type": "markdown",
   "metadata": {},
   "source": [
    "**Вывод:**\n",
    "Результат теста сохранил ранее полученный результат: не отвергаем нулевую гипотезу. При этом относительный показатель снизидся с 1,26 до 0,97. Ранее наблюдаемые различия не являются стат.значимыми т.к. после удаления аномальных значений нулевая гипотеза осталась верной."
   ]
  },
  {
   "cell_type": "markdown",
   "metadata": {},
   "source": [
    "### Вывод\n",
    "\n",
    "- По сырым данным нет статистически значимого различия по среднему чеку между группами. После удаления аномалий отношение между группами сильно снизилось и приблизилась к единице.\n",
    "- По сырым и очищенным данным есть статистические различия по конверсии между группами.\n",
    "- График относительного изменения кумулятивного среднего количества заказов на посетителя группы B к группе A сообщает, что группа B лучше группы A. График зафиксировался примерно на среденем значении.\n",
    "- График различия среднего чека сильно изменяется. Сделать из этого графика определённые выводы нельзя."
   ]
  },
  {
   "cell_type": "markdown",
   "metadata": {},
   "source": [
    "Исходя из фактов выше, следует остановить тест и зафиксировать победу группы B."
   ]
  }
 ],
 "metadata": {
  "ExecuteTimeLog": [
   {
    "duration": 1337,
    "start_time": "2024-03-25T09:13:21.027Z"
   },
   {
    "duration": 228,
    "start_time": "2024-03-25T09:23:15.323Z"
   },
   {
    "duration": 5,
    "start_time": "2024-03-25T09:26:11.197Z"
   },
   {
    "duration": 113,
    "start_time": "2024-03-25T09:26:35.398Z"
   },
   {
    "duration": 4,
    "start_time": "2024-03-25T09:27:18.642Z"
   },
   {
    "duration": 24,
    "start_time": "2024-03-25T09:27:18.824Z"
   },
   {
    "duration": 4,
    "start_time": "2024-03-25T09:27:41.087Z"
   },
   {
    "duration": 16,
    "start_time": "2024-03-25T09:27:41.425Z"
   },
   {
    "duration": 4,
    "start_time": "2024-03-25T09:28:09.127Z"
   },
   {
    "duration": 21,
    "start_time": "2024-03-25T09:28:09.289Z"
   },
   {
    "duration": 11,
    "start_time": "2024-03-25T09:31:56.059Z"
   },
   {
    "duration": 3,
    "start_time": "2024-03-25T09:32:30.669Z"
   },
   {
    "duration": 8,
    "start_time": "2024-03-25T09:32:53.043Z"
   },
   {
    "duration": 4,
    "start_time": "2024-03-25T09:33:35.273Z"
   },
   {
    "duration": 18,
    "start_time": "2024-03-25T09:34:22.987Z"
   },
   {
    "duration": 9,
    "start_time": "2024-03-25T09:38:10.230Z"
   },
   {
    "duration": 76,
    "start_time": "2024-03-25T09:38:23.481Z"
   },
   {
    "duration": 4,
    "start_time": "2024-03-25T09:38:23.678Z"
   },
   {
    "duration": 17,
    "start_time": "2024-03-25T09:38:23.885Z"
   },
   {
    "duration": 5,
    "start_time": "2024-03-25T09:38:24.261Z"
   },
   {
    "duration": 24,
    "start_time": "2024-03-25T09:38:24.455Z"
   },
   {
    "duration": 18,
    "start_time": "2024-03-25T09:38:24.838Z"
   },
   {
    "duration": 10,
    "start_time": "2024-03-25T09:45:09.269Z"
   },
   {
    "duration": 11,
    "start_time": "2024-03-25T09:45:25.220Z"
   },
   {
    "duration": 11,
    "start_time": "2024-03-25T09:45:43.142Z"
   },
   {
    "duration": 12,
    "start_time": "2024-03-25T09:48:37.614Z"
   },
   {
    "duration": 12,
    "start_time": "2024-03-25T09:48:44.544Z"
   },
   {
    "duration": 2448,
    "start_time": "2024-03-25T09:51:45.535Z"
   },
   {
    "duration": 5,
    "start_time": "2024-03-25T09:52:00.379Z"
   },
   {
    "duration": 3,
    "start_time": "2024-03-25T09:52:14.937Z"
   },
   {
    "duration": 4,
    "start_time": "2024-03-25T09:52:54.015Z"
   },
   {
    "duration": 4,
    "start_time": "2024-03-25T09:52:59.312Z"
   },
   {
    "duration": 5,
    "start_time": "2024-03-25T09:53:04.888Z"
   },
   {
    "duration": 12,
    "start_time": "2024-03-25T10:32:49.286Z"
   },
   {
    "duration": 7,
    "start_time": "2024-03-25T10:35:53.120Z"
   },
   {
    "duration": 11,
    "start_time": "2024-03-25T10:36:04.681Z"
   },
   {
    "duration": 16,
    "start_time": "2024-03-25T10:36:09.437Z"
   },
   {
    "duration": 16,
    "start_time": "2024-03-25T10:41:51.659Z"
   },
   {
    "duration": 5,
    "start_time": "2024-03-25T10:41:58.013Z"
   },
   {
    "duration": 24,
    "start_time": "2024-03-25T10:41:58.317Z"
   },
   {
    "duration": 4,
    "start_time": "2024-03-25T10:44:08.167Z"
   },
   {
    "duration": 1119,
    "start_time": "2024-03-25T10:44:14.614Z"
   },
   {
    "duration": 78,
    "start_time": "2024-03-25T10:44:15.735Z"
   },
   {
    "duration": 5,
    "start_time": "2024-03-25T10:44:15.814Z"
   },
   {
    "duration": 44,
    "start_time": "2024-03-25T10:44:15.821Z"
   },
   {
    "duration": 5,
    "start_time": "2024-03-25T10:44:15.868Z"
   },
   {
    "duration": 19,
    "start_time": "2024-03-25T10:44:15.875Z"
   },
   {
    "duration": 3,
    "start_time": "2024-03-25T10:44:15.896Z"
   },
   {
    "duration": 22,
    "start_time": "2024-03-25T10:44:15.901Z"
   },
   {
    "duration": 48,
    "start_time": "2024-03-25T10:44:15.925Z"
   },
   {
    "duration": 17,
    "start_time": "2024-03-25T10:44:15.975Z"
   },
   {
    "duration": 18,
    "start_time": "2024-03-25T10:44:15.993Z"
   },
   {
    "duration": 12,
    "start_time": "2024-03-25T10:44:16.013Z"
   },
   {
    "duration": 24,
    "start_time": "2024-03-25T10:44:16.027Z"
   },
   {
    "duration": 125,
    "start_time": "2024-03-25T10:44:16.054Z"
   },
   {
    "duration": 280,
    "start_time": "2024-03-25T10:44:47.926Z"
   },
   {
    "duration": 1144,
    "start_time": "2024-03-25T10:47:04.269Z"
   },
   {
    "duration": 78,
    "start_time": "2024-03-25T10:47:05.415Z"
   },
   {
    "duration": 4,
    "start_time": "2024-03-25T10:47:05.495Z"
   },
   {
    "duration": 70,
    "start_time": "2024-03-25T10:47:05.501Z"
   },
   {
    "duration": 6,
    "start_time": "2024-03-25T10:47:05.572Z"
   },
   {
    "duration": 30,
    "start_time": "2024-03-25T10:47:05.579Z"
   },
   {
    "duration": 6,
    "start_time": "2024-03-25T10:47:05.611Z"
   },
   {
    "duration": 39,
    "start_time": "2024-03-25T10:47:05.619Z"
   },
   {
    "duration": 18,
    "start_time": "2024-03-25T10:47:05.660Z"
   },
   {
    "duration": 18,
    "start_time": "2024-03-25T10:47:05.682Z"
   },
   {
    "duration": 32,
    "start_time": "2024-03-25T10:47:05.702Z"
   },
   {
    "duration": 23,
    "start_time": "2024-03-25T10:47:05.735Z"
   },
   {
    "duration": 11,
    "start_time": "2024-03-25T10:47:05.760Z"
   },
   {
    "duration": 280,
    "start_time": "2024-03-25T10:47:05.772Z"
   },
   {
    "duration": 357,
    "start_time": "2024-03-25T10:48:23.979Z"
   },
   {
    "duration": 1145,
    "start_time": "2024-03-25T10:48:39.480Z"
   },
   {
    "duration": 78,
    "start_time": "2024-03-25T10:48:40.627Z"
   },
   {
    "duration": 5,
    "start_time": "2024-03-25T10:48:40.707Z"
   },
   {
    "duration": 35,
    "start_time": "2024-03-25T10:48:40.715Z"
   },
   {
    "duration": 5,
    "start_time": "2024-03-25T10:48:40.752Z"
   },
   {
    "duration": 34,
    "start_time": "2024-03-25T10:48:40.758Z"
   },
   {
    "duration": 3,
    "start_time": "2024-03-25T10:48:40.794Z"
   },
   {
    "duration": 29,
    "start_time": "2024-03-25T10:48:40.799Z"
   },
   {
    "duration": 19,
    "start_time": "2024-03-25T10:48:40.830Z"
   },
   {
    "duration": 22,
    "start_time": "2024-03-25T10:48:40.851Z"
   },
   {
    "duration": 10,
    "start_time": "2024-03-25T10:48:40.874Z"
   },
   {
    "duration": 14,
    "start_time": "2024-03-25T10:48:40.886Z"
   },
   {
    "duration": 9,
    "start_time": "2024-03-25T10:48:40.901Z"
   },
   {
    "duration": 431,
    "start_time": "2024-03-25T10:48:40.912Z"
   },
   {
    "duration": 291,
    "start_time": "2024-03-25T10:48:52.723Z"
   },
   {
    "duration": 262,
    "start_time": "2024-03-25T10:50:39.908Z"
   },
   {
    "duration": 227,
    "start_time": "2024-03-25T10:51:29.493Z"
   },
   {
    "duration": 11,
    "start_time": "2024-03-25T11:00:28.041Z"
   },
   {
    "duration": 213,
    "start_time": "2024-03-25T11:00:41.145Z"
   },
   {
    "duration": 275,
    "start_time": "2024-03-25T11:01:06.817Z"
   },
   {
    "duration": 1179,
    "start_time": "2024-03-25T11:37:05.060Z"
   },
   {
    "duration": 79,
    "start_time": "2024-03-25T11:37:06.241Z"
   },
   {
    "duration": 5,
    "start_time": "2024-03-25T11:37:06.322Z"
   },
   {
    "duration": 42,
    "start_time": "2024-03-25T11:37:06.328Z"
   },
   {
    "duration": 5,
    "start_time": "2024-03-25T11:37:06.372Z"
   },
   {
    "duration": 22,
    "start_time": "2024-03-25T11:37:06.379Z"
   },
   {
    "duration": 4,
    "start_time": "2024-03-25T11:37:06.403Z"
   },
   {
    "duration": 55,
    "start_time": "2024-03-25T11:37:06.408Z"
   },
   {
    "duration": 13,
    "start_time": "2024-03-25T11:37:06.465Z"
   },
   {
    "duration": 15,
    "start_time": "2024-03-25T11:37:06.480Z"
   },
   {
    "duration": 11,
    "start_time": "2024-03-25T11:37:06.496Z"
   },
   {
    "duration": 16,
    "start_time": "2024-03-25T11:37:06.509Z"
   },
   {
    "duration": 32,
    "start_time": "2024-03-25T11:37:06.527Z"
   },
   {
    "duration": 322,
    "start_time": "2024-03-25T11:37:06.561Z"
   },
   {
    "duration": 378,
    "start_time": "2024-03-25T11:37:06.885Z"
   },
   {
    "duration": 59,
    "start_time": "2024-03-25T11:37:07.265Z"
   },
   {
    "duration": 0,
    "start_time": "2024-03-25T11:37:07.326Z"
   },
   {
    "duration": 0,
    "start_time": "2024-03-25T11:37:07.327Z"
   },
   {
    "duration": 227,
    "start_time": "2024-03-25T11:37:33.189Z"
   },
   {
    "duration": 105,
    "start_time": "2024-03-25T11:37:33.772Z"
   },
   {
    "duration": 17,
    "start_time": "2024-03-25T11:38:14.758Z"
   },
   {
    "duration": 16,
    "start_time": "2024-03-25T11:43:27.521Z"
   },
   {
    "duration": 16,
    "start_time": "2024-03-25T11:44:08.785Z"
   },
   {
    "duration": 349,
    "start_time": "2024-03-25T11:44:25.736Z"
   },
   {
    "duration": 215,
    "start_time": "2024-03-25T11:51:38.007Z"
   },
   {
    "duration": 225,
    "start_time": "2024-03-25T11:53:33.292Z"
   },
   {
    "duration": 326,
    "start_time": "2024-03-25T11:53:45.789Z"
   },
   {
    "duration": 312,
    "start_time": "2024-03-25T11:54:55.496Z"
   },
   {
    "duration": 57,
    "start_time": "2024-03-25T12:03:16.575Z"
   },
   {
    "duration": 58,
    "start_time": "2024-03-25T12:03:24.252Z"
   },
   {
    "duration": 9,
    "start_time": "2024-03-25T12:03:29.818Z"
   },
   {
    "duration": 7,
    "start_time": "2024-03-25T12:03:41.923Z"
   },
   {
    "duration": 383,
    "start_time": "2024-03-25T12:08:46.686Z"
   },
   {
    "duration": 360,
    "start_time": "2024-03-25T12:08:52.745Z"
   },
   {
    "duration": 353,
    "start_time": "2024-03-25T12:09:05.617Z"
   },
   {
    "duration": 238,
    "start_time": "2024-03-25T12:09:24.578Z"
   },
   {
    "duration": 353,
    "start_time": "2024-03-25T12:09:48.651Z"
   },
   {
    "duration": 7,
    "start_time": "2024-03-25T12:15:28.037Z"
   },
   {
    "duration": 153,
    "start_time": "2024-03-25T12:16:31.270Z"
   },
   {
    "duration": 163,
    "start_time": "2024-03-25T12:17:33.795Z"
   },
   {
    "duration": 1549,
    "start_time": "2024-03-26T08:11:03.171Z"
   },
   {
    "duration": 237,
    "start_time": "2024-03-26T08:11:04.722Z"
   },
   {
    "duration": 4,
    "start_time": "2024-03-26T08:11:04.961Z"
   },
   {
    "duration": 49,
    "start_time": "2024-03-26T08:11:04.966Z"
   },
   {
    "duration": 32,
    "start_time": "2024-03-26T08:11:05.016Z"
   },
   {
    "duration": 58,
    "start_time": "2024-03-26T08:11:05.049Z"
   },
   {
    "duration": 16,
    "start_time": "2024-03-26T08:11:05.108Z"
   },
   {
    "duration": 45,
    "start_time": "2024-03-26T08:11:05.125Z"
   },
   {
    "duration": 13,
    "start_time": "2024-03-26T08:11:05.171Z"
   },
   {
    "duration": 42,
    "start_time": "2024-03-26T08:11:05.186Z"
   },
   {
    "duration": 35,
    "start_time": "2024-03-26T08:11:05.229Z"
   },
   {
    "duration": 29,
    "start_time": "2024-03-26T08:11:05.266Z"
   },
   {
    "duration": 16,
    "start_time": "2024-03-26T08:11:05.297Z"
   },
   {
    "duration": 270,
    "start_time": "2024-03-26T08:11:05.314Z"
   },
   {
    "duration": 281,
    "start_time": "2024-03-26T08:11:05.585Z"
   },
   {
    "duration": 207,
    "start_time": "2024-03-26T08:11:05.868Z"
   },
   {
    "duration": 335,
    "start_time": "2024-03-26T08:11:06.076Z"
   },
   {
    "duration": 224,
    "start_time": "2024-03-26T08:11:06.412Z"
   },
   {
    "duration": 319,
    "start_time": "2024-03-26T08:11:06.644Z"
   },
   {
    "duration": 6,
    "start_time": "2024-03-26T08:11:06.964Z"
   },
   {
    "duration": 153,
    "start_time": "2024-03-26T08:11:06.971Z"
   },
   {
    "duration": 5,
    "start_time": "2024-03-26T08:14:03.897Z"
   },
   {
    "duration": 58,
    "start_time": "2024-03-26T08:30:21.462Z"
   },
   {
    "duration": 92,
    "start_time": "2024-03-26T08:30:46.110Z"
   },
   {
    "duration": 162,
    "start_time": "2024-03-26T08:31:22.741Z"
   },
   {
    "duration": 205,
    "start_time": "2024-03-26T08:31:35.582Z"
   },
   {
    "duration": 148,
    "start_time": "2024-03-26T08:32:05.989Z"
   },
   {
    "duration": 148,
    "start_time": "2024-03-26T08:32:13.558Z"
   },
   {
    "duration": 144,
    "start_time": "2024-03-26T08:39:34.818Z"
   },
   {
    "duration": 4,
    "start_time": "2024-03-26T08:42:36.740Z"
   },
   {
    "duration": 126,
    "start_time": "2024-03-26T08:56:00.704Z"
   },
   {
    "duration": 10,
    "start_time": "2024-03-26T08:59:44.389Z"
   },
   {
    "duration": 140,
    "start_time": "2024-03-26T09:00:46.159Z"
   },
   {
    "duration": 11,
    "start_time": "2024-03-26T09:03:08.910Z"
   },
   {
    "duration": 10,
    "start_time": "2024-03-26T09:03:23.527Z"
   },
   {
    "duration": 8,
    "start_time": "2024-03-26T09:03:33.035Z"
   },
   {
    "duration": 11,
    "start_time": "2024-03-26T09:03:56.143Z"
   },
   {
    "duration": 7,
    "start_time": "2024-03-26T09:04:39.352Z"
   },
   {
    "duration": 25,
    "start_time": "2024-03-26T09:10:17.868Z"
   },
   {
    "duration": 16,
    "start_time": "2024-03-26T09:18:11.482Z"
   },
   {
    "duration": 9,
    "start_time": "2024-03-26T09:18:19.522Z"
   },
   {
    "duration": 842,
    "start_time": "2024-03-26T09:42:32.648Z"
   },
   {
    "duration": 880,
    "start_time": "2024-03-26T09:43:14.060Z"
   },
   {
    "duration": 4,
    "start_time": "2024-03-26T09:43:47.045Z"
   },
   {
    "duration": 4,
    "start_time": "2024-03-26T09:44:01.059Z"
   },
   {
    "duration": 855,
    "start_time": "2024-03-26T09:44:06.493Z"
   },
   {
    "duration": 891,
    "start_time": "2024-03-26T09:44:37.233Z"
   },
   {
    "duration": 793,
    "start_time": "2024-03-26T09:44:48.350Z"
   },
   {
    "duration": 860,
    "start_time": "2024-03-26T09:45:05.558Z"
   },
   {
    "duration": 7,
    "start_time": "2024-03-26T09:45:16.161Z"
   },
   {
    "duration": 12,
    "start_time": "2024-03-26T09:45:32.696Z"
   },
   {
    "duration": 11,
    "start_time": "2024-03-26T09:45:46.399Z"
   },
   {
    "duration": 7,
    "start_time": "2024-03-26T09:46:03.928Z"
   },
   {
    "duration": 60,
    "start_time": "2024-03-26T09:47:34.117Z"
   },
   {
    "duration": 48,
    "start_time": "2024-03-26T09:47:46.208Z"
   },
   {
    "duration": 8,
    "start_time": "2024-03-26T09:47:59.736Z"
   },
   {
    "duration": 831,
    "start_time": "2024-03-26T09:49:41.743Z"
   },
   {
    "duration": 888,
    "start_time": "2024-03-26T09:49:57.257Z"
   },
   {
    "duration": 8,
    "start_time": "2024-03-26T09:50:07.920Z"
   },
   {
    "duration": 24,
    "start_time": "2024-03-26T09:50:37.077Z"
   },
   {
    "duration": 1006,
    "start_time": "2024-03-26T09:50:41.369Z"
   },
   {
    "duration": 79,
    "start_time": "2024-03-26T09:50:42.377Z"
   },
   {
    "duration": 4,
    "start_time": "2024-03-26T09:50:42.457Z"
   },
   {
    "duration": 28,
    "start_time": "2024-03-26T09:50:42.462Z"
   },
   {
    "duration": 4,
    "start_time": "2024-03-26T09:50:42.491Z"
   },
   {
    "duration": 26,
    "start_time": "2024-03-26T09:50:42.497Z"
   },
   {
    "duration": 4,
    "start_time": "2024-03-26T09:50:42.524Z"
   },
   {
    "duration": 36,
    "start_time": "2024-03-26T09:50:42.529Z"
   },
   {
    "duration": 11,
    "start_time": "2024-03-26T09:50:42.566Z"
   },
   {
    "duration": 10,
    "start_time": "2024-03-26T09:50:42.579Z"
   },
   {
    "duration": 24,
    "start_time": "2024-03-26T09:50:42.590Z"
   },
   {
    "duration": 23,
    "start_time": "2024-03-26T09:50:42.615Z"
   },
   {
    "duration": 9,
    "start_time": "2024-03-26T09:50:42.640Z"
   },
   {
    "duration": 244,
    "start_time": "2024-03-26T09:50:42.650Z"
   },
   {
    "duration": 266,
    "start_time": "2024-03-26T09:50:42.896Z"
   },
   {
    "duration": 202,
    "start_time": "2024-03-26T09:50:43.164Z"
   },
   {
    "duration": 295,
    "start_time": "2024-03-26T09:50:43.368Z"
   },
   {
    "duration": 229,
    "start_time": "2024-03-26T09:50:43.664Z"
   },
   {
    "duration": 269,
    "start_time": "2024-03-26T09:50:43.894Z"
   },
   {
    "duration": 6,
    "start_time": "2024-03-26T09:50:44.164Z"
   },
   {
    "duration": 144,
    "start_time": "2024-03-26T09:50:44.171Z"
   },
   {
    "duration": 3,
    "start_time": "2024-03-26T09:50:44.317Z"
   },
   {
    "duration": 152,
    "start_time": "2024-03-26T09:50:44.322Z"
   },
   {
    "duration": 154,
    "start_time": "2024-03-26T09:50:44.476Z"
   },
   {
    "duration": 4,
    "start_time": "2024-03-26T09:50:44.632Z"
   },
   {
    "duration": 142,
    "start_time": "2024-03-26T09:50:44.637Z"
   },
   {
    "duration": 6,
    "start_time": "2024-03-26T09:50:44.781Z"
   },
   {
    "duration": 23,
    "start_time": "2024-03-26T09:50:44.790Z"
   },
   {
    "duration": 33,
    "start_time": "2024-03-26T09:50:44.814Z"
   },
   {
    "duration": 7,
    "start_time": "2024-03-26T09:50:44.849Z"
   },
   {
    "duration": 7,
    "start_time": "2024-03-26T09:50:44.858Z"
   },
   {
    "duration": 28,
    "start_time": "2024-03-26T09:50:44.866Z"
   },
   {
    "duration": 12,
    "start_time": "2024-03-26T09:57:35.190Z"
   },
   {
    "duration": 1082,
    "start_time": "2024-03-26T10:20:21.755Z"
   },
   {
    "duration": 83,
    "start_time": "2024-03-26T10:20:22.839Z"
   },
   {
    "duration": 6,
    "start_time": "2024-03-26T10:20:22.923Z"
   },
   {
    "duration": 28,
    "start_time": "2024-03-26T10:20:22.930Z"
   },
   {
    "duration": 4,
    "start_time": "2024-03-26T10:20:22.960Z"
   },
   {
    "duration": 20,
    "start_time": "2024-03-26T10:20:22.965Z"
   },
   {
    "duration": 9,
    "start_time": "2024-03-26T10:20:22.986Z"
   },
   {
    "duration": 19,
    "start_time": "2024-03-26T10:20:22.997Z"
   },
   {
    "duration": 35,
    "start_time": "2024-03-26T10:20:23.018Z"
   },
   {
    "duration": 17,
    "start_time": "2024-03-26T10:20:23.054Z"
   },
   {
    "duration": 13,
    "start_time": "2024-03-26T10:20:23.073Z"
   },
   {
    "duration": 18,
    "start_time": "2024-03-26T10:20:23.087Z"
   },
   {
    "duration": 8,
    "start_time": "2024-03-26T10:20:23.107Z"
   },
   {
    "duration": 294,
    "start_time": "2024-03-26T10:20:23.119Z"
   },
   {
    "duration": 316,
    "start_time": "2024-03-26T10:20:23.415Z"
   },
   {
    "duration": 206,
    "start_time": "2024-03-26T10:20:23.732Z"
   },
   {
    "duration": 350,
    "start_time": "2024-03-26T10:20:23.940Z"
   },
   {
    "duration": 226,
    "start_time": "2024-03-26T10:20:24.292Z"
   },
   {
    "duration": 343,
    "start_time": "2024-03-26T10:20:24.520Z"
   },
   {
    "duration": 6,
    "start_time": "2024-03-26T10:20:24.865Z"
   },
   {
    "duration": 160,
    "start_time": "2024-03-26T10:20:24.872Z"
   },
   {
    "duration": 12,
    "start_time": "2024-03-26T10:20:25.033Z"
   },
   {
    "duration": 172,
    "start_time": "2024-03-26T10:20:25.046Z"
   },
   {
    "duration": 158,
    "start_time": "2024-03-26T10:20:25.220Z"
   },
   {
    "duration": 4,
    "start_time": "2024-03-26T10:20:25.380Z"
   },
   {
    "duration": 161,
    "start_time": "2024-03-26T10:20:25.385Z"
   },
   {
    "duration": 8,
    "start_time": "2024-03-26T10:20:25.547Z"
   },
   {
    "duration": 30,
    "start_time": "2024-03-26T10:20:25.556Z"
   },
   {
    "duration": 78,
    "start_time": "2024-03-26T10:20:25.587Z"
   },
   {
    "duration": 13,
    "start_time": "2024-03-26T10:20:25.666Z"
   },
   {
    "duration": 10,
    "start_time": "2024-03-26T10:20:25.681Z"
   },
   {
    "duration": 24,
    "start_time": "2024-03-26T10:20:25.692Z"
   },
   {
    "duration": 26,
    "start_time": "2024-03-26T10:20:25.718Z"
   },
   {
    "duration": 1041,
    "start_time": "2024-03-26T10:43:05.583Z"
   },
   {
    "duration": 75,
    "start_time": "2024-03-26T10:43:06.626Z"
   },
   {
    "duration": 5,
    "start_time": "2024-03-26T10:43:06.703Z"
   },
   {
    "duration": 63,
    "start_time": "2024-03-26T10:43:06.710Z"
   },
   {
    "duration": 5,
    "start_time": "2024-03-26T10:43:06.775Z"
   },
   {
    "duration": 27,
    "start_time": "2024-03-26T10:43:06.781Z"
   },
   {
    "duration": 7,
    "start_time": "2024-03-26T10:43:06.810Z"
   },
   {
    "duration": 25,
    "start_time": "2024-03-26T10:43:06.818Z"
   },
   {
    "duration": 18,
    "start_time": "2024-03-26T10:43:06.844Z"
   },
   {
    "duration": 21,
    "start_time": "2024-03-26T10:43:06.863Z"
   },
   {
    "duration": 4,
    "start_time": "2024-03-26T10:43:06.886Z"
   },
   {
    "duration": 10,
    "start_time": "2024-03-26T10:43:06.892Z"
   },
   {
    "duration": 7,
    "start_time": "2024-03-26T10:43:06.903Z"
   },
   {
    "duration": 275,
    "start_time": "2024-03-26T10:43:06.913Z"
   },
   {
    "duration": 289,
    "start_time": "2024-03-26T10:43:07.190Z"
   },
   {
    "duration": 226,
    "start_time": "2024-03-26T10:43:07.481Z"
   },
   {
    "duration": 300,
    "start_time": "2024-03-26T10:43:07.709Z"
   },
   {
    "duration": 237,
    "start_time": "2024-03-26T10:43:08.010Z"
   },
   {
    "duration": 328,
    "start_time": "2024-03-26T10:43:08.249Z"
   },
   {
    "duration": 6,
    "start_time": "2024-03-26T10:43:08.578Z"
   },
   {
    "duration": 147,
    "start_time": "2024-03-26T10:43:08.586Z"
   },
   {
    "duration": 4,
    "start_time": "2024-03-26T10:43:08.735Z"
   },
   {
    "duration": 160,
    "start_time": "2024-03-26T10:43:08.740Z"
   },
   {
    "duration": 163,
    "start_time": "2024-03-26T10:43:08.901Z"
   },
   {
    "duration": 4,
    "start_time": "2024-03-26T10:43:09.066Z"
   },
   {
    "duration": 133,
    "start_time": "2024-03-26T10:43:09.071Z"
   },
   {
    "duration": 7,
    "start_time": "2024-03-26T10:43:09.205Z"
   },
   {
    "duration": 23,
    "start_time": "2024-03-26T10:43:09.213Z"
   },
   {
    "duration": 84,
    "start_time": "2024-03-26T10:43:09.237Z"
   },
   {
    "duration": 8,
    "start_time": "2024-03-26T10:43:09.322Z"
   },
   {
    "duration": 12,
    "start_time": "2024-03-26T10:43:09.331Z"
   },
   {
    "duration": 34,
    "start_time": "2024-03-26T10:43:09.359Z"
   },
   {
    "duration": 12,
    "start_time": "2024-03-26T10:43:09.395Z"
   },
   {
    "duration": 1348,
    "start_time": "2024-03-26T10:45:12.828Z"
   },
   {
    "duration": 95,
    "start_time": "2024-03-26T10:45:14.178Z"
   },
   {
    "duration": 4,
    "start_time": "2024-03-26T10:45:14.275Z"
   },
   {
    "duration": 93,
    "start_time": "2024-03-26T10:45:14.281Z"
   },
   {
    "duration": 4,
    "start_time": "2024-03-26T10:45:14.376Z"
   },
   {
    "duration": 84,
    "start_time": "2024-03-26T10:45:14.382Z"
   },
   {
    "duration": 3,
    "start_time": "2024-03-26T10:45:14.467Z"
   },
   {
    "duration": 90,
    "start_time": "2024-03-26T10:45:14.472Z"
   },
   {
    "duration": 11,
    "start_time": "2024-03-26T10:45:14.563Z"
   },
   {
    "duration": 23,
    "start_time": "2024-03-26T10:45:14.576Z"
   },
   {
    "duration": 59,
    "start_time": "2024-03-26T10:45:14.601Z"
   },
   {
    "duration": 31,
    "start_time": "2024-03-26T10:45:14.661Z"
   },
   {
    "duration": 27,
    "start_time": "2024-03-26T10:45:14.693Z"
   },
   {
    "duration": 402,
    "start_time": "2024-03-26T10:45:14.722Z"
   },
   {
    "duration": 278,
    "start_time": "2024-03-26T10:45:15.125Z"
   },
   {
    "duration": 232,
    "start_time": "2024-03-26T10:45:15.405Z"
   },
   {
    "duration": 337,
    "start_time": "2024-03-26T10:45:15.639Z"
   },
   {
    "duration": 226,
    "start_time": "2024-03-26T10:45:15.977Z"
   },
   {
    "duration": 308,
    "start_time": "2024-03-26T10:45:16.204Z"
   },
   {
    "duration": 6,
    "start_time": "2024-03-26T10:45:16.514Z"
   },
   {
    "duration": 187,
    "start_time": "2024-03-26T10:45:16.521Z"
   },
   {
    "duration": 4,
    "start_time": "2024-03-26T10:45:16.710Z"
   },
   {
    "duration": 179,
    "start_time": "2024-03-26T10:45:16.715Z"
   },
   {
    "duration": 147,
    "start_time": "2024-03-26T10:45:16.895Z"
   },
   {
    "duration": 4,
    "start_time": "2024-03-26T10:45:17.043Z"
   },
   {
    "duration": 129,
    "start_time": "2024-03-26T10:45:17.048Z"
   },
   {
    "duration": 7,
    "start_time": "2024-03-26T10:45:17.178Z"
   },
   {
    "duration": 30,
    "start_time": "2024-03-26T10:45:17.186Z"
   },
   {
    "duration": 81,
    "start_time": "2024-03-26T10:45:17.218Z"
   },
   {
    "duration": 12,
    "start_time": "2024-03-26T10:45:17.300Z"
   },
   {
    "duration": 8,
    "start_time": "2024-03-26T10:45:17.313Z"
   },
   {
    "duration": 40,
    "start_time": "2024-03-26T10:45:17.323Z"
   },
   {
    "duration": 13,
    "start_time": "2024-03-26T10:45:17.364Z"
   },
   {
    "duration": 11,
    "start_time": "2024-03-26T11:42:02.134Z"
   },
   {
    "duration": 11,
    "start_time": "2024-03-26T11:43:08.175Z"
   },
   {
    "duration": 13,
    "start_time": "2024-03-26T11:46:25.465Z"
   },
   {
    "duration": 85,
    "start_time": "2024-03-26T11:46:35.596Z"
   },
   {
    "duration": 10,
    "start_time": "2024-03-26T11:46:38.676Z"
   },
   {
    "duration": 12,
    "start_time": "2024-03-26T11:47:03.379Z"
   },
   {
    "duration": 8,
    "start_time": "2024-03-26T11:48:11.798Z"
   },
   {
    "duration": 6,
    "start_time": "2024-03-26T11:48:23.614Z"
   },
   {
    "duration": 9,
    "start_time": "2024-03-26T11:49:20.080Z"
   },
   {
    "duration": 10,
    "start_time": "2024-03-26T11:50:33.853Z"
   },
   {
    "duration": 13,
    "start_time": "2024-03-26T11:53:53.756Z"
   },
   {
    "duration": 10,
    "start_time": "2024-03-26T11:56:01.854Z"
   },
   {
    "duration": 8,
    "start_time": "2024-03-26T11:56:33.983Z"
   },
   {
    "duration": 12,
    "start_time": "2024-03-26T11:56:49.964Z"
   },
   {
    "duration": 9,
    "start_time": "2024-03-26T11:56:57.656Z"
   },
   {
    "duration": 8,
    "start_time": "2024-03-26T12:03:55.869Z"
   },
   {
    "duration": 8,
    "start_time": "2024-03-26T12:04:24.798Z"
   },
   {
    "duration": 12,
    "start_time": "2024-03-26T12:08:04.804Z"
   },
   {
    "duration": 7,
    "start_time": "2024-03-26T12:08:21.942Z"
   },
   {
    "duration": 7,
    "start_time": "2024-03-26T12:08:47.329Z"
   },
   {
    "duration": 7,
    "start_time": "2024-03-26T12:08:53.538Z"
   },
   {
    "duration": 8,
    "start_time": "2024-03-26T12:09:05.881Z"
   },
   {
    "duration": 15,
    "start_time": "2024-03-26T12:11:14.027Z"
   },
   {
    "duration": 1067,
    "start_time": "2024-03-26T12:11:19.915Z"
   },
   {
    "duration": 78,
    "start_time": "2024-03-26T12:11:20.986Z"
   },
   {
    "duration": 4,
    "start_time": "2024-03-26T12:11:21.066Z"
   },
   {
    "duration": 47,
    "start_time": "2024-03-26T12:11:21.071Z"
   },
   {
    "duration": 11,
    "start_time": "2024-03-26T12:11:21.120Z"
   },
   {
    "duration": 32,
    "start_time": "2024-03-26T12:11:21.133Z"
   },
   {
    "duration": 3,
    "start_time": "2024-03-26T12:11:21.166Z"
   },
   {
    "duration": 29,
    "start_time": "2024-03-26T12:11:21.170Z"
   },
   {
    "duration": 14,
    "start_time": "2024-03-26T12:11:21.202Z"
   },
   {
    "duration": 12,
    "start_time": "2024-03-26T12:11:21.218Z"
   },
   {
    "duration": 21,
    "start_time": "2024-03-26T12:11:21.231Z"
   },
   {
    "duration": 103,
    "start_time": "2024-03-26T12:11:21.253Z"
   },
   {
    "duration": 0,
    "start_time": "2024-03-26T12:11:21.358Z"
   },
   {
    "duration": 0,
    "start_time": "2024-03-26T12:11:21.359Z"
   },
   {
    "duration": 0,
    "start_time": "2024-03-26T12:11:21.359Z"
   },
   {
    "duration": 0,
    "start_time": "2024-03-26T12:11:21.360Z"
   },
   {
    "duration": 0,
    "start_time": "2024-03-26T12:11:21.361Z"
   },
   {
    "duration": 0,
    "start_time": "2024-03-26T12:11:21.362Z"
   },
   {
    "duration": 0,
    "start_time": "2024-03-26T12:11:21.363Z"
   },
   {
    "duration": 0,
    "start_time": "2024-03-26T12:11:21.364Z"
   },
   {
    "duration": 0,
    "start_time": "2024-03-26T12:11:21.365Z"
   },
   {
    "duration": 0,
    "start_time": "2024-03-26T12:11:21.366Z"
   },
   {
    "duration": 0,
    "start_time": "2024-03-26T12:11:21.367Z"
   },
   {
    "duration": 0,
    "start_time": "2024-03-26T12:11:21.368Z"
   },
   {
    "duration": 0,
    "start_time": "2024-03-26T12:11:21.369Z"
   },
   {
    "duration": 0,
    "start_time": "2024-03-26T12:11:21.370Z"
   },
   {
    "duration": 0,
    "start_time": "2024-03-26T12:11:21.370Z"
   },
   {
    "duration": 0,
    "start_time": "2024-03-26T12:11:21.371Z"
   },
   {
    "duration": 0,
    "start_time": "2024-03-26T12:11:21.372Z"
   },
   {
    "duration": 0,
    "start_time": "2024-03-26T12:11:21.373Z"
   },
   {
    "duration": 0,
    "start_time": "2024-03-26T12:11:21.374Z"
   },
   {
    "duration": 0,
    "start_time": "2024-03-26T12:11:21.375Z"
   },
   {
    "duration": 0,
    "start_time": "2024-03-26T12:11:21.375Z"
   },
   {
    "duration": 0,
    "start_time": "2024-03-26T12:11:21.376Z"
   },
   {
    "duration": 8,
    "start_time": "2024-03-26T12:11:45.042Z"
   },
   {
    "duration": 4,
    "start_time": "2024-03-26T12:12:12.395Z"
   },
   {
    "duration": 7,
    "start_time": "2024-03-26T12:12:28.003Z"
   },
   {
    "duration": 5,
    "start_time": "2024-03-26T12:12:28.476Z"
   },
   {
    "duration": 6,
    "start_time": "2024-03-26T12:13:17.740Z"
   },
   {
    "duration": 9,
    "start_time": "2024-03-26T12:13:52.211Z"
   },
   {
    "duration": 55,
    "start_time": "2024-03-26T12:14:07.053Z"
   },
   {
    "duration": 7,
    "start_time": "2024-03-26T12:15:03.801Z"
   },
   {
    "duration": 11,
    "start_time": "2024-03-26T12:15:29.188Z"
   },
   {
    "duration": 12,
    "start_time": "2024-03-26T12:16:12.158Z"
   },
   {
    "duration": 7,
    "start_time": "2024-03-26T12:16:19.437Z"
   },
   {
    "duration": 1056,
    "start_time": "2024-03-26T12:19:21.808Z"
   },
   {
    "duration": 79,
    "start_time": "2024-03-26T12:19:22.865Z"
   },
   {
    "duration": 4,
    "start_time": "2024-03-26T12:19:22.945Z"
   },
   {
    "duration": 20,
    "start_time": "2024-03-26T12:19:22.950Z"
   },
   {
    "duration": 5,
    "start_time": "2024-03-26T12:19:22.971Z"
   },
   {
    "duration": 19,
    "start_time": "2024-03-26T12:19:22.977Z"
   },
   {
    "duration": 4,
    "start_time": "2024-03-26T12:19:22.998Z"
   },
   {
    "duration": 46,
    "start_time": "2024-03-26T12:19:23.003Z"
   },
   {
    "duration": 18,
    "start_time": "2024-03-26T12:19:23.051Z"
   },
   {
    "duration": 11,
    "start_time": "2024-03-26T12:19:23.071Z"
   },
   {
    "duration": 11,
    "start_time": "2024-03-26T12:19:23.084Z"
   },
   {
    "duration": 20,
    "start_time": "2024-03-26T12:19:23.097Z"
   },
   {
    "duration": 8,
    "start_time": "2024-03-26T12:19:23.119Z"
   },
   {
    "duration": 20,
    "start_time": "2024-03-26T12:19:23.128Z"
   },
   {
    "duration": 296,
    "start_time": "2024-03-26T12:19:23.150Z"
   },
   {
    "duration": 306,
    "start_time": "2024-03-26T12:19:23.447Z"
   },
   {
    "duration": 206,
    "start_time": "2024-03-26T12:19:23.754Z"
   },
   {
    "duration": 299,
    "start_time": "2024-03-26T12:19:23.961Z"
   },
   {
    "duration": 234,
    "start_time": "2024-03-26T12:19:24.262Z"
   },
   {
    "duration": 313,
    "start_time": "2024-03-26T12:19:24.498Z"
   },
   {
    "duration": 6,
    "start_time": "2024-03-26T12:19:24.813Z"
   },
   {
    "duration": 147,
    "start_time": "2024-03-26T12:19:24.820Z"
   },
   {
    "duration": 4,
    "start_time": "2024-03-26T12:19:24.968Z"
   },
   {
    "duration": 161,
    "start_time": "2024-03-26T12:19:24.974Z"
   },
   {
    "duration": 154,
    "start_time": "2024-03-26T12:19:25.137Z"
   },
   {
    "duration": 4,
    "start_time": "2024-03-26T12:19:25.292Z"
   },
   {
    "duration": 134,
    "start_time": "2024-03-26T12:19:25.298Z"
   },
   {
    "duration": 11,
    "start_time": "2024-03-26T12:19:25.435Z"
   },
   {
    "duration": 24,
    "start_time": "2024-03-26T12:19:25.447Z"
   },
   {
    "duration": 9,
    "start_time": "2024-03-26T12:19:25.473Z"
   },
   {
    "duration": 8,
    "start_time": "2024-03-26T12:19:25.484Z"
   },
   {
    "duration": 97,
    "start_time": "2024-03-26T12:19:25.493Z"
   },
   {
    "duration": 37,
    "start_time": "2024-03-26T12:19:25.591Z"
   },
   {
    "duration": 13,
    "start_time": "2024-03-26T12:19:25.629Z"
   },
   {
    "duration": 84,
    "start_time": "2024-03-26T12:30:46.488Z"
   },
   {
    "duration": 4,
    "start_time": "2024-03-26T12:30:55.328Z"
   },
   {
    "duration": 12,
    "start_time": "2024-03-26T12:43:33.633Z"
   },
   {
    "duration": 6,
    "start_time": "2024-03-26T12:43:43.323Z"
   },
   {
    "duration": 14,
    "start_time": "2024-03-26T12:46:09.852Z"
   },
   {
    "duration": 7,
    "start_time": "2024-03-26T12:46:18.435Z"
   },
   {
    "duration": 10,
    "start_time": "2024-03-26T12:46:42.796Z"
   },
   {
    "duration": 5,
    "start_time": "2024-03-26T12:46:56.172Z"
   },
   {
    "duration": 4,
    "start_time": "2024-03-26T12:47:25.335Z"
   },
   {
    "duration": 5,
    "start_time": "2024-03-26T12:47:26.092Z"
   },
   {
    "duration": 1044,
    "start_time": "2024-03-26T12:47:29.796Z"
   },
   {
    "duration": 81,
    "start_time": "2024-03-26T12:47:30.841Z"
   },
   {
    "duration": 5,
    "start_time": "2024-03-26T12:47:30.923Z"
   },
   {
    "duration": 69,
    "start_time": "2024-03-26T12:47:30.930Z"
   },
   {
    "duration": 25,
    "start_time": "2024-03-26T12:47:31.000Z"
   },
   {
    "duration": 73,
    "start_time": "2024-03-26T12:47:31.026Z"
   },
   {
    "duration": 33,
    "start_time": "2024-03-26T12:47:31.100Z"
   },
   {
    "duration": 65,
    "start_time": "2024-03-26T12:47:31.134Z"
   },
   {
    "duration": 48,
    "start_time": "2024-03-26T12:47:31.200Z"
   },
   {
    "duration": 31,
    "start_time": "2024-03-26T12:47:31.250Z"
   },
   {
    "duration": 36,
    "start_time": "2024-03-26T12:47:31.283Z"
   },
   {
    "duration": 38,
    "start_time": "2024-03-26T12:47:31.321Z"
   },
   {
    "duration": 47,
    "start_time": "2024-03-26T12:47:31.360Z"
   },
   {
    "duration": 28,
    "start_time": "2024-03-26T12:47:31.409Z"
   },
   {
    "duration": 50,
    "start_time": "2024-03-26T12:47:31.439Z"
   },
   {
    "duration": 44,
    "start_time": "2024-03-26T12:47:31.494Z"
   },
   {
    "duration": 317,
    "start_time": "2024-03-26T12:47:31.539Z"
   },
   {
    "duration": 292,
    "start_time": "2024-03-26T12:47:31.857Z"
   },
   {
    "duration": 211,
    "start_time": "2024-03-26T12:47:32.151Z"
   },
   {
    "duration": 286,
    "start_time": "2024-03-26T12:47:32.364Z"
   },
   {
    "duration": 219,
    "start_time": "2024-03-26T12:47:32.651Z"
   },
   {
    "duration": 317,
    "start_time": "2024-03-26T12:47:32.871Z"
   },
   {
    "duration": 6,
    "start_time": "2024-03-26T12:47:33.189Z"
   },
   {
    "duration": 174,
    "start_time": "2024-03-26T12:47:33.196Z"
   },
   {
    "duration": 4,
    "start_time": "2024-03-26T12:47:33.371Z"
   },
   {
    "duration": 302,
    "start_time": "2024-03-26T12:47:33.376Z"
   },
   {
    "duration": 367,
    "start_time": "2024-03-26T12:47:33.680Z"
   },
   {
    "duration": 3,
    "start_time": "2024-03-26T12:47:34.050Z"
   },
   {
    "duration": 312,
    "start_time": "2024-03-26T12:47:34.055Z"
   },
   {
    "duration": 7,
    "start_time": "2024-03-26T12:47:34.368Z"
   },
   {
    "duration": 77,
    "start_time": "2024-03-26T12:47:34.376Z"
   },
   {
    "duration": 125,
    "start_time": "2024-03-26T12:47:34.454Z"
   },
   {
    "duration": 66,
    "start_time": "2024-03-26T12:47:34.581Z"
   },
   {
    "duration": 10,
    "start_time": "2024-03-26T12:47:34.649Z"
   },
   {
    "duration": 85,
    "start_time": "2024-03-26T12:47:34.660Z"
   },
   {
    "duration": 12,
    "start_time": "2024-03-26T12:47:34.747Z"
   },
   {
    "duration": 7,
    "start_time": "2024-03-26T12:48:01.891Z"
   },
   {
    "duration": 5,
    "start_time": "2024-03-26T12:48:11.571Z"
   },
   {
    "duration": 85,
    "start_time": "2024-03-26T12:48:27.251Z"
   },
   {
    "duration": 4,
    "start_time": "2024-03-26T12:48:46.019Z"
   },
   {
    "duration": 4,
    "start_time": "2024-03-26T12:48:57.332Z"
   },
   {
    "duration": 1048,
    "start_time": "2024-03-26T12:49:33.253Z"
   },
   {
    "duration": 78,
    "start_time": "2024-03-26T12:49:34.303Z"
   },
   {
    "duration": 4,
    "start_time": "2024-03-26T12:49:34.383Z"
   },
   {
    "duration": 83,
    "start_time": "2024-03-26T12:49:34.389Z"
   },
   {
    "duration": 94,
    "start_time": "2024-03-26T12:49:34.473Z"
   },
   {
    "duration": 77,
    "start_time": "2024-03-26T12:49:34.569Z"
   },
   {
    "duration": 214,
    "start_time": "2024-03-26T12:49:34.648Z"
   },
   {
    "duration": 91,
    "start_time": "2024-03-26T12:49:34.863Z"
   },
   {
    "duration": 61,
    "start_time": "2024-03-26T12:49:34.955Z"
   },
   {
    "duration": 39,
    "start_time": "2024-03-26T12:49:35.019Z"
   },
   {
    "duration": 45,
    "start_time": "2024-03-26T12:49:35.059Z"
   },
   {
    "duration": 38,
    "start_time": "2024-03-26T12:49:35.105Z"
   },
   {
    "duration": 28,
    "start_time": "2024-03-26T12:49:35.145Z"
   },
   {
    "duration": 55,
    "start_time": "2024-03-26T12:49:35.174Z"
   },
   {
    "duration": 94,
    "start_time": "2024-03-26T12:49:35.230Z"
   },
   {
    "duration": 54,
    "start_time": "2024-03-26T12:49:35.326Z"
   },
   {
    "duration": 44,
    "start_time": "2024-03-26T12:49:35.381Z"
   },
   {
    "duration": 35,
    "start_time": "2024-03-26T12:49:35.427Z"
   },
   {
    "duration": 290,
    "start_time": "2024-03-26T12:49:35.463Z"
   },
   {
    "duration": 279,
    "start_time": "2024-03-26T12:49:35.755Z"
   },
   {
    "duration": 240,
    "start_time": "2024-03-26T12:49:36.035Z"
   },
   {
    "duration": 493,
    "start_time": "2024-03-26T12:49:36.277Z"
   },
   {
    "duration": 413,
    "start_time": "2024-03-26T12:49:36.772Z"
   },
   {
    "duration": 584,
    "start_time": "2024-03-26T12:49:37.187Z"
   },
   {
    "duration": 7,
    "start_time": "2024-03-26T12:49:37.772Z"
   },
   {
    "duration": 254,
    "start_time": "2024-03-26T12:49:37.780Z"
   },
   {
    "duration": 4,
    "start_time": "2024-03-26T12:49:38.036Z"
   },
   {
    "duration": 193,
    "start_time": "2024-03-26T12:49:38.047Z"
   },
   {
    "duration": 165,
    "start_time": "2024-03-26T12:49:38.243Z"
   },
   {
    "duration": 4,
    "start_time": "2024-03-26T12:49:38.409Z"
   },
   {
    "duration": 144,
    "start_time": "2024-03-26T12:49:38.415Z"
   },
   {
    "duration": 7,
    "start_time": "2024-03-26T12:49:38.561Z"
   },
   {
    "duration": 52,
    "start_time": "2024-03-26T12:49:38.569Z"
   },
   {
    "duration": 84,
    "start_time": "2024-03-26T12:49:38.623Z"
   },
   {
    "duration": 18,
    "start_time": "2024-03-26T12:49:38.709Z"
   },
   {
    "duration": 25,
    "start_time": "2024-03-26T12:49:38.729Z"
   },
   {
    "duration": 39,
    "start_time": "2024-03-26T12:49:38.755Z"
   },
   {
    "duration": 18,
    "start_time": "2024-03-26T12:49:38.795Z"
   },
   {
    "duration": 6,
    "start_time": "2024-03-26T12:50:07.023Z"
   },
   {
    "duration": 1031,
    "start_time": "2024-03-26T12:50:35.135Z"
   },
   {
    "duration": 79,
    "start_time": "2024-03-26T12:50:36.167Z"
   },
   {
    "duration": 4,
    "start_time": "2024-03-26T12:50:36.247Z"
   },
   {
    "duration": 21,
    "start_time": "2024-03-26T12:50:36.253Z"
   },
   {
    "duration": 4,
    "start_time": "2024-03-26T12:50:36.275Z"
   },
   {
    "duration": 20,
    "start_time": "2024-03-26T12:50:36.281Z"
   },
   {
    "duration": 3,
    "start_time": "2024-03-26T12:50:36.302Z"
   },
   {
    "duration": 40,
    "start_time": "2024-03-26T12:50:36.306Z"
   },
   {
    "duration": 10,
    "start_time": "2024-03-26T12:50:36.348Z"
   },
   {
    "duration": 11,
    "start_time": "2024-03-26T12:50:36.360Z"
   },
   {
    "duration": 14,
    "start_time": "2024-03-26T12:50:36.372Z"
   },
   {
    "duration": 8,
    "start_time": "2024-03-26T12:50:36.387Z"
   },
   {
    "duration": 11,
    "start_time": "2024-03-26T12:50:36.397Z"
   },
   {
    "duration": 15,
    "start_time": "2024-03-26T12:50:36.409Z"
   },
   {
    "duration": 55,
    "start_time": "2024-03-26T12:50:36.425Z"
   },
   {
    "duration": 0,
    "start_time": "2024-03-26T12:50:36.482Z"
   },
   {
    "duration": 0,
    "start_time": "2024-03-26T12:50:36.483Z"
   },
   {
    "duration": 0,
    "start_time": "2024-03-26T12:50:36.484Z"
   },
   {
    "duration": 0,
    "start_time": "2024-03-26T12:50:36.485Z"
   },
   {
    "duration": 0,
    "start_time": "2024-03-26T12:50:36.486Z"
   },
   {
    "duration": 0,
    "start_time": "2024-03-26T12:50:36.487Z"
   },
   {
    "duration": 0,
    "start_time": "2024-03-26T12:50:36.488Z"
   },
   {
    "duration": 0,
    "start_time": "2024-03-26T12:50:36.490Z"
   },
   {
    "duration": 0,
    "start_time": "2024-03-26T12:50:36.491Z"
   },
   {
    "duration": 0,
    "start_time": "2024-03-26T12:50:36.492Z"
   },
   {
    "duration": 0,
    "start_time": "2024-03-26T12:50:36.494Z"
   },
   {
    "duration": 0,
    "start_time": "2024-03-26T12:50:36.495Z"
   },
   {
    "duration": 0,
    "start_time": "2024-03-26T12:50:36.497Z"
   },
   {
    "duration": 0,
    "start_time": "2024-03-26T12:50:36.498Z"
   },
   {
    "duration": 0,
    "start_time": "2024-03-26T12:50:36.499Z"
   },
   {
    "duration": 0,
    "start_time": "2024-03-26T12:50:36.501Z"
   },
   {
    "duration": 0,
    "start_time": "2024-03-26T12:50:36.502Z"
   },
   {
    "duration": 0,
    "start_time": "2024-03-26T12:50:36.503Z"
   },
   {
    "duration": 0,
    "start_time": "2024-03-26T12:50:36.505Z"
   },
   {
    "duration": 0,
    "start_time": "2024-03-26T12:50:36.506Z"
   },
   {
    "duration": 0,
    "start_time": "2024-03-26T12:50:36.508Z"
   },
   {
    "duration": 0,
    "start_time": "2024-03-26T12:50:36.509Z"
   },
   {
    "duration": 0,
    "start_time": "2024-03-26T12:50:36.510Z"
   },
   {
    "duration": 4,
    "start_time": "2024-03-26T12:50:45.562Z"
   },
   {
    "duration": 53,
    "start_time": "2024-03-26T12:50:51.341Z"
   },
   {
    "duration": 3,
    "start_time": "2024-03-26T12:51:07.905Z"
   },
   {
    "duration": 4,
    "start_time": "2024-03-26T12:51:35.117Z"
   },
   {
    "duration": 87,
    "start_time": "2024-03-26T12:51:55.397Z"
   },
   {
    "duration": 4,
    "start_time": "2024-03-26T12:52:06.782Z"
   },
   {
    "duration": 6,
    "start_time": "2024-03-26T12:52:13.399Z"
   },
   {
    "duration": 978,
    "start_time": "2024-03-26T12:52:50.008Z"
   },
   {
    "duration": 79,
    "start_time": "2024-03-26T12:52:50.988Z"
   },
   {
    "duration": 4,
    "start_time": "2024-03-26T12:52:51.069Z"
   },
   {
    "duration": 33,
    "start_time": "2024-03-26T12:52:51.074Z"
   },
   {
    "duration": 4,
    "start_time": "2024-03-26T12:52:51.108Z"
   },
   {
    "duration": 25,
    "start_time": "2024-03-26T12:52:51.113Z"
   },
   {
    "duration": 3,
    "start_time": "2024-03-26T12:52:51.139Z"
   },
   {
    "duration": 25,
    "start_time": "2024-03-26T12:52:51.143Z"
   },
   {
    "duration": 15,
    "start_time": "2024-03-26T12:52:51.170Z"
   },
   {
    "duration": 13,
    "start_time": "2024-03-26T12:52:51.187Z"
   },
   {
    "duration": 10,
    "start_time": "2024-03-26T12:52:51.201Z"
   },
   {
    "duration": 11,
    "start_time": "2024-03-26T12:52:51.212Z"
   },
   {
    "duration": 11,
    "start_time": "2024-03-26T12:52:51.224Z"
   },
   {
    "duration": 27,
    "start_time": "2024-03-26T12:52:51.237Z"
   },
   {
    "duration": 15,
    "start_time": "2024-03-26T12:52:51.266Z"
   },
   {
    "duration": 58,
    "start_time": "2024-03-26T12:52:51.282Z"
   },
   {
    "duration": 0,
    "start_time": "2024-03-26T12:52:51.341Z"
   },
   {
    "duration": 0,
    "start_time": "2024-03-26T12:52:51.342Z"
   },
   {
    "duration": 0,
    "start_time": "2024-03-26T12:52:51.344Z"
   },
   {
    "duration": 0,
    "start_time": "2024-03-26T12:52:51.345Z"
   },
   {
    "duration": 0,
    "start_time": "2024-03-26T12:52:51.346Z"
   },
   {
    "duration": 0,
    "start_time": "2024-03-26T12:52:51.346Z"
   },
   {
    "duration": 0,
    "start_time": "2024-03-26T12:52:51.347Z"
   },
   {
    "duration": 0,
    "start_time": "2024-03-26T12:52:51.348Z"
   },
   {
    "duration": 0,
    "start_time": "2024-03-26T12:52:51.349Z"
   },
   {
    "duration": 0,
    "start_time": "2024-03-26T12:52:51.350Z"
   },
   {
    "duration": 0,
    "start_time": "2024-03-26T12:52:51.351Z"
   },
   {
    "duration": 0,
    "start_time": "2024-03-26T12:52:51.352Z"
   },
   {
    "duration": 0,
    "start_time": "2024-03-26T12:52:51.353Z"
   },
   {
    "duration": 0,
    "start_time": "2024-03-26T12:52:51.354Z"
   },
   {
    "duration": 0,
    "start_time": "2024-03-26T12:52:51.355Z"
   },
   {
    "duration": 0,
    "start_time": "2024-03-26T12:52:51.356Z"
   },
   {
    "duration": 0,
    "start_time": "2024-03-26T12:52:51.357Z"
   },
   {
    "duration": 0,
    "start_time": "2024-03-26T12:52:51.358Z"
   },
   {
    "duration": 0,
    "start_time": "2024-03-26T12:52:51.359Z"
   },
   {
    "duration": 0,
    "start_time": "2024-03-26T12:52:51.360Z"
   },
   {
    "duration": 0,
    "start_time": "2024-03-26T12:52:51.361Z"
   },
   {
    "duration": 0,
    "start_time": "2024-03-26T12:52:51.362Z"
   },
   {
    "duration": 0,
    "start_time": "2024-03-26T12:52:51.363Z"
   },
   {
    "duration": 5,
    "start_time": "2024-03-26T12:53:01.399Z"
   },
   {
    "duration": 4,
    "start_time": "2024-03-26T12:53:02.535Z"
   },
   {
    "duration": 6,
    "start_time": "2024-03-26T12:53:08.903Z"
   },
   {
    "duration": 5,
    "start_time": "2024-03-26T12:53:09.216Z"
   },
   {
    "duration": 43,
    "start_time": "2024-03-26T12:53:19.708Z"
   },
   {
    "duration": 1080,
    "start_time": "2024-03-26T12:53:27.388Z"
   },
   {
    "duration": 79,
    "start_time": "2024-03-26T12:53:28.470Z"
   },
   {
    "duration": 4,
    "start_time": "2024-03-26T12:53:28.550Z"
   },
   {
    "duration": 53,
    "start_time": "2024-03-26T12:53:28.556Z"
   },
   {
    "duration": 11,
    "start_time": "2024-03-26T12:53:28.610Z"
   },
   {
    "duration": 37,
    "start_time": "2024-03-26T12:53:28.622Z"
   },
   {
    "duration": 13,
    "start_time": "2024-03-26T12:53:28.660Z"
   },
   {
    "duration": 32,
    "start_time": "2024-03-26T12:53:28.674Z"
   },
   {
    "duration": 12,
    "start_time": "2024-03-26T12:53:28.989Z"
   },
   {
    "duration": 11,
    "start_time": "2024-03-26T12:53:31.646Z"
   },
   {
    "duration": 4,
    "start_time": "2024-03-26T12:53:31.821Z"
   },
   {
    "duration": 8,
    "start_time": "2024-03-26T12:53:32.996Z"
   },
   {
    "duration": 4,
    "start_time": "2024-03-26T12:53:36.204Z"
   },
   {
    "duration": 3,
    "start_time": "2024-03-26T12:53:36.663Z"
   },
   {
    "duration": 6,
    "start_time": "2024-03-26T12:54:32.929Z"
   },
   {
    "duration": 5,
    "start_time": "2024-03-26T12:54:33.149Z"
   },
   {
    "duration": 5,
    "start_time": "2024-03-26T12:54:33.917Z"
   },
   {
    "duration": 4,
    "start_time": "2024-03-26T12:54:34.415Z"
   },
   {
    "duration": 8,
    "start_time": "2024-03-26T12:54:46.262Z"
   },
   {
    "duration": 4,
    "start_time": "2024-03-26T12:54:51.014Z"
   },
   {
    "duration": 5,
    "start_time": "2024-03-26T12:54:52.848Z"
   },
   {
    "duration": 1148,
    "start_time": "2024-03-26T12:55:27.937Z"
   },
   {
    "duration": 81,
    "start_time": "2024-03-26T12:55:29.087Z"
   },
   {
    "duration": 5,
    "start_time": "2024-03-26T12:55:29.172Z"
   },
   {
    "duration": 28,
    "start_time": "2024-03-26T12:55:29.178Z"
   },
   {
    "duration": 4,
    "start_time": "2024-03-26T12:55:29.207Z"
   },
   {
    "duration": 20,
    "start_time": "2024-03-26T12:55:29.213Z"
   },
   {
    "duration": 32,
    "start_time": "2024-03-26T12:55:29.234Z"
   },
   {
    "duration": 51,
    "start_time": "2024-03-26T12:55:29.268Z"
   },
   {
    "duration": 11,
    "start_time": "2024-03-26T12:55:29.322Z"
   },
   {
    "duration": 11,
    "start_time": "2024-03-26T12:55:29.335Z"
   },
   {
    "duration": 16,
    "start_time": "2024-03-26T12:55:29.348Z"
   },
   {
    "duration": 44,
    "start_time": "2024-03-26T12:55:29.366Z"
   },
   {
    "duration": 22,
    "start_time": "2024-03-26T12:55:29.412Z"
   },
   {
    "duration": 36,
    "start_time": "2024-03-26T12:55:29.436Z"
   },
   {
    "duration": 15,
    "start_time": "2024-03-26T12:55:29.473Z"
   },
   {
    "duration": 261,
    "start_time": "2024-03-26T12:55:29.489Z"
   },
   {
    "duration": 278,
    "start_time": "2024-03-26T12:55:29.752Z"
   },
   {
    "duration": 253,
    "start_time": "2024-03-26T12:55:30.031Z"
   },
   {
    "duration": 291,
    "start_time": "2024-03-26T12:55:30.286Z"
   },
   {
    "duration": 230,
    "start_time": "2024-03-26T12:55:30.579Z"
   },
   {
    "duration": 319,
    "start_time": "2024-03-26T12:55:30.811Z"
   },
   {
    "duration": 14,
    "start_time": "2024-03-26T12:55:31.132Z"
   },
   {
    "duration": 184,
    "start_time": "2024-03-26T12:55:31.148Z"
   },
   {
    "duration": 4,
    "start_time": "2024-03-26T12:55:31.334Z"
   },
   {
    "duration": 212,
    "start_time": "2024-03-26T12:55:31.345Z"
   },
   {
    "duration": 211,
    "start_time": "2024-03-26T12:55:31.559Z"
   },
   {
    "duration": 4,
    "start_time": "2024-03-26T12:55:31.775Z"
   },
   {
    "duration": 365,
    "start_time": "2024-03-26T12:55:31.781Z"
   },
   {
    "duration": 7,
    "start_time": "2024-03-26T12:55:32.147Z"
   },
   {
    "duration": 100,
    "start_time": "2024-03-26T12:55:32.156Z"
   },
   {
    "duration": 129,
    "start_time": "2024-03-26T12:55:32.258Z"
   },
   {
    "duration": 111,
    "start_time": "2024-03-26T12:55:32.389Z"
   },
   {
    "duration": 45,
    "start_time": "2024-03-26T12:55:32.502Z"
   },
   {
    "duration": 120,
    "start_time": "2024-03-26T12:55:32.549Z"
   },
   {
    "duration": 20,
    "start_time": "2024-03-26T12:55:32.671Z"
   },
   {
    "duration": 10,
    "start_time": "2024-03-26T13:03:40.813Z"
   },
   {
    "duration": 994,
    "start_time": "2024-03-26T13:14:46.297Z"
   },
   {
    "duration": 79,
    "start_time": "2024-03-26T13:14:47.293Z"
   },
   {
    "duration": 4,
    "start_time": "2024-03-26T13:14:47.373Z"
   },
   {
    "duration": 28,
    "start_time": "2024-03-26T13:14:47.379Z"
   },
   {
    "duration": 5,
    "start_time": "2024-03-26T13:14:47.408Z"
   },
   {
    "duration": 20,
    "start_time": "2024-03-26T13:14:47.414Z"
   },
   {
    "duration": 2,
    "start_time": "2024-03-26T13:14:47.436Z"
   },
   {
    "duration": 24,
    "start_time": "2024-03-26T13:14:47.440Z"
   },
   {
    "duration": 12,
    "start_time": "2024-03-26T13:14:47.466Z"
   },
   {
    "duration": 12,
    "start_time": "2024-03-26T13:14:47.480Z"
   },
   {
    "duration": 16,
    "start_time": "2024-03-26T13:14:47.493Z"
   },
   {
    "duration": 7,
    "start_time": "2024-03-26T13:14:47.511Z"
   },
   {
    "duration": 5,
    "start_time": "2024-03-26T13:14:47.519Z"
   },
   {
    "duration": 26,
    "start_time": "2024-03-26T13:14:47.525Z"
   },
   {
    "duration": 5,
    "start_time": "2024-03-26T13:14:47.552Z"
   },
   {
    "duration": 278,
    "start_time": "2024-03-26T13:14:47.558Z"
   },
   {
    "duration": 288,
    "start_time": "2024-03-26T13:14:47.837Z"
   },
   {
    "duration": 218,
    "start_time": "2024-03-26T13:14:48.127Z"
   },
   {
    "duration": 301,
    "start_time": "2024-03-26T13:14:48.346Z"
   },
   {
    "duration": 213,
    "start_time": "2024-03-26T13:14:48.649Z"
   },
   {
    "duration": 299,
    "start_time": "2024-03-26T13:14:48.863Z"
   },
   {
    "duration": 7,
    "start_time": "2024-03-26T13:14:49.164Z"
   },
   {
    "duration": 187,
    "start_time": "2024-03-26T13:14:49.172Z"
   },
   {
    "duration": 4,
    "start_time": "2024-03-26T13:14:49.361Z"
   },
   {
    "duration": 178,
    "start_time": "2024-03-26T13:14:49.367Z"
   },
   {
    "duration": 154,
    "start_time": "2024-03-26T13:14:49.546Z"
   },
   {
    "duration": 4,
    "start_time": "2024-03-26T13:14:49.701Z"
   },
   {
    "duration": 149,
    "start_time": "2024-03-26T13:14:49.707Z"
   },
   {
    "duration": 7,
    "start_time": "2024-03-26T13:14:49.859Z"
   },
   {
    "duration": 34,
    "start_time": "2024-03-26T13:14:49.868Z"
   },
   {
    "duration": 12,
    "start_time": "2024-03-26T13:14:49.903Z"
   },
   {
    "duration": 90,
    "start_time": "2024-03-26T13:14:49.916Z"
   },
   {
    "duration": 29,
    "start_time": "2024-03-26T13:14:50.008Z"
   },
   {
    "duration": 48,
    "start_time": "2024-03-26T13:14:50.038Z"
   },
   {
    "duration": 13,
    "start_time": "2024-03-26T13:14:50.087Z"
   },
   {
    "duration": 5,
    "start_time": "2024-03-26T13:15:53.149Z"
   },
   {
    "duration": 5,
    "start_time": "2024-03-26T13:16:04.470Z"
   },
   {
    "duration": 6,
    "start_time": "2024-03-26T13:16:14.149Z"
   },
   {
    "duration": 5,
    "start_time": "2024-03-26T13:16:14.317Z"
   },
   {
    "duration": 4,
    "start_time": "2024-03-26T13:16:36.446Z"
   },
   {
    "duration": 1061,
    "start_time": "2024-03-26T13:16:39.625Z"
   },
   {
    "duration": 79,
    "start_time": "2024-03-26T13:16:40.688Z"
   },
   {
    "duration": 4,
    "start_time": "2024-03-26T13:16:40.769Z"
   },
   {
    "duration": 29,
    "start_time": "2024-03-26T13:16:40.775Z"
   },
   {
    "duration": 4,
    "start_time": "2024-03-26T13:16:40.806Z"
   },
   {
    "duration": 21,
    "start_time": "2024-03-26T13:16:40.811Z"
   },
   {
    "duration": 3,
    "start_time": "2024-03-26T13:16:40.833Z"
   },
   {
    "duration": 23,
    "start_time": "2024-03-26T13:16:40.837Z"
   },
   {
    "duration": 18,
    "start_time": "2024-03-26T13:16:40.861Z"
   },
   {
    "duration": 11,
    "start_time": "2024-03-26T13:16:40.881Z"
   },
   {
    "duration": 32,
    "start_time": "2024-03-26T13:16:40.893Z"
   },
   {
    "duration": 30,
    "start_time": "2024-03-26T13:16:40.926Z"
   },
   {
    "duration": 27,
    "start_time": "2024-03-26T13:16:40.958Z"
   },
   {
    "duration": 13,
    "start_time": "2024-03-26T13:16:40.986Z"
   },
   {
    "duration": 16,
    "start_time": "2024-03-26T13:16:41.000Z"
   },
   {
    "duration": 11,
    "start_time": "2024-03-26T13:16:41.017Z"
   },
   {
    "duration": 262,
    "start_time": "2024-03-26T13:16:41.030Z"
   },
   {
    "duration": 282,
    "start_time": "2024-03-26T13:16:41.294Z"
   },
   {
    "duration": 206,
    "start_time": "2024-03-26T13:16:41.578Z"
   },
   {
    "duration": 287,
    "start_time": "2024-03-26T13:16:41.786Z"
   },
   {
    "duration": 212,
    "start_time": "2024-03-26T13:16:42.074Z"
   },
   {
    "duration": 285,
    "start_time": "2024-03-26T13:16:42.287Z"
   },
   {
    "duration": 6,
    "start_time": "2024-03-26T13:16:42.574Z"
   },
   {
    "duration": 166,
    "start_time": "2024-03-26T13:16:42.581Z"
   },
   {
    "duration": 3,
    "start_time": "2024-03-26T13:16:42.749Z"
   },
   {
    "duration": 181,
    "start_time": "2024-03-26T13:16:42.753Z"
   },
   {
    "duration": 154,
    "start_time": "2024-03-26T13:16:42.935Z"
   },
   {
    "duration": 4,
    "start_time": "2024-03-26T13:16:43.092Z"
   },
   {
    "duration": 132,
    "start_time": "2024-03-26T13:16:43.098Z"
   },
   {
    "duration": 16,
    "start_time": "2024-03-26T13:16:43.231Z"
   },
   {
    "duration": 44,
    "start_time": "2024-03-26T13:16:43.249Z"
   },
   {
    "duration": 87,
    "start_time": "2024-03-26T13:16:43.294Z"
   },
   {
    "duration": 9,
    "start_time": "2024-03-26T13:16:43.383Z"
   },
   {
    "duration": 18,
    "start_time": "2024-03-26T13:16:43.393Z"
   },
   {
    "duration": 34,
    "start_time": "2024-03-26T13:16:43.412Z"
   },
   {
    "duration": 12,
    "start_time": "2024-03-26T13:16:43.447Z"
   },
   {
    "duration": 1218,
    "start_time": "2024-03-27T06:42:13.309Z"
   },
   {
    "duration": 209,
    "start_time": "2024-03-27T06:42:14.529Z"
   },
   {
    "duration": 4,
    "start_time": "2024-03-27T06:42:14.740Z"
   },
   {
    "duration": 28,
    "start_time": "2024-03-27T06:42:14.745Z"
   },
   {
    "duration": 3,
    "start_time": "2024-03-27T06:42:14.775Z"
   },
   {
    "duration": 40,
    "start_time": "2024-03-27T06:42:14.780Z"
   },
   {
    "duration": 3,
    "start_time": "2024-03-27T06:42:14.821Z"
   },
   {
    "duration": 29,
    "start_time": "2024-03-27T06:42:14.825Z"
   },
   {
    "duration": 12,
    "start_time": "2024-03-27T06:42:14.856Z"
   },
   {
    "duration": 10,
    "start_time": "2024-03-27T06:42:14.870Z"
   },
   {
    "duration": 4,
    "start_time": "2024-03-27T06:42:14.882Z"
   },
   {
    "duration": 21,
    "start_time": "2024-03-27T06:42:14.887Z"
   },
   {
    "duration": 17,
    "start_time": "2024-03-27T06:42:14.910Z"
   },
   {
    "duration": 10,
    "start_time": "2024-03-27T06:42:14.928Z"
   },
   {
    "duration": 23,
    "start_time": "2024-03-27T06:42:14.939Z"
   },
   {
    "duration": 11,
    "start_time": "2024-03-27T06:42:14.964Z"
   },
   {
    "duration": 588,
    "start_time": "2024-03-27T06:42:14.977Z"
   },
   {
    "duration": 601,
    "start_time": "2024-03-27T06:42:15.567Z"
   },
   {
    "duration": 340,
    "start_time": "2024-03-27T06:42:16.170Z"
   },
   {
    "duration": 367,
    "start_time": "2024-03-27T06:42:16.511Z"
   },
   {
    "duration": 216,
    "start_time": "2024-03-27T06:42:16.879Z"
   },
   {
    "duration": 283,
    "start_time": "2024-03-27T06:42:17.097Z"
   },
   {
    "duration": 6,
    "start_time": "2024-03-27T06:42:17.382Z"
   },
   {
    "duration": 175,
    "start_time": "2024-03-27T06:42:17.389Z"
   },
   {
    "duration": 4,
    "start_time": "2024-03-27T06:42:17.566Z"
   },
   {
    "duration": 182,
    "start_time": "2024-03-27T06:42:17.572Z"
   },
   {
    "duration": 151,
    "start_time": "2024-03-27T06:42:17.758Z"
   },
   {
    "duration": 4,
    "start_time": "2024-03-27T06:42:17.912Z"
   },
   {
    "duration": 122,
    "start_time": "2024-03-27T06:42:17.917Z"
   },
   {
    "duration": 7,
    "start_time": "2024-03-27T06:42:18.041Z"
   },
   {
    "duration": 37,
    "start_time": "2024-03-27T06:42:18.049Z"
   },
   {
    "duration": 80,
    "start_time": "2024-03-27T06:42:18.087Z"
   },
   {
    "duration": 16,
    "start_time": "2024-03-27T06:42:18.168Z"
   },
   {
    "duration": 17,
    "start_time": "2024-03-27T06:42:18.186Z"
   },
   {
    "duration": 35,
    "start_time": "2024-03-27T06:42:18.205Z"
   },
   {
    "duration": 18,
    "start_time": "2024-03-27T06:42:18.241Z"
   },
   {
    "duration": 1157,
    "start_time": "2024-04-01T10:31:42.280Z"
   },
   {
    "duration": 222,
    "start_time": "2024-04-01T10:31:43.439Z"
   },
   {
    "duration": 5,
    "start_time": "2024-04-01T10:31:43.663Z"
   },
   {
    "duration": 25,
    "start_time": "2024-04-01T10:31:43.670Z"
   },
   {
    "duration": 5,
    "start_time": "2024-04-01T10:31:43.696Z"
   },
   {
    "duration": 20,
    "start_time": "2024-04-01T10:31:43.702Z"
   },
   {
    "duration": 3,
    "start_time": "2024-04-01T10:31:43.724Z"
   },
   {
    "duration": 18,
    "start_time": "2024-04-01T10:31:43.728Z"
   },
   {
    "duration": 44,
    "start_time": "2024-04-01T10:31:43.747Z"
   },
   {
    "duration": 12,
    "start_time": "2024-04-01T10:31:43.793Z"
   },
   {
    "duration": 7,
    "start_time": "2024-04-01T10:31:43.806Z"
   },
   {
    "duration": 7,
    "start_time": "2024-04-01T10:31:43.814Z"
   },
   {
    "duration": 7,
    "start_time": "2024-04-01T10:31:43.822Z"
   },
   {
    "duration": 4,
    "start_time": "2024-04-01T10:31:43.830Z"
   },
   {
    "duration": 57,
    "start_time": "2024-04-01T10:31:43.836Z"
   },
   {
    "duration": 76,
    "start_time": "2024-04-01T10:31:43.894Z"
   },
   {
    "duration": 287,
    "start_time": "2024-04-01T10:31:43.972Z"
   },
   {
    "duration": 324,
    "start_time": "2024-04-01T10:31:44.260Z"
   },
   {
    "duration": 236,
    "start_time": "2024-04-01T10:31:44.586Z"
   },
   {
    "duration": 293,
    "start_time": "2024-04-01T10:31:44.824Z"
   },
   {
    "duration": 248,
    "start_time": "2024-04-01T10:31:45.119Z"
   },
   {
    "duration": 342,
    "start_time": "2024-04-01T10:31:45.368Z"
   },
   {
    "duration": 6,
    "start_time": "2024-04-01T10:31:45.711Z"
   },
   {
    "duration": 179,
    "start_time": "2024-04-01T10:31:45.719Z"
   },
   {
    "duration": 4,
    "start_time": "2024-04-01T10:31:45.900Z"
   },
   {
    "duration": 181,
    "start_time": "2024-04-01T10:31:45.905Z"
   },
   {
    "duration": 175,
    "start_time": "2024-04-01T10:31:46.087Z"
   },
   {
    "duration": 4,
    "start_time": "2024-04-01T10:31:46.265Z"
   },
   {
    "duration": 140,
    "start_time": "2024-04-01T10:31:46.281Z"
   },
   {
    "duration": 10,
    "start_time": "2024-04-01T10:31:46.423Z"
   },
   {
    "duration": 93,
    "start_time": "2024-04-01T10:31:46.434Z"
   },
   {
    "duration": 187,
    "start_time": "2024-04-01T10:31:46.529Z"
   },
   {
    "duration": 67,
    "start_time": "2024-04-01T10:31:46.717Z"
   },
   {
    "duration": 43,
    "start_time": "2024-04-01T10:31:46.785Z"
   },
   {
    "duration": 63,
    "start_time": "2024-04-01T10:31:46.829Z"
   },
   {
    "duration": 20,
    "start_time": "2024-04-01T10:31:46.893Z"
   }
  ],
  "kernelspec": {
   "display_name": "Python 3 (ipykernel)",
   "language": "python",
   "name": "python3"
  },
  "language_info": {
   "codemirror_mode": {
    "name": "ipython",
    "version": 3
   },
   "file_extension": ".py",
   "mimetype": "text/x-python",
   "name": "python",
   "nbconvert_exporter": "python",
   "pygments_lexer": "ipython3",
   "version": "3.11.7"
  },
  "toc": {
   "base_numbering": 1,
   "nav_menu": {},
   "number_sections": true,
   "sideBar": true,
   "skip_h1_title": true,
   "title_cell": "Table of Contents",
   "title_sidebar": "Contents",
   "toc_cell": false,
   "toc_position": {},
   "toc_section_display": true,
   "toc_window_display": true
  }
 },
 "nbformat": 4,
 "nbformat_minor": 4
}

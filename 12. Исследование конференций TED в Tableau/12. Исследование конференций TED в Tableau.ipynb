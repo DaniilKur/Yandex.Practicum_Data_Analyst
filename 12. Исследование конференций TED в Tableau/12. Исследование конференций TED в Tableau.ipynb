{
 "cells": [
  {
   "cell_type": "markdown",
   "id": "9cb14f76",
   "metadata": {},
   "source": [
    "# Исследование конференций TED"
   ]
  },
  {
   "cell_type": "markdown",
   "id": "e4d6d7dd",
   "metadata": {},
   "source": [
    "**Описание проекта**\n",
    "\n",
    "TED (от англ. technology, education, design — «технологии, образование, дизайн») — некоммерческий фонд, который проводит популярные конференции. На них выступают специалисты из разных областей и читают лекции на актуальные социальные, культурные и научные темы. "
   ]
  },
  {
   "cell_type": "markdown",
   "id": "69a3af15",
   "metadata": {},
   "source": [
    "**Цель проекта:** провести анализ TED-конференций с построением дашбордов. Для этого необходимо выполнить задачи:\n",
    "\n",
    "- загрузить данные в tableau;\n",
    "- построить дашборд «История выступлений», где нужно отразить страны, где проходили конференции, даты конференций, топ 10 популярных тем по годам;\n",
    "- создать дашборд «Тематики выступлений», где необходимо отразить топ тематик по числу выступлений за отслеживаемый период, распределение тематик по топ-3 страны, определить частоту смеха и аплодисментов по тематикам, построить гистограмму длительности и гистограмму просмотров, отразить зависимость просмотров от пролжительности выступлений;\n",
    "- создание дашборд «Авторы выступлений», где нуэно отобразить информацию от авторах."
   ]
  },
  {
   "cell_type": "markdown",
   "id": "5e4b4b12",
   "metadata": {},
   "source": [
    "Ссылка на проект: https://public.tableau.com/app/profile/.22018694/viz/Project1_17149877812620/TED-"
   ]
  }
 ],
 "metadata": {
  "kernelspec": {
   "display_name": "Python 3 (ipykernel)",
   "language": "python",
   "name": "python3"
  },
  "language_info": {
   "codemirror_mode": {
    "name": "ipython",
    "version": 3
   },
   "file_extension": ".py",
   "mimetype": "text/x-python",
   "name": "python",
   "nbconvert_exporter": "python",
   "pygments_lexer": "ipython3",
   "version": "3.9.5"
  },
  "toc": {
   "base_numbering": 1,
   "nav_menu": {},
   "number_sections": true,
   "sideBar": true,
   "skip_h1_title": true,
   "title_cell": "Table of Contents",
   "title_sidebar": "Contents",
   "toc_cell": false,
   "toc_position": {},
   "toc_section_display": true,
   "toc_window_display": false
  }
 },
 "nbformat": 4,
 "nbformat_minor": 5
}

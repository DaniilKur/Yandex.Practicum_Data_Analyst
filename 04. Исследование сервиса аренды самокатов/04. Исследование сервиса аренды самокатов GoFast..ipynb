{
 "cells": [
  {
   "cell_type": "markdown",
   "id": "b282e7ba",
   "metadata": {},
   "source": [
    "# Исследование сервиса аренды самокатов GoFast."
   ]
  },
  {
   "cell_type": "markdown",
   "id": "74566091",
   "metadata": {},
   "source": [
    "Вы аналитик популярного сервиса аренды самокатов GoFast. Вам передали данные о некоторых пользователях из нескольких городов, а также об их поездках. Проанализируйте данные и проверьте некоторые гипотезы, которые могут помочь бизнесу вырасти.\n",
    "Чтобы совершать поездки по городу, пользователи сервиса GoFast пользуются мобильным приложением. Сервисом можно пользоваться:\n",
    "- без подписки\n",
    "    - абонентская плата отсутствует;\n",
    "    - стоимость одной минуты поездки — 8 рублей;\n",
    "    - стоимость старта (начала поездки) —  50 рублей;\n",
    "- с подпиской Ultra\n",
    "    - абонентская плата — 199 рублей в месяц;\n",
    "    - стоимость одной минуты поездки — 6 рублей;\n",
    "    - стоимость старта — бесплатно."
   ]
  },
  {
   "cell_type": "markdown",
   "id": "b2118e36",
   "metadata": {},
   "source": [
    "**Цель проекта - проверить гипотезы:**\n",
    "- Пользователи с подпиской тратят больше времени на поездки.\n",
    "- Расстояние одной поездки в 3130 метров — оптимальное с точки зрения износа самоката. Можно ли сказать, что среднее расстояние, которое проезжают пользователи с подпиской за одну поездку, не превышает 3130 метров?\n",
    "- Помесячная выручка от пользователей с подпиской по месяцам выше, чем выручка от пользователей без подписки. \n",
    "- Техническая команда сервиса обновила сервера, с которыми взаимодействует мобильное приложение. Она надеется, что из-за этого количество обращений в техподдержку значимо снизилось. Некоторый файл содержит для каждого пользователя данные о количестве обращений до обновления и после него. Провести тест для проверки данной гипотизы."
   ]
  },
  {
   "cell_type": "markdown",
   "id": "e3bcc414",
   "metadata": {},
   "source": [
    "**Ход исследования**"
   ]
  },
  {
   "cell_type": "markdown",
   "id": "26b07d31",
   "metadata": {},
   "source": [
    "Данные о пользователях представлены в файлах /datasets/users_go.csv, /datasets/rides_go.csv, /datasets/subscriptions_go.csv. О данных в файле информация не представлена, поэтому необходимо провести обзор данных. Нужно проверить данных на ошибки о оценить их влияние на исследование, и их исправить. После обработки данных приступить к выпролнению рассчетов, объединению таблиц, построению графиков и пр.\n",
    "\n",
    "Таким образом, исследование пройдёт в 5 этапов:\n",
    "- предобработка данных;\n",
    "- исследовательский анализ данных;\n",
    "- объединение данных;\n",
    "- подсчет выручки;\n",
    "- проверка гипотез;"
   ]
  },
  {
   "cell_type": "markdown",
   "id": "c42cbe00",
   "metadata": {},
   "source": [
    "### Загрузка данных"
   ]
  },
  {
   "cell_type": "markdown",
   "id": "b40e7007",
   "metadata": {},
   "source": [
    "#### Импортируем необходимые библиотеки"
   ]
  },
  {
   "cell_type": "code",
   "execution_count": 8,
   "id": "eff9f206",
   "metadata": {},
   "outputs": [],
   "source": [
    "import pandas as pd\n",
    "import matplotlib.pyplot as plt\n",
    "import numpy as np\n",
    "from scipy import stats as st\n",
    "import warnings\n",
    "\n",
    "warnings.filterwarnings('ignore')"
   ]
  },
  {
   "cell_type": "markdown",
   "id": "7267f4b5",
   "metadata": {},
   "source": [
    "#### Откроем файлы с датафреймами"
   ]
  },
  {
   "cell_type": "code",
   "execution_count": 10,
   "id": "b4adba83",
   "metadata": {},
   "outputs": [],
   "source": [
    "user_go = pd.read_csv('users_go.csv')\n",
    "rides_go = pd.read_csv('rides_go.csv', parse_dates=['date'])\n",
    "sub_go = pd.read_csv('subscriptions_go.csv')"
   ]
  },
  {
   "cell_type": "code",
   "execution_count": 11,
   "id": "c51492cc",
   "metadata": {},
   "outputs": [],
   "source": [
    "#Устанавливаем формат отображения чисел с плавающей запятой (float) в два знака.\n",
    "#Это позволяет отобразить числа с ограниченным числом десятичных знаков для более удобного чтения\n",
    "pd.options.display.float_format = '{:.2f}'.format\n",
    "# Создадим функцию для просмотра информации о датафреймах\n",
    "def info_dt(row):\n",
    "    \"\"\"\n",
    "    Данная функция выводит первичную информацию о датафреме\n",
    "    \"\"\"\n",
    "    print('Вывод первых 20-ти строчек')\n",
    "    \n",
    "    print(row.head(20))\n",
    "    print(\"\\n\") \n",
    "    print('Вывод информации о датафрейме')\n",
    "    \n",
    "    row.info()\n",
    "    print(\"\\n\") \n",
    "    print('Представление о данных в числах')\n",
    "    \n",
    "    print(row.describe())"
   ]
  },
  {
   "cell_type": "markdown",
   "id": "88574d0d",
   "metadata": {},
   "source": [
    "#### Рассмотрим каждый датафрейм по отдельности"
   ]
  },
  {
   "cell_type": "markdown",
   "id": "7a12a801",
   "metadata": {},
   "source": [
    "Датафрейм с пользователями"
   ]
  },
  {
   "cell_type": "code",
   "execution_count": 14,
   "id": "adcc7aeb",
   "metadata": {},
   "outputs": [
    {
     "name": "stdout",
     "output_type": "stream",
     "text": [
      "Вывод первых 20-ти строчек\n",
      "    user_id        name  age            city subscription_type\n",
      "0         1        Кира   22          Тюмень             ultra\n",
      "1         2   Станислав   31            Омск             ultra\n",
      "2         3     Алексей   20          Москва             ultra\n",
      "3         4  Константин   26  Ростов-на-Дону             ultra\n",
      "4         5       Адель   28            Омск             ultra\n",
      "5         6      Регина   25       Краснодар             ultra\n",
      "6         7       Игорь   23            Омск             ultra\n",
      "7         8        Юрий   23       Краснодар             ultra\n",
      "8         9          Ян   21       Пятигорск             ultra\n",
      "9        10     Валерий   18    Екатеринбург             ultra\n",
      "10       11       Агата   31       Краснодар             ultra\n",
      "11       12        Марк   27          Тюмень             ultra\n",
      "12       13         Ева   24       Краснодар             ultra\n",
      "13       14    Антонина   18       Пятигорск             ultra\n",
      "14       15     Валерия   24          Тюмень             ultra\n",
      "15       16      Амалия   27       Краснодар             ultra\n",
      "16       17      Даниил   29          Москва             ultra\n",
      "17       18     Аделина   24            Сочи             ultra\n",
      "18       19      Регина   32          Тюмень             ultra\n",
      "19       20       Игорь   23            Омск             ultra\n",
      "\n",
      "\n",
      "Вывод информации о датафрейме\n",
      "<class 'pandas.core.frame.DataFrame'>\n",
      "RangeIndex: 1565 entries, 0 to 1564\n",
      "Data columns (total 5 columns):\n",
      " #   Column             Non-Null Count  Dtype \n",
      "---  ------             --------------  ----- \n",
      " 0   user_id            1565 non-null   int64 \n",
      " 1   name               1565 non-null   object\n",
      " 2   age                1565 non-null   int64 \n",
      " 3   city               1565 non-null   object\n",
      " 4   subscription_type  1565 non-null   object\n",
      "dtypes: int64(2), object(3)\n",
      "memory usage: 61.3+ KB\n",
      "\n",
      "\n",
      "Представление о данных в числах\n",
      "       user_id     age\n",
      "count  1565.00 1565.00\n",
      "mean    762.63   24.92\n",
      "std     443.26    4.55\n",
      "min       1.00   12.00\n",
      "25%     378.00   22.00\n",
      "50%     762.00   25.00\n",
      "75%    1146.00   28.00\n",
      "max    1534.00   43.00\n"
     ]
    }
   ],
   "source": [
    "info_dt(user_go)"
   ]
  },
  {
   "cell_type": "markdown",
   "id": "b33d9cb7",
   "metadata": {},
   "source": [
    "Вывод по датафрейму: заголовки столбцов соответствует нормальному стилю, таблица имеет корректный тип данных у столбцов, отсутствуют пропуски в значениях."
   ]
  },
  {
   "cell_type": "markdown",
   "id": "74865f05",
   "metadata": {},
   "source": [
    "Датафрейм с поездками"
   ]
  },
  {
   "cell_type": "code",
   "execution_count": 17,
   "id": "a9e6c3cd",
   "metadata": {
    "scrolled": true
   },
   "outputs": [
    {
     "name": "stdout",
     "output_type": "stream",
     "text": [
      "Вывод первых 20-ти строчек\n",
      "    user_id  distance  duration       date\n",
      "0         1   4409.92     25.60 2021-01-01\n",
      "1         1   2617.59     15.82 2021-01-18\n",
      "2         1    754.16      6.23 2021-04-20\n",
      "3         1   2694.78     18.51 2021-08-11\n",
      "4         1   4028.69     26.27 2021-08-28\n",
      "5         1   2770.89     16.65 2021-10-09\n",
      "6         1   3039.02     14.93 2021-10-19\n",
      "7         1   2842.12     23.12 2021-11-06\n",
      "8         1   3412.69     15.24 2021-11-14\n",
      "9         1    748.69     15.04 2021-11-22\n",
      "10        1   4031.02     17.67 2021-12-14\n",
      "11        1   2720.61      9.53 2021-12-22\n",
      "12        2   3105.09     24.31 2021-03-15\n",
      "13        2   3053.52     11.54 2021-03-18\n",
      "14        2   4029.12     25.11 2021-03-23\n",
      "15        2   2805.79     20.65 2021-04-08\n",
      "16        2   3358.60     18.40 2021-04-13\n",
      "17        2   3255.34     13.85 2021-06-20\n",
      "18        2   3942.82     20.14 2021-07-02\n",
      "19        2   2837.91     26.03 2021-07-18\n",
      "\n",
      "\n",
      "Вывод информации о датафрейме\n",
      "<class 'pandas.core.frame.DataFrame'>\n",
      "RangeIndex: 18068 entries, 0 to 18067\n",
      "Data columns (total 4 columns):\n",
      " #   Column    Non-Null Count  Dtype         \n",
      "---  ------    --------------  -----         \n",
      " 0   user_id   18068 non-null  int64         \n",
      " 1   distance  18068 non-null  float64       \n",
      " 2   duration  18068 non-null  float64       \n",
      " 3   date      18068 non-null  datetime64[ns]\n",
      "dtypes: datetime64[ns](1), float64(2), int64(1)\n",
      "memory usage: 564.8 KB\n",
      "\n",
      "\n",
      "Представление о данных в числах\n",
      "       user_id  distance  duration                           date\n",
      "count 18068.00  18068.00  18068.00                          18068\n",
      "mean    842.87   3070.66     17.81  2021-06-30 19:47:21.266327296\n",
      "min       1.00      0.86      0.50            2021-01-01 00:00:00\n",
      "25%     487.00   2543.23     13.60            2021-04-02 00:00:00\n",
      "50%     889.00   3133.61     17.68            2021-06-30 00:00:00\n",
      "75%    1213.25   3776.22     21.72            2021-09-28 00:00:00\n",
      "max    1534.00   7211.01     40.82            2021-12-30 00:00:00\n",
      "std     434.73   1116.83      6.09                            NaN\n"
     ]
    }
   ],
   "source": [
    "info_dt(rides_go)"
   ]
  },
  {
   "cell_type": "markdown",
   "id": "164205ad",
   "metadata": {},
   "source": [
    "Вывод по датафрейму: заголовки столбцов соответствует нормальному стилю, столбцы имеют корректный тип данных, отсутствуют пропуски в значениях."
   ]
  },
  {
   "cell_type": "markdown",
   "id": "3a182192",
   "metadata": {},
   "source": [
    "Датафрейм с подписками "
   ]
  },
  {
   "cell_type": "code",
   "execution_count": 20,
   "id": "67aaa278",
   "metadata": {},
   "outputs": [
    {
     "name": "stdout",
     "output_type": "stream",
     "text": [
      "Вывод первых 20-ти строчек\n",
      "  subscription_type  minute_price  start_ride_price  subscription_fee\n",
      "0              free             8                50                 0\n",
      "1             ultra             6                 0               199\n",
      "\n",
      "\n",
      "Вывод информации о датафрейме\n",
      "<class 'pandas.core.frame.DataFrame'>\n",
      "RangeIndex: 2 entries, 0 to 1\n",
      "Data columns (total 4 columns):\n",
      " #   Column             Non-Null Count  Dtype \n",
      "---  ------             --------------  ----- \n",
      " 0   subscription_type  2 non-null      object\n",
      " 1   minute_price       2 non-null      int64 \n",
      " 2   start_ride_price   2 non-null      int64 \n",
      " 3   subscription_fee   2 non-null      int64 \n",
      "dtypes: int64(3), object(1)\n",
      "memory usage: 196.0+ bytes\n",
      "\n",
      "\n",
      "Представление о данных в числах\n",
      "       minute_price  start_ride_price  subscription_fee\n",
      "count          2.00              2.00              2.00\n",
      "mean           7.00             25.00             99.50\n",
      "std            1.41             35.36            140.71\n",
      "min            6.00              0.00              0.00\n",
      "25%            6.50             12.50             49.75\n",
      "50%            7.00             25.00             99.50\n",
      "75%            7.50             37.50            149.25\n",
      "max            8.00             50.00            199.00\n"
     ]
    }
   ],
   "source": [
    "info_dt(sub_go)"
   ]
  },
  {
   "cell_type": "markdown",
   "id": "0b2baa44",
   "metadata": {},
   "source": [
    "Вывод по датафрейму: все правильно."
   ]
  },
  {
   "cell_type": "markdown",
   "id": "55785cef",
   "metadata": {},
   "source": [
    "**Выводы**: \n",
    "- все таблицы имееют нормальный стиль заголовков;\n",
    "- пропуски значений отсутствуют;\n",
    "- в таблицах отсутствуют нереалистичные значения."
   ]
  },
  {
   "cell_type": "markdown",
   "id": "e95ebca7",
   "metadata": {},
   "source": [
    "### Шаг 2. Предобработка данных"
   ]
  },
  {
   "cell_type": "markdown",
   "id": "247db6ee",
   "metadata": {},
   "source": [
    "#### Создим новый столбец с номером месяца на основе столбца date."
   ]
  },
  {
   "cell_type": "code",
   "execution_count": 25,
   "id": "ea8ea2b5",
   "metadata": {},
   "outputs": [
    {
     "name": "stdout",
     "output_type": "stream",
     "text": [
      "2021-01-01 00:00:00\n",
      "2021-12-30 00:00:00\n"
     ]
    }
   ],
   "source": [
    "# Проверим, за какой период собраны данные\n",
    "print(rides_go['date'].min())\n",
    "print(rides_go['date'].max())"
   ]
  },
  {
   "cell_type": "markdown",
   "id": "cafb3241",
   "metadata": {},
   "source": [
    "Данные представлены за 1 год."
   ]
  },
  {
   "cell_type": "code",
   "execution_count": 27,
   "id": "9d6e73ed",
   "metadata": {
    "scrolled": true
   },
   "outputs": [
    {
     "data": {
      "text/html": [
       "<div>\n",
       "<style scoped>\n",
       "    .dataframe tbody tr th:only-of-type {\n",
       "        vertical-align: middle;\n",
       "    }\n",
       "\n",
       "    .dataframe tbody tr th {\n",
       "        vertical-align: top;\n",
       "    }\n",
       "\n",
       "    .dataframe thead th {\n",
       "        text-align: right;\n",
       "    }\n",
       "</style>\n",
       "<table border=\"1\" class=\"dataframe\">\n",
       "  <thead>\n",
       "    <tr style=\"text-align: right;\">\n",
       "      <th></th>\n",
       "      <th>user_id</th>\n",
       "      <th>distance</th>\n",
       "      <th>duration</th>\n",
       "      <th>date</th>\n",
       "      <th>month</th>\n",
       "    </tr>\n",
       "  </thead>\n",
       "  <tbody>\n",
       "    <tr>\n",
       "      <th>0</th>\n",
       "      <td>1</td>\n",
       "      <td>4409.92</td>\n",
       "      <td>25.60</td>\n",
       "      <td>2021-01-01</td>\n",
       "      <td>1</td>\n",
       "    </tr>\n",
       "    <tr>\n",
       "      <th>1</th>\n",
       "      <td>1</td>\n",
       "      <td>2617.59</td>\n",
       "      <td>15.82</td>\n",
       "      <td>2021-01-18</td>\n",
       "      <td>1</td>\n",
       "    </tr>\n",
       "    <tr>\n",
       "      <th>2</th>\n",
       "      <td>1</td>\n",
       "      <td>754.16</td>\n",
       "      <td>6.23</td>\n",
       "      <td>2021-04-20</td>\n",
       "      <td>4</td>\n",
       "    </tr>\n",
       "    <tr>\n",
       "      <th>3</th>\n",
       "      <td>1</td>\n",
       "      <td>2694.78</td>\n",
       "      <td>18.51</td>\n",
       "      <td>2021-08-11</td>\n",
       "      <td>8</td>\n",
       "    </tr>\n",
       "    <tr>\n",
       "      <th>4</th>\n",
       "      <td>1</td>\n",
       "      <td>4028.69</td>\n",
       "      <td>26.27</td>\n",
       "      <td>2021-08-28</td>\n",
       "      <td>8</td>\n",
       "    </tr>\n",
       "    <tr>\n",
       "      <th>5</th>\n",
       "      <td>1</td>\n",
       "      <td>2770.89</td>\n",
       "      <td>16.65</td>\n",
       "      <td>2021-10-09</td>\n",
       "      <td>10</td>\n",
       "    </tr>\n",
       "    <tr>\n",
       "      <th>6</th>\n",
       "      <td>1</td>\n",
       "      <td>3039.02</td>\n",
       "      <td>14.93</td>\n",
       "      <td>2021-10-19</td>\n",
       "      <td>10</td>\n",
       "    </tr>\n",
       "    <tr>\n",
       "      <th>7</th>\n",
       "      <td>1</td>\n",
       "      <td>2842.12</td>\n",
       "      <td>23.12</td>\n",
       "      <td>2021-11-06</td>\n",
       "      <td>11</td>\n",
       "    </tr>\n",
       "    <tr>\n",
       "      <th>8</th>\n",
       "      <td>1</td>\n",
       "      <td>3412.69</td>\n",
       "      <td>15.24</td>\n",
       "      <td>2021-11-14</td>\n",
       "      <td>11</td>\n",
       "    </tr>\n",
       "    <tr>\n",
       "      <th>9</th>\n",
       "      <td>1</td>\n",
       "      <td>748.69</td>\n",
       "      <td>15.04</td>\n",
       "      <td>2021-11-22</td>\n",
       "      <td>11</td>\n",
       "    </tr>\n",
       "  </tbody>\n",
       "</table>\n",
       "</div>"
      ],
      "text/plain": [
       "   user_id  distance  duration       date  month\n",
       "0        1   4409.92     25.60 2021-01-01      1\n",
       "1        1   2617.59     15.82 2021-01-18      1\n",
       "2        1    754.16      6.23 2021-04-20      4\n",
       "3        1   2694.78     18.51 2021-08-11      8\n",
       "4        1   4028.69     26.27 2021-08-28      8\n",
       "5        1   2770.89     16.65 2021-10-09     10\n",
       "6        1   3039.02     14.93 2021-10-19     10\n",
       "7        1   2842.12     23.12 2021-11-06     11\n",
       "8        1   3412.69     15.24 2021-11-14     11\n",
       "9        1    748.69     15.04 2021-11-22     11"
      ]
     },
     "execution_count": 27,
     "metadata": {},
     "output_type": "execute_result"
    }
   ],
   "source": [
    "rides_go['month'] = rides_go['date'].dt.month\n",
    "# Проверяем\n",
    "rides_go.head(10)"
   ]
  },
  {
   "cell_type": "markdown",
   "id": "b29d7ca6",
   "metadata": {},
   "source": [
    "#### Проверим наличие дубликатов в датафреймах rides_go и user_go"
   ]
  },
  {
   "cell_type": "code",
   "execution_count": 29,
   "id": "5a527fd9",
   "metadata": {},
   "outputs": [
    {
     "data": {
      "text/plain": [
       "31"
      ]
     },
     "execution_count": 29,
     "metadata": {},
     "output_type": "execute_result"
    }
   ],
   "source": [
    "user_go.duplicated().sum()"
   ]
  },
  {
   "cell_type": "code",
   "execution_count": 30,
   "id": "69c7d27a",
   "metadata": {},
   "outputs": [
    {
     "data": {
      "text/plain": [
       "0"
      ]
     },
     "execution_count": 30,
     "metadata": {},
     "output_type": "execute_result"
    }
   ],
   "source": [
    "# Удалим дубликаты\n",
    "user_go.drop_duplicates(inplace=True)\n",
    "# Проверим\n",
    "user_go.duplicated().sum()"
   ]
  },
  {
   "cell_type": "code",
   "execution_count": 31,
   "id": "d8a5670e",
   "metadata": {
    "scrolled": true
   },
   "outputs": [
    {
     "data": {
      "text/plain": [
       "array(['Тюмень', 'Омск', 'Москва', 'Ростов-на-Дону', 'Краснодар',\n",
       "       'Пятигорск', 'Екатеринбург', 'Сочи'], dtype=object)"
      ]
     },
     "execution_count": 31,
     "metadata": {},
     "output_type": "execute_result"
    }
   ],
   "source": [
    "# Проверим на наличие неявных дубликатов\n",
    "user_go['city'].unique()"
   ]
  },
  {
   "cell_type": "markdown",
   "id": "73005f9a",
   "metadata": {},
   "source": [
    "Дубликаты не обнаружены"
   ]
  },
  {
   "cell_type": "code",
   "execution_count": 33,
   "id": "c7f07b93",
   "metadata": {},
   "outputs": [
    {
     "data": {
      "text/plain": [
       "0"
      ]
     },
     "execution_count": 33,
     "metadata": {},
     "output_type": "execute_result"
    }
   ],
   "source": [
    " rides_go.duplicated().sum()"
   ]
  },
  {
   "cell_type": "markdown",
   "id": "7a39d2c3",
   "metadata": {},
   "source": [
    "Дубликаты не обнаружены"
   ]
  },
  {
   "cell_type": "markdown",
   "id": "83de0524",
   "metadata": {},
   "source": [
    "**Вывод**:\n",
    "- изменили тип данных столбца date таблице rides_go на корректный;\n",
    "- добавили новый столбец month в датафрейм rides_go;\n",
    "- удалили и проверили наличие дубликатов."
   ]
  },
  {
   "cell_type": "markdown",
   "id": "212593c7",
   "metadata": {},
   "source": [
    "### Шаг 3. Исследовательский анализ данных"
   ]
  },
  {
   "cell_type": "markdown",
   "id": "3ddea2e5",
   "metadata": {},
   "source": [
    "#### Частота встречаемости городов"
   ]
  },
  {
   "cell_type": "code",
   "execution_count": 38,
   "id": "7d81edc3",
   "metadata": {},
   "outputs": [
    {
     "name": "stdout",
     "output_type": "stream",
     "text": [
      "city\n",
      "Пятигорск         219\n",
      "Екатеринбург      204\n",
      "Ростов-на-Дону    198\n",
      "Краснодар         193\n",
      "Сочи              189\n",
      "Омск              183\n",
      "Тюмень            180\n",
      "Москва            168\n",
      "Name: count, dtype: int64\n",
      "\n",
      "\n",
      "Соотношение  встречаемости города к общиму количеству\n"
     ]
    },
    {
     "data": {
      "text/plain": [
       "city\n",
       "Пятигорск        0.14\n",
       "Екатеринбург     0.13\n",
       "Ростов-на-Дону   0.13\n",
       "Краснодар        0.13\n",
       "Сочи             0.12\n",
       "Омск             0.12\n",
       "Тюмень           0.12\n",
       "Москва           0.11\n",
       "Name: count, dtype: float64"
      ]
     },
     "execution_count": 38,
     "metadata": {},
     "output_type": "execute_result"
    }
   ],
   "source": [
    "print(user_go['city'].value_counts()) \n",
    "print(\"\\n\")\n",
    "print('Соотношение  встречаемости города к общиму количеству')\n",
    "user_go['city'].value_counts() / user_go['city'].value_counts().sum()"
   ]
  },
  {
   "cell_type": "markdown",
   "id": "f9eb6b60",
   "metadata": {},
   "source": [
    "Приложением больше всего пользуются в Пятигорске и Екатеринбугре. Меньше всего в Москве. Приложение пользуется примерно равным спросом в каждом городе в процентном соотношении."
   ]
  },
  {
   "cell_type": "code",
   "execution_count": 40,
   "id": "dd586123",
   "metadata": {},
   "outputs": [
    {
     "data": {
      "text/plain": [
       "<Axes: title={'center': 'Распределение пользователей по городам'}, ylabel='city'>"
      ]
     },
     "execution_count": 40,
     "metadata": {},
     "output_type": "execute_result"
    },
    {
     "data": {
      "image/png": "[encoded data removed]",
      "text/plain": [
       "<Figure size 800x700 with 1 Axes>"
      ]
     },
     "metadata": {},
     "output_type": "display_data"
    }
   ],
   "source": [
    "# Построим круговою диаграмму для визуализации данных\n",
    "user_go['city'].value_counts().plot.barh(\n",
    "                                    title = 'Распределение пользователей по городам', \n",
    "                                    figsize=(8, 7))"
   ]
  },
  {
   "cell_type": "markdown",
   "id": "80698255",
   "metadata": {},
   "source": [
    "#### Соотношение пользователей с подпиской и без подписки."
   ]
  },
  {
   "cell_type": "code",
   "execution_count": 42,
   "id": "ae357fc5",
   "metadata": {},
   "outputs": [
    {
     "name": "stdout",
     "output_type": "stream",
     "text": [
      "subscription_type\n",
      "free     835\n",
      "ultra    699\n",
      "Name: count, dtype: int64\n"
     ]
    },
    {
     "data": {
      "text/plain": [
       "subscription_type\n",
       "free    0.54\n",
       "ultra   0.46\n",
       "Name: count, dtype: float64"
      ]
     },
     "execution_count": 42,
     "metadata": {},
     "output_type": "execute_result"
    }
   ],
   "source": [
    "sub_corr = user_go['subscription_type'].value_counts() / user_go['subscription_type'].count()\n",
    "print(user_go['subscription_type'].value_counts())\n",
    "sub_corr"
   ]
  },
  {
   "cell_type": "markdown",
   "id": "fe74b20f",
   "metadata": {},
   "source": [
    "Пользователей без подписки больше."
   ]
  },
  {
   "cell_type": "code",
   "execution_count": 44,
   "id": "31c80329",
   "metadata": {},
   "outputs": [
    {
     "data": {
      "text/plain": [
       "<Axes: title={'center': 'Соотношение пользователей с подпиской и без подписки'}, ylabel='count'>"
      ]
     },
     "execution_count": 44,
     "metadata": {},
     "output_type": "execute_result"
    },
    {
     "data": {
      "image/png": "[encoded data removed]",
      "text/plain": [
       "<Figure size 800x700 with 1 Axes>"
      ]
     },
     "metadata": {},
     "output_type": "display_data"
    }
   ],
   "source": [
    "# Построим круговою диаграмму для визуализации данных\n",
    "sub_corr.plot(kind = 'pie', autopct = '%1.0f%%',title = 'Соотношение пользователей с подпиской и без подписки', \n",
    "              colors=['yellow', 'pink'],\n",
    "              textprops={'fontsize': 17}, \n",
    "              figsize=(8, 7))"
   ]
  },
  {
   "cell_type": "markdown",
   "id": "7d1f66c5",
   "metadata": {},
   "source": [
    "#### Возраст пользователей"
   ]
  },
  {
   "cell_type": "code",
   "execution_count": 46,
   "id": "7c099a3c",
   "metadata": {},
   "outputs": [
    {
     "data": {
      "text/plain": [
       "count   1534.00\n",
       "mean      24.90\n",
       "std        4.57\n",
       "min       12.00\n",
       "25%       22.00\n",
       "50%       25.00\n",
       "75%       28.00\n",
       "max       43.00\n",
       "Name: age, dtype: float64"
      ]
     },
     "execution_count": 46,
     "metadata": {},
     "output_type": "execute_result"
    }
   ],
   "source": [
    "user_go['age'].describe()"
   ]
  },
  {
   "cell_type": "code",
   "execution_count": 47,
   "id": "f23cb8f6",
   "metadata": {},
   "outputs": [
    {
     "data": {
      "text/plain": [
       "Text(0, 0.5, 'Частота')"
      ]
     },
     "execution_count": 47,
     "metadata": {},
     "output_type": "execute_result"
    },
    {
     "data": {
      "image/png": "[encoded data removed]",
      "text/plain": [
       "<Figure size 640x480 with 1 Axes>"
      ]
     },
     "metadata": {},
     "output_type": "display_data"
    }
   ],
   "source": [
    "user_go['age'].hist()\n",
    "plt.title('Распределение возроста пользователей')\n",
    "plt.xlabel('Возраст')\n",
    "plt.ylabel('Частота')"
   ]
  },
  {
   "cell_type": "markdown",
   "id": "9d8995a5",
   "metadata": {},
   "source": [
    "Самый младший пользователь - 12 лет. Самый старший пользователь - 43 года. Средний возраст - 25 лет. Больше всего пользователей возраста 21 - 27 лет. Клиенты возрастом после 37 лет встречаются редко."
   ]
  },
  {
   "cell_type": "markdown",
   "id": "1804d7fb",
   "metadata": {},
   "source": [
    "#### Расстояние, которое пользователь преодолел за одну поездку"
   ]
  },
  {
   "cell_type": "code",
   "execution_count": 50,
   "id": "a4495301",
   "metadata": {},
   "outputs": [
    {
     "data": {
      "text/html": [
       "<div>\n",
       "<style scoped>\n",
       "    .dataframe tbody tr th:only-of-type {\n",
       "        vertical-align: middle;\n",
       "    }\n",
       "\n",
       "    .dataframe tbody tr th {\n",
       "        vertical-align: top;\n",
       "    }\n",
       "\n",
       "    .dataframe thead th {\n",
       "        text-align: right;\n",
       "    }\n",
       "</style>\n",
       "<table border=\"1\" class=\"dataframe\">\n",
       "  <thead>\n",
       "    <tr style=\"text-align: right;\">\n",
       "      <th></th>\n",
       "      <th>user_id</th>\n",
       "      <th>distance</th>\n",
       "      <th>duration</th>\n",
       "      <th>date</th>\n",
       "      <th>month</th>\n",
       "    </tr>\n",
       "  </thead>\n",
       "  <tbody>\n",
       "    <tr>\n",
       "      <th>11555</th>\n",
       "      <td>1069</td>\n",
       "      <td>0.86</td>\n",
       "      <td>10.00</td>\n",
       "      <td>2021-01-31</td>\n",
       "      <td>1</td>\n",
       "    </tr>\n",
       "    <tr>\n",
       "      <th>9541</th>\n",
       "      <td>925</td>\n",
       "      <td>2.57</td>\n",
       "      <td>3.01</td>\n",
       "      <td>2021-10-19</td>\n",
       "      <td>10</td>\n",
       "    </tr>\n",
       "    <tr>\n",
       "      <th>13690</th>\n",
       "      <td>1223</td>\n",
       "      <td>4.33</td>\n",
       "      <td>4.01</td>\n",
       "      <td>2021-05-22</td>\n",
       "      <td>5</td>\n",
       "    </tr>\n",
       "    <tr>\n",
       "      <th>8658</th>\n",
       "      <td>861</td>\n",
       "      <td>6.78</td>\n",
       "      <td>6.02</td>\n",
       "      <td>2021-07-21</td>\n",
       "      <td>7</td>\n",
       "    </tr>\n",
       "    <tr>\n",
       "      <th>7841</th>\n",
       "      <td>796</td>\n",
       "      <td>7.10</td>\n",
       "      <td>10.03</td>\n",
       "      <td>2021-11-26</td>\n",
       "      <td>11</td>\n",
       "    </tr>\n",
       "    <tr>\n",
       "      <th>8906</th>\n",
       "      <td>880</td>\n",
       "      <td>11.28</td>\n",
       "      <td>2.04</td>\n",
       "      <td>2021-03-28</td>\n",
       "      <td>3</td>\n",
       "    </tr>\n",
       "    <tr>\n",
       "      <th>8324</th>\n",
       "      <td>835</td>\n",
       "      <td>12.23</td>\n",
       "      <td>4.03</td>\n",
       "      <td>2021-09-19</td>\n",
       "      <td>9</td>\n",
       "    </tr>\n",
       "    <tr>\n",
       "      <th>13940</th>\n",
       "      <td>1240</td>\n",
       "      <td>15.00</td>\n",
       "      <td>10.05</td>\n",
       "      <td>2021-08-20</td>\n",
       "      <td>8</td>\n",
       "    </tr>\n",
       "    <tr>\n",
       "      <th>15626</th>\n",
       "      <td>1364</td>\n",
       "      <td>15.37</td>\n",
       "      <td>6.06</td>\n",
       "      <td>2021-08-22</td>\n",
       "      <td>8</td>\n",
       "    </tr>\n",
       "    <tr>\n",
       "      <th>11862</th>\n",
       "      <td>1091</td>\n",
       "      <td>15.63</td>\n",
       "      <td>13.04</td>\n",
       "      <td>2021-03-29</td>\n",
       "      <td>3</td>\n",
       "    </tr>\n",
       "  </tbody>\n",
       "</table>\n",
       "</div>"
      ],
      "text/plain": [
       "       user_id  distance  duration       date  month\n",
       "11555     1069      0.86     10.00 2021-01-31      1\n",
       "9541       925      2.57      3.01 2021-10-19     10\n",
       "13690     1223      4.33      4.01 2021-05-22      5\n",
       "8658       861      6.78      6.02 2021-07-21      7\n",
       "7841       796      7.10     10.03 2021-11-26     11\n",
       "8906       880     11.28      2.04 2021-03-28      3\n",
       "8324       835     12.23      4.03 2021-09-19      9\n",
       "13940     1240     15.00     10.05 2021-08-20      8\n",
       "15626     1364     15.37      6.06 2021-08-22      8\n",
       "11862     1091     15.63     13.04 2021-03-29      3"
      ]
     },
     "execution_count": 50,
     "metadata": {},
     "output_type": "execute_result"
    }
   ],
   "source": [
    "# Самые короткие поездки\n",
    "rides_go.sort_values('distance').head(10)"
   ]
  },
  {
   "cell_type": "markdown",
   "id": "a5fb3c36",
   "metadata": {},
   "source": [
    "Встречаются аномальные значения. Некоторые пользователи проезжали очень малое расстояние за большой промежуток времени. Это может быть связано со сбоем в работе программы рассчета расстояния, либо некоторые пользователи случайно арендовали самокат и не отменили аренду сразу, а заметили это через время. Необходимо проверить обращения в тех. поддержу для подтверждения."
   ]
  },
  {
   "cell_type": "code",
   "execution_count": 52,
   "id": "b44e47ee",
   "metadata": {},
   "outputs": [
    {
     "data": {
      "text/html": [
       "<div>\n",
       "<style scoped>\n",
       "    .dataframe tbody tr th:only-of-type {\n",
       "        vertical-align: middle;\n",
       "    }\n",
       "\n",
       "    .dataframe tbody tr th {\n",
       "        vertical-align: top;\n",
       "    }\n",
       "\n",
       "    .dataframe thead th {\n",
       "        text-align: right;\n",
       "    }\n",
       "</style>\n",
       "<table border=\"1\" class=\"dataframe\">\n",
       "  <thead>\n",
       "    <tr style=\"text-align: right;\">\n",
       "      <th></th>\n",
       "      <th>user_id</th>\n",
       "      <th>distance</th>\n",
       "      <th>duration</th>\n",
       "      <th>date</th>\n",
       "      <th>month</th>\n",
       "    </tr>\n",
       "  </thead>\n",
       "  <tbody>\n",
       "    <tr>\n",
       "      <th>16309</th>\n",
       "      <td>1411</td>\n",
       "      <td>7211.01</td>\n",
       "      <td>0.50</td>\n",
       "      <td>2021-04-15</td>\n",
       "      <td>4</td>\n",
       "    </tr>\n",
       "    <tr>\n",
       "      <th>16484</th>\n",
       "      <td>1422</td>\n",
       "      <td>7066.00</td>\n",
       "      <td>23.62</td>\n",
       "      <td>2021-02-12</td>\n",
       "      <td>2</td>\n",
       "    </tr>\n",
       "    <tr>\n",
       "      <th>15580</th>\n",
       "      <td>1361</td>\n",
       "      <td>6908.49</td>\n",
       "      <td>23.82</td>\n",
       "      <td>2021-03-27</td>\n",
       "      <td>3</td>\n",
       "    </tr>\n",
       "    <tr>\n",
       "      <th>17171</th>\n",
       "      <td>1471</td>\n",
       "      <td>6760.94</td>\n",
       "      <td>32.04</td>\n",
       "      <td>2021-08-03</td>\n",
       "      <td>8</td>\n",
       "    </tr>\n",
       "    <tr>\n",
       "      <th>17242</th>\n",
       "      <td>1477</td>\n",
       "      <td>6724.93</td>\n",
       "      <td>0.50</td>\n",
       "      <td>2021-01-12</td>\n",
       "      <td>1</td>\n",
       "    </tr>\n",
       "    <tr>\n",
       "      <th>10341</th>\n",
       "      <td>981</td>\n",
       "      <td>6671.97</td>\n",
       "      <td>27.30</td>\n",
       "      <td>2021-12-06</td>\n",
       "      <td>12</td>\n",
       "    </tr>\n",
       "    <tr>\n",
       "      <th>11385</th>\n",
       "      <td>1057</td>\n",
       "      <td>6601.20</td>\n",
       "      <td>0.50</td>\n",
       "      <td>2021-02-07</td>\n",
       "      <td>2</td>\n",
       "    </tr>\n",
       "    <tr>\n",
       "      <th>12086</th>\n",
       "      <td>1108</td>\n",
       "      <td>6538.94</td>\n",
       "      <td>29.65</td>\n",
       "      <td>2021-09-27</td>\n",
       "      <td>9</td>\n",
       "    </tr>\n",
       "    <tr>\n",
       "      <th>10915</th>\n",
       "      <td>1022</td>\n",
       "      <td>6535.39</td>\n",
       "      <td>30.01</td>\n",
       "      <td>2021-10-14</td>\n",
       "      <td>10</td>\n",
       "    </tr>\n",
       "    <tr>\n",
       "      <th>11319</th>\n",
       "      <td>1052</td>\n",
       "      <td>6503.60</td>\n",
       "      <td>26.01</td>\n",
       "      <td>2021-07-01</td>\n",
       "      <td>7</td>\n",
       "    </tr>\n",
       "  </tbody>\n",
       "</table>\n",
       "</div>"
      ],
      "text/plain": [
       "       user_id  distance  duration       date  month\n",
       "16309     1411   7211.01      0.50 2021-04-15      4\n",
       "16484     1422   7066.00     23.62 2021-02-12      2\n",
       "15580     1361   6908.49     23.82 2021-03-27      3\n",
       "17171     1471   6760.94     32.04 2021-08-03      8\n",
       "17242     1477   6724.93      0.50 2021-01-12      1\n",
       "10341      981   6671.97     27.30 2021-12-06     12\n",
       "11385     1057   6601.20      0.50 2021-02-07      2\n",
       "12086     1108   6538.94     29.65 2021-09-27      9\n",
       "10915     1022   6535.39     30.01 2021-10-14     10\n",
       "11319     1052   6503.60     26.01 2021-07-01      7"
      ]
     },
     "execution_count": 52,
     "metadata": {},
     "output_type": "execute_result"
    }
   ],
   "source": [
    "# Самые длинные поездки\n",
    "rides_go.sort_values('distance', ascending=False).head(10)"
   ]
  },
  {
   "cell_type": "code",
   "execution_count": 53,
   "id": "01447190",
   "metadata": {},
   "outputs": [
    {
     "data": {
      "text/plain": [
       "Text(0, 0.5, 'Количество поездок')"
      ]
     },
     "execution_count": 53,
     "metadata": {},
     "output_type": "execute_result"
    },
    {
     "data": {
      "image/png": "[encoded data removed]",
      "text/plain": [
       "<Figure size 800x800 with 1 Axes>"
      ]
     },
     "metadata": {},
     "output_type": "display_data"
    }
   ],
   "source": [
    "rides_go['distance'].hist(bins=20, figsize=(8,8)) \n",
    "plt.title('Распределение расстояний поездкок')\n",
    "plt.xlabel('Расстояние поездки, минуты')\n",
    "plt.ylabel('Количество поездок')"
   ]
  },
  {
   "cell_type": "code",
   "execution_count": 54,
   "id": "55f63244",
   "metadata": {},
   "outputs": [
    {
     "data": {
      "text/plain": [
       "<Axes: >"
      ]
     },
     "execution_count": 54,
     "metadata": {},
     "output_type": "execute_result"
    },
    {
     "data": {
      "image/png": "[encoded data removed]",
      "text/plain": [
       "<Figure size 640x480 with 1 Axes>"
      ]
     },
     "metadata": {},
     "output_type": "display_data"
    }
   ],
   "source": [
    "rides_go.boxplot('distance')"
   ]
  },
  {
   "cell_type": "markdown",
   "id": "4c4a05f0",
   "metadata": {},
   "source": [
    "В оновном, пользователь используют самокаты для поездки на 3000 м. Очень редко на 6000 м и более. Гистограмма имеет вид нормального распределения с небольшим пиком от 0 до 1000 м."
   ]
  },
  {
   "cell_type": "markdown",
   "id": "27d41a5d",
   "metadata": {},
   "source": [
    "#### Продолжительность поездок."
   ]
  },
  {
   "cell_type": "code",
   "execution_count": 57,
   "id": "a5a3c4b4",
   "metadata": {},
   "outputs": [
    {
     "data": {
      "text/plain": [
       "count   18068.00\n",
       "mean       17.81\n",
       "std         6.09\n",
       "min         0.50\n",
       "25%        13.60\n",
       "50%        17.68\n",
       "75%        21.72\n",
       "max        40.82\n",
       "Name: duration, dtype: float64"
      ]
     },
     "execution_count": 57,
     "metadata": {},
     "output_type": "execute_result"
    }
   ],
   "source": [
    "rides_go['duration'].describe()"
   ]
  },
  {
   "cell_type": "code",
   "execution_count": 58,
   "id": "d05725bb",
   "metadata": {},
   "outputs": [
    {
     "data": {
      "text/html": [
       "<div>\n",
       "<style scoped>\n",
       "    .dataframe tbody tr th:only-of-type {\n",
       "        vertical-align: middle;\n",
       "    }\n",
       "\n",
       "    .dataframe tbody tr th {\n",
       "        vertical-align: top;\n",
       "    }\n",
       "\n",
       "    .dataframe thead th {\n",
       "        text-align: right;\n",
       "    }\n",
       "</style>\n",
       "<table border=\"1\" class=\"dataframe\">\n",
       "  <thead>\n",
       "    <tr style=\"text-align: right;\">\n",
       "      <th></th>\n",
       "      <th>user_id</th>\n",
       "      <th>distance</th>\n",
       "      <th>duration</th>\n",
       "      <th>date</th>\n",
       "      <th>month</th>\n",
       "    </tr>\n",
       "  </thead>\n",
       "  <tbody>\n",
       "    <tr>\n",
       "      <th>12013</th>\n",
       "      <td>1102</td>\n",
       "      <td>4602.12</td>\n",
       "      <td>0.50</td>\n",
       "      <td>2021-08-01</td>\n",
       "      <td>8</td>\n",
       "    </tr>\n",
       "    <tr>\n",
       "      <th>17314</th>\n",
       "      <td>1483</td>\n",
       "      <td>4445.48</td>\n",
       "      <td>0.50</td>\n",
       "      <td>2021-03-06</td>\n",
       "      <td>3</td>\n",
       "    </tr>\n",
       "    <tr>\n",
       "      <th>15029</th>\n",
       "      <td>1318</td>\n",
       "      <td>5894.63</td>\n",
       "      <td>0.50</td>\n",
       "      <td>2021-03-28</td>\n",
       "      <td>3</td>\n",
       "    </tr>\n",
       "    <tr>\n",
       "      <th>7437</th>\n",
       "      <td>766</td>\n",
       "      <td>4539.09</td>\n",
       "      <td>0.50</td>\n",
       "      <td>2021-12-22</td>\n",
       "      <td>12</td>\n",
       "    </tr>\n",
       "    <tr>\n",
       "      <th>12967</th>\n",
       "      <td>1172</td>\n",
       "      <td>4907.14</td>\n",
       "      <td>0.50</td>\n",
       "      <td>2021-12-19</td>\n",
       "      <td>12</td>\n",
       "    </tr>\n",
       "    <tr>\n",
       "      <th>15015</th>\n",
       "      <td>1317</td>\n",
       "      <td>4593.39</td>\n",
       "      <td>0.50</td>\n",
       "      <td>2021-07-16</td>\n",
       "      <td>7</td>\n",
       "    </tr>\n",
       "    <tr>\n",
       "      <th>13012</th>\n",
       "      <td>1176</td>\n",
       "      <td>4935.07</td>\n",
       "      <td>0.50</td>\n",
       "      <td>2021-05-14</td>\n",
       "      <td>5</td>\n",
       "    </tr>\n",
       "    <tr>\n",
       "      <th>7508</th>\n",
       "      <td>772</td>\n",
       "      <td>4718.82</td>\n",
       "      <td>0.50</td>\n",
       "      <td>2021-05-22</td>\n",
       "      <td>5</td>\n",
       "    </tr>\n",
       "    <tr>\n",
       "      <th>16589</th>\n",
       "      <td>1428</td>\n",
       "      <td>5059.19</td>\n",
       "      <td>0.50</td>\n",
       "      <td>2021-05-06</td>\n",
       "      <td>5</td>\n",
       "    </tr>\n",
       "    <tr>\n",
       "      <th>9049</th>\n",
       "      <td>890</td>\n",
       "      <td>4848.49</td>\n",
       "      <td>0.50</td>\n",
       "      <td>2021-11-20</td>\n",
       "      <td>11</td>\n",
       "    </tr>\n",
       "  </tbody>\n",
       "</table>\n",
       "</div>"
      ],
      "text/plain": [
       "       user_id  distance  duration       date  month\n",
       "12013     1102   4602.12      0.50 2021-08-01      8\n",
       "17314     1483   4445.48      0.50 2021-03-06      3\n",
       "15029     1318   5894.63      0.50 2021-03-28      3\n",
       "7437       766   4539.09      0.50 2021-12-22     12\n",
       "12967     1172   4907.14      0.50 2021-12-19     12\n",
       "15015     1317   4593.39      0.50 2021-07-16      7\n",
       "13012     1176   4935.07      0.50 2021-05-14      5\n",
       "7508       772   4718.82      0.50 2021-05-22      5\n",
       "16589     1428   5059.19      0.50 2021-05-06      5\n",
       "9049       890   4848.49      0.50 2021-11-20     11"
      ]
     },
     "execution_count": 58,
     "metadata": {},
     "output_type": "execute_result"
    }
   ],
   "source": [
    "# Самые короткие поездки\n",
    "rides_go.sort_values('duration').head(10)"
   ]
  },
  {
   "cell_type": "markdown",
   "id": "bc9f41c1",
   "metadata": {},
   "source": [
    "В данных присутствует аномалия. Некоторые пользователи за пол минуты расстояние более 4 км. Это может быть связано со сбоем в работе программы по расчету времени поездки. Компании необходимо выяснить, из-за чего произошел сбой, так как стоимость поездки зависит от времени и компания недополучать выручку."
   ]
  },
  {
   "cell_type": "code",
   "execution_count": 60,
   "id": "18047eb4",
   "metadata": {},
   "outputs": [
    {
     "data": {
      "text/plain": [
       "(0.0, 45.0)"
      ]
     },
     "execution_count": 60,
     "metadata": {},
     "output_type": "execute_result"
    },
    {
     "data": {
      "image/png": "[encoded data removed]",
      "text/plain": [
       "<Figure size 640x480 with 1 Axes>"
      ]
     },
     "metadata": {},
     "output_type": "display_data"
    }
   ],
   "source": [
    "# Построим диаграмму размаха\n",
    "rides_go.boxplot('duration')\n",
    "plt.title('Время, проведенное в поездке')\n",
    "plt.ylabel('Время, минуты')\n",
    "plt.ylim(0, 45)"
   ]
  },
  {
   "cell_type": "code",
   "execution_count": 61,
   "id": "467e2a12",
   "metadata": {},
   "outputs": [
    {
     "name": "stdout",
     "output_type": "stream",
     "text": [
      "95\n"
     ]
    },
    {
     "data": {
      "text/plain": [
       "0.005257914545052026"
      ]
     },
     "execution_count": 61,
     "metadata": {},
     "output_type": "execute_result"
    }
   ],
   "source": [
    "# Посчитаем число поездок, которые находятся ниже минимального заначения,не являющееся выбросом\n",
    "q1 = rides_go['duration'].quantile(.25) # первый квартиль Q1\n",
    "q3 = rides_go['duration'].quantile(.75) # третий квартиль Q3\n",
    "iqr = q3 - q1 # межквартильный размах IQR\n",
    "min_value = q1 - 1.5 * iqr\n",
    "sort_lover_min_value = rides_go[rides_go['duration'] < min_value]\n",
    "print(sort_lover_min_value['duration'].count())\n",
    "len(sort_lover_min_value) / rides_go['duration'].count()"
   ]
  },
  {
   "cell_type": "markdown",
   "id": "092575ce",
   "metadata": {},
   "source": [
    "Такие значения встречаются очень редко, но компании стоит обратить на это внимание."
   ]
  },
  {
   "cell_type": "code",
   "execution_count": 63,
   "id": "36afd592",
   "metadata": {},
   "outputs": [
    {
     "data": {
      "text/plain": [
       "95"
      ]
     },
     "execution_count": 63,
     "metadata": {},
     "output_type": "execute_result"
    }
   ],
   "source": [
    "# Соединим таблицы sort_lover_min_value и user_go, чтобы проанализировать аномальные значения\n",
    "an_values = sort_lover_min_value.merge(user_go)\n",
    "len(an_values)"
   ]
  },
  {
   "cell_type": "code",
   "execution_count": 64,
   "id": "96330fec",
   "metadata": {},
   "outputs": [
    {
     "data": {
      "text/html": [
       "<div>\n",
       "<style scoped>\n",
       "    .dataframe tbody tr th:only-of-type {\n",
       "        vertical-align: middle;\n",
       "    }\n",
       "\n",
       "    .dataframe tbody tr th {\n",
       "        vertical-align: top;\n",
       "    }\n",
       "\n",
       "    .dataframe thead th {\n",
       "        text-align: right;\n",
       "    }\n",
       "</style>\n",
       "<table border=\"1\" class=\"dataframe\">\n",
       "  <thead>\n",
       "    <tr style=\"text-align: right;\">\n",
       "      <th></th>\n",
       "      <th>user_id</th>\n",
       "      <th>distance</th>\n",
       "      <th>duration</th>\n",
       "      <th>date</th>\n",
       "      <th>month</th>\n",
       "      <th>name</th>\n",
       "      <th>age</th>\n",
       "      <th>city</th>\n",
       "      <th>subscription_type</th>\n",
       "    </tr>\n",
       "  </thead>\n",
       "  <tbody>\n",
       "    <tr>\n",
       "      <th>0</th>\n",
       "      <td>701</td>\n",
       "      <td>4196.45</td>\n",
       "      <td>0.50</td>\n",
       "      <td>2021-08-31</td>\n",
       "      <td>8</td>\n",
       "      <td>Иван</td>\n",
       "      <td>31</td>\n",
       "      <td>Екатеринбург</td>\n",
       "      <td>free</td>\n",
       "    </tr>\n",
       "    <tr>\n",
       "      <th>1</th>\n",
       "      <td>704</td>\n",
       "      <td>4830.82</td>\n",
       "      <td>0.50</td>\n",
       "      <td>2021-10-14</td>\n",
       "      <td>10</td>\n",
       "      <td>Мирон</td>\n",
       "      <td>29</td>\n",
       "      <td>Ростов-на-Дону</td>\n",
       "      <td>free</td>\n",
       "    </tr>\n",
       "    <tr>\n",
       "      <th>2</th>\n",
       "      <td>712</td>\n",
       "      <td>4684.00</td>\n",
       "      <td>0.50</td>\n",
       "      <td>2021-03-04</td>\n",
       "      <td>3</td>\n",
       "      <td>Дарья</td>\n",
       "      <td>28</td>\n",
       "      <td>Москва</td>\n",
       "      <td>free</td>\n",
       "    </tr>\n",
       "    <tr>\n",
       "      <th>3</th>\n",
       "      <td>713</td>\n",
       "      <td>5215.64</td>\n",
       "      <td>0.50</td>\n",
       "      <td>2021-02-25</td>\n",
       "      <td>2</td>\n",
       "      <td>Святослав</td>\n",
       "      <td>30</td>\n",
       "      <td>Краснодар</td>\n",
       "      <td>free</td>\n",
       "    </tr>\n",
       "    <tr>\n",
       "      <th>4</th>\n",
       "      <td>718</td>\n",
       "      <td>5197.44</td>\n",
       "      <td>0.50</td>\n",
       "      <td>2021-02-11</td>\n",
       "      <td>2</td>\n",
       "      <td>Владислава</td>\n",
       "      <td>31</td>\n",
       "      <td>Москва</td>\n",
       "      <td>free</td>\n",
       "    </tr>\n",
       "    <tr>\n",
       "      <th>...</th>\n",
       "      <td>...</td>\n",
       "      <td>...</td>\n",
       "      <td>...</td>\n",
       "      <td>...</td>\n",
       "      <td>...</td>\n",
       "      <td>...</td>\n",
       "      <td>...</td>\n",
       "      <td>...</td>\n",
       "      <td>...</td>\n",
       "    </tr>\n",
       "    <tr>\n",
       "      <th>90</th>\n",
       "      <td>1460</td>\n",
       "      <td>5531.34</td>\n",
       "      <td>0.50</td>\n",
       "      <td>2021-01-19</td>\n",
       "      <td>1</td>\n",
       "      <td>Жанна</td>\n",
       "      <td>27</td>\n",
       "      <td>Пятигорск</td>\n",
       "      <td>free</td>\n",
       "    </tr>\n",
       "    <tr>\n",
       "      <th>91</th>\n",
       "      <td>1477</td>\n",
       "      <td>6724.93</td>\n",
       "      <td>0.50</td>\n",
       "      <td>2021-01-12</td>\n",
       "      <td>1</td>\n",
       "      <td>Ян</td>\n",
       "      <td>17</td>\n",
       "      <td>Сочи</td>\n",
       "      <td>free</td>\n",
       "    </tr>\n",
       "    <tr>\n",
       "      <th>92</th>\n",
       "      <td>1483</td>\n",
       "      <td>4445.48</td>\n",
       "      <td>0.50</td>\n",
       "      <td>2021-03-06</td>\n",
       "      <td>3</td>\n",
       "      <td>Роберт</td>\n",
       "      <td>26</td>\n",
       "      <td>Екатеринбург</td>\n",
       "      <td>free</td>\n",
       "    </tr>\n",
       "    <tr>\n",
       "      <th>93</th>\n",
       "      <td>1496</td>\n",
       "      <td>5722.55</td>\n",
       "      <td>0.50</td>\n",
       "      <td>2021-02-14</td>\n",
       "      <td>2</td>\n",
       "      <td>Яна</td>\n",
       "      <td>19</td>\n",
       "      <td>Москва</td>\n",
       "      <td>free</td>\n",
       "    </tr>\n",
       "    <tr>\n",
       "      <th>94</th>\n",
       "      <td>1524</td>\n",
       "      <td>4104.00</td>\n",
       "      <td>0.50</td>\n",
       "      <td>2021-06-18</td>\n",
       "      <td>6</td>\n",
       "      <td>Матвей</td>\n",
       "      <td>32</td>\n",
       "      <td>Москва</td>\n",
       "      <td>free</td>\n",
       "    </tr>\n",
       "  </tbody>\n",
       "</table>\n",
       "<p>95 rows × 9 columns</p>\n",
       "</div>"
      ],
      "text/plain": [
       "    user_id  distance  duration       date  month        name  age  \\\n",
       "0       701   4196.45      0.50 2021-08-31      8        Иван   31   \n",
       "1       704   4830.82      0.50 2021-10-14     10       Мирон   29   \n",
       "2       712   4684.00      0.50 2021-03-04      3       Дарья   28   \n",
       "3       713   5215.64      0.50 2021-02-25      2   Святослав   30   \n",
       "4       718   5197.44      0.50 2021-02-11      2  Владислава   31   \n",
       "..      ...       ...       ...        ...    ...         ...  ...   \n",
       "90     1460   5531.34      0.50 2021-01-19      1       Жанна   27   \n",
       "91     1477   6724.93      0.50 2021-01-12      1          Ян   17   \n",
       "92     1483   4445.48      0.50 2021-03-06      3      Роберт   26   \n",
       "93     1496   5722.55      0.50 2021-02-14      2         Яна   19   \n",
       "94     1524   4104.00      0.50 2021-06-18      6      Матвей   32   \n",
       "\n",
       "              city subscription_type  \n",
       "0     Екатеринбург              free  \n",
       "1   Ростов-на-Дону              free  \n",
       "2           Москва              free  \n",
       "3        Краснодар              free  \n",
       "4           Москва              free  \n",
       "..             ...               ...  \n",
       "90       Пятигорск              free  \n",
       "91            Сочи              free  \n",
       "92    Екатеринбург              free  \n",
       "93          Москва              free  \n",
       "94          Москва              free  \n",
       "\n",
       "[95 rows x 9 columns]"
      ]
     },
     "execution_count": 64,
     "metadata": {},
     "output_type": "execute_result"
    }
   ],
   "source": [
    "an_values"
   ]
  },
  {
   "cell_type": "markdown",
   "id": "3b3a58ae",
   "metadata": {},
   "source": [
    "Проанализируе разные показатели таблицы и попытаемся найти закономерность."
   ]
  },
  {
   "cell_type": "code",
   "execution_count": 66,
   "id": "e0d502e4",
   "metadata": {},
   "outputs": [
    {
     "data": {
      "text/plain": [
       "subscription_type\n",
       "free    95\n",
       "Name: count, dtype: int64"
      ]
     },
     "execution_count": 66,
     "metadata": {},
     "output_type": "execute_result"
    }
   ],
   "source": [
    "an_values['subscription_type'].value_counts()"
   ]
  },
  {
   "cell_type": "code",
   "execution_count": 67,
   "id": "92fce7ec",
   "metadata": {},
   "outputs": [
    {
     "data": {
      "text/plain": [
       "city\n",
       "Ростов-на-Дону    17\n",
       "Москва            14\n",
       "Пятигорск         13\n",
       "Омск              11\n",
       "Сочи              11\n",
       "Краснодар         10\n",
       "Тюмень            10\n",
       "Екатеринбург       9\n",
       "Name: count, dtype: int64"
      ]
     },
     "execution_count": 67,
     "metadata": {},
     "output_type": "execute_result"
    }
   ],
   "source": [
    "an_values['city'].value_counts()"
   ]
  },
  {
   "cell_type": "code",
   "execution_count": 68,
   "id": "04deb442",
   "metadata": {},
   "outputs": [
    {
     "data": {
      "text/plain": [
       "month\n",
       "3     11\n",
       "12    11\n",
       "11    11\n",
       "1      9\n",
       "8      8\n",
       "2      8\n",
       "5      8\n",
       "4      7\n",
       "7      7\n",
       "9      6\n",
       "6      5\n",
       "10     4\n",
       "Name: count, dtype: int64"
      ]
     },
     "execution_count": 68,
     "metadata": {},
     "output_type": "execute_result"
    }
   ],
   "source": [
    "an_values['month'].value_counts()"
   ]
  },
  {
   "cell_type": "code",
   "execution_count": 69,
   "id": "4af13287",
   "metadata": {},
   "outputs": [
    {
     "data": {
      "text/plain": [
       "user_id\n",
       "1364    2\n",
       "1007    2\n",
       "973     2\n",
       "1243    2\n",
       "1224    2\n",
       "701     1\n",
       "1217    1\n",
       "1287    1\n",
       "1285    1\n",
       "1273    1\n",
       "Name: count, dtype: int64"
      ]
     },
     "execution_count": 69,
     "metadata": {},
     "output_type": "execute_result"
    }
   ],
   "source": [
    "an_values['user_id'].value_counts().head(10)"
   ]
  },
  {
   "cell_type": "markdown",
   "id": "1a1fd041",
   "metadata": {},
   "source": [
    "**Вывод:** сбои происходят только с пользователями без подписки, он не зависит от города и встречается примерно в равных количествах, происходит у разных пользователей."
   ]
  },
  {
   "cell_type": "code",
   "execution_count": 71,
   "id": "6d5853fb",
   "metadata": {},
   "outputs": [
    {
     "data": {
      "text/html": [
       "<div>\n",
       "<style scoped>\n",
       "    .dataframe tbody tr th:only-of-type {\n",
       "        vertical-align: middle;\n",
       "    }\n",
       "\n",
       "    .dataframe tbody tr th {\n",
       "        vertical-align: top;\n",
       "    }\n",
       "\n",
       "    .dataframe thead th {\n",
       "        text-align: right;\n",
       "    }\n",
       "</style>\n",
       "<table border=\"1\" class=\"dataframe\">\n",
       "  <thead>\n",
       "    <tr style=\"text-align: right;\">\n",
       "      <th></th>\n",
       "      <th>user_id</th>\n",
       "      <th>distance</th>\n",
       "      <th>duration</th>\n",
       "      <th>date</th>\n",
       "      <th>month</th>\n",
       "    </tr>\n",
       "  </thead>\n",
       "  <tbody>\n",
       "    <tr>\n",
       "      <th>4215</th>\n",
       "      <td>454</td>\n",
       "      <td>5137.33</td>\n",
       "      <td>40.82</td>\n",
       "      <td>2021-12-27</td>\n",
       "      <td>12</td>\n",
       "    </tr>\n",
       "    <tr>\n",
       "      <th>4709</th>\n",
       "      <td>507</td>\n",
       "      <td>4645.64</td>\n",
       "      <td>39.87</td>\n",
       "      <td>2021-01-15</td>\n",
       "      <td>1</td>\n",
       "    </tr>\n",
       "    <tr>\n",
       "      <th>2623</th>\n",
       "      <td>278</td>\n",
       "      <td>4754.43</td>\n",
       "      <td>39.53</td>\n",
       "      <td>2021-12-02</td>\n",
       "      <td>12</td>\n",
       "    </tr>\n",
       "    <tr>\n",
       "      <th>1998</th>\n",
       "      <td>216</td>\n",
       "      <td>4831.34</td>\n",
       "      <td>38.35</td>\n",
       "      <td>2021-05-11</td>\n",
       "      <td>5</td>\n",
       "    </tr>\n",
       "    <tr>\n",
       "      <th>6453</th>\n",
       "      <td>694</td>\n",
       "      <td>4210.87</td>\n",
       "      <td>38.27</td>\n",
       "      <td>2021-03-11</td>\n",
       "      <td>3</td>\n",
       "    </tr>\n",
       "    <tr>\n",
       "      <th>143</th>\n",
       "      <td>15</td>\n",
       "      <td>4187.62</td>\n",
       "      <td>38.13</td>\n",
       "      <td>2021-01-13</td>\n",
       "      <td>1</td>\n",
       "    </tr>\n",
       "    <tr>\n",
       "      <th>3729</th>\n",
       "      <td>401</td>\n",
       "      <td>4002.36</td>\n",
       "      <td>37.01</td>\n",
       "      <td>2021-09-21</td>\n",
       "      <td>9</td>\n",
       "    </tr>\n",
       "    <tr>\n",
       "      <th>499</th>\n",
       "      <td>55</td>\n",
       "      <td>4151.08</td>\n",
       "      <td>36.91</td>\n",
       "      <td>2021-06-30</td>\n",
       "      <td>6</td>\n",
       "    </tr>\n",
       "    <tr>\n",
       "      <th>6348</th>\n",
       "      <td>681</td>\n",
       "      <td>4134.88</td>\n",
       "      <td>36.81</td>\n",
       "      <td>2021-05-01</td>\n",
       "      <td>5</td>\n",
       "    </tr>\n",
       "    <tr>\n",
       "      <th>4653</th>\n",
       "      <td>501</td>\n",
       "      <td>4103.77</td>\n",
       "      <td>36.62</td>\n",
       "      <td>2021-05-24</td>\n",
       "      <td>5</td>\n",
       "    </tr>\n",
       "  </tbody>\n",
       "</table>\n",
       "</div>"
      ],
      "text/plain": [
       "      user_id  distance  duration       date  month\n",
       "4215      454   5137.33     40.82 2021-12-27     12\n",
       "4709      507   4645.64     39.87 2021-01-15      1\n",
       "2623      278   4754.43     39.53 2021-12-02     12\n",
       "1998      216   4831.34     38.35 2021-05-11      5\n",
       "6453      694   4210.87     38.27 2021-03-11      3\n",
       "143        15   4187.62     38.13 2021-01-13      1\n",
       "3729      401   4002.36     37.01 2021-09-21      9\n",
       "499        55   4151.08     36.91 2021-06-30      6\n",
       "6348      681   4134.88     36.81 2021-05-01      5\n",
       "4653      501   4103.77     36.62 2021-05-24      5"
      ]
     },
     "execution_count": 71,
     "metadata": {},
     "output_type": "execute_result"
    }
   ],
   "source": [
    "# Самые длинные поездки\n",
    "rides_go.sort_values('duration', ascending=False).head(10)"
   ]
  },
  {
   "cell_type": "code",
   "execution_count": 72,
   "id": "e5dd5d4b",
   "metadata": {},
   "outputs": [
    {
     "data": {
      "text/plain": [
       "Text(0, 0.5, 'Количество поездок')"
      ]
     },
     "execution_count": 72,
     "metadata": {},
     "output_type": "execute_result"
    },
    {
     "data": {
      "image/png": "[encoded data removed]",
      "text/plain": [
       "<Figure size 800x800 with 1 Axes>"
      ]
     },
     "metadata": {},
     "output_type": "display_data"
    }
   ],
   "source": [
    "rides_go['duration'].hist(bins=20, figsize=(8,8)) \n",
    "plt.title('Паспределение продолжительность поездок')\n",
    "plt.xlabel('Продолжительность поездки, минуты')\n",
    "plt.ylabel('Количество поездок')"
   ]
  },
  {
   "cell_type": "markdown",
   "id": "931d0587",
   "metadata": {},
   "source": [
    "Продолжительность поздки в среднем - 18 минут. Поездки 35 минут и более встречаются редко. Гистограмма имеет вид нормального распределения."
   ]
  },
  {
   "cell_type": "markdown",
   "id": "f5324fe6",
   "metadata": {},
   "source": [
    "**Вывод:**\n",
    "- приложением больше всего используют в Пятигорске (219) и Екатеринбугре(204). Меньше всего в Москве(168).\n",
    "- пользователей без подписки больше (835 или 54%). Пользователей с подпиской 699 или 46%;\n",
    "- самый младший пользователь - 12 лет. Самый старший пользователь - 43 года. Средний возраст - 25 лет. Больше всего пользователей возраста 21 - 27 лет. Клиенты возрастом после 37 лет встречаются редко;\n",
    "- в оновном пользователь используют самокаты для поездки на 3000 м. Присутствуют аномальные значения. Некоторые пользователи проезжали очень малое расстояние за большой промежуток времени. ;\n",
    "- продолжительность поздки в среднем - 18 минут. В данных присутствует аномалия. Некоторые пользователи за пол минуты расстояние более 4 км."
   ]
  },
  {
   "cell_type": "markdown",
   "id": "4ef51331",
   "metadata": {},
   "source": [
    "### Шаг 4. Объединение данных"
   ]
  },
  {
   "cell_type": "markdown",
   "id": "6a858b2e",
   "metadata": {},
   "source": [
    "#### Объеденим  данные о пользователях, поездках и подписках в один датафрейм. "
   ]
  },
  {
   "cell_type": "code",
   "execution_count": 77,
   "id": "698204fb",
   "metadata": {},
   "outputs": [
    {
     "data": {
      "text/html": [
       "<div>\n",
       "<style scoped>\n",
       "    .dataframe tbody tr th:only-of-type {\n",
       "        vertical-align: middle;\n",
       "    }\n",
       "\n",
       "    .dataframe tbody tr th {\n",
       "        vertical-align: top;\n",
       "    }\n",
       "\n",
       "    .dataframe thead th {\n",
       "        text-align: right;\n",
       "    }\n",
       "</style>\n",
       "<table border=\"1\" class=\"dataframe\">\n",
       "  <thead>\n",
       "    <tr style=\"text-align: right;\">\n",
       "      <th></th>\n",
       "      <th>user_id</th>\n",
       "      <th>name</th>\n",
       "      <th>age</th>\n",
       "      <th>city</th>\n",
       "      <th>subscription_type</th>\n",
       "      <th>distance</th>\n",
       "      <th>duration</th>\n",
       "      <th>date</th>\n",
       "      <th>month</th>\n",
       "      <th>minute_price</th>\n",
       "      <th>start_ride_price</th>\n",
       "      <th>subscription_fee</th>\n",
       "    </tr>\n",
       "  </thead>\n",
       "  <tbody>\n",
       "    <tr>\n",
       "      <th>0</th>\n",
       "      <td>1</td>\n",
       "      <td>Кира</td>\n",
       "      <td>22</td>\n",
       "      <td>Тюмень</td>\n",
       "      <td>ultra</td>\n",
       "      <td>4409.92</td>\n",
       "      <td>25.60</td>\n",
       "      <td>2021-01-01</td>\n",
       "      <td>1</td>\n",
       "      <td>6</td>\n",
       "      <td>0</td>\n",
       "      <td>199</td>\n",
       "    </tr>\n",
       "    <tr>\n",
       "      <th>1</th>\n",
       "      <td>1</td>\n",
       "      <td>Кира</td>\n",
       "      <td>22</td>\n",
       "      <td>Тюмень</td>\n",
       "      <td>ultra</td>\n",
       "      <td>2617.59</td>\n",
       "      <td>15.82</td>\n",
       "      <td>2021-01-18</td>\n",
       "      <td>1</td>\n",
       "      <td>6</td>\n",
       "      <td>0</td>\n",
       "      <td>199</td>\n",
       "    </tr>\n",
       "    <tr>\n",
       "      <th>2</th>\n",
       "      <td>1</td>\n",
       "      <td>Кира</td>\n",
       "      <td>22</td>\n",
       "      <td>Тюмень</td>\n",
       "      <td>ultra</td>\n",
       "      <td>754.16</td>\n",
       "      <td>6.23</td>\n",
       "      <td>2021-04-20</td>\n",
       "      <td>4</td>\n",
       "      <td>6</td>\n",
       "      <td>0</td>\n",
       "      <td>199</td>\n",
       "    </tr>\n",
       "    <tr>\n",
       "      <th>3</th>\n",
       "      <td>1</td>\n",
       "      <td>Кира</td>\n",
       "      <td>22</td>\n",
       "      <td>Тюмень</td>\n",
       "      <td>ultra</td>\n",
       "      <td>2694.78</td>\n",
       "      <td>18.51</td>\n",
       "      <td>2021-08-11</td>\n",
       "      <td>8</td>\n",
       "      <td>6</td>\n",
       "      <td>0</td>\n",
       "      <td>199</td>\n",
       "    </tr>\n",
       "    <tr>\n",
       "      <th>4</th>\n",
       "      <td>1</td>\n",
       "      <td>Кира</td>\n",
       "      <td>22</td>\n",
       "      <td>Тюмень</td>\n",
       "      <td>ultra</td>\n",
       "      <td>4028.69</td>\n",
       "      <td>26.27</td>\n",
       "      <td>2021-08-28</td>\n",
       "      <td>8</td>\n",
       "      <td>6</td>\n",
       "      <td>0</td>\n",
       "      <td>199</td>\n",
       "    </tr>\n",
       "    <tr>\n",
       "      <th>5</th>\n",
       "      <td>1</td>\n",
       "      <td>Кира</td>\n",
       "      <td>22</td>\n",
       "      <td>Тюмень</td>\n",
       "      <td>ultra</td>\n",
       "      <td>2770.89</td>\n",
       "      <td>16.65</td>\n",
       "      <td>2021-10-09</td>\n",
       "      <td>10</td>\n",
       "      <td>6</td>\n",
       "      <td>0</td>\n",
       "      <td>199</td>\n",
       "    </tr>\n",
       "    <tr>\n",
       "      <th>6</th>\n",
       "      <td>1</td>\n",
       "      <td>Кира</td>\n",
       "      <td>22</td>\n",
       "      <td>Тюмень</td>\n",
       "      <td>ultra</td>\n",
       "      <td>3039.02</td>\n",
       "      <td>14.93</td>\n",
       "      <td>2021-10-19</td>\n",
       "      <td>10</td>\n",
       "      <td>6</td>\n",
       "      <td>0</td>\n",
       "      <td>199</td>\n",
       "    </tr>\n",
       "    <tr>\n",
       "      <th>7</th>\n",
       "      <td>1</td>\n",
       "      <td>Кира</td>\n",
       "      <td>22</td>\n",
       "      <td>Тюмень</td>\n",
       "      <td>ultra</td>\n",
       "      <td>2842.12</td>\n",
       "      <td>23.12</td>\n",
       "      <td>2021-11-06</td>\n",
       "      <td>11</td>\n",
       "      <td>6</td>\n",
       "      <td>0</td>\n",
       "      <td>199</td>\n",
       "    </tr>\n",
       "    <tr>\n",
       "      <th>8</th>\n",
       "      <td>1</td>\n",
       "      <td>Кира</td>\n",
       "      <td>22</td>\n",
       "      <td>Тюмень</td>\n",
       "      <td>ultra</td>\n",
       "      <td>3412.69</td>\n",
       "      <td>15.24</td>\n",
       "      <td>2021-11-14</td>\n",
       "      <td>11</td>\n",
       "      <td>6</td>\n",
       "      <td>0</td>\n",
       "      <td>199</td>\n",
       "    </tr>\n",
       "    <tr>\n",
       "      <th>9</th>\n",
       "      <td>1</td>\n",
       "      <td>Кира</td>\n",
       "      <td>22</td>\n",
       "      <td>Тюмень</td>\n",
       "      <td>ultra</td>\n",
       "      <td>748.69</td>\n",
       "      <td>15.04</td>\n",
       "      <td>2021-11-22</td>\n",
       "      <td>11</td>\n",
       "      <td>6</td>\n",
       "      <td>0</td>\n",
       "      <td>199</td>\n",
       "    </tr>\n",
       "  </tbody>\n",
       "</table>\n",
       "</div>"
      ],
      "text/plain": [
       "   user_id  name  age    city subscription_type  distance  duration  \\\n",
       "0        1  Кира   22  Тюмень             ultra   4409.92     25.60   \n",
       "1        1  Кира   22  Тюмень             ultra   2617.59     15.82   \n",
       "2        1  Кира   22  Тюмень             ultra    754.16      6.23   \n",
       "3        1  Кира   22  Тюмень             ultra   2694.78     18.51   \n",
       "4        1  Кира   22  Тюмень             ultra   4028.69     26.27   \n",
       "5        1  Кира   22  Тюмень             ultra   2770.89     16.65   \n",
       "6        1  Кира   22  Тюмень             ultra   3039.02     14.93   \n",
       "7        1  Кира   22  Тюмень             ultra   2842.12     23.12   \n",
       "8        1  Кира   22  Тюмень             ultra   3412.69     15.24   \n",
       "9        1  Кира   22  Тюмень             ultra    748.69     15.04   \n",
       "\n",
       "        date  month  minute_price  start_ride_price  subscription_fee  \n",
       "0 2021-01-01      1             6                 0               199  \n",
       "1 2021-01-18      1             6                 0               199  \n",
       "2 2021-04-20      4             6                 0               199  \n",
       "3 2021-08-11      8             6                 0               199  \n",
       "4 2021-08-28      8             6                 0               199  \n",
       "5 2021-10-09     10             6                 0               199  \n",
       "6 2021-10-19     10             6                 0               199  \n",
       "7 2021-11-06     11             6                 0               199  \n",
       "8 2021-11-14     11             6                 0               199  \n",
       "9 2021-11-22     11             6                 0               199  "
      ]
     },
     "execution_count": 77,
     "metadata": {},
     "output_type": "execute_result"
    }
   ],
   "source": [
    "full_data = user_go.merge(rides_go)\n",
    "full_data = full_data.merge(sub_go)\n",
    "full_data.head(10)"
   ]
  },
  {
   "cell_type": "code",
   "execution_count": 78,
   "id": "1de04555",
   "metadata": {},
   "outputs": [
    {
     "data": {
      "text/plain": [
       "True"
      ]
     },
     "execution_count": 78,
     "metadata": {},
     "output_type": "execute_result"
    }
   ],
   "source": [
    "len(full_data) == len(rides_go)"
   ]
  },
  {
   "cell_type": "code",
   "execution_count": 79,
   "id": "925d2b9f",
   "metadata": {},
   "outputs": [
    {
     "data": {
      "text/plain": [
       "user_id              0\n",
       "name                 0\n",
       "age                  0\n",
       "city                 0\n",
       "subscription_type    0\n",
       "distance             0\n",
       "duration             0\n",
       "date                 0\n",
       "month                0\n",
       "minute_price         0\n",
       "start_ride_price     0\n",
       "subscription_fee     0\n",
       "dtype: int64"
      ]
     },
     "execution_count": 79,
     "metadata": {},
     "output_type": "execute_result"
    }
   ],
   "source": [
    "full_data.isna().sum()"
   ]
  },
  {
   "cell_type": "markdown",
   "id": "9865b54b",
   "metadata": {},
   "source": [
    "Размерs таблиц до и после объединения равны, а также отсутствуют пропуски. Значит присутствует информация о каждом пользователе в таблице rides_go."
   ]
  },
  {
   "cell_type": "markdown",
   "id": "ccfe5a46",
   "metadata": {},
   "source": [
    "#### Создадим датафрейм о пользователях без подписки"
   ]
  },
  {
   "cell_type": "code",
   "execution_count": 82,
   "id": "43a1c904",
   "metadata": {},
   "outputs": [
    {
     "data": {
      "text/html": [
       "<div>\n",
       "<style scoped>\n",
       "    .dataframe tbody tr th:only-of-type {\n",
       "        vertical-align: middle;\n",
       "    }\n",
       "\n",
       "    .dataframe tbody tr th {\n",
       "        vertical-align: top;\n",
       "    }\n",
       "\n",
       "    .dataframe thead th {\n",
       "        text-align: right;\n",
       "    }\n",
       "</style>\n",
       "<table border=\"1\" class=\"dataframe\">\n",
       "  <thead>\n",
       "    <tr style=\"text-align: right;\">\n",
       "      <th></th>\n",
       "      <th>user_id</th>\n",
       "      <th>name</th>\n",
       "      <th>age</th>\n",
       "      <th>city</th>\n",
       "      <th>subscription_type</th>\n",
       "      <th>distance</th>\n",
       "      <th>duration</th>\n",
       "      <th>date</th>\n",
       "      <th>month</th>\n",
       "      <th>minute_price</th>\n",
       "      <th>start_ride_price</th>\n",
       "      <th>subscription_fee</th>\n",
       "    </tr>\n",
       "  </thead>\n",
       "  <tbody>\n",
       "    <tr>\n",
       "      <th>6500</th>\n",
       "      <td>700</td>\n",
       "      <td>Айдар</td>\n",
       "      <td>22</td>\n",
       "      <td>Омск</td>\n",
       "      <td>free</td>\n",
       "      <td>2515.69</td>\n",
       "      <td>14.94</td>\n",
       "      <td>2021-01-02</td>\n",
       "      <td>1</td>\n",
       "      <td>8</td>\n",
       "      <td>50</td>\n",
       "      <td>0</td>\n",
       "    </tr>\n",
       "    <tr>\n",
       "      <th>6501</th>\n",
       "      <td>700</td>\n",
       "      <td>Айдар</td>\n",
       "      <td>22</td>\n",
       "      <td>Омск</td>\n",
       "      <td>free</td>\n",
       "      <td>846.93</td>\n",
       "      <td>16.23</td>\n",
       "      <td>2021-02-01</td>\n",
       "      <td>2</td>\n",
       "      <td>8</td>\n",
       "      <td>50</td>\n",
       "      <td>0</td>\n",
       "    </tr>\n",
       "    <tr>\n",
       "      <th>6502</th>\n",
       "      <td>700</td>\n",
       "      <td>Айдар</td>\n",
       "      <td>22</td>\n",
       "      <td>Омск</td>\n",
       "      <td>free</td>\n",
       "      <td>4004.43</td>\n",
       "      <td>20.02</td>\n",
       "      <td>2021-02-04</td>\n",
       "      <td>2</td>\n",
       "      <td>8</td>\n",
       "      <td>50</td>\n",
       "      <td>0</td>\n",
       "    </tr>\n",
       "    <tr>\n",
       "      <th>6503</th>\n",
       "      <td>700</td>\n",
       "      <td>Айдар</td>\n",
       "      <td>22</td>\n",
       "      <td>Омск</td>\n",
       "      <td>free</td>\n",
       "      <td>1205.91</td>\n",
       "      <td>9.78</td>\n",
       "      <td>2021-02-10</td>\n",
       "      <td>2</td>\n",
       "      <td>8</td>\n",
       "      <td>50</td>\n",
       "      <td>0</td>\n",
       "    </tr>\n",
       "    <tr>\n",
       "      <th>6504</th>\n",
       "      <td>700</td>\n",
       "      <td>Айдар</td>\n",
       "      <td>22</td>\n",
       "      <td>Омск</td>\n",
       "      <td>free</td>\n",
       "      <td>3047.38</td>\n",
       "      <td>17.43</td>\n",
       "      <td>2021-02-14</td>\n",
       "      <td>2</td>\n",
       "      <td>8</td>\n",
       "      <td>50</td>\n",
       "      <td>0</td>\n",
       "    </tr>\n",
       "    <tr>\n",
       "      <th>...</th>\n",
       "      <td>...</td>\n",
       "      <td>...</td>\n",
       "      <td>...</td>\n",
       "      <td>...</td>\n",
       "      <td>...</td>\n",
       "      <td>...</td>\n",
       "      <td>...</td>\n",
       "      <td>...</td>\n",
       "      <td>...</td>\n",
       "      <td>...</td>\n",
       "      <td>...</td>\n",
       "      <td>...</td>\n",
       "    </tr>\n",
       "    <tr>\n",
       "      <th>18063</th>\n",
       "      <td>1534</td>\n",
       "      <td>Альберт</td>\n",
       "      <td>25</td>\n",
       "      <td>Краснодар</td>\n",
       "      <td>free</td>\n",
       "      <td>3781.10</td>\n",
       "      <td>19.82</td>\n",
       "      <td>2021-11-04</td>\n",
       "      <td>11</td>\n",
       "      <td>8</td>\n",
       "      <td>50</td>\n",
       "      <td>0</td>\n",
       "    </tr>\n",
       "    <tr>\n",
       "      <th>18064</th>\n",
       "      <td>1534</td>\n",
       "      <td>Альберт</td>\n",
       "      <td>25</td>\n",
       "      <td>Краснодар</td>\n",
       "      <td>free</td>\n",
       "      <td>2840.42</td>\n",
       "      <td>21.41</td>\n",
       "      <td>2021-11-16</td>\n",
       "      <td>11</td>\n",
       "      <td>8</td>\n",
       "      <td>50</td>\n",
       "      <td>0</td>\n",
       "    </tr>\n",
       "    <tr>\n",
       "      <th>18065</th>\n",
       "      <td>1534</td>\n",
       "      <td>Альберт</td>\n",
       "      <td>25</td>\n",
       "      <td>Краснодар</td>\n",
       "      <td>free</td>\n",
       "      <td>3826.19</td>\n",
       "      <td>18.44</td>\n",
       "      <td>2021-11-18</td>\n",
       "      <td>11</td>\n",
       "      <td>8</td>\n",
       "      <td>50</td>\n",
       "      <td>0</td>\n",
       "    </tr>\n",
       "    <tr>\n",
       "      <th>18066</th>\n",
       "      <td>1534</td>\n",
       "      <td>Альберт</td>\n",
       "      <td>25</td>\n",
       "      <td>Краснодар</td>\n",
       "      <td>free</td>\n",
       "      <td>2902.31</td>\n",
       "      <td>16.67</td>\n",
       "      <td>2021-11-27</td>\n",
       "      <td>11</td>\n",
       "      <td>8</td>\n",
       "      <td>50</td>\n",
       "      <td>0</td>\n",
       "    </tr>\n",
       "    <tr>\n",
       "      <th>18067</th>\n",
       "      <td>1534</td>\n",
       "      <td>Альберт</td>\n",
       "      <td>25</td>\n",
       "      <td>Краснодар</td>\n",
       "      <td>free</td>\n",
       "      <td>2371.71</td>\n",
       "      <td>15.89</td>\n",
       "      <td>2021-12-29</td>\n",
       "      <td>12</td>\n",
       "      <td>8</td>\n",
       "      <td>50</td>\n",
       "      <td>0</td>\n",
       "    </tr>\n",
       "  </tbody>\n",
       "</table>\n",
       "<p>11568 rows × 12 columns</p>\n",
       "</div>"
      ],
      "text/plain": [
       "       user_id     name  age       city subscription_type  distance  duration  \\\n",
       "6500       700    Айдар   22       Омск              free   2515.69     14.94   \n",
       "6501       700    Айдар   22       Омск              free    846.93     16.23   \n",
       "6502       700    Айдар   22       Омск              free   4004.43     20.02   \n",
       "6503       700    Айдар   22       Омск              free   1205.91      9.78   \n",
       "6504       700    Айдар   22       Омск              free   3047.38     17.43   \n",
       "...        ...      ...  ...        ...               ...       ...       ...   \n",
       "18063     1534  Альберт   25  Краснодар              free   3781.10     19.82   \n",
       "18064     1534  Альберт   25  Краснодар              free   2840.42     21.41   \n",
       "18065     1534  Альберт   25  Краснодар              free   3826.19     18.44   \n",
       "18066     1534  Альберт   25  Краснодар              free   2902.31     16.67   \n",
       "18067     1534  Альберт   25  Краснодар              free   2371.71     15.89   \n",
       "\n",
       "            date  month  minute_price  start_ride_price  subscription_fee  \n",
       "6500  2021-01-02      1             8                50                 0  \n",
       "6501  2021-02-01      2             8                50                 0  \n",
       "6502  2021-02-04      2             8                50                 0  \n",
       "6503  2021-02-10      2             8                50                 0  \n",
       "6504  2021-02-14      2             8                50                 0  \n",
       "...          ...    ...           ...               ...               ...  \n",
       "18063 2021-11-04     11             8                50                 0  \n",
       "18064 2021-11-16     11             8                50                 0  \n",
       "18065 2021-11-18     11             8                50                 0  \n",
       "18066 2021-11-27     11             8                50                 0  \n",
       "18067 2021-12-29     12             8                50                 0  \n",
       "\n",
       "[11568 rows x 12 columns]"
      ]
     },
     "execution_count": 82,
     "metadata": {},
     "output_type": "execute_result"
    }
   ],
   "source": [
    "data_no_sub = full_data.query(\"subscription_type == 'free'\")\n",
    "data_no_sub"
   ]
  },
  {
   "cell_type": "code",
   "execution_count": 83,
   "id": "6ffbe865",
   "metadata": {},
   "outputs": [
    {
     "data": {
      "text/plain": [
       "user_id              0\n",
       "name                 0\n",
       "age                  0\n",
       "city                 0\n",
       "subscription_type    0\n",
       "distance             0\n",
       "duration             0\n",
       "date                 0\n",
       "month                0\n",
       "minute_price         0\n",
       "start_ride_price     0\n",
       "subscription_fee     0\n",
       "dtype: int64"
      ]
     },
     "execution_count": 83,
     "metadata": {},
     "output_type": "execute_result"
    }
   ],
   "source": [
    "data_no_sub.isna().sum()"
   ]
  },
  {
   "cell_type": "markdown",
   "id": "0f72207f",
   "metadata": {},
   "source": [
    "#### Создадим датафрейм о пользователях c подпиской"
   ]
  },
  {
   "cell_type": "code",
   "execution_count": 85,
   "id": "6c450188",
   "metadata": {},
   "outputs": [
    {
     "data": {
      "text/html": [
       "<div>\n",
       "<style scoped>\n",
       "    .dataframe tbody tr th:only-of-type {\n",
       "        vertical-align: middle;\n",
       "    }\n",
       "\n",
       "    .dataframe tbody tr th {\n",
       "        vertical-align: top;\n",
       "    }\n",
       "\n",
       "    .dataframe thead th {\n",
       "        text-align: right;\n",
       "    }\n",
       "</style>\n",
       "<table border=\"1\" class=\"dataframe\">\n",
       "  <thead>\n",
       "    <tr style=\"text-align: right;\">\n",
       "      <th></th>\n",
       "      <th>user_id</th>\n",
       "      <th>name</th>\n",
       "      <th>age</th>\n",
       "      <th>city</th>\n",
       "      <th>subscription_type</th>\n",
       "      <th>distance</th>\n",
       "      <th>duration</th>\n",
       "      <th>date</th>\n",
       "      <th>month</th>\n",
       "      <th>minute_price</th>\n",
       "      <th>start_ride_price</th>\n",
       "      <th>subscription_fee</th>\n",
       "    </tr>\n",
       "  </thead>\n",
       "  <tbody>\n",
       "    <tr>\n",
       "      <th>0</th>\n",
       "      <td>1</td>\n",
       "      <td>Кира</td>\n",
       "      <td>22</td>\n",
       "      <td>Тюмень</td>\n",
       "      <td>ultra</td>\n",
       "      <td>4409.92</td>\n",
       "      <td>25.60</td>\n",
       "      <td>2021-01-01</td>\n",
       "      <td>1</td>\n",
       "      <td>6</td>\n",
       "      <td>0</td>\n",
       "      <td>199</td>\n",
       "    </tr>\n",
       "    <tr>\n",
       "      <th>1</th>\n",
       "      <td>1</td>\n",
       "      <td>Кира</td>\n",
       "      <td>22</td>\n",
       "      <td>Тюмень</td>\n",
       "      <td>ultra</td>\n",
       "      <td>2617.59</td>\n",
       "      <td>15.82</td>\n",
       "      <td>2021-01-18</td>\n",
       "      <td>1</td>\n",
       "      <td>6</td>\n",
       "      <td>0</td>\n",
       "      <td>199</td>\n",
       "    </tr>\n",
       "    <tr>\n",
       "      <th>2</th>\n",
       "      <td>1</td>\n",
       "      <td>Кира</td>\n",
       "      <td>22</td>\n",
       "      <td>Тюмень</td>\n",
       "      <td>ultra</td>\n",
       "      <td>754.16</td>\n",
       "      <td>6.23</td>\n",
       "      <td>2021-04-20</td>\n",
       "      <td>4</td>\n",
       "      <td>6</td>\n",
       "      <td>0</td>\n",
       "      <td>199</td>\n",
       "    </tr>\n",
       "    <tr>\n",
       "      <th>3</th>\n",
       "      <td>1</td>\n",
       "      <td>Кира</td>\n",
       "      <td>22</td>\n",
       "      <td>Тюмень</td>\n",
       "      <td>ultra</td>\n",
       "      <td>2694.78</td>\n",
       "      <td>18.51</td>\n",
       "      <td>2021-08-11</td>\n",
       "      <td>8</td>\n",
       "      <td>6</td>\n",
       "      <td>0</td>\n",
       "      <td>199</td>\n",
       "    </tr>\n",
       "    <tr>\n",
       "      <th>4</th>\n",
       "      <td>1</td>\n",
       "      <td>Кира</td>\n",
       "      <td>22</td>\n",
       "      <td>Тюмень</td>\n",
       "      <td>ultra</td>\n",
       "      <td>4028.69</td>\n",
       "      <td>26.27</td>\n",
       "      <td>2021-08-28</td>\n",
       "      <td>8</td>\n",
       "      <td>6</td>\n",
       "      <td>0</td>\n",
       "      <td>199</td>\n",
       "    </tr>\n",
       "    <tr>\n",
       "      <th>...</th>\n",
       "      <td>...</td>\n",
       "      <td>...</td>\n",
       "      <td>...</td>\n",
       "      <td>...</td>\n",
       "      <td>...</td>\n",
       "      <td>...</td>\n",
       "      <td>...</td>\n",
       "      <td>...</td>\n",
       "      <td>...</td>\n",
       "      <td>...</td>\n",
       "      <td>...</td>\n",
       "      <td>...</td>\n",
       "    </tr>\n",
       "    <tr>\n",
       "      <th>6495</th>\n",
       "      <td>699</td>\n",
       "      <td>Оксана</td>\n",
       "      <td>22</td>\n",
       "      <td>Москва</td>\n",
       "      <td>ultra</td>\n",
       "      <td>3973.05</td>\n",
       "      <td>24.67</td>\n",
       "      <td>2021-08-29</td>\n",
       "      <td>8</td>\n",
       "      <td>6</td>\n",
       "      <td>0</td>\n",
       "      <td>199</td>\n",
       "    </tr>\n",
       "    <tr>\n",
       "      <th>6496</th>\n",
       "      <td>699</td>\n",
       "      <td>Оксана</td>\n",
       "      <td>22</td>\n",
       "      <td>Москва</td>\n",
       "      <td>ultra</td>\n",
       "      <td>3288.70</td>\n",
       "      <td>15.89</td>\n",
       "      <td>2021-09-12</td>\n",
       "      <td>9</td>\n",
       "      <td>6</td>\n",
       "      <td>0</td>\n",
       "      <td>199</td>\n",
       "    </tr>\n",
       "    <tr>\n",
       "      <th>6497</th>\n",
       "      <td>699</td>\n",
       "      <td>Оксана</td>\n",
       "      <td>22</td>\n",
       "      <td>Москва</td>\n",
       "      <td>ultra</td>\n",
       "      <td>3076.16</td>\n",
       "      <td>14.39</td>\n",
       "      <td>2021-09-26</td>\n",
       "      <td>9</td>\n",
       "      <td>6</td>\n",
       "      <td>0</td>\n",
       "      <td>199</td>\n",
       "    </tr>\n",
       "    <tr>\n",
       "      <th>6498</th>\n",
       "      <td>699</td>\n",
       "      <td>Оксана</td>\n",
       "      <td>22</td>\n",
       "      <td>Москва</td>\n",
       "      <td>ultra</td>\n",
       "      <td>4707.85</td>\n",
       "      <td>15.84</td>\n",
       "      <td>2021-10-17</td>\n",
       "      <td>10</td>\n",
       "      <td>6</td>\n",
       "      <td>0</td>\n",
       "      <td>199</td>\n",
       "    </tr>\n",
       "    <tr>\n",
       "      <th>6499</th>\n",
       "      <td>699</td>\n",
       "      <td>Оксана</td>\n",
       "      <td>22</td>\n",
       "      <td>Москва</td>\n",
       "      <td>ultra</td>\n",
       "      <td>3202.89</td>\n",
       "      <td>25.22</td>\n",
       "      <td>2021-12-03</td>\n",
       "      <td>12</td>\n",
       "      <td>6</td>\n",
       "      <td>0</td>\n",
       "      <td>199</td>\n",
       "    </tr>\n",
       "  </tbody>\n",
       "</table>\n",
       "<p>6500 rows × 12 columns</p>\n",
       "</div>"
      ],
      "text/plain": [
       "      user_id    name  age    city subscription_type  distance  duration  \\\n",
       "0           1    Кира   22  Тюмень             ultra   4409.92     25.60   \n",
       "1           1    Кира   22  Тюмень             ultra   2617.59     15.82   \n",
       "2           1    Кира   22  Тюмень             ultra    754.16      6.23   \n",
       "3           1    Кира   22  Тюмень             ultra   2694.78     18.51   \n",
       "4           1    Кира   22  Тюмень             ultra   4028.69     26.27   \n",
       "...       ...     ...  ...     ...               ...       ...       ...   \n",
       "6495      699  Оксана   22  Москва             ultra   3973.05     24.67   \n",
       "6496      699  Оксана   22  Москва             ultra   3288.70     15.89   \n",
       "6497      699  Оксана   22  Москва             ultra   3076.16     14.39   \n",
       "6498      699  Оксана   22  Москва             ultra   4707.85     15.84   \n",
       "6499      699  Оксана   22  Москва             ultra   3202.89     25.22   \n",
       "\n",
       "           date  month  minute_price  start_ride_price  subscription_fee  \n",
       "0    2021-01-01      1             6                 0               199  \n",
       "1    2021-01-18      1             6                 0               199  \n",
       "2    2021-04-20      4             6                 0               199  \n",
       "3    2021-08-11      8             6                 0               199  \n",
       "4    2021-08-28      8             6                 0               199  \n",
       "...         ...    ...           ...               ...               ...  \n",
       "6495 2021-08-29      8             6                 0               199  \n",
       "6496 2021-09-12      9             6                 0               199  \n",
       "6497 2021-09-26      9             6                 0               199  \n",
       "6498 2021-10-17     10             6                 0               199  \n",
       "6499 2021-12-03     12             6                 0               199  \n",
       "\n",
       "[6500 rows x 12 columns]"
      ]
     },
     "execution_count": 85,
     "metadata": {},
     "output_type": "execute_result"
    }
   ],
   "source": [
    "data_sub = full_data.query(\"subscription_type == 'ultra'\")\n",
    "data_sub"
   ]
  },
  {
   "cell_type": "code",
   "execution_count": 86,
   "id": "649f2732",
   "metadata": {
    "scrolled": true
   },
   "outputs": [
    {
     "data": {
      "text/plain": [
       "user_id              0\n",
       "name                 0\n",
       "age                  0\n",
       "city                 0\n",
       "subscription_type    0\n",
       "distance             0\n",
       "duration             0\n",
       "date                 0\n",
       "month                0\n",
       "minute_price         0\n",
       "start_ride_price     0\n",
       "subscription_fee     0\n",
       "dtype: int64"
      ]
     },
     "execution_count": 86,
     "metadata": {},
     "output_type": "execute_result"
    }
   ],
   "source": [
    "data_sub.isna().sum()"
   ]
  },
  {
   "cell_type": "markdown",
   "id": "d8c5a14e",
   "metadata": {},
   "source": [
    "#### Визуализируем информацию о расстоянии и времени поездок для пользователей обеих категорий."
   ]
  },
  {
   "cell_type": "code",
   "execution_count": 88,
   "id": "acee5890",
   "metadata": {},
   "outputs": [
    {
     "data": {
      "image/png": "[encoded data removed]",
      "text/plain": [
       "<Figure size 1300x500 with 2 Axes>"
      ]
     },
     "metadata": {},
     "output_type": "display_data"
    }
   ],
   "source": [
    "fig, axes = plt.subplots(1, 2, figsize=(13, 5))\n",
    "data_no_sub['distance'].hist(bins=15, ax=axes[0])\n",
    "data_sub['distance'].hist(bins=15, ax=axes[1])\n",
    "axes[0].set_title('Расстояние, пройденное пользовтелями без подписки')\n",
    "axes[1].set_title('Расстояние, пройденное пользовтелями с подписки')\n",
    "axes[0].set_ylabel('Количество поездок')\n",
    "axes[1].set_ylabel('Количество поездок')\n",
    "axes[0].set_xlabel('Пройденное расстояние, м')\n",
    "axes[1].set_xlabel('Пройденное расстояние, м')\n",
    "plt.tight_layout()"
   ]
  },
  {
   "cell_type": "code",
   "execution_count": 89,
   "id": "f338f4a1",
   "metadata": {},
   "outputs": [
    {
     "data": {
      "text/plain": [
       "Text(0.5, 1.0, 'Время, затраченное пользовтелями без подпиской')"
      ]
     },
     "execution_count": 89,
     "metadata": {},
     "output_type": "execute_result"
    },
    {
     "data": {
      "image/png": "[encoded data removed]",
      "text/plain": [
       "<Figure size 1300x500 with 2 Axes>"
      ]
     },
     "metadata": {},
     "output_type": "display_data"
    }
   ],
   "source": [
    "fig, axes = plt.subplots(1, 2, figsize=(13, 5))\n",
    "data_no_sub['duration'].hist(bins=15, ax=axes[1])\n",
    "plt.title('Время, затраченное пользовтелями без подписки')\n",
    "data_sub['duration'].hist(bins=15, ax=axes[0])\n",
    "plt.title('Расстояние, пройденное пользовтелями с подписки')\n",
    "axes[0].set_ylabel('Количество поездок')\n",
    "axes[1].set_ylabel('Количество поездок')\n",
    "axes[0].set_xlabel('Время поездки, минуты')\n",
    "axes[1].set_xlabel('Время поездки, минуты')\n",
    "axes[0].set_title('Время, затраченное пользовтелями с подпиской')\n",
    "axes[1].set_title('Время, затраченное пользовтелями без подпиской')"
   ]
  },
  {
   "cell_type": "markdown",
   "id": "ead3c0ae",
   "metadata": {},
   "source": [
    "Пользователи без подписки в основное проезжают 2500 м и затрачивают 18-21 минуты на поездки."
   ]
  },
  {
   "cell_type": "markdown",
   "id": "055038e7",
   "metadata": {},
   "source": [
    "Пользователи с подпиской, как правило, проезжают 3000 м и затрачивают от 15 до 21 минуты."
   ]
  },
  {
   "cell_type": "code",
   "execution_count": 92,
   "id": "6427bf84",
   "metadata": {},
   "outputs": [
    {
     "data": {
      "text/html": [
       "<div>\n",
       "<style scoped>\n",
       "    .dataframe tbody tr th:only-of-type {\n",
       "        vertical-align: middle;\n",
       "    }\n",
       "\n",
       "    .dataframe tbody tr th {\n",
       "        vertical-align: top;\n",
       "    }\n",
       "\n",
       "    .dataframe thead th {\n",
       "        text-align: right;\n",
       "    }\n",
       "</style>\n",
       "<table border=\"1\" class=\"dataframe\">\n",
       "  <thead>\n",
       "    <tr style=\"text-align: right;\">\n",
       "      <th></th>\n",
       "      <th>age</th>\n",
       "      <th>distance</th>\n",
       "      <th>duration</th>\n",
       "    </tr>\n",
       "  </thead>\n",
       "  <tbody>\n",
       "    <tr>\n",
       "      <th>count</th>\n",
       "      <td>11568.00</td>\n",
       "      <td>11568.00</td>\n",
       "      <td>11568.00</td>\n",
       "    </tr>\n",
       "    <tr>\n",
       "      <th>mean</th>\n",
       "      <td>24.89</td>\n",
       "      <td>3045.50</td>\n",
       "      <td>17.39</td>\n",
       "    </tr>\n",
       "    <tr>\n",
       "      <th>std</th>\n",
       "      <td>4.48</td>\n",
       "      <td>1246.17</td>\n",
       "      <td>6.33</td>\n",
       "    </tr>\n",
       "    <tr>\n",
       "      <th>min</th>\n",
       "      <td>12.00</td>\n",
       "      <td>0.86</td>\n",
       "      <td>0.50</td>\n",
       "    </tr>\n",
       "    <tr>\n",
       "      <th>25%</th>\n",
       "      <td>22.00</td>\n",
       "      <td>2366.56</td>\n",
       "      <td>12.96</td>\n",
       "    </tr>\n",
       "    <tr>\n",
       "      <th>50%</th>\n",
       "      <td>25.00</td>\n",
       "      <td>3114.65</td>\n",
       "      <td>17.33</td>\n",
       "    </tr>\n",
       "    <tr>\n",
       "      <th>75%</th>\n",
       "      <td>28.00</td>\n",
       "      <td>3905.70</td>\n",
       "      <td>21.59</td>\n",
       "    </tr>\n",
       "    <tr>\n",
       "      <th>max</th>\n",
       "      <td>43.00</td>\n",
       "      <td>7211.01</td>\n",
       "      <td>34.95</td>\n",
       "    </tr>\n",
       "  </tbody>\n",
       "</table>\n",
       "</div>"
      ],
      "text/plain": [
       "           age  distance  duration\n",
       "count 11568.00  11568.00  11568.00\n",
       "mean     24.89   3045.50     17.39\n",
       "std       4.48   1246.17      6.33\n",
       "min      12.00      0.86      0.50\n",
       "25%      22.00   2366.56     12.96\n",
       "50%      25.00   3114.65     17.33\n",
       "75%      28.00   3905.70     21.59\n",
       "max      43.00   7211.01     34.95"
      ]
     },
     "execution_count": 92,
     "metadata": {},
     "output_type": "execute_result"
    }
   ],
   "source": [
    "data_no_sub[['age', 'distance', 'duration']].describe()"
   ]
  },
  {
   "cell_type": "code",
   "execution_count": 93,
   "id": "56255b7a",
   "metadata": {},
   "outputs": [
    {
     "data": {
      "text/html": [
       "<div>\n",
       "<style scoped>\n",
       "    .dataframe tbody tr th:only-of-type {\n",
       "        vertical-align: middle;\n",
       "    }\n",
       "\n",
       "    .dataframe tbody tr th {\n",
       "        vertical-align: top;\n",
       "    }\n",
       "\n",
       "    .dataframe thead th {\n",
       "        text-align: right;\n",
       "    }\n",
       "</style>\n",
       "<table border=\"1\" class=\"dataframe\">\n",
       "  <thead>\n",
       "    <tr style=\"text-align: right;\">\n",
       "      <th></th>\n",
       "      <th>age</th>\n",
       "      <th>distance</th>\n",
       "      <th>duration</th>\n",
       "    </tr>\n",
       "  </thead>\n",
       "  <tbody>\n",
       "    <tr>\n",
       "      <th>count</th>\n",
       "      <td>6500.00</td>\n",
       "      <td>6500.00</td>\n",
       "      <td>6500.00</td>\n",
       "    </tr>\n",
       "    <tr>\n",
       "      <th>mean</th>\n",
       "      <td>24.89</td>\n",
       "      <td>3115.45</td>\n",
       "      <td>18.54</td>\n",
       "    </tr>\n",
       "    <tr>\n",
       "      <th>std</th>\n",
       "      <td>4.76</td>\n",
       "      <td>836.90</td>\n",
       "      <td>5.57</td>\n",
       "    </tr>\n",
       "    <tr>\n",
       "      <th>min</th>\n",
       "      <td>12.00</td>\n",
       "      <td>244.21</td>\n",
       "      <td>3.76</td>\n",
       "    </tr>\n",
       "    <tr>\n",
       "      <th>25%</th>\n",
       "      <td>22.00</td>\n",
       "      <td>2785.44</td>\n",
       "      <td>14.52</td>\n",
       "    </tr>\n",
       "    <tr>\n",
       "      <th>50%</th>\n",
       "      <td>25.00</td>\n",
       "      <td>3148.64</td>\n",
       "      <td>18.18</td>\n",
       "    </tr>\n",
       "    <tr>\n",
       "      <th>75%</th>\n",
       "      <td>28.00</td>\n",
       "      <td>3560.57</td>\n",
       "      <td>21.88</td>\n",
       "    </tr>\n",
       "    <tr>\n",
       "      <th>max</th>\n",
       "      <td>38.00</td>\n",
       "      <td>5699.77</td>\n",
       "      <td>40.82</td>\n",
       "    </tr>\n",
       "  </tbody>\n",
       "</table>\n",
       "</div>"
      ],
      "text/plain": [
       "          age  distance  duration\n",
       "count 6500.00   6500.00   6500.00\n",
       "mean    24.89   3115.45     18.54\n",
       "std      4.76    836.90      5.57\n",
       "min     12.00    244.21      3.76\n",
       "25%     22.00   2785.44     14.52\n",
       "50%     25.00   3148.64     18.18\n",
       "75%     28.00   3560.57     21.88\n",
       "max     38.00   5699.77     40.82"
      ]
     },
     "execution_count": 93,
     "metadata": {},
     "output_type": "execute_result"
    }
   ],
   "source": [
    "data_sub[['age', 'distance', 'duration']].describe()"
   ]
  },
  {
   "cell_type": "markdown",
   "id": "f7432ccc",
   "metadata": {},
   "source": [
    "**Вывод:**\n",
    "- объединили 3 таблицы в 1 под названием full_data;\n",
    "- создали еще 2 таблицы на основе наличия у пользователя подписки;\n",
    "- выяснили, что пользователи с подпиской проезжают бОльшее расстояние в сравнении с пользователями без подписки. При этом затрачивают примерно равное время на поездку.\n",
    "- статистика двух таблиц похожа: они имеют одинаковый возраст пользователей, небольшое отлицие средней дистанции, но это из-за того, что таблица о пользователях без подписки имеют больше значений от 0-1000м. Разница среднего времени 1 минута в пользу пользователей с подпиской."
   ]
  },
  {
   "cell_type": "markdown",
   "id": "402d620f",
   "metadata": {},
   "source": [
    "### Шаг 5. Подсчёт выручки"
   ]
  },
  {
   "cell_type": "markdown",
   "id": "4fe606ee",
   "metadata": {},
   "source": [
    "#### Создим датафрейм с агрегированными данными о поездках на основе датафрейма с объединёнными данными "
   ]
  },
  {
   "cell_type": "code",
   "execution_count": 97,
   "id": "101abbbb",
   "metadata": {},
   "outputs": [
    {
     "data": {
      "text/html": [
       "<div>\n",
       "<style scoped>\n",
       "    .dataframe tbody tr th:only-of-type {\n",
       "        vertical-align: middle;\n",
       "    }\n",
       "\n",
       "    .dataframe tbody tr th {\n",
       "        vertical-align: top;\n",
       "    }\n",
       "\n",
       "    .dataframe thead th {\n",
       "        text-align: right;\n",
       "    }\n",
       "</style>\n",
       "<table border=\"1\" class=\"dataframe\">\n",
       "  <thead>\n",
       "    <tr style=\"text-align: right;\">\n",
       "      <th></th>\n",
       "      <th></th>\n",
       "      <th>distance</th>\n",
       "      <th>duration</th>\n",
       "      <th>count</th>\n",
       "      <th>subscription_type</th>\n",
       "    </tr>\n",
       "    <tr>\n",
       "      <th>month</th>\n",
       "      <th>user_id</th>\n",
       "      <th></th>\n",
       "      <th></th>\n",
       "      <th></th>\n",
       "      <th></th>\n",
       "    </tr>\n",
       "  </thead>\n",
       "  <tbody>\n",
       "    <tr>\n",
       "      <th rowspan=\"10\" valign=\"top\">1</th>\n",
       "      <th>1</th>\n",
       "      <td>7027.51</td>\n",
       "      <td>42.00</td>\n",
       "      <td>2</td>\n",
       "      <td>ultra</td>\n",
       "    </tr>\n",
       "    <tr>\n",
       "      <th>3</th>\n",
       "      <td>3061.78</td>\n",
       "      <td>13.00</td>\n",
       "      <td>1</td>\n",
       "      <td>ultra</td>\n",
       "    </tr>\n",
       "    <tr>\n",
       "      <th>5</th>\n",
       "      <td>3914.65</td>\n",
       "      <td>13.00</td>\n",
       "      <td>1</td>\n",
       "      <td>ultra</td>\n",
       "    </tr>\n",
       "    <tr>\n",
       "      <th>7</th>\n",
       "      <td>6478.08</td>\n",
       "      <td>28.00</td>\n",
       "      <td>2</td>\n",
       "      <td>ultra</td>\n",
       "    </tr>\n",
       "    <tr>\n",
       "      <th>12</th>\n",
       "      <td>3577.15</td>\n",
       "      <td>33.00</td>\n",
       "      <td>1</td>\n",
       "      <td>ultra</td>\n",
       "    </tr>\n",
       "    <tr>\n",
       "      <th>13</th>\n",
       "      <td>6687.99</td>\n",
       "      <td>42.00</td>\n",
       "      <td>2</td>\n",
       "      <td>ultra</td>\n",
       "    </tr>\n",
       "    <tr>\n",
       "      <th>14</th>\n",
       "      <td>7699.64</td>\n",
       "      <td>35.00</td>\n",
       "      <td>2</td>\n",
       "      <td>ultra</td>\n",
       "    </tr>\n",
       "    <tr>\n",
       "      <th>15</th>\n",
       "      <td>4187.62</td>\n",
       "      <td>39.00</td>\n",
       "      <td>1</td>\n",
       "      <td>ultra</td>\n",
       "    </tr>\n",
       "    <tr>\n",
       "      <th>20</th>\n",
       "      <td>3516.72</td>\n",
       "      <td>29.00</td>\n",
       "      <td>1</td>\n",
       "      <td>ultra</td>\n",
       "    </tr>\n",
       "    <tr>\n",
       "      <th>22</th>\n",
       "      <td>3058.69</td>\n",
       "      <td>13.00</td>\n",
       "      <td>1</td>\n",
       "      <td>ultra</td>\n",
       "    </tr>\n",
       "  </tbody>\n",
       "</table>\n",
       "</div>"
      ],
      "text/plain": [
       "               distance  duration  count subscription_type\n",
       "month user_id                                             \n",
       "1     1         7027.51     42.00      2             ultra\n",
       "      3         3061.78     13.00      1             ultra\n",
       "      5         3914.65     13.00      1             ultra\n",
       "      7         6478.08     28.00      2             ultra\n",
       "      12        3577.15     33.00      1             ultra\n",
       "      13        6687.99     42.00      2             ultra\n",
       "      14        7699.64     35.00      2             ultra\n",
       "      15        4187.62     39.00      1             ultra\n",
       "      20        3516.72     29.00      1             ultra\n",
       "      22        3058.69     13.00      1             ultra"
      ]
     },
     "execution_count": 97,
     "metadata": {},
     "output_type": "execute_result"
    }
   ],
   "source": [
    "# Округлим продолжительность поездки\n",
    "full_data['duration'] = np.ceil(full_data['duration'])\n",
    "# Найдем суммарное расстояние, количество поeздок и суммарное время для каждого пользователя за каждый месяц\n",
    "data_agg = full_data.pivot_table(index=['month', 'user_id'], values=['distance', 'duration', 'name', 'subscription_type'], \n",
    "                                 aggfunc={'distance': sum, \n",
    "                                      'duration' : sum, \n",
    "                                      'name' : len,\n",
    "                                      'subscription_type' : min})\n",
    "data_agg.rename(columns={'name': 'count'}, inplace = True)\n",
    "data_agg.head(10)"
   ]
  },
  {
   "cell_type": "code",
   "execution_count": 98,
   "id": "2cbe2a0a",
   "metadata": {},
   "outputs": [
    {
     "data": {
      "text/plain": [
       "distance             0\n",
       "duration             0\n",
       "count                0\n",
       "subscription_type    0\n",
       "dtype: int64"
      ]
     },
     "execution_count": 98,
     "metadata": {},
     "output_type": "execute_result"
    }
   ],
   "source": [
    "data_agg.isna().sum()"
   ]
  },
  {
   "cell_type": "markdown",
   "id": "984e359a",
   "metadata": {},
   "source": [
    "#### Добавим столбец с помесячной выручкой, которую принёс каждый пользователь. "
   ]
  },
  {
   "cell_type": "code",
   "execution_count": 100,
   "id": "ad612377",
   "metadata": {},
   "outputs": [],
   "source": [
    "def revenue_func(row):\n",
    "    \"\"\"\n",
    "    Данная функция рассчитывает помесячную выручку с каждого пользователя в зависимости от наличия подписки\n",
    "    \"\"\"\n",
    "    if row['subscription_type'] == 'ultra':\n",
    "        return sub_go.loc[1, 'subscription_fee'] + row['duration'] * sub_go.loc[1, 'minute_price']\n",
    "    elif row['subscription_type'] == 'free':\n",
    "        return sub_go.loc[0, 'start_ride_price'] * row['count'] + row['duration'] * sub_go.loc[0, 'minute_price']\n",
    "    else:\n",
    "        return 'Отсутствуют данные о подписке'"
   ]
  },
  {
   "cell_type": "code",
   "execution_count": 101,
   "id": "e33d608d",
   "metadata": {},
   "outputs": [
    {
     "data": {
      "text/html": [
       "<div>\n",
       "<style scoped>\n",
       "    .dataframe tbody tr th:only-of-type {\n",
       "        vertical-align: middle;\n",
       "    }\n",
       "\n",
       "    .dataframe tbody tr th {\n",
       "        vertical-align: top;\n",
       "    }\n",
       "\n",
       "    .dataframe thead th {\n",
       "        text-align: right;\n",
       "    }\n",
       "</style>\n",
       "<table border=\"1\" class=\"dataframe\">\n",
       "  <thead>\n",
       "    <tr style=\"text-align: right;\">\n",
       "      <th></th>\n",
       "      <th></th>\n",
       "      <th>distance</th>\n",
       "      <th>duration</th>\n",
       "      <th>count</th>\n",
       "      <th>subscription_type</th>\n",
       "      <th>revenue_month</th>\n",
       "    </tr>\n",
       "    <tr>\n",
       "      <th>month</th>\n",
       "      <th>user_id</th>\n",
       "      <th></th>\n",
       "      <th></th>\n",
       "      <th></th>\n",
       "      <th></th>\n",
       "      <th></th>\n",
       "    </tr>\n",
       "  </thead>\n",
       "  <tbody>\n",
       "    <tr>\n",
       "      <th rowspan=\"5\" valign=\"top\">1</th>\n",
       "      <th>1</th>\n",
       "      <td>7027.51</td>\n",
       "      <td>42.00</td>\n",
       "      <td>2</td>\n",
       "      <td>ultra</td>\n",
       "      <td>451.00</td>\n",
       "    </tr>\n",
       "    <tr>\n",
       "      <th>3</th>\n",
       "      <td>3061.78</td>\n",
       "      <td>13.00</td>\n",
       "      <td>1</td>\n",
       "      <td>ultra</td>\n",
       "      <td>277.00</td>\n",
       "    </tr>\n",
       "    <tr>\n",
       "      <th>5</th>\n",
       "      <td>3914.65</td>\n",
       "      <td>13.00</td>\n",
       "      <td>1</td>\n",
       "      <td>ultra</td>\n",
       "      <td>277.00</td>\n",
       "    </tr>\n",
       "    <tr>\n",
       "      <th>7</th>\n",
       "      <td>6478.08</td>\n",
       "      <td>28.00</td>\n",
       "      <td>2</td>\n",
       "      <td>ultra</td>\n",
       "      <td>367.00</td>\n",
       "    </tr>\n",
       "    <tr>\n",
       "      <th>12</th>\n",
       "      <td>3577.15</td>\n",
       "      <td>33.00</td>\n",
       "      <td>1</td>\n",
       "      <td>ultra</td>\n",
       "      <td>397.00</td>\n",
       "    </tr>\n",
       "    <tr>\n",
       "      <th>...</th>\n",
       "      <th>...</th>\n",
       "      <td>...</td>\n",
       "      <td>...</td>\n",
       "      <td>...</td>\n",
       "      <td>...</td>\n",
       "      <td>...</td>\n",
       "    </tr>\n",
       "    <tr>\n",
       "      <th rowspan=\"5\" valign=\"top\">12</th>\n",
       "      <th>1525</th>\n",
       "      <td>4597.85</td>\n",
       "      <td>34.00</td>\n",
       "      <td>1</td>\n",
       "      <td>free</td>\n",
       "      <td>322.00</td>\n",
       "    </tr>\n",
       "    <tr>\n",
       "      <th>1526</th>\n",
       "      <td>3644.12</td>\n",
       "      <td>23.00</td>\n",
       "      <td>1</td>\n",
       "      <td>free</td>\n",
       "      <td>234.00</td>\n",
       "    </tr>\n",
       "    <tr>\n",
       "      <th>1528</th>\n",
       "      <td>3998.57</td>\n",
       "      <td>11.00</td>\n",
       "      <td>1</td>\n",
       "      <td>free</td>\n",
       "      <td>138.00</td>\n",
       "    </tr>\n",
       "    <tr>\n",
       "      <th>1532</th>\n",
       "      <td>6111.89</td>\n",
       "      <td>42.00</td>\n",
       "      <td>2</td>\n",
       "      <td>free</td>\n",
       "      <td>436.00</td>\n",
       "    </tr>\n",
       "    <tr>\n",
       "      <th>1534</th>\n",
       "      <td>2371.71</td>\n",
       "      <td>16.00</td>\n",
       "      <td>1</td>\n",
       "      <td>free</td>\n",
       "      <td>178.00</td>\n",
       "    </tr>\n",
       "  </tbody>\n",
       "</table>\n",
       "<p>11331 rows × 5 columns</p>\n",
       "</div>"
      ],
      "text/plain": [
       "               distance  duration  count subscription_type  revenue_month\n",
       "month user_id                                                            \n",
       "1     1         7027.51     42.00      2             ultra         451.00\n",
       "      3         3061.78     13.00      1             ultra         277.00\n",
       "      5         3914.65     13.00      1             ultra         277.00\n",
       "      7         6478.08     28.00      2             ultra         367.00\n",
       "      12        3577.15     33.00      1             ultra         397.00\n",
       "...                 ...       ...    ...               ...            ...\n",
       "12    1525      4597.85     34.00      1              free         322.00\n",
       "      1526      3644.12     23.00      1              free         234.00\n",
       "      1528      3998.57     11.00      1              free         138.00\n",
       "      1532      6111.89     42.00      2              free         436.00\n",
       "      1534      2371.71     16.00      1              free         178.00\n",
       "\n",
       "[11331 rows x 5 columns]"
      ]
     },
     "execution_count": 101,
     "metadata": {},
     "output_type": "execute_result"
    }
   ],
   "source": [
    "data_agg['revenue_month'] = data_agg.apply(revenue_func, axis=1)\n",
    "data_agg"
   ]
  },
  {
   "cell_type": "code",
   "execution_count": 102,
   "id": "bdf264a3",
   "metadata": {},
   "outputs": [
    {
     "name": "stdout",
     "output_type": "stream",
     "text": [
      "subscription_type\n",
      "free    2234104.00\n",
      "ultra   1644537.00\n",
      "Name: revenue_month, dtype: float64\n",
      "Общий доход: 3878641.0\n"
     ]
    }
   ],
   "source": [
    "# Проверим, какая группа пользоветей приносит больше доходов\n",
    "print(data_agg.groupby('subscription_type')['revenue_month'].sum())\n",
    "print('Общий доход:', data_agg['revenue_month'].sum())"
   ]
  },
  {
   "cell_type": "code",
   "execution_count": 103,
   "id": "77a0f724",
   "metadata": {},
   "outputs": [
    {
     "name": "stdout",
     "output_type": "stream",
     "text": [
      "month  subscription_type\n",
      "1      free                193850.00\n",
      "       ultra               144108.00\n",
      "2      free                165856.00\n",
      "       ultra               124572.00\n",
      "3      free                187214.00\n",
      "       ultra               142608.00\n",
      "4      free                185598.00\n",
      "       ultra               137318.00\n",
      "5      free                188030.00\n",
      "       ultra               149235.00\n",
      "6      free                192144.00\n",
      "       ultra               143834.00\n",
      "7      free                185038.00\n",
      "       ultra               143466.00\n",
      "8      free                187116.00\n",
      "       ultra               138534.00\n",
      "9      free                193700.00\n",
      "       ultra               129337.00\n",
      "10     free                181428.00\n",
      "       ultra               133932.00\n",
      "11     free                179076.00\n",
      "       ultra               126546.00\n",
      "12     free                195054.00\n",
      "       ultra               131047.00\n",
      "Name: revenue_month, dtype: float64\n"
     ]
    }
   ],
   "source": [
    "print(data_agg.groupby(['month', 'subscription_type'])['revenue_month'].sum())"
   ]
  },
  {
   "cell_type": "code",
   "execution_count": 104,
   "id": "88edf815",
   "metadata": {},
   "outputs": [
    {
     "name": "stdout",
     "output_type": "stream",
     "text": [
      "subscription_type\n",
      "free    328.64\n",
      "ultra   362.79\n",
      "Name: revenue_month, dtype: float64\n"
     ]
    }
   ],
   "source": [
    "# Определим средний доход с пользователя в зависимости от подписки\n",
    "print(data_agg.groupby('subscription_type')['revenue_month'].mean())"
   ]
  },
  {
   "cell_type": "markdown",
   "id": "83a2e27f",
   "metadata": {},
   "source": [
    "**Вывод:**\n",
    "Создали новый датафрейм data_agg с агрегированными данными на основе таблицы full_data.\n",
    "Написали функцию, которая определяет месячную выручку с каждого пользователя на основе наличия подписки или ее отсутствия. Пользователи с подпиской приносят меньше общего дохода, но средний доход с таких пользователй выше. Это связано с тем, что пользователей без подписки больше. Определили  доход с пользователей в зависимости от наличия подписки: годовой доход (ultra - 1644537 руб, free - 2234104 руб.), а также средний доход с пользователя (free - 328.64руб, ultra - 362.79 руб.)"
   ]
  },
  {
   "cell_type": "markdown",
   "id": "41545ac0",
   "metadata": {},
   "source": [
    "### Шаг 6. Проверка гипотез"
   ]
  },
  {
   "cell_type": "markdown",
   "id": "91c97c4d",
   "metadata": {},
   "source": [
    "#### Пользователи с подпиской тратят больше времени на поездки."
   ]
  },
  {
   "cell_type": "markdown",
   "id": "2a1bfd4f",
   "metadata": {},
   "source": [
    "H0: Время, затраченное пользователями по подписке ultra = время, затраченное пользователями по free\n",
    "\n",
    "H1: Время, затраченное пользователями по подписке ultra > время, затраченное пользователями по free"
   ]
  },
  {
   "cell_type": "code",
   "execution_count": 109,
   "id": "23ea867b",
   "metadata": {},
   "outputs": [
    {
     "name": "stdout",
     "output_type": "stream",
     "text": [
      "p-значение: 1.2804098316645618e-34\n",
      "Отвергаем нулевую гипотезу\n"
     ]
    }
   ],
   "source": [
    "# Проведем двухсторонний t-тест независимых выборок для проверки гипотезы\n",
    "data_no_sub_dur = data_no_sub['duration']\n",
    "\n",
    "data_sub_dur = data_sub['duration']\n",
    "\n",
    "\n",
    "results = st.ttest_ind(data_sub_dur, \n",
    "                       data_no_sub_dur,\n",
    "                       alternative = 'greater')\n",
    "\n",
    "alpha = 0.05\n",
    "\n",
    "print('p-значение:', results.pvalue)\n",
    "\n",
    "if results.pvalue < alpha:\n",
    "    print('Отвергаем нулевую гипотезу')\n",
    "else:\n",
    "    print('Не получилось отвергнуть нулевую гипотезу')"
   ]
  },
  {
   "cell_type": "markdown",
   "id": "e49cfe1d",
   "metadata": {},
   "source": [
    "**Вывод:** гипотезу о том, что пользователи с подпиской тратят больше времени на поездки, не отвергаем. Пользователи с подпиской будут выгодней для компании. Значение p очень маленькое, следоватьльно пользователи с подпиской почти всегда тратят больше времени на поездки."
   ]
  },
  {
   "cell_type": "markdown",
   "id": "94f828af",
   "metadata": {},
   "source": [
    "#### Расстояние одной поездки в 3130 метров — оптимальное с точки зрения износа самоката. Можно ли сказать, что среднее расстояние, которое проезжают пользователи с подпиской за одну поездку, не превышает 3130 метров?"
   ]
  },
  {
   "cell_type": "markdown",
   "id": "501f0784",
   "metadata": {},
   "source": [
    "Проверим гипотезу: пользователи с подпиской проезжают расстояние, не превышающее 3130 метров за одну поездку.\n",
    "\n",
    "H0: Среднее расстояние пользователей с подпиской ultra = 3130 метров\n",
    "\n",
    "H1: Среднее расстояние пользователей с подпиской ultra > 3130 метров"
   ]
  },
  {
   "cell_type": "code",
   "execution_count": 113,
   "id": "7264e9e2",
   "metadata": {},
   "outputs": [
    {
     "name": "stdout",
     "output_type": "stream",
     "text": [
      "p-значение: 0.9195368847849785\n",
      "Не отвергаем нулевую гипотезу\n"
     ]
    }
   ],
   "source": [
    "data_sub_dist = data_sub['distance']\n",
    "\n",
    "distance_optimal = 3130\n",
    "\n",
    "results = st.ttest_1samp(\n",
    "    data_sub_dist, \n",
    "    distance_optimal,\n",
    "    alternative='greater')\n",
    "\n",
    "print('p-значение:', results.pvalue)\n",
    "\n",
    "if (results.pvalue < alpha):\n",
    "    print('Отвергаем нулевую гипотезу')\n",
    "else:\n",
    "    print('Не отвергаем нулевую гипотезу') \n",
    "  "
   ]
  },
  {
   "cell_type": "markdown",
   "id": "451a0475",
   "metadata": {},
   "source": [
    "**Вывод:** Гипотезу о том. что среднее расстояние, которое проезжают пользователи с подпиской за одну поездку, не превышает 3130 метров, не отвергаем. Пользователи с подпиской выгодны, так как в среднем проезжают около 3130 м, что явлеяется оптимальным значением с точки зрения износа самоката. "
   ]
  },
  {
   "cell_type": "markdown",
   "id": "9cc6900a",
   "metadata": {},
   "source": [
    "#### Помесячная выручка от пользователей с подпиской по месяцам выше, чем выручка от пользователей без подписки."
   ]
  },
  {
   "cell_type": "markdown",
   "id": "229455fd",
   "metadata": {},
   "source": [
    "H0: помесячная выручка от пользователей с подпиской по месяцам = помесячная выручка от пользователей без подписки по месяца.\n",
    "\n",
    "H1: Помесячная выручка от пользователей с подпиской по месяцам > помесячная выручка от пользователей без подписки."
   ]
  },
  {
   "cell_type": "code",
   "execution_count": 117,
   "id": "f3e22646",
   "metadata": {},
   "outputs": [
    {
     "name": "stdout",
     "output_type": "stream",
     "text": [
      "p-значение: 1.8850394384715216e-31\n",
      "Отвергаем нулевую гипотезу\n"
     ]
    }
   ],
   "source": [
    "data_agg_sub_rev = data_agg.loc[data_agg['subscription_type'] == 'ultra']['revenue_month']\n",
    "data_agg_no_sub_rev = data_agg.loc[data_agg['subscription_type'] == 'free']['revenue_month']\n",
    "\n",
    "results = st.ttest_ind(data_agg_sub_rev,\n",
    "                      data_agg_no_sub_rev,\n",
    "                      alternative = 'greater')\n",
    "\n",
    "print('p-значение:', results.pvalue)\n",
    "if results.pvalue < alpha:\n",
    "    print('Отвергаем нулевую гипотезу')\n",
    "else:\n",
    "    print('Не удалось отвергнуть нулевую гипотезу')"
   ]
  },
  {
   "cell_type": "markdown",
   "id": "3023e4fa",
   "metadata": {},
   "source": [
    "**Вывод:** гипотезу о том, что помесячная выручка от пользователей с подпиской по месяцам выше, чем выручка от пользователей без подписки, не отвергаем. Следовательно, пользователи с подпиской выгоднее."
   ]
  },
  {
   "cell_type": "markdown",
   "id": "61a3ba79",
   "metadata": {},
   "source": [
    "#### Техническая команда сервиса обновила сервера, с которыми взаимодействует мобильное приложение. Она надеется, что из-за этого количество обращений в техподдержку значимо снизилось. Некоторый файл содержит для каждого пользователя данные о количестве обращений до обновления и после него. Провести тест для проверки данной гипотизы. Какой тест вам понадобился бы для проверки этой гипотезы?"
   ]
  },
  {
   "cell_type": "markdown",
   "id": "0026b1d4",
   "metadata": {},
   "source": [
    "Необходимо провести двухсторонний тест для зависимых выборок, так как есть две таблицы: 1-ая до обращения и 2-я, измененная, после обновления приложения.\n",
    "Метод, который нужно использовать при сравнении: scipy.stats.ttest_rel().\n",
    "\n",
    "Необходимо проверить одностороннюю гипотезу:\n",
    "\n",
    "H0: число обращений после обновления = число обращений до обновления.\n",
    "\n",
    "H1: число обращений после обновления > число обращений до обновления."
   ]
  },
  {
   "cell_type": "markdown",
   "id": "2517536a",
   "metadata": {},
   "source": [
    "### Вывод"
   ]
  },
  {
   "cell_type": "markdown",
   "id": "35fef97e",
   "metadata": {},
   "source": [
    "Провели исследоветельский анализ данных и выяснили:\n",
    "- приложение больше всего используют в Пятигорске (219) и Екатеринбугре(204). Меньше всего в Москве(168).\n",
    "- Пользователей без подписки больше (835 или 54%). Пользователей с подпиской 699 или 46%.\n",
    "- Самый младший пользователь - 12 лет. Самый старший пользователь - 43 года. Средний возраст - 25 лет. Больше всего пользователей возраста 21 - 27 лет. Клиенты возрастом после 37 лет встречаются редко.\n",
    "- В оновном пользователь используют самокаты для поездки на 3000 м. Присутствуют аномальные значения. Некоторые пользователи проезжали очень малое расстояние за большой промежуток времени.\n",
    "- Продолжительность поздки в среднем - 18 минут. В данных присутствует аномалия. Некоторые пользователи за пол минуты расстояние более 4 км.\n",
    "\n",
    "Определили доход с пользователей в зависимости от наличия подписки: годовой доход (ultra - 1644537 руб, free - 2234104 руб.), а также средний доход с пользователя (free - 328.64руб, ultra - 362.79).\n",
    "\n",
    "Проверили выдвинутые гипотезы и определили:\n",
    "- пользователи с подпиской тратят больше времени на поездки. Гипотезу не отвергаем.\n",
    "- пользователи с подпиской примерно проезжают 3130 м в среднем. Гипотезу не отвергаем.\n",
    "- выручка с пользоветелей с подпиской выше, чем с пользователей без подписки. Гипотезу не отвергаем.\n",
    "- для проверки гипотезы о том, что после обновления сервера количество обращений в техподдержку снизится, необходимо провести двухсторонний тест для зависимых выборок.\n",
    "\n",
    "Компании следует развивать и привлекать больше клиентов к покупке подписки, так как эти пользователи на 1 человека в среднем приносят больше выручки, тратят больше времени на поездки, проезжают в среднем 3130м, что является оптимальным значением для износа самоката."
   ]
  },
  {
   "cell_type": "code",
   "execution_count": null,
   "id": "b58c3d0f-9222-4e20-94b8-e8a51d08e32c",
   "metadata": {},
   "outputs": [],
   "source": []
  }
 ],
 "metadata": {
  "ExecuteTimeLog": [
   {
    "duration": 731,
    "start_time": "2023-12-25T10:30:25.107Z"
   },
   {
    "duration": 557,
    "start_time": "2023-12-25T10:31:43.898Z"
   },
   {
    "duration": 2,
    "start_time": "2023-12-25T10:32:07.640Z"
   },
   {
    "duration": 61,
    "start_time": "2023-12-25T10:37:18.775Z"
   },
   {
    "duration": 2,
    "start_time": "2023-12-25T10:37:22.742Z"
   },
   {
    "duration": 183,
    "start_time": "2023-12-25T10:37:22.771Z"
   },
   {
    "duration": 10,
    "start_time": "2023-12-25T10:37:23.346Z"
   },
   {
    "duration": 9,
    "start_time": "2023-12-25T10:38:08.162Z"
   },
   {
    "duration": 17,
    "start_time": "2023-12-25T10:40:09.054Z"
   },
   {
    "duration": 7,
    "start_time": "2023-12-25T10:40:36.218Z"
   },
   {
    "duration": 112,
    "start_time": "2023-12-25T10:42:27.292Z"
   },
   {
    "duration": 8,
    "start_time": "2023-12-25T10:48:02.819Z"
   },
   {
    "duration": 12,
    "start_time": "2023-12-25T10:48:24.649Z"
   },
   {
    "duration": 13,
    "start_time": "2023-12-25T10:49:14.777Z"
   },
   {
    "duration": 9,
    "start_time": "2023-12-25T10:50:07.994Z"
   },
   {
    "duration": 104,
    "start_time": "2023-12-25T10:50:16.268Z"
   },
   {
    "duration": 7,
    "start_time": "2023-12-25T10:50:17.866Z"
   },
   {
    "duration": 9,
    "start_time": "2023-12-25T10:50:21.866Z"
   },
   {
    "duration": 14,
    "start_time": "2023-12-25T10:50:22.594Z"
   },
   {
    "duration": 1243,
    "start_time": "2023-12-25T10:51:05.299Z"
   },
   {
    "duration": 13,
    "start_time": "2023-12-25T10:51:24.789Z"
   },
   {
    "duration": 5,
    "start_time": "2023-12-25T10:57:19.384Z"
   },
   {
    "duration": 506,
    "start_time": "2023-12-25T10:57:24.059Z"
   },
   {
    "duration": 62,
    "start_time": "2023-12-25T10:57:24.567Z"
   },
   {
    "duration": 11,
    "start_time": "2023-12-25T10:57:24.630Z"
   },
   {
    "duration": 28,
    "start_time": "2023-12-25T10:57:24.642Z"
   },
   {
    "duration": 62,
    "start_time": "2023-12-25T10:57:24.671Z"
   },
   {
    "duration": 127,
    "start_time": "2023-12-25T10:57:24.734Z"
   },
   {
    "duration": 7,
    "start_time": "2023-12-25T10:57:24.862Z"
   },
   {
    "duration": 10,
    "start_time": "2023-12-25T10:57:24.870Z"
   },
   {
    "duration": 22,
    "start_time": "2023-12-25T10:57:24.881Z"
   },
   {
    "duration": 5,
    "start_time": "2023-12-25T10:57:24.905Z"
   },
   {
    "duration": 5,
    "start_time": "2023-12-25T10:58:22.832Z"
   },
   {
    "duration": 20,
    "start_time": "2023-12-25T10:58:41.654Z"
   },
   {
    "duration": 8,
    "start_time": "2023-12-25T10:58:55.911Z"
   },
   {
    "duration": 64,
    "start_time": "2023-12-25T11:05:58.195Z"
   },
   {
    "duration": 5,
    "start_time": "2023-12-25T11:06:17.397Z"
   },
   {
    "duration": 8,
    "start_time": "2023-12-25T11:06:39.408Z"
   },
   {
    "duration": 3,
    "start_time": "2023-12-25T11:07:21.709Z"
   },
   {
    "duration": 4,
    "start_time": "2023-12-25T11:07:30.845Z"
   },
   {
    "duration": 10,
    "start_time": "2023-12-25T11:07:45.597Z"
   },
   {
    "duration": 5,
    "start_time": "2023-12-25T11:07:45.837Z"
   },
   {
    "duration": 7,
    "start_time": "2023-12-25T11:09:23.205Z"
   },
   {
    "duration": 3,
    "start_time": "2023-12-25T11:10:28.790Z"
   },
   {
    "duration": 8,
    "start_time": "2023-12-25T11:10:49.431Z"
   },
   {
    "duration": 6,
    "start_time": "2023-12-25T11:12:51.416Z"
   },
   {
    "duration": 5,
    "start_time": "2023-12-25T11:12:59.975Z"
   },
   {
    "duration": 6,
    "start_time": "2023-12-25T11:16:10.729Z"
   },
   {
    "duration": 4,
    "start_time": "2023-12-25T11:16:42.459Z"
   },
   {
    "duration": 3,
    "start_time": "2023-12-25T11:17:03.093Z"
   },
   {
    "duration": 3,
    "start_time": "2023-12-25T11:17:12.958Z"
   },
   {
    "duration": 6,
    "start_time": "2023-12-25T11:17:55.323Z"
   },
   {
    "duration": 605,
    "start_time": "2023-12-25T11:21:02.886Z"
   },
   {
    "duration": 64,
    "start_time": "2023-12-25T11:21:03.492Z"
   },
   {
    "duration": 11,
    "start_time": "2023-12-25T11:21:03.557Z"
   },
   {
    "duration": 8,
    "start_time": "2023-12-25T11:21:03.570Z"
   },
   {
    "duration": 34,
    "start_time": "2023-12-25T11:21:03.579Z"
   },
   {
    "duration": 115,
    "start_time": "2023-12-25T11:21:03.614Z"
   },
   {
    "duration": 8,
    "start_time": "2023-12-25T11:21:03.730Z"
   },
   {
    "duration": 16,
    "start_time": "2023-12-25T11:21:03.739Z"
   },
   {
    "duration": 12,
    "start_time": "2023-12-25T11:21:03.756Z"
   },
   {
    "duration": 5,
    "start_time": "2023-12-25T11:21:03.769Z"
   },
   {
    "duration": 18,
    "start_time": "2023-12-25T11:21:03.775Z"
   },
   {
    "duration": 9,
    "start_time": "2023-12-25T11:21:03.794Z"
   },
   {
    "duration": 4,
    "start_time": "2023-12-25T11:21:03.804Z"
   },
   {
    "duration": 9,
    "start_time": "2023-12-25T11:21:03.809Z"
   },
   {
    "duration": 5,
    "start_time": "2023-12-25T11:21:03.818Z"
   },
   {
    "duration": 6,
    "start_time": "2023-12-25T11:21:03.824Z"
   },
   {
    "duration": 3,
    "start_time": "2023-12-25T11:21:03.831Z"
   },
   {
    "duration": 9,
    "start_time": "2023-12-25T11:21:03.835Z"
   },
   {
    "duration": 74,
    "start_time": "2023-12-25T11:21:03.845Z"
   },
   {
    "duration": 67,
    "start_time": "2023-12-25T11:24:35.166Z"
   },
   {
    "duration": 4,
    "start_time": "2023-12-25T11:24:52.207Z"
   },
   {
    "duration": 87,
    "start_time": "2023-12-25T11:27:54.680Z"
   },
   {
    "duration": 94,
    "start_time": "2023-12-25T11:28:41.713Z"
   },
   {
    "duration": 113,
    "start_time": "2023-12-25T11:29:48.737Z"
   },
   {
    "duration": 1151,
    "start_time": "2023-12-25T11:43:10.737Z"
   },
   {
    "duration": 5,
    "start_time": "2023-12-25T11:43:28.826Z"
   },
   {
    "duration": 5,
    "start_time": "2023-12-25T11:46:26.336Z"
   },
   {
    "duration": 108,
    "start_time": "2023-12-25T11:47:04.940Z"
   },
   {
    "duration": 536,
    "start_time": "2023-12-25T11:47:17.829Z"
   },
   {
    "duration": 64,
    "start_time": "2023-12-25T11:47:18.366Z"
   },
   {
    "duration": 10,
    "start_time": "2023-12-25T11:47:18.431Z"
   },
   {
    "duration": 17,
    "start_time": "2023-12-25T11:47:18.443Z"
   },
   {
    "duration": 28,
    "start_time": "2023-12-25T11:47:18.461Z"
   },
   {
    "duration": 115,
    "start_time": "2023-12-25T11:47:18.491Z"
   },
   {
    "duration": 7,
    "start_time": "2023-12-25T11:47:18.608Z"
   },
   {
    "duration": 11,
    "start_time": "2023-12-25T11:47:18.616Z"
   },
   {
    "duration": 13,
    "start_time": "2023-12-25T11:47:18.628Z"
   },
   {
    "duration": 5,
    "start_time": "2023-12-25T11:47:18.643Z"
   },
   {
    "duration": 7,
    "start_time": "2023-12-25T11:47:18.649Z"
   },
   {
    "duration": 5,
    "start_time": "2023-12-25T11:47:18.657Z"
   },
   {
    "duration": 4,
    "start_time": "2023-12-25T11:47:18.663Z"
   },
   {
    "duration": 38,
    "start_time": "2023-12-25T11:47:18.668Z"
   },
   {
    "duration": 4,
    "start_time": "2023-12-25T11:47:18.707Z"
   },
   {
    "duration": 14,
    "start_time": "2023-12-25T11:47:18.713Z"
   },
   {
    "duration": 4,
    "start_time": "2023-12-25T11:47:18.728Z"
   },
   {
    "duration": 7,
    "start_time": "2023-12-25T11:47:18.733Z"
   },
   {
    "duration": 3,
    "start_time": "2023-12-25T11:47:18.742Z"
   },
   {
    "duration": 132,
    "start_time": "2023-12-25T11:47:18.746Z"
   },
   {
    "duration": 5,
    "start_time": "2023-12-25T11:47:18.879Z"
   },
   {
    "duration": 88,
    "start_time": "2023-12-25T11:47:18.885Z"
   },
   {
    "duration": 7,
    "start_time": "2023-12-25T11:48:53.468Z"
   },
   {
    "duration": 3,
    "start_time": "2023-12-25T11:50:23.902Z"
   },
   {
    "duration": 102,
    "start_time": "2023-12-25T11:50:39.677Z"
   },
   {
    "duration": 2,
    "start_time": "2023-12-25T11:53:57.288Z"
   },
   {
    "duration": 7,
    "start_time": "2023-12-25T11:55:48.208Z"
   },
   {
    "duration": 61,
    "start_time": "2023-12-25T11:56:34.593Z"
   },
   {
    "duration": 6,
    "start_time": "2023-12-25T11:56:56.073Z"
   },
   {
    "duration": 144,
    "start_time": "2023-12-25T11:58:17.898Z"
   },
   {
    "duration": 120,
    "start_time": "2023-12-25T11:59:47.396Z"
   },
   {
    "duration": 131,
    "start_time": "2023-12-25T12:00:36.020Z"
   },
   {
    "duration": 1350,
    "start_time": "2023-12-25T12:04:02.294Z"
   },
   {
    "duration": 6,
    "start_time": "2023-12-25T12:04:20.977Z"
   },
   {
    "duration": 6,
    "start_time": "2023-12-25T12:04:40.966Z"
   },
   {
    "duration": 133,
    "start_time": "2023-12-25T12:06:17.117Z"
   },
   {
    "duration": 506,
    "start_time": "2023-12-25T12:45:41.250Z"
   },
   {
    "duration": 62,
    "start_time": "2023-12-25T12:45:41.758Z"
   },
   {
    "duration": 10,
    "start_time": "2023-12-25T12:45:41.822Z"
   },
   {
    "duration": 14,
    "start_time": "2023-12-25T12:45:41.834Z"
   },
   {
    "duration": 13,
    "start_time": "2023-12-25T12:45:41.849Z"
   },
   {
    "duration": 22,
    "start_time": "2023-12-25T12:45:41.863Z"
   },
   {
    "duration": 17,
    "start_time": "2023-12-25T12:45:41.886Z"
   },
   {
    "duration": 16,
    "start_time": "2023-12-25T12:45:41.905Z"
   },
   {
    "duration": 21,
    "start_time": "2023-12-25T12:45:41.922Z"
   },
   {
    "duration": 28,
    "start_time": "2023-12-25T12:45:41.945Z"
   },
   {
    "duration": 8,
    "start_time": "2023-12-25T12:45:41.974Z"
   },
   {
    "duration": 12,
    "start_time": "2023-12-25T12:45:41.983Z"
   },
   {
    "duration": 11,
    "start_time": "2023-12-25T12:45:41.996Z"
   },
   {
    "duration": 4,
    "start_time": "2023-12-25T12:45:42.008Z"
   },
   {
    "duration": 19,
    "start_time": "2023-12-25T12:45:42.013Z"
   },
   {
    "duration": 12,
    "start_time": "2023-12-25T12:45:42.033Z"
   },
   {
    "duration": 26,
    "start_time": "2023-12-25T12:45:42.046Z"
   },
   {
    "duration": 3,
    "start_time": "2023-12-25T12:45:42.073Z"
   },
   {
    "duration": 134,
    "start_time": "2023-12-25T12:45:42.077Z"
   },
   {
    "duration": 4,
    "start_time": "2023-12-25T12:45:42.213Z"
   },
   {
    "duration": 99,
    "start_time": "2023-12-25T12:45:42.218Z"
   },
   {
    "duration": 5,
    "start_time": "2023-12-25T12:45:42.318Z"
   },
   {
    "duration": 111,
    "start_time": "2023-12-25T12:45:42.324Z"
   },
   {
    "duration": 43,
    "start_time": "2023-12-25T12:45:42.437Z"
   },
   {
    "duration": 43,
    "start_time": "2023-12-25T12:45:42.481Z"
   },
   {
    "duration": 142,
    "start_time": "2023-12-25T12:45:42.525Z"
   },
   {
    "duration": 6,
    "start_time": "2023-12-25T12:45:42.668Z"
   },
   {
    "duration": 19,
    "start_time": "2023-12-25T12:45:42.676Z"
   },
   {
    "duration": 168,
    "start_time": "2023-12-25T12:45:42.696Z"
   },
   {
    "duration": 7,
    "start_time": "2023-12-25T12:55:17.398Z"
   },
   {
    "duration": 7,
    "start_time": "2023-12-25T12:55:29.434Z"
   },
   {
    "duration": 566,
    "start_time": "2023-12-25T13:04:52.704Z"
   },
   {
    "duration": 64,
    "start_time": "2023-12-25T13:04:53.272Z"
   },
   {
    "duration": 11,
    "start_time": "2023-12-25T13:04:53.337Z"
   },
   {
    "duration": 21,
    "start_time": "2023-12-25T13:04:53.350Z"
   },
   {
    "duration": 32,
    "start_time": "2023-12-25T13:04:53.372Z"
   },
   {
    "duration": 8,
    "start_time": "2023-12-25T13:04:53.405Z"
   },
   {
    "duration": 10,
    "start_time": "2023-12-25T13:04:53.415Z"
   },
   {
    "duration": 12,
    "start_time": "2023-12-25T13:04:53.427Z"
   },
   {
    "duration": 14,
    "start_time": "2023-12-25T13:04:53.440Z"
   },
   {
    "duration": 7,
    "start_time": "2023-12-25T13:04:53.457Z"
   },
   {
    "duration": 11,
    "start_time": "2023-12-25T13:04:53.465Z"
   },
   {
    "duration": 31,
    "start_time": "2023-12-25T13:04:53.477Z"
   },
   {
    "duration": 18,
    "start_time": "2023-12-25T13:04:53.509Z"
   },
   {
    "duration": 14,
    "start_time": "2023-12-25T13:04:53.528Z"
   },
   {
    "duration": 29,
    "start_time": "2023-12-25T13:04:53.543Z"
   },
   {
    "duration": 11,
    "start_time": "2023-12-25T13:04:53.573Z"
   },
   {
    "duration": 36,
    "start_time": "2023-12-25T13:04:53.585Z"
   },
   {
    "duration": 24,
    "start_time": "2023-12-25T13:04:53.622Z"
   },
   {
    "duration": 135,
    "start_time": "2023-12-25T13:04:53.647Z"
   },
   {
    "duration": 6,
    "start_time": "2023-12-25T13:04:53.783Z"
   },
   {
    "duration": 131,
    "start_time": "2023-12-25T13:04:53.790Z"
   },
   {
    "duration": 5,
    "start_time": "2023-12-25T13:04:53.923Z"
   },
   {
    "duration": 111,
    "start_time": "2023-12-25T13:04:53.929Z"
   },
   {
    "duration": 5,
    "start_time": "2023-12-25T13:04:54.042Z"
   },
   {
    "duration": 32,
    "start_time": "2023-12-25T13:04:54.048Z"
   },
   {
    "duration": 138,
    "start_time": "2023-12-25T13:04:54.082Z"
   },
   {
    "duration": 5,
    "start_time": "2023-12-25T13:04:54.221Z"
   },
   {
    "duration": 16,
    "start_time": "2023-12-25T13:04:54.229Z"
   },
   {
    "duration": 172,
    "start_time": "2023-12-25T13:04:54.246Z"
   },
   {
    "duration": 99,
    "start_time": "2023-12-25T13:04:54.419Z"
   },
   {
    "duration": 23,
    "start_time": "2023-12-25T13:05:20.390Z"
   },
   {
    "duration": 8,
    "start_time": "2023-12-25T13:08:40.360Z"
   },
   {
    "duration": 16,
    "start_time": "2023-12-25T13:08:48.103Z"
   },
   {
    "duration": 17,
    "start_time": "2023-12-25T13:09:37.815Z"
   },
   {
    "duration": 93,
    "start_time": "2023-12-25T13:13:27.392Z"
   },
   {
    "duration": 136,
    "start_time": "2023-12-25T13:13:36.048Z"
   },
   {
    "duration": 1240,
    "start_time": "2023-12-25T13:14:25.545Z"
   },
   {
    "duration": 133,
    "start_time": "2023-12-25T13:14:36.731Z"
   },
   {
    "duration": 129,
    "start_time": "2023-12-25T13:16:51.284Z"
   },
   {
    "duration": 122,
    "start_time": "2023-12-25T13:17:04.517Z"
   },
   {
    "duration": 525,
    "start_time": "2023-12-25T13:24:45.640Z"
   },
   {
    "duration": 63,
    "start_time": "2023-12-25T13:24:46.166Z"
   },
   {
    "duration": 10,
    "start_time": "2023-12-25T13:24:46.230Z"
   },
   {
    "duration": 8,
    "start_time": "2023-12-25T13:24:46.241Z"
   },
   {
    "duration": 10,
    "start_time": "2023-12-25T13:24:46.251Z"
   },
   {
    "duration": 6,
    "start_time": "2023-12-25T13:24:46.262Z"
   },
   {
    "duration": 9,
    "start_time": "2023-12-25T13:24:46.269Z"
   },
   {
    "duration": 29,
    "start_time": "2023-12-25T13:24:46.279Z"
   },
   {
    "duration": 82,
    "start_time": "2023-12-25T13:24:46.309Z"
   },
   {
    "duration": 23,
    "start_time": "2023-12-25T13:24:46.394Z"
   },
   {
    "duration": 9,
    "start_time": "2023-12-25T13:24:46.418Z"
   },
   {
    "duration": 9,
    "start_time": "2023-12-25T13:24:46.428Z"
   },
   {
    "duration": 9,
    "start_time": "2023-12-25T13:24:46.438Z"
   },
   {
    "duration": 4,
    "start_time": "2023-12-25T13:24:46.448Z"
   },
   {
    "duration": 10,
    "start_time": "2023-12-25T13:24:46.453Z"
   },
   {
    "duration": 6,
    "start_time": "2023-12-25T13:24:46.464Z"
   },
   {
    "duration": 20,
    "start_time": "2023-12-25T13:24:46.471Z"
   },
   {
    "duration": 4,
    "start_time": "2023-12-25T13:24:46.492Z"
   },
   {
    "duration": 141,
    "start_time": "2023-12-25T13:24:46.501Z"
   },
   {
    "duration": 6,
    "start_time": "2023-12-25T13:24:46.643Z"
   },
   {
    "duration": 88,
    "start_time": "2023-12-25T13:24:46.650Z"
   },
   {
    "duration": 6,
    "start_time": "2023-12-25T13:24:46.739Z"
   },
   {
    "duration": 112,
    "start_time": "2023-12-25T13:24:46.746Z"
   },
   {
    "duration": 6,
    "start_time": "2023-12-25T13:24:46.859Z"
   },
   {
    "duration": 6,
    "start_time": "2023-12-25T13:24:46.866Z"
   },
   {
    "duration": 149,
    "start_time": "2023-12-25T13:24:46.873Z"
   },
   {
    "duration": 5,
    "start_time": "2023-12-25T13:24:47.023Z"
   },
   {
    "duration": 5,
    "start_time": "2023-12-25T13:24:47.031Z"
   },
   {
    "duration": 178,
    "start_time": "2023-12-25T13:24:47.037Z"
   },
   {
    "duration": 21,
    "start_time": "2023-12-25T13:24:47.216Z"
   },
   {
    "duration": 18,
    "start_time": "2023-12-25T13:24:47.238Z"
   },
   {
    "duration": 15,
    "start_time": "2023-12-25T13:24:47.257Z"
   },
   {
    "duration": 160,
    "start_time": "2023-12-25T13:24:47.273Z"
   },
   {
    "duration": 146,
    "start_time": "2023-12-25T13:24:47.434Z"
   },
   {
    "duration": 136,
    "start_time": "2023-12-25T13:24:47.581Z"
   },
   {
    "duration": 132,
    "start_time": "2023-12-25T13:24:47.718Z"
   },
   {
    "duration": 3,
    "start_time": "2023-12-25T13:34:36.769Z"
   },
   {
    "duration": 66,
    "start_time": "2023-12-25T13:34:41.679Z"
   },
   {
    "duration": 9,
    "start_time": "2023-12-25T13:34:49.466Z"
   },
   {
    "duration": 150,
    "start_time": "2023-12-25T13:35:04.682Z"
   },
   {
    "duration": 87,
    "start_time": "2023-12-25T13:35:15.717Z"
   },
   {
    "duration": 80,
    "start_time": "2023-12-25T13:35:33.676Z"
   },
   {
    "duration": 81,
    "start_time": "2023-12-25T13:36:44.998Z"
   },
   {
    "duration": 80,
    "start_time": "2023-12-25T13:36:51.460Z"
   },
   {
    "duration": 107,
    "start_time": "2023-12-25T13:37:04.769Z"
   },
   {
    "duration": 83,
    "start_time": "2023-12-25T13:37:12.100Z"
   },
   {
    "duration": 96,
    "start_time": "2023-12-25T13:37:30.247Z"
   },
   {
    "duration": 3,
    "start_time": "2023-12-25T13:39:21.824Z"
   },
   {
    "duration": 88,
    "start_time": "2023-12-25T13:39:32.224Z"
   },
   {
    "duration": 88,
    "start_time": "2023-12-25T13:40:45.920Z"
   },
   {
    "duration": 9,
    "start_time": "2023-12-25T13:41:00.310Z"
   },
   {
    "duration": 771,
    "start_time": "2023-12-25T13:41:09.075Z"
   },
   {
    "duration": 80,
    "start_time": "2023-12-25T13:49:19.923Z"
   },
   {
    "duration": 83,
    "start_time": "2023-12-25T13:49:37.373Z"
   },
   {
    "duration": 2,
    "start_time": "2023-12-25T13:50:02.501Z"
   },
   {
    "duration": 2,
    "start_time": "2023-12-25T13:51:48.043Z"
   },
   {
    "duration": 121,
    "start_time": "2023-12-25T13:51:49.010Z"
   },
   {
    "duration": 125,
    "start_time": "2023-12-25T13:51:59.373Z"
   },
   {
    "duration": 1011,
    "start_time": "2023-12-26T11:11:04.810Z"
   },
   {
    "duration": 194,
    "start_time": "2023-12-26T11:11:05.824Z"
   },
   {
    "duration": 124,
    "start_time": "2023-12-26T11:11:06.019Z"
   },
   {
    "duration": 174,
    "start_time": "2023-12-26T11:11:06.145Z"
   },
   {
    "duration": 49,
    "start_time": "2023-12-26T11:11:06.320Z"
   },
   {
    "duration": 34,
    "start_time": "2023-12-26T11:11:06.370Z"
   },
   {
    "duration": 64,
    "start_time": "2023-12-26T11:11:06.406Z"
   },
   {
    "duration": 19,
    "start_time": "2023-12-26T11:11:06.472Z"
   },
   {
    "duration": 17,
    "start_time": "2023-12-26T11:11:06.493Z"
   },
   {
    "duration": 58,
    "start_time": "2023-12-26T11:11:06.512Z"
   },
   {
    "duration": 52,
    "start_time": "2023-12-26T11:11:06.572Z"
   },
   {
    "duration": 37,
    "start_time": "2023-12-26T11:11:06.625Z"
   },
   {
    "duration": 31,
    "start_time": "2023-12-26T11:11:06.663Z"
   },
   {
    "duration": 29,
    "start_time": "2023-12-26T11:11:06.696Z"
   },
   {
    "duration": 62,
    "start_time": "2023-12-26T11:11:06.727Z"
   },
   {
    "duration": 52,
    "start_time": "2023-12-26T11:11:06.791Z"
   },
   {
    "duration": 61,
    "start_time": "2023-12-26T11:11:06.844Z"
   },
   {
    "duration": 34,
    "start_time": "2023-12-26T11:11:06.906Z"
   },
   {
    "duration": 190,
    "start_time": "2023-12-26T11:11:06.942Z"
   },
   {
    "duration": 8,
    "start_time": "2023-12-26T11:11:07.133Z"
   },
   {
    "duration": 154,
    "start_time": "2023-12-26T11:11:07.144Z"
   },
   {
    "duration": 194,
    "start_time": "2023-12-26T11:11:07.300Z"
   },
   {
    "duration": 232,
    "start_time": "2023-12-26T11:11:07.496Z"
   },
   {
    "duration": 7,
    "start_time": "2023-12-26T11:11:07.730Z"
   },
   {
    "duration": 67,
    "start_time": "2023-12-26T11:11:07.745Z"
   },
   {
    "duration": 223,
    "start_time": "2023-12-26T11:11:07.813Z"
   },
   {
    "duration": 133,
    "start_time": "2023-12-26T11:11:08.038Z"
   },
   {
    "duration": 57,
    "start_time": "2023-12-26T11:11:08.174Z"
   },
   {
    "duration": 247,
    "start_time": "2023-12-26T11:11:08.232Z"
   },
   {
    "duration": 25,
    "start_time": "2023-12-26T11:11:08.481Z"
   },
   {
    "duration": 37,
    "start_time": "2023-12-26T11:11:08.508Z"
   },
   {
    "duration": 18,
    "start_time": "2023-12-26T11:11:08.546Z"
   },
   {
    "duration": 187,
    "start_time": "2023-12-26T11:11:08.565Z"
   },
   {
    "duration": 173,
    "start_time": "2023-12-26T11:11:08.755Z"
   },
   {
    "duration": 158,
    "start_time": "2023-12-26T11:11:08.929Z"
   },
   {
    "duration": 159,
    "start_time": "2023-12-26T11:11:09.088Z"
   },
   {
    "duration": 881,
    "start_time": "2023-12-26T11:11:09.249Z"
   },
   {
    "duration": 4,
    "start_time": "2023-12-26T11:11:10.131Z"
   },
   {
    "duration": 277,
    "start_time": "2023-12-26T11:11:10.136Z"
   },
   {
    "duration": 66,
    "start_time": "2023-12-26T11:29:41.791Z"
   },
   {
    "duration": 429,
    "start_time": "2023-12-26T11:30:04.973Z"
   },
   {
    "duration": 5,
    "start_time": "2023-12-26T11:30:08.941Z"
   },
   {
    "duration": 5,
    "start_time": "2023-12-26T11:46:21.131Z"
   },
   {
    "duration": 5,
    "start_time": "2023-12-26T11:47:14.457Z"
   },
   {
    "duration": 5,
    "start_time": "2023-12-26T11:47:47.360Z"
   },
   {
    "duration": 5,
    "start_time": "2023-12-26T11:48:00.162Z"
   },
   {
    "duration": 1025,
    "start_time": "2023-12-26T11:48:18.651Z"
   },
   {
    "duration": 67,
    "start_time": "2023-12-26T11:48:19.678Z"
   },
   {
    "duration": 13,
    "start_time": "2023-12-26T11:48:19.746Z"
   },
   {
    "duration": 39,
    "start_time": "2023-12-26T11:48:19.760Z"
   },
   {
    "duration": 40,
    "start_time": "2023-12-26T11:48:19.800Z"
   },
   {
    "duration": 37,
    "start_time": "2023-12-26T11:48:19.841Z"
   },
   {
    "duration": 37,
    "start_time": "2023-12-26T11:48:19.879Z"
   },
   {
    "duration": 41,
    "start_time": "2023-12-26T11:48:19.917Z"
   },
   {
    "duration": 21,
    "start_time": "2023-12-26T11:48:19.960Z"
   },
   {
    "duration": 121,
    "start_time": "2023-12-26T11:48:19.984Z"
   },
   {
    "duration": 54,
    "start_time": "2023-12-26T11:48:20.107Z"
   },
   {
    "duration": 59,
    "start_time": "2023-12-26T11:48:20.162Z"
   },
   {
    "duration": 41,
    "start_time": "2023-12-26T11:48:20.223Z"
   },
   {
    "duration": 74,
    "start_time": "2023-12-26T11:48:20.266Z"
   },
   {
    "duration": 56,
    "start_time": "2023-12-26T11:48:20.341Z"
   },
   {
    "duration": 60,
    "start_time": "2023-12-26T11:48:20.399Z"
   },
   {
    "duration": 79,
    "start_time": "2023-12-26T11:48:20.460Z"
   },
   {
    "duration": 122,
    "start_time": "2023-12-26T11:48:20.541Z"
   },
   {
    "duration": 247,
    "start_time": "2023-12-26T11:48:20.664Z"
   },
   {
    "duration": 7,
    "start_time": "2023-12-26T11:48:20.912Z"
   },
   {
    "duration": 118,
    "start_time": "2023-12-26T11:48:20.920Z"
   },
   {
    "duration": 6,
    "start_time": "2023-12-26T11:48:21.039Z"
   },
   {
    "duration": 175,
    "start_time": "2023-12-26T11:48:21.046Z"
   },
   {
    "duration": 6,
    "start_time": "2023-12-26T11:48:21.223Z"
   },
   {
    "duration": 95,
    "start_time": "2023-12-26T11:48:21.231Z"
   },
   {
    "duration": 202,
    "start_time": "2023-12-26T11:48:21.328Z"
   },
   {
    "duration": 13,
    "start_time": "2023-12-26T11:48:21.532Z"
   },
   {
    "duration": 8,
    "start_time": "2023-12-26T11:48:21.549Z"
   },
   {
    "duration": 158,
    "start_time": "2023-12-26T11:48:21.559Z"
   },
   {
    "duration": 31,
    "start_time": "2023-12-26T11:48:21.718Z"
   },
   {
    "duration": 37,
    "start_time": "2023-12-26T11:48:21.750Z"
   },
   {
    "duration": 37,
    "start_time": "2023-12-26T11:48:21.789Z"
   },
   {
    "duration": 163,
    "start_time": "2023-12-26T11:48:21.827Z"
   },
   {
    "duration": 162,
    "start_time": "2023-12-26T11:48:21.991Z"
   },
   {
    "duration": 155,
    "start_time": "2023-12-26T11:48:22.154Z"
   },
   {
    "duration": 152,
    "start_time": "2023-12-26T11:48:22.310Z"
   },
   {
    "duration": 882,
    "start_time": "2023-12-26T11:48:22.463Z"
   },
   {
    "duration": 4,
    "start_time": "2023-12-26T11:48:23.346Z"
   },
   {
    "duration": 161,
    "start_time": "2023-12-26T11:48:23.351Z"
   },
   {
    "duration": 4,
    "start_time": "2023-12-26T11:48:23.514Z"
   },
   {
    "duration": 22,
    "start_time": "2023-12-26T11:48:23.520Z"
   },
   {
    "duration": 5,
    "start_time": "2023-12-26T11:49:14.618Z"
   },
   {
    "duration": 6,
    "start_time": "2023-12-26T11:50:16.546Z"
   },
   {
    "duration": 9,
    "start_time": "2023-12-26T11:57:23.338Z"
   },
   {
    "duration": 104,
    "start_time": "2023-12-26T12:00:37.610Z"
   },
   {
    "duration": 3,
    "start_time": "2023-12-26T12:03:10.941Z"
   },
   {
    "duration": 607,
    "start_time": "2023-12-26T12:03:15.515Z"
   },
   {
    "duration": 1347,
    "start_time": "2023-12-26T12:03:33.940Z"
   },
   {
    "duration": 4,
    "start_time": "2023-12-26T12:06:54.743Z"
   },
   {
    "duration": 1349,
    "start_time": "2023-12-26T12:06:59.966Z"
   },
   {
    "duration": 1349,
    "start_time": "2023-12-26T12:07:20.159Z"
   },
   {
    "duration": 952,
    "start_time": "2023-12-26T12:10:11.457Z"
   },
   {
    "duration": 800,
    "start_time": "2023-12-26T12:12:00.587Z"
   },
   {
    "duration": 564,
    "start_time": "2023-12-26T12:12:12.315Z"
   },
   {
    "duration": 9,
    "start_time": "2023-12-26T12:13:25.757Z"
   },
   {
    "duration": 1014,
    "start_time": "2023-12-26T12:44:47.556Z"
   },
   {
    "duration": 68,
    "start_time": "2023-12-26T12:44:48.571Z"
   },
   {
    "duration": 14,
    "start_time": "2023-12-26T12:44:48.641Z"
   },
   {
    "duration": 143,
    "start_time": "2023-12-26T12:44:48.657Z"
   },
   {
    "duration": 87,
    "start_time": "2023-12-26T12:44:48.801Z"
   },
   {
    "duration": 38,
    "start_time": "2023-12-26T12:44:48.889Z"
   },
   {
    "duration": 17,
    "start_time": "2023-12-26T12:44:48.928Z"
   },
   {
    "duration": 34,
    "start_time": "2023-12-26T12:44:48.947Z"
   },
   {
    "duration": 31,
    "start_time": "2023-12-26T12:44:48.982Z"
   },
   {
    "duration": 15,
    "start_time": "2023-12-26T12:44:49.015Z"
   },
   {
    "duration": 10,
    "start_time": "2023-12-26T12:44:49.032Z"
   },
   {
    "duration": 7,
    "start_time": "2023-12-26T12:44:49.043Z"
   },
   {
    "duration": 27,
    "start_time": "2023-12-26T12:44:49.051Z"
   },
   {
    "duration": 47,
    "start_time": "2023-12-26T12:44:49.079Z"
   },
   {
    "duration": 26,
    "start_time": "2023-12-26T12:44:49.127Z"
   },
   {
    "duration": 20,
    "start_time": "2023-12-26T12:44:49.154Z"
   },
   {
    "duration": 18,
    "start_time": "2023-12-26T12:44:49.175Z"
   },
   {
    "duration": 34,
    "start_time": "2023-12-26T12:44:49.194Z"
   },
   {
    "duration": 169,
    "start_time": "2023-12-26T12:44:49.230Z"
   },
   {
    "duration": 7,
    "start_time": "2023-12-26T12:44:49.401Z"
   },
   {
    "duration": 102,
    "start_time": "2023-12-26T12:44:49.409Z"
   },
   {
    "duration": 6,
    "start_time": "2023-12-26T12:44:49.513Z"
   },
   {
    "duration": 134,
    "start_time": "2023-12-26T12:44:49.520Z"
   },
   {
    "duration": 7,
    "start_time": "2023-12-26T12:44:49.655Z"
   },
   {
    "duration": 19,
    "start_time": "2023-12-26T12:44:49.663Z"
   },
   {
    "duration": 149,
    "start_time": "2023-12-26T12:44:49.683Z"
   },
   {
    "duration": 14,
    "start_time": "2023-12-26T12:44:49.833Z"
   },
   {
    "duration": 15,
    "start_time": "2023-12-26T12:44:49.849Z"
   },
   {
    "duration": 159,
    "start_time": "2023-12-26T12:44:49.865Z"
   },
   {
    "duration": 26,
    "start_time": "2023-12-26T12:44:50.025Z"
   },
   {
    "duration": 20,
    "start_time": "2023-12-26T12:44:50.052Z"
   },
   {
    "duration": 33,
    "start_time": "2023-12-26T12:44:50.073Z"
   },
   {
    "duration": 169,
    "start_time": "2023-12-26T12:44:50.107Z"
   },
   {
    "duration": 164,
    "start_time": "2023-12-26T12:44:50.278Z"
   },
   {
    "duration": 145,
    "start_time": "2023-12-26T12:44:50.443Z"
   },
   {
    "duration": 160,
    "start_time": "2023-12-26T12:44:50.590Z"
   },
   {
    "duration": 893,
    "start_time": "2023-12-26T12:44:50.752Z"
   },
   {
    "duration": 4,
    "start_time": "2023-12-26T12:44:51.647Z"
   },
   {
    "duration": 209,
    "start_time": "2023-12-26T12:44:51.653Z"
   },
   {
    "duration": 4,
    "start_time": "2023-12-26T12:44:51.864Z"
   },
   {
    "duration": 19,
    "start_time": "2023-12-26T12:44:51.870Z"
   },
   {
    "duration": 41,
    "start_time": "2023-12-26T12:44:51.890Z"
   },
   {
    "duration": 1009,
    "start_time": "2023-12-26T12:54:40.669Z"
   },
   {
    "duration": 66,
    "start_time": "2023-12-26T12:54:41.680Z"
   },
   {
    "duration": 13,
    "start_time": "2023-12-26T12:54:41.747Z"
   },
   {
    "duration": 12,
    "start_time": "2023-12-26T12:54:41.762Z"
   },
   {
    "duration": 10,
    "start_time": "2023-12-26T12:54:41.775Z"
   },
   {
    "duration": 25,
    "start_time": "2023-12-26T12:54:41.787Z"
   },
   {
    "duration": 30,
    "start_time": "2023-12-26T12:54:41.814Z"
   },
   {
    "duration": 38,
    "start_time": "2023-12-26T12:54:41.845Z"
   },
   {
    "duration": 6,
    "start_time": "2023-12-26T12:54:41.884Z"
   },
   {
    "duration": 23,
    "start_time": "2023-12-26T12:54:41.893Z"
   },
   {
    "duration": 27,
    "start_time": "2023-12-26T12:54:41.917Z"
   },
   {
    "duration": 28,
    "start_time": "2023-12-26T12:54:41.945Z"
   },
   {
    "duration": 30,
    "start_time": "2023-12-26T12:54:41.975Z"
   },
   {
    "duration": 17,
    "start_time": "2023-12-26T12:54:42.006Z"
   },
   {
    "duration": 20,
    "start_time": "2023-12-26T12:54:42.024Z"
   },
   {
    "duration": 21,
    "start_time": "2023-12-26T12:54:42.045Z"
   },
   {
    "duration": 22,
    "start_time": "2023-12-26T12:54:42.068Z"
   },
   {
    "duration": 7,
    "start_time": "2023-12-26T12:54:42.092Z"
   },
   {
    "duration": 185,
    "start_time": "2023-12-26T12:54:42.101Z"
   },
   {
    "duration": 7,
    "start_time": "2023-12-26T12:54:42.287Z"
   },
   {
    "duration": 101,
    "start_time": "2023-12-26T12:54:42.295Z"
   },
   {
    "duration": 6,
    "start_time": "2023-12-26T12:54:42.398Z"
   },
   {
    "duration": 149,
    "start_time": "2023-12-26T12:54:42.405Z"
   },
   {
    "duration": 6,
    "start_time": "2023-12-26T12:54:42.555Z"
   },
   {
    "duration": 9,
    "start_time": "2023-12-26T12:54:42.562Z"
   },
   {
    "duration": 168,
    "start_time": "2023-12-26T12:54:42.572Z"
   },
   {
    "duration": 8,
    "start_time": "2023-12-26T12:54:42.741Z"
   },
   {
    "duration": 25,
    "start_time": "2023-12-26T12:54:42.753Z"
   },
   {
    "duration": 153,
    "start_time": "2023-12-26T12:54:42.780Z"
   },
   {
    "duration": 27,
    "start_time": "2023-12-26T12:54:42.934Z"
   },
   {
    "duration": 21,
    "start_time": "2023-12-26T12:54:42.962Z"
   },
   {
    "duration": 16,
    "start_time": "2023-12-26T12:54:42.984Z"
   },
   {
    "duration": 171,
    "start_time": "2023-12-26T12:54:43.001Z"
   },
   {
    "duration": 173,
    "start_time": "2023-12-26T12:54:43.173Z"
   },
   {
    "duration": 150,
    "start_time": "2023-12-26T12:54:43.348Z"
   },
   {
    "duration": 156,
    "start_time": "2023-12-26T12:54:43.500Z"
   },
   {
    "duration": 880,
    "start_time": "2023-12-26T12:54:43.657Z"
   },
   {
    "duration": 3,
    "start_time": "2023-12-26T12:54:44.545Z"
   },
   {
    "duration": 141,
    "start_time": "2023-12-26T12:54:44.549Z"
   },
   {
    "duration": 5,
    "start_time": "2023-12-26T12:54:44.691Z"
   },
   {
    "duration": 46,
    "start_time": "2023-12-26T12:54:44.697Z"
   },
   {
    "duration": 39,
    "start_time": "2023-12-26T12:54:44.745Z"
   },
   {
    "duration": 48,
    "start_time": "2023-12-26T14:13:42.133Z"
   },
   {
    "duration": 1037,
    "start_time": "2023-12-26T14:13:47.948Z"
   },
   {
    "duration": 69,
    "start_time": "2023-12-26T14:13:48.987Z"
   },
   {
    "duration": 14,
    "start_time": "2023-12-26T14:13:49.058Z"
   },
   {
    "duration": 28,
    "start_time": "2023-12-26T14:13:49.073Z"
   },
   {
    "duration": 38,
    "start_time": "2023-12-26T14:13:49.103Z"
   },
   {
    "duration": 45,
    "start_time": "2023-12-26T14:13:49.143Z"
   },
   {
    "duration": 27,
    "start_time": "2023-12-26T14:13:49.189Z"
   },
   {
    "duration": 38,
    "start_time": "2023-12-26T14:13:49.218Z"
   },
   {
    "duration": 7,
    "start_time": "2023-12-26T14:13:49.257Z"
   },
   {
    "duration": 36,
    "start_time": "2023-12-26T14:13:49.266Z"
   },
   {
    "duration": 17,
    "start_time": "2023-12-26T14:13:49.303Z"
   },
   {
    "duration": 43,
    "start_time": "2023-12-26T14:13:49.321Z"
   },
   {
    "duration": 19,
    "start_time": "2023-12-26T14:13:49.366Z"
   },
   {
    "duration": 5,
    "start_time": "2023-12-26T14:13:49.387Z"
   },
   {
    "duration": 8,
    "start_time": "2023-12-26T14:13:49.394Z"
   },
   {
    "duration": 5,
    "start_time": "2023-12-26T14:13:49.404Z"
   },
   {
    "duration": 26,
    "start_time": "2023-12-26T14:13:49.411Z"
   },
   {
    "duration": 5,
    "start_time": "2023-12-26T14:13:49.439Z"
   },
   {
    "duration": 172,
    "start_time": "2023-12-26T14:13:49.446Z"
   },
   {
    "duration": 8,
    "start_time": "2023-12-26T14:13:49.619Z"
   },
   {
    "duration": 109,
    "start_time": "2023-12-26T14:13:49.628Z"
   },
   {
    "duration": 7,
    "start_time": "2023-12-26T14:13:49.739Z"
   },
   {
    "duration": 149,
    "start_time": "2023-12-26T14:13:49.748Z"
   },
   {
    "duration": 18,
    "start_time": "2023-12-26T14:13:49.899Z"
   },
   {
    "duration": 10,
    "start_time": "2023-12-26T14:13:49.918Z"
   },
   {
    "duration": 179,
    "start_time": "2023-12-26T14:13:49.929Z"
   },
   {
    "duration": 7,
    "start_time": "2023-12-26T14:13:50.110Z"
   },
   {
    "duration": 35,
    "start_time": "2023-12-26T14:13:50.119Z"
   },
   {
    "duration": 187,
    "start_time": "2023-12-26T14:13:50.156Z"
   },
   {
    "duration": 28,
    "start_time": "2023-12-26T14:13:50.344Z"
   },
   {
    "duration": 22,
    "start_time": "2023-12-26T14:13:50.373Z"
   },
   {
    "duration": 34,
    "start_time": "2023-12-26T14:13:50.397Z"
   },
   {
    "duration": 191,
    "start_time": "2023-12-26T14:13:50.433Z"
   },
   {
    "duration": 181,
    "start_time": "2023-12-26T14:13:50.626Z"
   },
   {
    "duration": 158,
    "start_time": "2023-12-26T14:13:50.809Z"
   },
   {
    "duration": 179,
    "start_time": "2023-12-26T14:13:50.968Z"
   },
   {
    "duration": 960,
    "start_time": "2023-12-26T14:13:51.149Z"
   },
   {
    "duration": 4,
    "start_time": "2023-12-26T14:13:52.111Z"
   },
   {
    "duration": 171,
    "start_time": "2023-12-26T14:13:52.116Z"
   },
   {
    "duration": 5,
    "start_time": "2023-12-26T14:13:52.288Z"
   },
   {
    "duration": 19,
    "start_time": "2023-12-26T14:13:52.297Z"
   },
   {
    "duration": 6,
    "start_time": "2023-12-26T14:13:52.317Z"
   },
   {
    "duration": 21,
    "start_time": "2023-12-26T14:13:52.324Z"
   },
   {
    "duration": 17,
    "start_time": "2023-12-26T14:25:01.690Z"
   },
   {
    "duration": 1020,
    "start_time": "2023-12-26T14:37:38.559Z"
   },
   {
    "duration": 70,
    "start_time": "2023-12-26T14:37:39.580Z"
   },
   {
    "duration": 13,
    "start_time": "2023-12-26T14:37:39.652Z"
   },
   {
    "duration": 11,
    "start_time": "2023-12-26T14:37:39.666Z"
   },
   {
    "duration": 24,
    "start_time": "2023-12-26T14:37:39.679Z"
   },
   {
    "duration": 10,
    "start_time": "2023-12-26T14:37:39.704Z"
   },
   {
    "duration": 23,
    "start_time": "2023-12-26T14:37:39.716Z"
   },
   {
    "duration": 17,
    "start_time": "2023-12-26T14:37:39.741Z"
   },
   {
    "duration": 6,
    "start_time": "2023-12-26T14:37:39.760Z"
   },
   {
    "duration": 14,
    "start_time": "2023-12-26T14:37:39.767Z"
   },
   {
    "duration": 16,
    "start_time": "2023-12-26T14:37:39.783Z"
   },
   {
    "duration": 12,
    "start_time": "2023-12-26T14:37:39.801Z"
   },
   {
    "duration": 16,
    "start_time": "2023-12-26T14:37:39.814Z"
   },
   {
    "duration": 5,
    "start_time": "2023-12-26T14:37:39.833Z"
   },
   {
    "duration": 11,
    "start_time": "2023-12-26T14:37:39.839Z"
   },
   {
    "duration": 4,
    "start_time": "2023-12-26T14:37:39.851Z"
   },
   {
    "duration": 8,
    "start_time": "2023-12-26T14:37:39.856Z"
   },
   {
    "duration": 5,
    "start_time": "2023-12-26T14:37:39.866Z"
   },
   {
    "duration": 176,
    "start_time": "2023-12-26T14:37:39.873Z"
   },
   {
    "duration": 8,
    "start_time": "2023-12-26T14:37:40.051Z"
   },
   {
    "duration": 105,
    "start_time": "2023-12-26T14:37:40.061Z"
   },
   {
    "duration": 7,
    "start_time": "2023-12-26T14:37:40.168Z"
   },
   {
    "duration": 164,
    "start_time": "2023-12-26T14:37:40.176Z"
   },
   {
    "duration": 6,
    "start_time": "2023-12-26T14:37:40.341Z"
   },
   {
    "duration": 14,
    "start_time": "2023-12-26T14:37:40.349Z"
   },
   {
    "duration": 183,
    "start_time": "2023-12-26T14:37:40.364Z"
   },
   {
    "duration": 6,
    "start_time": "2023-12-26T14:37:40.549Z"
   },
   {
    "duration": 12,
    "start_time": "2023-12-26T14:37:40.557Z"
   },
   {
    "duration": 188,
    "start_time": "2023-12-26T14:37:40.570Z"
   },
   {
    "duration": 28,
    "start_time": "2023-12-26T14:37:40.760Z"
   },
   {
    "duration": 38,
    "start_time": "2023-12-26T14:37:40.790Z"
   },
   {
    "duration": 19,
    "start_time": "2023-12-26T14:37:40.830Z"
   },
   {
    "duration": 184,
    "start_time": "2023-12-26T14:37:40.851Z"
   },
   {
    "duration": 181,
    "start_time": "2023-12-26T14:37:41.037Z"
   },
   {
    "duration": 172,
    "start_time": "2023-12-26T14:37:41.220Z"
   },
   {
    "duration": 201,
    "start_time": "2023-12-26T14:37:41.394Z"
   },
   {
    "duration": 931,
    "start_time": "2023-12-26T14:37:41.596Z"
   },
   {
    "duration": 3,
    "start_time": "2023-12-26T14:37:42.529Z"
   },
   {
    "duration": 160,
    "start_time": "2023-12-26T14:37:42.533Z"
   },
   {
    "duration": 4,
    "start_time": "2023-12-26T14:37:42.695Z"
   },
   {
    "duration": 14,
    "start_time": "2023-12-26T14:37:42.702Z"
   },
   {
    "duration": 15,
    "start_time": "2023-12-26T14:37:42.717Z"
   },
   {
    "duration": 9,
    "start_time": "2023-12-26T14:37:42.733Z"
   },
   {
    "duration": 1309,
    "start_time": "2023-12-27T11:58:13.048Z"
   },
   {
    "duration": 195,
    "start_time": "2023-12-27T11:58:14.359Z"
   },
   {
    "duration": 5,
    "start_time": "2023-12-27T11:58:14.556Z"
   },
   {
    "duration": 15,
    "start_time": "2023-12-27T11:58:14.563Z"
   },
   {
    "duration": 12,
    "start_time": "2023-12-27T11:58:14.580Z"
   },
   {
    "duration": 13,
    "start_time": "2023-12-27T11:58:14.593Z"
   },
   {
    "duration": 9,
    "start_time": "2023-12-27T11:58:14.607Z"
   },
   {
    "duration": 10,
    "start_time": "2023-12-27T11:58:14.617Z"
   },
   {
    "duration": 15,
    "start_time": "2023-12-27T11:58:14.629Z"
   },
   {
    "duration": 6,
    "start_time": "2023-12-27T11:58:14.647Z"
   },
   {
    "duration": 36,
    "start_time": "2023-12-27T11:58:14.654Z"
   },
   {
    "duration": 17,
    "start_time": "2023-12-27T11:58:14.692Z"
   },
   {
    "duration": 5,
    "start_time": "2023-12-27T11:58:14.710Z"
   },
   {
    "duration": 11,
    "start_time": "2023-12-27T11:58:14.717Z"
   },
   {
    "duration": 6,
    "start_time": "2023-12-27T11:58:14.729Z"
   },
   {
    "duration": 8,
    "start_time": "2023-12-27T11:58:14.737Z"
   },
   {
    "duration": 4,
    "start_time": "2023-12-27T11:58:14.746Z"
   },
   {
    "duration": 8,
    "start_time": "2023-12-27T11:58:14.751Z"
   },
   {
    "duration": 6,
    "start_time": "2023-12-27T11:58:14.789Z"
   },
   {
    "duration": 186,
    "start_time": "2023-12-27T11:58:14.796Z"
   },
   {
    "duration": 10,
    "start_time": "2023-12-27T11:58:14.984Z"
   },
   {
    "duration": 121,
    "start_time": "2023-12-27T11:58:14.995Z"
   },
   {
    "duration": 9,
    "start_time": "2023-12-27T11:58:15.118Z"
   },
   {
    "duration": 173,
    "start_time": "2023-12-27T11:58:15.129Z"
   },
   {
    "duration": 8,
    "start_time": "2023-12-27T11:58:15.304Z"
   },
   {
    "duration": 152,
    "start_time": "2023-12-27T11:58:15.314Z"
   },
   {
    "duration": 169,
    "start_time": "2023-12-27T11:58:15.468Z"
   },
   {
    "duration": 7,
    "start_time": "2023-12-27T11:58:15.642Z"
   },
   {
    "duration": 18,
    "start_time": "2023-12-27T11:58:15.651Z"
   },
   {
    "duration": 187,
    "start_time": "2023-12-27T11:58:15.671Z"
   },
   {
    "duration": 36,
    "start_time": "2023-12-27T11:58:15.860Z"
   },
   {
    "duration": 23,
    "start_time": "2023-12-27T11:58:15.898Z"
   },
   {
    "duration": 18,
    "start_time": "2023-12-27T11:58:15.922Z"
   },
   {
    "duration": 251,
    "start_time": "2023-12-27T11:58:15.941Z"
   },
   {
    "duration": 173,
    "start_time": "2023-12-27T11:58:16.194Z"
   },
   {
    "duration": 179,
    "start_time": "2023-12-27T11:58:16.369Z"
   },
   {
    "duration": 178,
    "start_time": "2023-12-27T11:58:16.549Z"
   },
   {
    "duration": 1013,
    "start_time": "2023-12-27T11:58:16.729Z"
   },
   {
    "duration": 3,
    "start_time": "2023-12-27T11:58:17.744Z"
   },
   {
    "duration": 164,
    "start_time": "2023-12-27T11:58:17.749Z"
   },
   {
    "duration": 4,
    "start_time": "2023-12-27T11:58:17.915Z"
   },
   {
    "duration": 21,
    "start_time": "2023-12-27T11:58:17.920Z"
   },
   {
    "duration": 6,
    "start_time": "2023-12-27T11:58:17.943Z"
   },
   {
    "duration": 19,
    "start_time": "2023-12-27T11:58:17.950Z"
   },
   {
    "duration": 16,
    "start_time": "2023-12-27T11:59:48.921Z"
   },
   {
    "duration": 16,
    "start_time": "2023-12-27T12:00:06.207Z"
   },
   {
    "duration": 3,
    "start_time": "2023-12-27T12:00:26.299Z"
   },
   {
    "duration": 16,
    "start_time": "2023-12-27T12:00:27.874Z"
   },
   {
    "duration": 3,
    "start_time": "2023-12-27T12:00:56.664Z"
   },
   {
    "duration": 24,
    "start_time": "2023-12-27T12:00:57.711Z"
   },
   {
    "duration": 3,
    "start_time": "2023-12-27T12:01:07.176Z"
   },
   {
    "duration": 20,
    "start_time": "2023-12-27T12:01:08.015Z"
   },
   {
    "duration": 241,
    "start_time": "2023-12-27T12:01:27.979Z"
   },
   {
    "duration": 79,
    "start_time": "2023-12-27T12:01:34.577Z"
   },
   {
    "duration": 3,
    "start_time": "2023-12-27T12:01:40.192Z"
   },
   {
    "duration": 98,
    "start_time": "2023-12-27T12:01:41.840Z"
   },
   {
    "duration": 77,
    "start_time": "2023-12-27T12:02:38.441Z"
   },
   {
    "duration": 3,
    "start_time": "2023-12-27T12:03:52.282Z"
   },
   {
    "duration": 29,
    "start_time": "2023-12-27T12:03:53.752Z"
   },
   {
    "duration": 3,
    "start_time": "2023-12-27T12:04:01.650Z"
   },
   {
    "duration": 19,
    "start_time": "2023-12-27T12:04:02.817Z"
   },
   {
    "duration": 3,
    "start_time": "2023-12-27T12:05:57.779Z"
   },
   {
    "duration": 20,
    "start_time": "2023-12-27T12:06:00.442Z"
   },
   {
    "duration": 4,
    "start_time": "2023-12-27T12:06:08.403Z"
   },
   {
    "duration": 19,
    "start_time": "2023-12-27T12:06:09.535Z"
   },
   {
    "duration": 83,
    "start_time": "2023-12-27T12:06:17.831Z"
   },
   {
    "duration": 4,
    "start_time": "2023-12-27T12:07:31.622Z"
   },
   {
    "duration": 19,
    "start_time": "2023-12-27T12:07:33.675Z"
   },
   {
    "duration": 3,
    "start_time": "2023-12-27T12:07:45.173Z"
   },
   {
    "duration": 20,
    "start_time": "2023-12-27T12:07:46.275Z"
   },
   {
    "duration": 80,
    "start_time": "2023-12-27T12:09:36.326Z"
   },
   {
    "duration": 4,
    "start_time": "2023-12-27T12:11:57.750Z"
   },
   {
    "duration": 21,
    "start_time": "2023-12-27T12:12:00.686Z"
   },
   {
    "duration": 28,
    "start_time": "2023-12-27T12:13:47.257Z"
   },
   {
    "duration": 21,
    "start_time": "2023-12-27T12:14:05.392Z"
   },
   {
    "duration": 1152,
    "start_time": "2023-12-27T12:15:53.847Z"
   },
   {
    "duration": 120,
    "start_time": "2023-12-27T12:15:55.001Z"
   },
   {
    "duration": 0,
    "start_time": "2023-12-27T12:15:55.125Z"
   },
   {
    "duration": 0,
    "start_time": "2023-12-27T12:15:55.126Z"
   },
   {
    "duration": 0,
    "start_time": "2023-12-27T12:15:55.127Z"
   },
   {
    "duration": 0,
    "start_time": "2023-12-27T12:15:55.129Z"
   },
   {
    "duration": 0,
    "start_time": "2023-12-27T12:15:55.130Z"
   },
   {
    "duration": 0,
    "start_time": "2023-12-27T12:15:55.131Z"
   },
   {
    "duration": 0,
    "start_time": "2023-12-27T12:15:55.132Z"
   },
   {
    "duration": 0,
    "start_time": "2023-12-27T12:15:55.133Z"
   },
   {
    "duration": 0,
    "start_time": "2023-12-27T12:15:55.134Z"
   },
   {
    "duration": 0,
    "start_time": "2023-12-27T12:15:55.135Z"
   },
   {
    "duration": 0,
    "start_time": "2023-12-27T12:15:55.136Z"
   },
   {
    "duration": 0,
    "start_time": "2023-12-27T12:15:55.137Z"
   },
   {
    "duration": 0,
    "start_time": "2023-12-27T12:15:55.139Z"
   },
   {
    "duration": 0,
    "start_time": "2023-12-27T12:15:55.140Z"
   },
   {
    "duration": 0,
    "start_time": "2023-12-27T12:15:55.141Z"
   },
   {
    "duration": 0,
    "start_time": "2023-12-27T12:15:55.142Z"
   },
   {
    "duration": 0,
    "start_time": "2023-12-27T12:15:55.143Z"
   },
   {
    "duration": 0,
    "start_time": "2023-12-27T12:15:55.144Z"
   },
   {
    "duration": 0,
    "start_time": "2023-12-27T12:15:55.145Z"
   },
   {
    "duration": 0,
    "start_time": "2023-12-27T12:15:55.146Z"
   },
   {
    "duration": 0,
    "start_time": "2023-12-27T12:15:55.147Z"
   },
   {
    "duration": 0,
    "start_time": "2023-12-27T12:15:55.148Z"
   },
   {
    "duration": 0,
    "start_time": "2023-12-27T12:15:55.150Z"
   },
   {
    "duration": 0,
    "start_time": "2023-12-27T12:15:55.151Z"
   },
   {
    "duration": 0,
    "start_time": "2023-12-27T12:15:55.152Z"
   },
   {
    "duration": 1,
    "start_time": "2023-12-27T12:15:55.188Z"
   },
   {
    "duration": 0,
    "start_time": "2023-12-27T12:15:55.190Z"
   },
   {
    "duration": 0,
    "start_time": "2023-12-27T12:15:55.191Z"
   },
   {
    "duration": 0,
    "start_time": "2023-12-27T12:15:55.193Z"
   },
   {
    "duration": 0,
    "start_time": "2023-12-27T12:15:55.194Z"
   },
   {
    "duration": 0,
    "start_time": "2023-12-27T12:15:55.195Z"
   },
   {
    "duration": 0,
    "start_time": "2023-12-27T12:15:55.196Z"
   },
   {
    "duration": 0,
    "start_time": "2023-12-27T12:15:55.198Z"
   },
   {
    "duration": 0,
    "start_time": "2023-12-27T12:15:55.198Z"
   },
   {
    "duration": 0,
    "start_time": "2023-12-27T12:15:55.200Z"
   },
   {
    "duration": 0,
    "start_time": "2023-12-27T12:15:55.201Z"
   },
   {
    "duration": 0,
    "start_time": "2023-12-27T12:15:55.202Z"
   },
   {
    "duration": 1200,
    "start_time": "2023-12-27T12:16:11.960Z"
   },
   {
    "duration": 118,
    "start_time": "2023-12-27T12:16:13.162Z"
   },
   {
    "duration": 0,
    "start_time": "2023-12-27T12:16:13.284Z"
   },
   {
    "duration": 0,
    "start_time": "2023-12-27T12:16:13.288Z"
   },
   {
    "duration": 0,
    "start_time": "2023-12-27T12:16:13.289Z"
   },
   {
    "duration": 0,
    "start_time": "2023-12-27T12:16:13.290Z"
   },
   {
    "duration": 0,
    "start_time": "2023-12-27T12:16:13.290Z"
   },
   {
    "duration": 0,
    "start_time": "2023-12-27T12:16:13.291Z"
   },
   {
    "duration": 0,
    "start_time": "2023-12-27T12:16:13.292Z"
   },
   {
    "duration": 0,
    "start_time": "2023-12-27T12:16:13.293Z"
   },
   {
    "duration": 0,
    "start_time": "2023-12-27T12:16:13.294Z"
   },
   {
    "duration": 0,
    "start_time": "2023-12-27T12:16:13.295Z"
   },
   {
    "duration": 0,
    "start_time": "2023-12-27T12:16:13.296Z"
   },
   {
    "duration": 0,
    "start_time": "2023-12-27T12:16:13.297Z"
   },
   {
    "duration": 0,
    "start_time": "2023-12-27T12:16:13.298Z"
   },
   {
    "duration": 0,
    "start_time": "2023-12-27T12:16:13.299Z"
   },
   {
    "duration": 0,
    "start_time": "2023-12-27T12:16:13.300Z"
   },
   {
    "duration": 0,
    "start_time": "2023-12-27T12:16:13.301Z"
   },
   {
    "duration": 0,
    "start_time": "2023-12-27T12:16:13.302Z"
   },
   {
    "duration": 0,
    "start_time": "2023-12-27T12:16:13.302Z"
   },
   {
    "duration": 0,
    "start_time": "2023-12-27T12:16:13.303Z"
   },
   {
    "duration": 0,
    "start_time": "2023-12-27T12:16:13.304Z"
   },
   {
    "duration": 0,
    "start_time": "2023-12-27T12:16:13.305Z"
   },
   {
    "duration": 0,
    "start_time": "2023-12-27T12:16:13.306Z"
   },
   {
    "duration": 0,
    "start_time": "2023-12-27T12:16:13.307Z"
   },
   {
    "duration": 0,
    "start_time": "2023-12-27T12:16:13.308Z"
   },
   {
    "duration": 0,
    "start_time": "2023-12-27T12:16:13.309Z"
   },
   {
    "duration": 0,
    "start_time": "2023-12-27T12:16:13.310Z"
   },
   {
    "duration": 0,
    "start_time": "2023-12-27T12:16:13.311Z"
   },
   {
    "duration": 0,
    "start_time": "2023-12-27T12:16:13.312Z"
   },
   {
    "duration": 0,
    "start_time": "2023-12-27T12:16:13.312Z"
   },
   {
    "duration": 0,
    "start_time": "2023-12-27T12:16:13.313Z"
   },
   {
    "duration": 0,
    "start_time": "2023-12-27T12:16:13.314Z"
   },
   {
    "duration": 0,
    "start_time": "2023-12-27T12:16:13.315Z"
   },
   {
    "duration": 0,
    "start_time": "2023-12-27T12:16:13.316Z"
   },
   {
    "duration": 0,
    "start_time": "2023-12-27T12:16:13.317Z"
   },
   {
    "duration": 0,
    "start_time": "2023-12-27T12:16:13.318Z"
   },
   {
    "duration": 0,
    "start_time": "2023-12-27T12:16:13.319Z"
   },
   {
    "duration": 0,
    "start_time": "2023-12-27T12:16:13.320Z"
   },
   {
    "duration": 106,
    "start_time": "2023-12-27T12:16:21.179Z"
   },
   {
    "duration": 1176,
    "start_time": "2023-12-27T12:16:26.078Z"
   },
   {
    "duration": 76,
    "start_time": "2023-12-27T12:16:27.256Z"
   },
   {
    "duration": 4,
    "start_time": "2023-12-27T12:16:27.334Z"
   },
   {
    "duration": 44,
    "start_time": "2023-12-27T12:16:27.340Z"
   },
   {
    "duration": 24,
    "start_time": "2023-12-27T12:16:27.386Z"
   },
   {
    "duration": 20,
    "start_time": "2023-12-27T12:16:27.411Z"
   },
   {
    "duration": 49,
    "start_time": "2023-12-27T12:16:27.432Z"
   },
   {
    "duration": 32,
    "start_time": "2023-12-27T12:16:27.483Z"
   },
   {
    "duration": 33,
    "start_time": "2023-12-27T12:16:27.516Z"
   },
   {
    "duration": 14,
    "start_time": "2023-12-27T12:16:27.551Z"
   },
   {
    "duration": 25,
    "start_time": "2023-12-27T12:16:27.567Z"
   },
   {
    "duration": 17,
    "start_time": "2023-12-27T12:16:27.594Z"
   },
   {
    "duration": 23,
    "start_time": "2023-12-27T12:16:27.613Z"
   },
   {
    "duration": 21,
    "start_time": "2023-12-27T12:16:27.637Z"
   },
   {
    "duration": 197,
    "start_time": "2023-12-27T12:16:27.660Z"
   },
   {
    "duration": 8,
    "start_time": "2023-12-27T12:16:27.859Z"
   },
   {
    "duration": 102,
    "start_time": "2023-12-27T12:16:27.869Z"
   },
   {
    "duration": 17,
    "start_time": "2023-12-27T12:16:27.972Z"
   },
   {
    "duration": 145,
    "start_time": "2023-12-27T12:16:27.991Z"
   },
   {
    "duration": 6,
    "start_time": "2023-12-27T12:16:28.138Z"
   },
   {
    "duration": 12,
    "start_time": "2023-12-27T12:16:28.145Z"
   },
   {
    "duration": 197,
    "start_time": "2023-12-27T12:16:28.159Z"
   },
   {
    "duration": 6,
    "start_time": "2023-12-27T12:16:28.358Z"
   },
   {
    "duration": 13,
    "start_time": "2023-12-27T12:16:28.366Z"
   },
   {
    "duration": 172,
    "start_time": "2023-12-27T12:16:28.381Z"
   },
   {
    "duration": 26,
    "start_time": "2023-12-27T12:16:28.555Z"
   },
   {
    "duration": 29,
    "start_time": "2023-12-27T12:16:28.582Z"
   },
   {
    "duration": 38,
    "start_time": "2023-12-27T12:16:28.614Z"
   },
   {
    "duration": 222,
    "start_time": "2023-12-27T12:16:28.654Z"
   },
   {
    "duration": 186,
    "start_time": "2023-12-27T12:16:28.878Z"
   },
   {
    "duration": 339,
    "start_time": "2023-12-27T12:16:29.065Z"
   },
   {
    "duration": 491,
    "start_time": "2023-12-27T12:16:29.406Z"
   },
   {
    "duration": 1352,
    "start_time": "2023-12-27T12:16:29.899Z"
   },
   {
    "duration": 4,
    "start_time": "2023-12-27T12:16:31.253Z"
   },
   {
    "duration": 653,
    "start_time": "2023-12-27T12:16:31.258Z"
   },
   {
    "duration": 4,
    "start_time": "2023-12-27T12:16:31.913Z"
   },
   {
    "duration": 36,
    "start_time": "2023-12-27T12:16:31.919Z"
   },
   {
    "duration": 94,
    "start_time": "2023-12-27T12:16:31.957Z"
   },
   {
    "duration": 33,
    "start_time": "2023-12-27T12:16:32.052Z"
   },
   {
    "duration": 11,
    "start_time": "2023-12-27T12:19:00.062Z"
   },
   {
    "duration": 1122,
    "start_time": "2023-12-27T12:19:07.106Z"
   },
   {
    "duration": 74,
    "start_time": "2023-12-27T12:19:08.230Z"
   },
   {
    "duration": 3,
    "start_time": "2023-12-27T12:19:08.306Z"
   },
   {
    "duration": 29,
    "start_time": "2023-12-27T12:19:08.311Z"
   },
   {
    "duration": 24,
    "start_time": "2023-12-27T12:19:08.342Z"
   },
   {
    "duration": 29,
    "start_time": "2023-12-27T12:19:08.368Z"
   },
   {
    "duration": 13,
    "start_time": "2023-12-27T12:19:08.399Z"
   },
   {
    "duration": 6,
    "start_time": "2023-12-27T12:19:08.413Z"
   },
   {
    "duration": 15,
    "start_time": "2023-12-27T12:19:08.420Z"
   },
   {
    "duration": 4,
    "start_time": "2023-12-27T12:19:08.437Z"
   },
   {
    "duration": 12,
    "start_time": "2023-12-27T12:19:08.442Z"
   },
   {
    "duration": 5,
    "start_time": "2023-12-27T12:19:08.455Z"
   },
   {
    "duration": 172,
    "start_time": "2023-12-27T12:19:08.488Z"
   },
   {
    "duration": 9,
    "start_time": "2023-12-27T12:19:08.662Z"
   },
   {
    "duration": 106,
    "start_time": "2023-12-27T12:19:08.688Z"
   },
   {
    "duration": 8,
    "start_time": "2023-12-27T12:19:08.796Z"
   },
   {
    "duration": 163,
    "start_time": "2023-12-27T12:19:08.806Z"
   },
   {
    "duration": 6,
    "start_time": "2023-12-27T12:19:08.971Z"
   },
   {
    "duration": 14,
    "start_time": "2023-12-27T12:19:08.979Z"
   },
   {
    "duration": 307,
    "start_time": "2023-12-27T12:19:08.994Z"
   },
   {
    "duration": 7,
    "start_time": "2023-12-27T12:19:09.302Z"
   },
   {
    "duration": 28,
    "start_time": "2023-12-27T12:19:09.311Z"
   },
   {
    "duration": 379,
    "start_time": "2023-12-27T12:19:09.341Z"
   },
   {
    "duration": 79,
    "start_time": "2023-12-27T12:19:09.721Z"
   },
   {
    "duration": 23,
    "start_time": "2023-12-27T12:19:09.801Z"
   },
   {
    "duration": 74,
    "start_time": "2023-12-27T12:19:09.825Z"
   },
   {
    "duration": 331,
    "start_time": "2023-12-27T12:19:09.900Z"
   },
   {
    "duration": 375,
    "start_time": "2023-12-27T12:19:10.234Z"
   },
   {
    "duration": 171,
    "start_time": "2023-12-27T12:19:10.611Z"
   },
   {
    "duration": 183,
    "start_time": "2023-12-27T12:19:10.784Z"
   },
   {
    "duration": 970,
    "start_time": "2023-12-27T12:19:10.968Z"
   },
   {
    "duration": 3,
    "start_time": "2023-12-27T12:19:11.939Z"
   },
   {
    "duration": 176,
    "start_time": "2023-12-27T12:19:11.944Z"
   },
   {
    "duration": 5,
    "start_time": "2023-12-27T12:19:12.121Z"
   },
   {
    "duration": 40,
    "start_time": "2023-12-27T12:19:12.128Z"
   },
   {
    "duration": 35,
    "start_time": "2023-12-27T12:19:12.170Z"
   },
   {
    "duration": 25,
    "start_time": "2023-12-27T12:19:12.207Z"
   },
   {
    "duration": 4,
    "start_time": "2023-12-27T12:21:25.477Z"
   },
   {
    "duration": 4,
    "start_time": "2023-12-27T12:21:34.632Z"
   },
   {
    "duration": 6,
    "start_time": "2023-12-27T12:22:09.136Z"
   },
   {
    "duration": 4,
    "start_time": "2023-12-27T12:22:25.790Z"
   },
   {
    "duration": 7,
    "start_time": "2023-12-27T12:24:38.050Z"
   },
   {
    "duration": 10,
    "start_time": "2023-12-27T12:25:15.745Z"
   },
   {
    "duration": 9,
    "start_time": "2023-12-27T12:27:47.444Z"
   },
   {
    "duration": 9,
    "start_time": "2023-12-27T12:28:12.955Z"
   },
   {
    "duration": 9,
    "start_time": "2023-12-27T12:28:23.757Z"
   },
   {
    "duration": 9,
    "start_time": "2023-12-27T12:28:42.620Z"
   },
   {
    "duration": 227,
    "start_time": "2023-12-27T12:30:41.553Z"
   },
   {
    "duration": 151,
    "start_time": "2023-12-27T12:30:56.085Z"
   },
   {
    "duration": 9,
    "start_time": "2023-12-27T12:32:10.273Z"
   },
   {
    "duration": 159,
    "start_time": "2023-12-27T12:32:19.833Z"
   },
   {
    "duration": 165,
    "start_time": "2023-12-27T12:34:04.430Z"
   },
   {
    "duration": 81,
    "start_time": "2023-12-27T12:38:50.208Z"
   },
   {
    "duration": 106,
    "start_time": "2023-12-27T12:38:55.012Z"
   },
   {
    "duration": 97,
    "start_time": "2023-12-27T12:39:15.540Z"
   },
   {
    "duration": 94,
    "start_time": "2023-12-27T12:39:23.898Z"
   },
   {
    "duration": 96,
    "start_time": "2023-12-27T12:39:51.785Z"
   },
   {
    "duration": 104,
    "start_time": "2023-12-27T12:40:11.563Z"
   },
   {
    "duration": 95,
    "start_time": "2023-12-27T12:41:49.585Z"
   },
   {
    "duration": 92,
    "start_time": "2023-12-27T12:41:56.661Z"
   },
   {
    "duration": 123,
    "start_time": "2023-12-27T12:42:20.983Z"
   },
   {
    "duration": 103,
    "start_time": "2023-12-27T12:42:38.635Z"
   },
   {
    "duration": 92,
    "start_time": "2023-12-27T12:42:59.154Z"
   },
   {
    "duration": 191,
    "start_time": "2023-12-27T12:44:54.316Z"
   },
   {
    "duration": 95,
    "start_time": "2023-12-27T12:45:10.736Z"
   },
   {
    "duration": 193,
    "start_time": "2023-12-27T13:09:18.990Z"
   },
   {
    "duration": 11,
    "start_time": "2023-12-27T13:22:51.385Z"
   },
   {
    "duration": 141,
    "start_time": "2023-12-27T13:23:07.875Z"
   },
   {
    "duration": 80,
    "start_time": "2023-12-27T13:29:35.201Z"
   },
   {
    "duration": 12,
    "start_time": "2023-12-27T13:29:41.607Z"
   },
   {
    "duration": 77,
    "start_time": "2023-12-27T13:32:38.839Z"
   },
   {
    "duration": 4,
    "start_time": "2023-12-27T13:32:51.495Z"
   },
   {
    "duration": 4,
    "start_time": "2023-12-27T13:34:32.144Z"
   },
   {
    "duration": 4,
    "start_time": "2023-12-27T13:34:44.615Z"
   },
   {
    "duration": 3,
    "start_time": "2023-12-27T13:35:00.544Z"
   },
   {
    "duration": 4,
    "start_time": "2023-12-27T13:40:36.020Z"
   },
   {
    "duration": 12,
    "start_time": "2023-12-27T13:41:11.989Z"
   },
   {
    "duration": 10,
    "start_time": "2023-12-27T13:41:20.372Z"
   },
   {
    "duration": 9,
    "start_time": "2023-12-27T13:41:31.012Z"
   },
   {
    "duration": 19,
    "start_time": "2023-12-27T13:45:22.143Z"
   },
   {
    "duration": 9,
    "start_time": "2023-12-27T13:45:25.069Z"
   },
   {
    "duration": 7,
    "start_time": "2023-12-27T13:46:14.551Z"
   },
   {
    "duration": 8,
    "start_time": "2023-12-27T13:46:18.407Z"
   },
   {
    "duration": 296,
    "start_time": "2023-12-27T13:52:47.204Z"
   },
   {
    "duration": 294,
    "start_time": "2023-12-27T13:54:00.011Z"
   },
   {
    "duration": 450,
    "start_time": "2023-12-27T13:54:20.594Z"
   },
   {
    "duration": 445,
    "start_time": "2023-12-27T13:55:03.719Z"
   },
   {
    "duration": 387,
    "start_time": "2023-12-27T13:57:56.415Z"
   },
   {
    "duration": 291,
    "start_time": "2023-12-27T13:58:10.599Z"
   },
   {
    "duration": 300,
    "start_time": "2023-12-27T13:58:15.993Z"
   },
   {
    "duration": 280,
    "start_time": "2023-12-27T13:58:22.399Z"
   },
   {
    "duration": 286,
    "start_time": "2023-12-27T13:58:26.876Z"
   },
   {
    "duration": 315,
    "start_time": "2023-12-27T14:06:02.014Z"
   },
   {
    "duration": 323,
    "start_time": "2023-12-27T14:06:37.522Z"
   },
   {
    "duration": 416,
    "start_time": "2023-12-27T14:06:47.996Z"
   },
   {
    "duration": 318,
    "start_time": "2023-12-27T14:07:04.231Z"
   },
   {
    "duration": 475,
    "start_time": "2023-12-27T14:07:46.770Z"
   },
   {
    "duration": 316,
    "start_time": "2023-12-27T15:27:15.306Z"
   },
   {
    "duration": 1143,
    "start_time": "2023-12-27T15:27:20.541Z"
   },
   {
    "duration": 76,
    "start_time": "2023-12-27T15:27:21.688Z"
   },
   {
    "duration": 4,
    "start_time": "2023-12-27T15:27:21.766Z"
   },
   {
    "duration": 33,
    "start_time": "2023-12-27T15:27:21.771Z"
   },
   {
    "duration": 28,
    "start_time": "2023-12-27T15:27:21.805Z"
   },
   {
    "duration": 20,
    "start_time": "2023-12-27T15:27:21.834Z"
   },
   {
    "duration": 14,
    "start_time": "2023-12-27T15:27:21.855Z"
   },
   {
    "duration": 72,
    "start_time": "2023-12-27T15:27:21.870Z"
   },
   {
    "duration": 0,
    "start_time": "2023-12-27T15:27:21.946Z"
   },
   {
    "duration": 0,
    "start_time": "2023-12-27T15:27:21.947Z"
   },
   {
    "duration": 0,
    "start_time": "2023-12-27T15:27:21.949Z"
   },
   {
    "duration": 0,
    "start_time": "2023-12-27T15:27:21.950Z"
   },
   {
    "duration": 0,
    "start_time": "2023-12-27T15:27:21.952Z"
   },
   {
    "duration": 0,
    "start_time": "2023-12-27T15:27:21.953Z"
   },
   {
    "duration": 0,
    "start_time": "2023-12-27T15:27:21.955Z"
   },
   {
    "duration": 0,
    "start_time": "2023-12-27T15:27:21.956Z"
   },
   {
    "duration": 0,
    "start_time": "2023-12-27T15:27:21.957Z"
   },
   {
    "duration": 0,
    "start_time": "2023-12-27T15:27:21.958Z"
   },
   {
    "duration": 0,
    "start_time": "2023-12-27T15:27:21.959Z"
   },
   {
    "duration": 0,
    "start_time": "2023-12-27T15:27:21.961Z"
   },
   {
    "duration": 0,
    "start_time": "2023-12-27T15:27:21.961Z"
   },
   {
    "duration": 0,
    "start_time": "2023-12-27T15:27:21.963Z"
   },
   {
    "duration": 0,
    "start_time": "2023-12-27T15:27:21.964Z"
   },
   {
    "duration": 0,
    "start_time": "2023-12-27T15:27:21.965Z"
   },
   {
    "duration": 0,
    "start_time": "2023-12-27T15:27:21.966Z"
   },
   {
    "duration": 0,
    "start_time": "2023-12-27T15:27:21.967Z"
   },
   {
    "duration": 0,
    "start_time": "2023-12-27T15:27:21.968Z"
   },
   {
    "duration": 0,
    "start_time": "2023-12-27T15:27:21.969Z"
   },
   {
    "duration": 0,
    "start_time": "2023-12-27T15:27:21.970Z"
   },
   {
    "duration": 0,
    "start_time": "2023-12-27T15:27:21.971Z"
   },
   {
    "duration": 0,
    "start_time": "2023-12-27T15:27:21.972Z"
   },
   {
    "duration": 0,
    "start_time": "2023-12-27T15:27:21.973Z"
   },
   {
    "duration": 0,
    "start_time": "2023-12-27T15:27:21.974Z"
   },
   {
    "duration": 0,
    "start_time": "2023-12-27T15:27:21.975Z"
   },
   {
    "duration": 0,
    "start_time": "2023-12-27T15:27:21.977Z"
   },
   {
    "duration": 0,
    "start_time": "2023-12-27T15:27:21.978Z"
   },
   {
    "duration": 0,
    "start_time": "2023-12-27T15:27:21.979Z"
   },
   {
    "duration": 0,
    "start_time": "2023-12-27T15:27:21.980Z"
   },
   {
    "duration": 0,
    "start_time": "2023-12-27T15:27:21.981Z"
   },
   {
    "duration": 0,
    "start_time": "2023-12-27T15:27:21.991Z"
   },
   {
    "duration": 0,
    "start_time": "2023-12-27T15:27:21.992Z"
   },
   {
    "duration": 1103,
    "start_time": "2023-12-27T15:31:06.150Z"
   },
   {
    "duration": 75,
    "start_time": "2023-12-27T15:31:07.255Z"
   },
   {
    "duration": 4,
    "start_time": "2023-12-27T15:31:07.332Z"
   },
   {
    "duration": 31,
    "start_time": "2023-12-27T15:31:07.338Z"
   },
   {
    "duration": 38,
    "start_time": "2023-12-27T15:31:07.370Z"
   },
   {
    "duration": 29,
    "start_time": "2023-12-27T15:31:07.410Z"
   },
   {
    "duration": 9,
    "start_time": "2023-12-27T15:31:07.441Z"
   },
   {
    "duration": 32,
    "start_time": "2023-12-27T15:31:07.452Z"
   },
   {
    "duration": 6,
    "start_time": "2023-12-27T15:31:07.485Z"
   },
   {
    "duration": 29,
    "start_time": "2023-12-27T15:31:07.493Z"
   },
   {
    "duration": 13,
    "start_time": "2023-12-27T15:31:07.524Z"
   },
   {
    "duration": 30,
    "start_time": "2023-12-27T15:31:07.538Z"
   },
   {
    "duration": 42,
    "start_time": "2023-12-27T15:31:07.570Z"
   },
   {
    "duration": 183,
    "start_time": "2023-12-27T15:31:07.613Z"
   },
   {
    "duration": 7,
    "start_time": "2023-12-27T15:31:07.797Z"
   },
   {
    "duration": 140,
    "start_time": "2023-12-27T15:31:07.806Z"
   },
   {
    "duration": 7,
    "start_time": "2023-12-27T15:31:07.947Z"
   },
   {
    "duration": 159,
    "start_time": "2023-12-27T15:31:07.956Z"
   },
   {
    "duration": 7,
    "start_time": "2023-12-27T15:31:08.116Z"
   },
   {
    "duration": 9,
    "start_time": "2023-12-27T15:31:08.124Z"
   },
   {
    "duration": 194,
    "start_time": "2023-12-27T15:31:08.134Z"
   },
   {
    "duration": 7,
    "start_time": "2023-12-27T15:31:08.329Z"
   },
   {
    "duration": 6,
    "start_time": "2023-12-27T15:31:08.337Z"
   },
   {
    "duration": 202,
    "start_time": "2023-12-27T15:31:08.345Z"
   },
   {
    "duration": 25,
    "start_time": "2023-12-27T15:31:08.549Z"
   },
   {
    "duration": 14,
    "start_time": "2023-12-27T15:31:08.575Z"
   },
   {
    "duration": 13,
    "start_time": "2023-12-27T15:31:08.590Z"
   },
   {
    "duration": 45,
    "start_time": "2023-12-27T15:31:08.606Z"
   },
   {
    "duration": 8,
    "start_time": "2023-12-27T15:31:08.652Z"
   },
   {
    "duration": 33,
    "start_time": "2023-12-27T15:31:08.661Z"
   },
   {
    "duration": 7,
    "start_time": "2023-12-27T15:31:08.696Z"
   },
   {
    "duration": 526,
    "start_time": "2023-12-27T15:31:08.704Z"
   },
   {
    "duration": 333,
    "start_time": "2023-12-27T15:31:09.232Z"
   },
   {
    "duration": 104,
    "start_time": "2023-12-27T15:31:09.567Z"
   },
   {
    "duration": 0,
    "start_time": "2023-12-27T15:31:09.672Z"
   },
   {
    "duration": 0,
    "start_time": "2023-12-27T15:31:09.674Z"
   },
   {
    "duration": 0,
    "start_time": "2023-12-27T15:31:09.675Z"
   },
   {
    "duration": 0,
    "start_time": "2023-12-27T15:31:09.676Z"
   },
   {
    "duration": 0,
    "start_time": "2023-12-27T15:31:09.677Z"
   },
   {
    "duration": 0,
    "start_time": "2023-12-27T15:31:09.678Z"
   },
   {
    "duration": 0,
    "start_time": "2023-12-27T15:31:09.679Z"
   },
   {
    "duration": 1180,
    "start_time": "2023-12-27T15:31:30.668Z"
   },
   {
    "duration": 73,
    "start_time": "2023-12-27T15:31:31.850Z"
   },
   {
    "duration": 298,
    "start_time": "2023-12-27T15:31:31.924Z"
   },
   {
    "duration": 49,
    "start_time": "2023-12-27T15:31:32.224Z"
   },
   {
    "duration": 32,
    "start_time": "2023-12-27T15:31:32.275Z"
   },
   {
    "duration": 24,
    "start_time": "2023-12-27T15:31:32.309Z"
   },
   {
    "duration": 30,
    "start_time": "2023-12-27T15:31:32.335Z"
   },
   {
    "duration": 34,
    "start_time": "2023-12-27T15:31:32.367Z"
   },
   {
    "duration": 15,
    "start_time": "2023-12-27T15:31:32.403Z"
   },
   {
    "duration": 28,
    "start_time": "2023-12-27T15:31:32.421Z"
   },
   {
    "duration": 22,
    "start_time": "2023-12-27T15:31:32.451Z"
   },
   {
    "duration": 44,
    "start_time": "2023-12-27T15:31:32.474Z"
   },
   {
    "duration": 26,
    "start_time": "2023-12-27T15:31:32.520Z"
   },
   {
    "duration": 180,
    "start_time": "2023-12-27T15:31:32.547Z"
   },
   {
    "duration": 8,
    "start_time": "2023-12-27T15:31:32.729Z"
   },
   {
    "duration": 150,
    "start_time": "2023-12-27T15:31:32.738Z"
   },
   {
    "duration": 9,
    "start_time": "2023-12-27T15:31:32.890Z"
   },
   {
    "duration": 170,
    "start_time": "2023-12-27T15:31:32.901Z"
   },
   {
    "duration": 16,
    "start_time": "2023-12-27T15:31:33.073Z"
   },
   {
    "duration": 13,
    "start_time": "2023-12-27T15:31:33.091Z"
   },
   {
    "duration": 184,
    "start_time": "2023-12-27T15:31:33.105Z"
   },
   {
    "duration": 7,
    "start_time": "2023-12-27T15:31:33.290Z"
   },
   {
    "duration": 28,
    "start_time": "2023-12-27T15:31:33.299Z"
   },
   {
    "duration": 204,
    "start_time": "2023-12-27T15:31:33.328Z"
   },
   {
    "duration": 30,
    "start_time": "2023-12-27T15:31:33.534Z"
   },
   {
    "duration": 24,
    "start_time": "2023-12-27T15:31:33.566Z"
   },
   {
    "duration": 24,
    "start_time": "2023-12-27T15:31:33.592Z"
   },
   {
    "duration": 30,
    "start_time": "2023-12-27T15:31:33.621Z"
   },
   {
    "duration": 9,
    "start_time": "2023-12-27T15:31:33.653Z"
   },
   {
    "duration": 41,
    "start_time": "2023-12-27T15:31:33.664Z"
   },
   {
    "duration": 20,
    "start_time": "2023-12-27T15:31:33.706Z"
   },
   {
    "duration": 508,
    "start_time": "2023-12-27T15:31:33.728Z"
   },
   {
    "duration": 329,
    "start_time": "2023-12-27T15:31:34.238Z"
   },
   {
    "duration": 879,
    "start_time": "2023-12-27T15:31:34.569Z"
   },
   {
    "duration": 7,
    "start_time": "2023-12-27T15:31:35.450Z"
   },
   {
    "duration": 4,
    "start_time": "2023-12-27T15:31:35.458Z"
   },
   {
    "duration": 236,
    "start_time": "2023-12-27T15:31:35.463Z"
   },
   {
    "duration": 4,
    "start_time": "2023-12-27T15:31:35.700Z"
   },
   {
    "duration": 36,
    "start_time": "2023-12-27T15:31:35.706Z"
   },
   {
    "duration": 10,
    "start_time": "2023-12-27T15:31:35.743Z"
   },
   {
    "duration": 19,
    "start_time": "2023-12-27T15:31:35.755Z"
   },
   {
    "duration": 4,
    "start_time": "2023-12-27T15:33:21.203Z"
   },
   {
    "duration": 114,
    "start_time": "2023-12-27T15:33:28.428Z"
   },
   {
    "duration": 4,
    "start_time": "2023-12-27T15:33:58.489Z"
   },
   {
    "duration": 204,
    "start_time": "2023-12-27T15:33:59.658Z"
   },
   {
    "duration": 5,
    "start_time": "2023-12-27T15:34:18.873Z"
   },
   {
    "duration": 4,
    "start_time": "2023-12-27T15:35:56.114Z"
   },
   {
    "duration": 4,
    "start_time": "2023-12-27T15:36:13.315Z"
   },
   {
    "duration": 389,
    "start_time": "2023-12-27T15:36:14.244Z"
   },
   {
    "duration": 4,
    "start_time": "2023-12-27T15:36:22.618Z"
   },
   {
    "duration": 7,
    "start_time": "2023-12-27T16:32:50.661Z"
   },
   {
    "duration": 51,
    "start_time": "2023-12-28T10:02:21.109Z"
   },
   {
    "duration": 1343,
    "start_time": "2023-12-28T10:02:25.377Z"
   },
   {
    "duration": 300,
    "start_time": "2023-12-28T10:02:26.722Z"
   },
   {
    "duration": 5,
    "start_time": "2023-12-28T10:02:27.023Z"
   },
   {
    "duration": 31,
    "start_time": "2023-12-28T10:02:27.031Z"
   },
   {
    "duration": 26,
    "start_time": "2023-12-28T10:02:27.064Z"
   },
   {
    "duration": 42,
    "start_time": "2023-12-28T10:02:27.092Z"
   },
   {
    "duration": 5,
    "start_time": "2023-12-28T10:02:27.135Z"
   },
   {
    "duration": 28,
    "start_time": "2023-12-28T10:02:27.142Z"
   },
   {
    "duration": 6,
    "start_time": "2023-12-28T10:02:27.172Z"
   },
   {
    "duration": 15,
    "start_time": "2023-12-28T10:02:27.180Z"
   },
   {
    "duration": 13,
    "start_time": "2023-12-28T10:02:27.197Z"
   },
   {
    "duration": 24,
    "start_time": "2023-12-28T10:02:27.212Z"
   },
   {
    "duration": 29,
    "start_time": "2023-12-28T10:02:27.238Z"
   },
   {
    "duration": 193,
    "start_time": "2023-12-28T10:02:27.268Z"
   },
   {
    "duration": 8,
    "start_time": "2023-12-28T10:02:27.463Z"
   },
   {
    "duration": 136,
    "start_time": "2023-12-28T10:02:27.473Z"
   },
   {
    "duration": 21,
    "start_time": "2023-12-28T10:02:27.611Z"
   },
   {
    "duration": 250,
    "start_time": "2023-12-28T10:02:27.634Z"
   },
   {
    "duration": 9,
    "start_time": "2023-12-28T10:02:27.885Z"
   },
   {
    "duration": 18,
    "start_time": "2023-12-28T10:02:27.896Z"
   },
   {
    "duration": 216,
    "start_time": "2023-12-28T10:02:27.916Z"
   },
   {
    "duration": 8,
    "start_time": "2023-12-28T10:02:28.134Z"
   },
   {
    "duration": 29,
    "start_time": "2023-12-28T10:02:28.144Z"
   },
   {
    "duration": 211,
    "start_time": "2023-12-28T10:02:28.174Z"
   },
   {
    "duration": 28,
    "start_time": "2023-12-28T10:02:28.387Z"
   },
   {
    "duration": 16,
    "start_time": "2023-12-28T10:02:28.417Z"
   },
   {
    "duration": 29,
    "start_time": "2023-12-28T10:02:28.435Z"
   },
   {
    "duration": 32,
    "start_time": "2023-12-28T10:02:28.468Z"
   },
   {
    "duration": 28,
    "start_time": "2023-12-28T10:02:28.502Z"
   },
   {
    "duration": 43,
    "start_time": "2023-12-28T10:02:28.532Z"
   },
   {
    "duration": 24,
    "start_time": "2023-12-28T10:02:28.577Z"
   },
   {
    "duration": 612,
    "start_time": "2023-12-28T10:02:28.603Z"
   },
   {
    "duration": 364,
    "start_time": "2023-12-28T10:02:29.217Z"
   },
   {
    "duration": 32,
    "start_time": "2023-12-28T10:02:29.582Z"
   },
   {
    "duration": 929,
    "start_time": "2023-12-28T10:02:29.615Z"
   },
   {
    "duration": 7,
    "start_time": "2023-12-28T10:02:30.546Z"
   },
   {
    "duration": 72,
    "start_time": "2023-12-28T10:02:30.554Z"
   },
   {
    "duration": 827,
    "start_time": "2023-12-28T10:02:30.628Z"
   },
   {
    "duration": 5,
    "start_time": "2023-12-28T10:02:31.457Z"
   },
   {
    "duration": 75,
    "start_time": "2023-12-28T10:02:31.464Z"
   },
   {
    "duration": 52,
    "start_time": "2023-12-28T10:02:31.541Z"
   },
   {
    "duration": 91,
    "start_time": "2023-12-28T10:02:31.595Z"
   },
   {
    "duration": 19,
    "start_time": "2023-12-28T10:04:00.657Z"
   },
   {
    "duration": 18,
    "start_time": "2023-12-28T10:04:13.969Z"
   },
   {
    "duration": 29,
    "start_time": "2023-12-28T10:12:11.624Z"
   },
   {
    "duration": 40,
    "start_time": "2023-12-28T10:13:28.512Z"
   },
   {
    "duration": 18,
    "start_time": "2023-12-28T10:13:46.152Z"
   },
   {
    "duration": 19,
    "start_time": "2023-12-28T10:13:46.720Z"
   },
   {
    "duration": 348,
    "start_time": "2023-12-28T10:15:27.746Z"
   },
   {
    "duration": 329,
    "start_time": "2023-12-28T10:15:57.307Z"
   },
   {
    "duration": 526,
    "start_time": "2023-12-28T10:16:05.281Z"
   },
   {
    "duration": 51,
    "start_time": "2023-12-28T10:16:56.229Z"
   },
   {
    "duration": 464,
    "start_time": "2023-12-28T10:17:21.710Z"
   },
   {
    "duration": 515,
    "start_time": "2023-12-28T10:18:02.332Z"
   },
   {
    "duration": 662,
    "start_time": "2023-12-28T10:18:51.076Z"
   },
   {
    "duration": 358,
    "start_time": "2023-12-28T10:19:24.581Z"
   },
   {
    "duration": 329,
    "start_time": "2023-12-28T10:21:49.783Z"
   },
   {
    "duration": 480,
    "start_time": "2023-12-28T10:22:35.412Z"
   },
   {
    "duration": 539,
    "start_time": "2023-12-28T10:22:42.743Z"
   },
   {
    "duration": 616,
    "start_time": "2023-12-28T10:22:54.764Z"
   },
   {
    "duration": 492,
    "start_time": "2023-12-28T10:23:05.745Z"
   },
   {
    "duration": 502,
    "start_time": "2023-12-28T10:23:11.648Z"
   },
   {
    "duration": 305,
    "start_time": "2023-12-28T10:23:34.376Z"
   },
   {
    "duration": 327,
    "start_time": "2023-12-28T10:23:45.832Z"
   },
   {
    "duration": 552,
    "start_time": "2023-12-28T10:24:05.920Z"
   },
   {
    "duration": 620,
    "start_time": "2023-12-28T10:24:15.672Z"
   },
   {
    "duration": 334,
    "start_time": "2023-12-28T10:28:42.619Z"
   },
   {
    "duration": 315,
    "start_time": "2023-12-28T10:29:59.332Z"
   },
   {
    "duration": 303,
    "start_time": "2023-12-28T10:31:23.788Z"
   },
   {
    "duration": 16,
    "start_time": "2023-12-28T10:34:42.103Z"
   },
   {
    "duration": 13,
    "start_time": "2023-12-28T10:34:44.327Z"
   },
   {
    "duration": 8,
    "start_time": "2023-12-28T10:34:58.496Z"
   },
   {
    "duration": 20,
    "start_time": "2023-12-28T10:35:16.713Z"
   },
   {
    "duration": 18,
    "start_time": "2023-12-28T10:35:17.335Z"
   },
   {
    "duration": 336,
    "start_time": "2023-12-28T10:45:07.518Z"
   },
   {
    "duration": 354,
    "start_time": "2023-12-28T10:50:28.447Z"
   },
   {
    "duration": 356,
    "start_time": "2023-12-28T10:50:40.752Z"
   },
   {
    "duration": 390,
    "start_time": "2023-12-28T10:50:54.167Z"
   },
   {
    "duration": 388,
    "start_time": "2023-12-28T10:51:01.536Z"
   },
   {
    "duration": 826,
    "start_time": "2023-12-28T10:53:27.201Z"
   },
   {
    "duration": 10,
    "start_time": "2023-12-28T10:55:00.250Z"
   },
   {
    "duration": 12,
    "start_time": "2023-12-28T10:55:32.214Z"
   },
   {
    "duration": 10,
    "start_time": "2023-12-28T10:55:56.842Z"
   },
   {
    "duration": 10,
    "start_time": "2023-12-28T10:56:02.139Z"
   },
   {
    "duration": 749,
    "start_time": "2023-12-28T10:57:07.419Z"
   },
   {
    "duration": 686,
    "start_time": "2023-12-28T10:57:54.309Z"
   },
   {
    "duration": 9,
    "start_time": "2023-12-28T10:58:58.437Z"
   },
   {
    "duration": 12,
    "start_time": "2023-12-28T11:00:08.692Z"
   },
   {
    "duration": 8,
    "start_time": "2023-12-28T11:00:15.700Z"
   },
   {
    "duration": 10,
    "start_time": "2023-12-28T11:03:25.038Z"
   },
   {
    "duration": 7,
    "start_time": "2023-12-28T11:04:32.047Z"
   },
   {
    "duration": 412,
    "start_time": "2023-12-28T11:06:51.904Z"
   },
   {
    "duration": 7,
    "start_time": "2023-12-28T11:07:48.760Z"
   },
   {
    "duration": 6,
    "start_time": "2023-12-28T11:08:18.185Z"
   },
   {
    "duration": 7,
    "start_time": "2023-12-28T11:08:28.144Z"
   },
   {
    "duration": 5,
    "start_time": "2023-12-28T11:11:50.732Z"
   },
   {
    "duration": 6,
    "start_time": "2023-12-28T11:56:49.772Z"
   },
   {
    "duration": 6,
    "start_time": "2023-12-28T11:57:29.732Z"
   },
   {
    "duration": 1224,
    "start_time": "2023-12-28T13:09:41.554Z"
   },
   {
    "duration": 77,
    "start_time": "2023-12-28T13:09:42.781Z"
   },
   {
    "duration": 5,
    "start_time": "2023-12-28T13:09:42.860Z"
   },
   {
    "duration": 37,
    "start_time": "2023-12-28T13:09:42.867Z"
   },
   {
    "duration": 27,
    "start_time": "2023-12-28T13:09:42.906Z"
   },
   {
    "duration": 25,
    "start_time": "2023-12-28T13:09:42.935Z"
   },
   {
    "duration": 7,
    "start_time": "2023-12-28T13:09:42.963Z"
   },
   {
    "duration": 21,
    "start_time": "2023-12-28T13:09:42.972Z"
   },
   {
    "duration": 8,
    "start_time": "2023-12-28T13:09:42.995Z"
   },
   {
    "duration": 11,
    "start_time": "2023-12-28T13:09:43.032Z"
   },
   {
    "duration": 7,
    "start_time": "2023-12-28T13:09:43.045Z"
   },
   {
    "duration": 17,
    "start_time": "2023-12-28T13:09:43.054Z"
   },
   {
    "duration": 16,
    "start_time": "2023-12-28T13:09:43.074Z"
   },
   {
    "duration": 204,
    "start_time": "2023-12-28T13:09:43.092Z"
   },
   {
    "duration": 10,
    "start_time": "2023-12-28T13:09:43.298Z"
   },
   {
    "duration": 135,
    "start_time": "2023-12-28T13:09:43.310Z"
   },
   {
    "duration": 10,
    "start_time": "2023-12-28T13:09:43.447Z"
   },
   {
    "duration": 172,
    "start_time": "2023-12-28T13:09:43.459Z"
   },
   {
    "duration": 7,
    "start_time": "2023-12-28T13:09:43.633Z"
   },
   {
    "duration": 18,
    "start_time": "2023-12-28T13:09:43.641Z"
   },
   {
    "duration": 204,
    "start_time": "2023-12-28T13:09:43.660Z"
   },
   {
    "duration": 9,
    "start_time": "2023-12-28T13:09:43.866Z"
   },
   {
    "duration": 14,
    "start_time": "2023-12-28T13:09:43.877Z"
   },
   {
    "duration": 305,
    "start_time": "2023-12-28T13:09:43.894Z"
   },
   {
    "duration": 43,
    "start_time": "2023-12-28T13:09:44.201Z"
   },
   {
    "duration": 4,
    "start_time": "2023-12-28T13:09:44.246Z"
   },
   {
    "duration": 17,
    "start_time": "2023-12-28T13:09:44.252Z"
   },
   {
    "duration": 25,
    "start_time": "2023-12-28T13:09:44.272Z"
   },
   {
    "duration": 8,
    "start_time": "2023-12-28T13:09:44.330Z"
   },
   {
    "duration": 33,
    "start_time": "2023-12-28T13:09:44.340Z"
   },
   {
    "duration": 8,
    "start_time": "2023-12-28T13:09:44.374Z"
   },
   {
    "duration": 559,
    "start_time": "2023-12-28T13:09:44.384Z"
   },
   {
    "duration": 372,
    "start_time": "2023-12-28T13:09:44.945Z"
   },
   {
    "duration": 30,
    "start_time": "2023-12-28T13:09:45.331Z"
   },
   {
    "duration": 24,
    "start_time": "2023-12-28T13:09:45.363Z"
   },
   {
    "duration": 1214,
    "start_time": "2023-12-28T13:09:45.389Z"
   },
   {
    "duration": 9,
    "start_time": "2023-12-28T13:09:46.605Z"
   },
   {
    "duration": 17,
    "start_time": "2023-12-28T13:09:46.615Z"
   },
   {
    "duration": 447,
    "start_time": "2023-12-28T13:09:46.634Z"
   },
   {
    "duration": 9,
    "start_time": "2023-12-28T13:09:47.083Z"
   },
   {
    "duration": 6,
    "start_time": "2023-12-28T13:09:47.094Z"
   },
   {
    "duration": 31,
    "start_time": "2023-12-28T13:09:47.103Z"
   },
   {
    "duration": 7,
    "start_time": "2023-12-28T13:09:47.136Z"
   },
   {
    "duration": 12,
    "start_time": "2023-12-28T13:09:47.146Z"
   },
   {
    "duration": 263,
    "start_time": "2023-12-28T13:12:37.670Z"
   },
   {
    "duration": 192,
    "start_time": "2023-12-28T13:12:46.481Z"
   },
   {
    "duration": 206,
    "start_time": "2023-12-28T13:13:22.665Z"
   },
   {
    "duration": 48,
    "start_time": "2023-12-28T13:15:41.900Z"
   },
   {
    "duration": 163,
    "start_time": "2023-12-28T13:15:48.869Z"
   },
   {
    "duration": 95,
    "start_time": "2023-12-28T13:33:15.403Z"
   },
   {
    "duration": 137,
    "start_time": "2023-12-28T13:33:21.132Z"
   },
   {
    "duration": 16,
    "start_time": "2023-12-28T13:33:55.771Z"
   },
   {
    "duration": 12,
    "start_time": "2023-12-28T13:38:09.647Z"
   },
   {
    "duration": 14,
    "start_time": "2023-12-28T13:38:22.967Z"
   },
   {
    "duration": 69,
    "start_time": "2023-12-28T13:42:01.210Z"
   },
   {
    "duration": 19,
    "start_time": "2023-12-28T13:42:06.007Z"
   },
   {
    "duration": 128,
    "start_time": "2023-12-28T13:42:44.353Z"
   },
   {
    "duration": 9,
    "start_time": "2023-12-28T13:43:57.683Z"
   },
   {
    "duration": 10,
    "start_time": "2023-12-28T13:48:04.461Z"
   },
   {
    "duration": 11,
    "start_time": "2023-12-28T13:48:35.278Z"
   },
   {
    "duration": 12,
    "start_time": "2023-12-28T13:49:01.406Z"
   },
   {
    "duration": 11,
    "start_time": "2023-12-28T13:50:13.830Z"
   },
   {
    "duration": 12,
    "start_time": "2023-12-28T13:50:44.184Z"
   },
   {
    "duration": 186,
    "start_time": "2023-12-28T13:55:35.970Z"
   },
   {
    "duration": 134,
    "start_time": "2023-12-28T13:56:18.899Z"
   },
   {
    "duration": 146,
    "start_time": "2023-12-28T13:56:25.986Z"
   },
   {
    "duration": 239,
    "start_time": "2023-12-28T13:56:53.915Z"
   },
   {
    "duration": 15,
    "start_time": "2023-12-28T14:03:10.768Z"
   },
   {
    "duration": 80,
    "start_time": "2023-12-28T14:06:46.825Z"
   },
   {
    "duration": 746,
    "start_time": "2023-12-28T14:06:53.203Z"
   },
   {
    "duration": 6,
    "start_time": "2023-12-28T14:07:07.154Z"
   },
   {
    "duration": 46,
    "start_time": "2023-12-28T14:08:02.283Z"
   },
   {
    "duration": 33,
    "start_time": "2023-12-28T14:08:15.037Z"
   },
   {
    "duration": 35,
    "start_time": "2023-12-28T14:08:33.558Z"
   },
   {
    "duration": 1251,
    "start_time": "2023-12-28T14:08:40.203Z"
   },
   {
    "duration": 76,
    "start_time": "2023-12-28T14:08:41.456Z"
   },
   {
    "duration": 5,
    "start_time": "2023-12-28T14:08:41.534Z"
   },
   {
    "duration": 31,
    "start_time": "2023-12-28T14:08:41.541Z"
   },
   {
    "duration": 29,
    "start_time": "2023-12-28T14:08:41.574Z"
   },
   {
    "duration": 47,
    "start_time": "2023-12-28T14:08:41.605Z"
   },
   {
    "duration": 5,
    "start_time": "2023-12-28T14:08:41.654Z"
   },
   {
    "duration": 16,
    "start_time": "2023-12-28T14:08:41.661Z"
   },
   {
    "duration": 6,
    "start_time": "2023-12-28T14:08:41.679Z"
   },
   {
    "duration": 48,
    "start_time": "2023-12-28T14:08:41.688Z"
   },
   {
    "duration": 5,
    "start_time": "2023-12-28T14:08:41.738Z"
   },
   {
    "duration": 12,
    "start_time": "2023-12-28T14:08:41.745Z"
   },
   {
    "duration": 12,
    "start_time": "2023-12-28T14:08:41.759Z"
   },
   {
    "duration": 226,
    "start_time": "2023-12-28T14:08:41.773Z"
   },
   {
    "duration": 8,
    "start_time": "2023-12-28T14:08:42.001Z"
   },
   {
    "duration": 107,
    "start_time": "2023-12-28T14:08:42.030Z"
   },
   {
    "duration": 7,
    "start_time": "2023-12-28T14:08:42.139Z"
   },
   {
    "duration": 183,
    "start_time": "2023-12-28T14:08:42.148Z"
   },
   {
    "duration": 7,
    "start_time": "2023-12-28T14:08:42.333Z"
   },
   {
    "duration": 8,
    "start_time": "2023-12-28T14:08:42.341Z"
   },
   {
    "duration": 239,
    "start_time": "2023-12-28T14:08:42.351Z"
   },
   {
    "duration": 145,
    "start_time": "2023-12-28T14:08:42.592Z"
   },
   {
    "duration": 9,
    "start_time": "2023-12-28T14:08:42.739Z"
   },
   {
    "duration": 12,
    "start_time": "2023-12-28T14:08:42.750Z"
   },
   {
    "duration": 174,
    "start_time": "2023-12-28T14:08:42.763Z"
   },
   {
    "duration": 158,
    "start_time": "2023-12-28T14:08:42.939Z"
   },
   {
    "duration": 0,
    "start_time": "2023-12-28T14:08:43.102Z"
   },
   {
    "duration": 0,
    "start_time": "2023-12-28T14:08:43.104Z"
   },
   {
    "duration": 0,
    "start_time": "2023-12-28T14:08:43.105Z"
   },
   {
    "duration": 0,
    "start_time": "2023-12-28T14:08:43.106Z"
   },
   {
    "duration": 0,
    "start_time": "2023-12-28T14:08:43.108Z"
   },
   {
    "duration": 0,
    "start_time": "2023-12-28T14:08:43.109Z"
   },
   {
    "duration": 0,
    "start_time": "2023-12-28T14:08:43.111Z"
   },
   {
    "duration": 0,
    "start_time": "2023-12-28T14:08:43.131Z"
   },
   {
    "duration": 0,
    "start_time": "2023-12-28T14:08:43.132Z"
   },
   {
    "duration": 0,
    "start_time": "2023-12-28T14:08:43.134Z"
   },
   {
    "duration": 0,
    "start_time": "2023-12-28T14:08:43.135Z"
   },
   {
    "duration": 0,
    "start_time": "2023-12-28T14:08:43.136Z"
   },
   {
    "duration": 0,
    "start_time": "2023-12-28T14:08:43.137Z"
   },
   {
    "duration": 0,
    "start_time": "2023-12-28T14:08:43.138Z"
   },
   {
    "duration": 0,
    "start_time": "2023-12-28T14:08:43.139Z"
   },
   {
    "duration": 0,
    "start_time": "2023-12-28T14:08:43.140Z"
   },
   {
    "duration": 0,
    "start_time": "2023-12-28T14:08:43.141Z"
   },
   {
    "duration": 0,
    "start_time": "2023-12-28T14:08:43.142Z"
   },
   {
    "duration": 0,
    "start_time": "2023-12-28T14:08:43.143Z"
   },
   {
    "duration": 0,
    "start_time": "2023-12-28T14:08:43.145Z"
   },
   {
    "duration": 0,
    "start_time": "2023-12-28T14:08:43.146Z"
   },
   {
    "duration": 0,
    "start_time": "2023-12-28T14:08:43.147Z"
   },
   {
    "duration": 0,
    "start_time": "2023-12-28T14:08:43.148Z"
   },
   {
    "duration": 9,
    "start_time": "2023-12-28T14:09:22.102Z"
   },
   {
    "duration": 56,
    "start_time": "2023-12-28T14:09:51.191Z"
   },
   {
    "duration": 35,
    "start_time": "2023-12-28T14:10:02.879Z"
   },
   {
    "duration": 30,
    "start_time": "2023-12-28T14:10:34.119Z"
   },
   {
    "duration": 33,
    "start_time": "2023-12-28T14:11:00.181Z"
   },
   {
    "duration": 9,
    "start_time": "2023-12-28T14:11:46.640Z"
   },
   {
    "duration": 18,
    "start_time": "2023-12-28T14:12:02.967Z"
   },
   {
    "duration": 14,
    "start_time": "2023-12-28T14:12:50.335Z"
   },
   {
    "duration": 19,
    "start_time": "2023-12-28T14:13:06.285Z"
   },
   {
    "duration": 13,
    "start_time": "2023-12-28T14:13:13.408Z"
   },
   {
    "duration": 15,
    "start_time": "2023-12-28T14:14:07.456Z"
   },
   {
    "duration": 10,
    "start_time": "2023-12-28T14:14:59.441Z"
   },
   {
    "duration": 17,
    "start_time": "2023-12-28T14:15:14.264Z"
   },
   {
    "duration": 11,
    "start_time": "2023-12-28T14:15:28.249Z"
   },
   {
    "duration": 10,
    "start_time": "2023-12-28T14:17:29.732Z"
   },
   {
    "duration": 10,
    "start_time": "2023-12-28T14:19:44.789Z"
   },
   {
    "duration": 190,
    "start_time": "2023-12-28T14:20:53.940Z"
   },
   {
    "duration": 115,
    "start_time": "2023-12-28T14:21:59.373Z"
   },
   {
    "duration": 10,
    "start_time": "2023-12-28T15:31:27.436Z"
   },
   {
    "duration": 13,
    "start_time": "2023-12-28T15:32:35.548Z"
   },
   {
    "duration": 14,
    "start_time": "2023-12-28T15:33:02.693Z"
   },
   {
    "duration": 17,
    "start_time": "2023-12-28T15:33:13.077Z"
   },
   {
    "duration": 9,
    "start_time": "2023-12-28T15:33:42.486Z"
   },
   {
    "duration": 8,
    "start_time": "2023-12-28T15:33:53.757Z"
   },
   {
    "duration": 9,
    "start_time": "2023-12-28T15:34:11.749Z"
   },
   {
    "duration": 17,
    "start_time": "2023-12-28T15:35:18.550Z"
   },
   {
    "duration": 6,
    "start_time": "2023-12-28T15:37:18.448Z"
   },
   {
    "duration": 9,
    "start_time": "2023-12-28T15:37:35.544Z"
   },
   {
    "duration": 6,
    "start_time": "2023-12-28T15:37:44.211Z"
   },
   {
    "duration": 56,
    "start_time": "2023-12-28T15:39:00.370Z"
   },
   {
    "duration": 5,
    "start_time": "2023-12-28T15:39:09.385Z"
   },
   {
    "duration": 8,
    "start_time": "2023-12-28T15:40:18.155Z"
   },
   {
    "duration": 6,
    "start_time": "2023-12-28T15:40:33.498Z"
   },
   {
    "duration": 12,
    "start_time": "2023-12-28T15:45:02.668Z"
   },
   {
    "duration": 12,
    "start_time": "2023-12-28T15:45:03.269Z"
   },
   {
    "duration": 1116,
    "start_time": "2023-12-28T15:46:59.186Z"
   },
   {
    "duration": 74,
    "start_time": "2023-12-28T15:47:00.304Z"
   },
   {
    "duration": 4,
    "start_time": "2023-12-28T15:47:00.380Z"
   },
   {
    "duration": 84,
    "start_time": "2023-12-28T15:47:00.386Z"
   },
   {
    "duration": 29,
    "start_time": "2023-12-28T15:47:00.472Z"
   },
   {
    "duration": 29,
    "start_time": "2023-12-28T15:47:00.502Z"
   },
   {
    "duration": 23,
    "start_time": "2023-12-28T15:47:00.532Z"
   },
   {
    "duration": 23,
    "start_time": "2023-12-28T15:47:00.557Z"
   },
   {
    "duration": 31,
    "start_time": "2023-12-28T15:47:00.581Z"
   },
   {
    "duration": 41,
    "start_time": "2023-12-28T15:47:00.615Z"
   },
   {
    "duration": 64,
    "start_time": "2023-12-28T15:47:00.658Z"
   },
   {
    "duration": 36,
    "start_time": "2023-12-28T15:47:00.723Z"
   },
   {
    "duration": 39,
    "start_time": "2023-12-28T15:47:00.761Z"
   },
   {
    "duration": 191,
    "start_time": "2023-12-28T15:47:00.802Z"
   },
   {
    "duration": 9,
    "start_time": "2023-12-28T15:47:00.994Z"
   },
   {
    "duration": 155,
    "start_time": "2023-12-28T15:47:01.005Z"
   },
   {
    "duration": 9,
    "start_time": "2023-12-28T15:47:01.162Z"
   },
   {
    "duration": 206,
    "start_time": "2023-12-28T15:47:01.173Z"
   },
   {
    "duration": 13,
    "start_time": "2023-12-28T15:47:01.381Z"
   },
   {
    "duration": 101,
    "start_time": "2023-12-28T15:47:01.396Z"
   },
   {
    "duration": 249,
    "start_time": "2023-12-28T15:47:01.499Z"
   },
   {
    "duration": 136,
    "start_time": "2023-12-28T15:47:01.750Z"
   },
   {
    "duration": 9,
    "start_time": "2023-12-28T15:47:01.888Z"
   },
   {
    "duration": 116,
    "start_time": "2023-12-28T15:47:01.898Z"
   },
   {
    "duration": 207,
    "start_time": "2023-12-28T15:47:02.016Z"
   },
   {
    "duration": 13,
    "start_time": "2023-12-28T15:47:02.225Z"
   },
   {
    "duration": 76,
    "start_time": "2023-12-28T15:47:02.240Z"
   },
   {
    "duration": 60,
    "start_time": "2023-12-28T15:47:02.320Z"
   },
   {
    "duration": 86,
    "start_time": "2023-12-28T15:47:02.382Z"
   },
   {
    "duration": 82,
    "start_time": "2023-12-28T15:47:02.470Z"
   },
   {
    "duration": 75,
    "start_time": "2023-12-28T15:47:02.554Z"
   },
   {
    "duration": 29,
    "start_time": "2023-12-28T15:47:02.631Z"
   },
   {
    "duration": 141,
    "start_time": "2023-12-28T15:47:02.661Z"
   },
   {
    "duration": 241,
    "start_time": "2023-12-28T15:47:02.804Z"
   },
   {
    "duration": 27,
    "start_time": "2023-12-28T15:47:03.047Z"
   },
   {
    "duration": 9,
    "start_time": "2023-12-28T15:47:03.076Z"
   },
   {
    "duration": 46,
    "start_time": "2023-12-28T15:47:03.087Z"
   },
   {
    "duration": 45,
    "start_time": "2023-12-28T15:47:03.135Z"
   },
   {
    "duration": 32,
    "start_time": "2023-12-28T15:47:03.182Z"
   },
   {
    "duration": 53,
    "start_time": "2023-12-28T15:47:03.216Z"
   },
   {
    "duration": 33,
    "start_time": "2023-12-28T15:47:03.271Z"
   },
   {
    "duration": 515,
    "start_time": "2023-12-28T15:47:03.307Z"
   },
   {
    "duration": 450,
    "start_time": "2023-12-28T15:47:03.824Z"
   },
   {
    "duration": 74,
    "start_time": "2023-12-28T15:47:04.276Z"
   },
   {
    "duration": 20,
    "start_time": "2023-12-28T15:47:04.352Z"
   },
   {
    "duration": 1590,
    "start_time": "2023-12-28T15:47:04.430Z"
   },
   {
    "duration": 13,
    "start_time": "2023-12-28T15:47:06.022Z"
   },
   {
    "duration": 22,
    "start_time": "2023-12-28T15:47:06.037Z"
   },
   {
    "duration": 370,
    "start_time": "2023-12-28T15:47:06.061Z"
   },
   {
    "duration": 7,
    "start_time": "2023-12-28T15:47:06.432Z"
   },
   {
    "duration": 5,
    "start_time": "2023-12-28T15:47:06.441Z"
   },
   {
    "duration": 6,
    "start_time": "2023-12-28T15:47:06.447Z"
   },
   {
    "duration": 6,
    "start_time": "2023-12-28T15:47:06.455Z"
   },
   {
    "duration": 9,
    "start_time": "2023-12-28T15:47:06.463Z"
   },
   {
    "duration": 8,
    "start_time": "2023-12-28T15:58:11.941Z"
   },
   {
    "duration": 1194,
    "start_time": "2023-12-28T16:07:18.103Z"
   },
   {
    "duration": 73,
    "start_time": "2023-12-28T16:07:19.299Z"
   },
   {
    "duration": 6,
    "start_time": "2023-12-28T16:07:19.374Z"
   },
   {
    "duration": 31,
    "start_time": "2023-12-28T16:07:19.382Z"
   },
   {
    "duration": 26,
    "start_time": "2023-12-28T16:07:19.414Z"
   },
   {
    "duration": 22,
    "start_time": "2023-12-28T16:07:19.442Z"
   },
   {
    "duration": 4,
    "start_time": "2023-12-28T16:07:19.465Z"
   },
   {
    "duration": 22,
    "start_time": "2023-12-28T16:07:19.471Z"
   },
   {
    "duration": 5,
    "start_time": "2023-12-28T16:07:19.495Z"
   },
   {
    "duration": 34,
    "start_time": "2023-12-28T16:07:19.503Z"
   },
   {
    "duration": 4,
    "start_time": "2023-12-28T16:07:19.539Z"
   },
   {
    "duration": 18,
    "start_time": "2023-12-28T16:07:19.545Z"
   },
   {
    "duration": 11,
    "start_time": "2023-12-28T16:07:19.564Z"
   },
   {
    "duration": 189,
    "start_time": "2023-12-28T16:07:19.576Z"
   },
   {
    "duration": 8,
    "start_time": "2023-12-28T16:07:19.767Z"
   },
   {
    "duration": 111,
    "start_time": "2023-12-28T16:07:19.776Z"
   },
   {
    "duration": 9,
    "start_time": "2023-12-28T16:07:19.889Z"
   },
   {
    "duration": 192,
    "start_time": "2023-12-28T16:07:19.899Z"
   },
   {
    "duration": 12,
    "start_time": "2023-12-28T16:07:20.093Z"
   },
   {
    "duration": 33,
    "start_time": "2023-12-28T16:07:20.107Z"
   },
   {
    "duration": 190,
    "start_time": "2023-12-28T16:07:20.142Z"
   },
   {
    "duration": 126,
    "start_time": "2023-12-28T16:07:20.334Z"
   },
   {
    "duration": 9,
    "start_time": "2023-12-28T16:07:20.462Z"
   },
   {
    "duration": 16,
    "start_time": "2023-12-28T16:07:20.472Z"
   },
   {
    "duration": 163,
    "start_time": "2023-12-28T16:07:20.489Z"
   },
   {
    "duration": 10,
    "start_time": "2023-12-28T16:07:20.654Z"
   },
   {
    "duration": 37,
    "start_time": "2023-12-28T16:07:20.665Z"
   },
   {
    "duration": 43,
    "start_time": "2023-12-28T16:07:20.706Z"
   },
   {
    "duration": 45,
    "start_time": "2023-12-28T16:07:20.750Z"
   },
   {
    "duration": 81,
    "start_time": "2023-12-28T16:07:20.796Z"
   },
   {
    "duration": 123,
    "start_time": "2023-12-28T16:07:20.879Z"
   },
   {
    "duration": 204,
    "start_time": "2023-12-28T16:07:21.004Z"
   },
   {
    "duration": 29,
    "start_time": "2023-12-28T16:07:21.209Z"
   },
   {
    "duration": 206,
    "start_time": "2023-12-28T16:07:21.240Z"
   },
   {
    "duration": 26,
    "start_time": "2023-12-28T16:07:21.447Z"
   },
   {
    "duration": 11,
    "start_time": "2023-12-28T16:07:21.474Z"
   },
   {
    "duration": 20,
    "start_time": "2023-12-28T16:07:21.486Z"
   },
   {
    "duration": 30,
    "start_time": "2023-12-28T16:07:21.508Z"
   },
   {
    "duration": 8,
    "start_time": "2023-12-28T16:07:21.540Z"
   },
   {
    "duration": 22,
    "start_time": "2023-12-28T16:07:21.550Z"
   },
   {
    "duration": 19,
    "start_time": "2023-12-28T16:07:21.573Z"
   },
   {
    "duration": 490,
    "start_time": "2023-12-28T16:07:21.594Z"
   },
   {
    "duration": 378,
    "start_time": "2023-12-28T16:07:22.085Z"
   },
   {
    "duration": 19,
    "start_time": "2023-12-28T16:07:22.465Z"
   },
   {
    "duration": 17,
    "start_time": "2023-12-28T16:07:22.485Z"
   },
   {
    "duration": 816,
    "start_time": "2023-12-28T16:07:22.504Z"
   },
   {
    "duration": 13,
    "start_time": "2023-12-28T16:07:23.322Z"
   },
   {
    "duration": 105,
    "start_time": "2023-12-28T16:07:23.336Z"
   },
   {
    "duration": 796,
    "start_time": "2023-12-28T16:07:23.443Z"
   },
   {
    "duration": 6,
    "start_time": "2023-12-28T16:07:24.241Z"
   },
   {
    "duration": 9,
    "start_time": "2023-12-28T16:07:24.249Z"
   },
   {
    "duration": 10,
    "start_time": "2023-12-28T16:07:24.260Z"
   },
   {
    "duration": 61,
    "start_time": "2023-12-28T16:07:24.272Z"
   },
   {
    "duration": 13,
    "start_time": "2023-12-28T16:07:24.335Z"
   },
   {
    "duration": 32,
    "start_time": "2023-12-28T16:07:24.350Z"
   },
   {
    "duration": 1921,
    "start_time": "2023-12-29T08:21:44.122Z"
   },
   {
    "duration": 227,
    "start_time": "2023-12-29T08:21:46.045Z"
   },
   {
    "duration": 4,
    "start_time": "2023-12-29T08:21:46.275Z"
   },
   {
    "duration": 67,
    "start_time": "2023-12-29T08:21:46.281Z"
   },
   {
    "duration": 84,
    "start_time": "2023-12-29T08:21:46.351Z"
   },
   {
    "duration": 28,
    "start_time": "2023-12-29T08:21:46.437Z"
   },
   {
    "duration": 60,
    "start_time": "2023-12-29T08:21:46.467Z"
   },
   {
    "duration": 19,
    "start_time": "2023-12-29T08:21:46.529Z"
   },
   {
    "duration": 6,
    "start_time": "2023-12-29T08:21:46.550Z"
   },
   {
    "duration": 9,
    "start_time": "2023-12-29T08:21:46.558Z"
   },
   {
    "duration": 7,
    "start_time": "2023-12-29T08:21:46.623Z"
   },
   {
    "duration": 8,
    "start_time": "2023-12-29T08:21:46.632Z"
   },
   {
    "duration": 14,
    "start_time": "2023-12-29T08:21:46.642Z"
   },
   {
    "duration": 241,
    "start_time": "2023-12-29T08:21:46.659Z"
   },
   {
    "duration": 9,
    "start_time": "2023-12-29T08:21:46.902Z"
   },
   {
    "duration": 119,
    "start_time": "2023-12-29T08:21:46.923Z"
   },
   {
    "duration": 9,
    "start_time": "2023-12-29T08:21:47.044Z"
   },
   {
    "duration": 178,
    "start_time": "2023-12-29T08:21:47.055Z"
   },
   {
    "duration": 12,
    "start_time": "2023-12-29T08:21:47.235Z"
   },
   {
    "duration": 13,
    "start_time": "2023-12-29T08:21:47.248Z"
   },
   {
    "duration": 213,
    "start_time": "2023-12-29T08:21:47.262Z"
   },
   {
    "duration": 137,
    "start_time": "2023-12-29T08:21:47.478Z"
   },
   {
    "duration": 8,
    "start_time": "2023-12-29T08:21:47.623Z"
   },
   {
    "duration": 17,
    "start_time": "2023-12-29T08:21:47.633Z"
   },
   {
    "duration": 151,
    "start_time": "2023-12-29T08:21:47.651Z"
   },
   {
    "duration": 21,
    "start_time": "2023-12-29T08:21:47.804Z"
   },
   {
    "duration": 10,
    "start_time": "2023-12-29T08:21:47.827Z"
   },
   {
    "duration": 16,
    "start_time": "2023-12-29T08:21:47.839Z"
   },
   {
    "duration": 5,
    "start_time": "2023-12-29T08:21:47.857Z"
   },
   {
    "duration": 14,
    "start_time": "2023-12-29T08:21:47.864Z"
   },
   {
    "duration": 15,
    "start_time": "2023-12-29T08:21:47.879Z"
   },
   {
    "duration": 30,
    "start_time": "2023-12-29T08:21:47.896Z"
   },
   {
    "duration": 18,
    "start_time": "2023-12-29T08:21:47.927Z"
   },
   {
    "duration": 225,
    "start_time": "2023-12-29T08:21:47.947Z"
   },
   {
    "duration": 26,
    "start_time": "2023-12-29T08:21:48.174Z"
   },
   {
    "duration": 4,
    "start_time": "2023-12-29T08:21:48.202Z"
   },
   {
    "duration": 10,
    "start_time": "2023-12-29T08:21:48.223Z"
   },
   {
    "duration": 48,
    "start_time": "2023-12-29T08:21:48.234Z"
   },
   {
    "duration": 14,
    "start_time": "2023-12-29T08:21:48.284Z"
   },
   {
    "duration": 35,
    "start_time": "2023-12-29T08:21:48.299Z"
   },
   {
    "duration": 7,
    "start_time": "2023-12-29T08:21:48.339Z"
   },
   {
    "duration": 576,
    "start_time": "2023-12-29T08:21:48.348Z"
   },
   {
    "duration": 381,
    "start_time": "2023-12-29T08:21:48.925Z"
   },
   {
    "duration": 27,
    "start_time": "2023-12-29T08:21:49.307Z"
   },
   {
    "duration": 76,
    "start_time": "2023-12-29T08:21:49.335Z"
   },
   {
    "duration": 982,
    "start_time": "2023-12-29T08:21:49.412Z"
   },
   {
    "duration": 8,
    "start_time": "2023-12-29T08:21:50.396Z"
   },
   {
    "duration": 6,
    "start_time": "2023-12-29T08:21:50.406Z"
   },
   {
    "duration": 408,
    "start_time": "2023-12-29T08:21:50.423Z"
   },
   {
    "duration": 6,
    "start_time": "2023-12-29T08:21:50.833Z"
   },
   {
    "duration": 7,
    "start_time": "2023-12-29T08:21:50.840Z"
   },
   {
    "duration": 7,
    "start_time": "2023-12-29T08:21:50.848Z"
   },
   {
    "duration": 6,
    "start_time": "2023-12-29T08:21:50.856Z"
   },
   {
    "duration": 6,
    "start_time": "2023-12-29T08:21:50.863Z"
   },
   {
    "duration": 11,
    "start_time": "2023-12-29T08:21:50.870Z"
   },
   {
    "duration": 4,
    "start_time": "2023-12-29T08:29:44.668Z"
   },
   {
    "duration": 15,
    "start_time": "2023-12-29T08:29:49.365Z"
   },
   {
    "duration": 4,
    "start_time": "2023-12-29T08:30:18.750Z"
   },
   {
    "duration": 3,
    "start_time": "2023-12-29T08:30:19.054Z"
   },
   {
    "duration": 8,
    "start_time": "2023-12-29T08:30:19.576Z"
   },
   {
    "duration": 1174,
    "start_time": "2023-12-29T08:30:24.527Z"
   },
   {
    "duration": 74,
    "start_time": "2023-12-29T08:30:25.703Z"
   },
   {
    "duration": 5,
    "start_time": "2023-12-29T08:30:25.778Z"
   },
   {
    "duration": 42,
    "start_time": "2023-12-29T08:30:25.786Z"
   },
   {
    "duration": 26,
    "start_time": "2023-12-29T08:30:25.830Z"
   },
   {
    "duration": 21,
    "start_time": "2023-12-29T08:30:25.858Z"
   },
   {
    "duration": 4,
    "start_time": "2023-12-29T08:30:25.881Z"
   },
   {
    "duration": 40,
    "start_time": "2023-12-29T08:30:25.887Z"
   },
   {
    "duration": 7,
    "start_time": "2023-12-29T08:30:25.929Z"
   },
   {
    "duration": 12,
    "start_time": "2023-12-29T08:30:25.939Z"
   },
   {
    "duration": 5,
    "start_time": "2023-12-29T08:30:25.952Z"
   },
   {
    "duration": 14,
    "start_time": "2023-12-29T08:30:25.959Z"
   },
   {
    "duration": 12,
    "start_time": "2023-12-29T08:30:25.975Z"
   },
   {
    "duration": 165,
    "start_time": "2023-12-29T08:30:26.022Z"
   },
   {
    "duration": 7,
    "start_time": "2023-12-29T08:30:26.189Z"
   },
   {
    "duration": 112,
    "start_time": "2023-12-29T08:30:26.198Z"
   },
   {
    "duration": 15,
    "start_time": "2023-12-29T08:30:26.312Z"
   },
   {
    "duration": 163,
    "start_time": "2023-12-29T08:30:26.328Z"
   },
   {
    "duration": 11,
    "start_time": "2023-12-29T08:30:26.493Z"
   },
   {
    "duration": 36,
    "start_time": "2023-12-29T08:30:26.506Z"
   },
   {
    "duration": 189,
    "start_time": "2023-12-29T08:30:26.544Z"
   },
   {
    "duration": 127,
    "start_time": "2023-12-29T08:30:26.735Z"
   },
   {
    "duration": 9,
    "start_time": "2023-12-29T08:30:26.863Z"
   },
   {
    "duration": 14,
    "start_time": "2023-12-29T08:30:26.873Z"
   },
   {
    "duration": 167,
    "start_time": "2023-12-29T08:30:26.889Z"
   },
   {
    "duration": 10,
    "start_time": "2023-12-29T08:30:27.058Z"
   },
   {
    "duration": 10,
    "start_time": "2023-12-29T08:30:27.070Z"
   },
   {
    "duration": 40,
    "start_time": "2023-12-29T08:30:27.084Z"
   },
   {
    "duration": 5,
    "start_time": "2023-12-29T08:30:27.126Z"
   },
   {
    "duration": 11,
    "start_time": "2023-12-29T08:30:27.132Z"
   },
   {
    "duration": 23,
    "start_time": "2023-12-29T08:30:27.145Z"
   },
   {
    "duration": 11,
    "start_time": "2023-12-29T08:30:27.169Z"
   },
   {
    "duration": 17,
    "start_time": "2023-12-29T08:30:27.182Z"
   },
   {
    "duration": 191,
    "start_time": "2023-12-29T08:30:27.200Z"
   },
   {
    "duration": 31,
    "start_time": "2023-12-29T08:30:27.393Z"
   },
   {
    "duration": 4,
    "start_time": "2023-12-29T08:30:27.426Z"
   },
   {
    "duration": 14,
    "start_time": "2023-12-29T08:30:27.431Z"
   },
   {
    "duration": 42,
    "start_time": "2023-12-29T08:30:27.447Z"
   },
   {
    "duration": 22,
    "start_time": "2023-12-29T08:30:27.490Z"
   },
   {
    "duration": 21,
    "start_time": "2023-12-29T08:30:27.513Z"
   },
   {
    "duration": 6,
    "start_time": "2023-12-29T08:30:27.536Z"
   },
   {
    "duration": 533,
    "start_time": "2023-12-29T08:30:27.544Z"
   },
   {
    "duration": 400,
    "start_time": "2023-12-29T08:30:28.079Z"
   },
   {
    "duration": 17,
    "start_time": "2023-12-29T08:30:28.481Z"
   },
   {
    "duration": 32,
    "start_time": "2023-12-29T08:30:28.500Z"
   },
   {
    "duration": 864,
    "start_time": "2023-12-29T08:30:28.533Z"
   },
   {
    "duration": 7,
    "start_time": "2023-12-29T08:30:29.398Z"
   },
   {
    "duration": 4,
    "start_time": "2023-12-29T08:30:29.406Z"
   },
   {
    "duration": 389,
    "start_time": "2023-12-29T08:30:29.423Z"
   },
   {
    "duration": 9,
    "start_time": "2023-12-29T08:30:29.814Z"
   },
   {
    "duration": 6,
    "start_time": "2023-12-29T08:30:29.825Z"
   },
   {
    "duration": 5,
    "start_time": "2023-12-29T08:30:29.833Z"
   },
   {
    "duration": 6,
    "start_time": "2023-12-29T08:30:29.839Z"
   },
   {
    "duration": 26,
    "start_time": "2023-12-29T08:30:29.846Z"
   },
   {
    "duration": 14,
    "start_time": "2023-12-29T08:30:29.874Z"
   },
   {
    "duration": 5,
    "start_time": "2023-12-29T08:30:29.890Z"
   },
   {
    "duration": 6,
    "start_time": "2023-12-29T08:30:29.896Z"
   },
   {
    "duration": 12,
    "start_time": "2023-12-29T08:30:29.921Z"
   },
   {
    "duration": 41,
    "start_time": "2023-12-29T08:30:29.935Z"
   },
   {
    "duration": 13,
    "start_time": "2023-12-29T08:30:29.977Z"
   },
   {
    "duration": 17,
    "start_time": "2023-12-29T08:30:29.992Z"
   },
   {
    "duration": 56,
    "start_time": "2023-12-29T08:30:30.011Z"
   },
   {
    "duration": 33,
    "start_time": "2023-12-29T08:30:30.069Z"
   },
   {
    "duration": 30,
    "start_time": "2023-12-29T08:30:30.103Z"
   },
   {
    "duration": 49,
    "start_time": "2023-12-29T08:30:30.135Z"
   },
   {
    "duration": 81,
    "start_time": "2023-12-29T08:30:30.185Z"
   },
   {
    "duration": 806,
    "start_time": "2023-12-29T08:30:30.267Z"
   },
   {
    "duration": 3,
    "start_time": "2023-12-29T08:30:31.075Z"
   },
   {
    "duration": 46,
    "start_time": "2023-12-29T08:30:31.079Z"
   },
   {
    "duration": 148,
    "start_time": "2023-12-29T08:30:31.127Z"
   },
   {
    "duration": 11,
    "start_time": "2023-12-29T08:30:31.277Z"
   },
   {
    "duration": 62,
    "start_time": "2023-12-29T08:30:31.289Z"
   },
   {
    "duration": 788,
    "start_time": "2023-12-29T08:30:31.353Z"
   },
   {
    "duration": 7,
    "start_time": "2023-12-29T08:30:32.142Z"
   },
   {
    "duration": 338,
    "start_time": "2023-12-29T08:30:32.151Z"
   },
   {
    "duration": 1086,
    "start_time": "2024-01-17T11:21:24.807Z"
   }
  ],
  "kernelspec": {
   "display_name": "Python 3 (ipykernel)",
   "language": "python",
   "name": "python3"
  },
  "language_info": {
   "codemirror_mode": {
    "name": "ipython",
    "version": 3
   },
   "file_extension": ".py",
   "mimetype": "text/x-python",
   "name": "python",
   "nbconvert_exporter": "python",
   "pygments_lexer": "ipython3",
   "version": "3.11.7"
  },
  "toc": {
   "base_numbering": 1,
   "nav_menu": {},
   "number_sections": true,
   "sideBar": true,
   "skip_h1_title": true,
   "title_cell": "Table of Contents",
   "title_sidebar": "Contents",
   "toc_cell": false,
   "toc_position": {
    "height": "calc(100% - 180px)",
    "left": "10px",
    "top": "150px",
    "width": "281.4px"
   },
   "toc_section_display": true,
   "toc_window_display": false
  }
 },
 "nbformat": 4,
 "nbformat_minor": 5
}
